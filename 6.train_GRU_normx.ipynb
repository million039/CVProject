{
 "cells": [
  {
   "cell_type": "code",
   "execution_count": 1,
   "id": "beb6bb6f",
   "metadata": {},
   "outputs": [],
   "source": [
    "import os\n",
    "import json\n",
    "import torch\n",
    "import torch.nn as nn\n",
    "import numpy as np\n",
    "import matplotlib.pyplot as plt\n",
    "from torch.utils.data import Dataset, DataLoader, random_split\n",
    "from sklearn.preprocessing import StandardScaler\n",
    "from sklearn.utils.class_weight import compute_class_weight\n",
    "from sklearn.metrics import f1_score, confusion_matrix\n",
    "from scipy.interpolate import interp1d\n",
    "from scipy.spatial import distance\n",
    "from tqdm import tqdm\n",
    "from itertools import product, chain"
   ]
  },
  {
   "cell_type": "code",
   "execution_count": 2,
   "id": "d59ceb71",
   "metadata": {},
   "outputs": [
    {
     "name": "stdout",
     "output_type": "stream",
     "text": [
      "cuda\n"
     ]
    }
   ],
   "source": [
    "# GPU 설정\n",
    "device = torch.device('cuda' if torch.cuda.is_available() else 'cpu')\n",
    "print(device)"
   ]
  },
  {
   "cell_type": "code",
   "execution_count": 3,
   "id": "468036e1",
   "metadata": {
    "lines_to_next_cell": 1
   },
   "outputs": [],
   "source": [
    "# 랜드마크 인덱스 정의 # 11개\n",
    "LANDMARKS = [0, 11, 12, 15, 16, 23, 24, 25, 26, 27, 28]\n",
    "FRAME_INTERVAL = 6\n",
    "VID_LEN = 600\n",
    "FRAMES = list(range(0, VID_LEN, FRAME_INTERVAL))\n",
    "CLASS_LIST = ['Normal', 'Danger', 'Fall']\n",
    "DR = 'E'\n",
    "pt_path = DR + r':\\project\\CVProject\\results\\result_pt_JKH\\norm_x'\n",
    "train_size, valid_size, test_size = 0.8, 0.1, 0.1"
   ]
  },
  {
   "cell_type": "code",
   "execution_count": 4,
   "id": "0ec35a6a",
   "metadata": {
    "lines_to_next_cell": 1
   },
   "outputs": [],
   "source": [
    "def fill_missing_data(data):\n",
    "    frame_exist_list = [int(x.split('_')[-1]) for x in data['pose_data']]\n",
    "    key_list = list(map(lambda x: CLASS_LIST.index(x['class']), data['pose_data'].values()))\n",
    "    pose_list = list(map(lambda x: list(chain(*[list(v.values()) for k, v in x.items() if 'landmark' in k])), data['pose_data'].values()))\n",
    "    bbox_list = list(map(lambda x: list(chain(*[list(v.values()) for k, v in x.items() if k == 'bbox'])), data['pose_data'].values()))\n",
    "\n",
    "    key = list(interp1d(frame_exist_list, key_list, kind='nearest-up', fill_value='extrapolate')(FRAMES))\n",
    "    pose = list(interp1d(frame_exist_list, pose_list, kind='linear', fill_value='extrapolate', axis=0)(FRAMES))\n",
    "    bbox = list(interp1d(frame_exist_list, bbox_list, kind='linear', fill_value='extrapolate', axis=0)(FRAMES))\n",
    "\n",
    "    new_data = {\n",
    "        f'frame_{i}': {\n",
    "            f'landmark_{k}': {\n",
    "                'x': pose[idx_i][2*idx_k+0],\n",
    "                'y': pose[idx_i][2*idx_k+1],\n",
    "            } for idx_k, k in enumerate(LANDMARKS)\n",
    "        } for idx_i, i in enumerate(FRAMES)\n",
    "    }\n",
    "    for idx_i, i in enumerate(FRAMES):\n",
    "        new_data[f'frame_{i}'].update({'bbox':{'x1': bbox[idx_i][0], 'y1': bbox[idx_i][1], 'x2': bbox[idx_i][2], 'y2': bbox[idx_i][3]}, \n",
    "                                       'class': CLASS_LIST[int(key[idx_i])]})\n",
    "    return new_data"
   ]
  },
  {
   "cell_type": "code",
   "execution_count": 5,
   "id": "18debf6c",
   "metadata": {
    "lines_to_next_cell": 1
   },
   "outputs": [],
   "source": [
    "# 바운딩 박스 비율 클래스 정의 함수\n",
    "def bbox_ratio_class(ratio):\n",
    "    if ratio < 0.7:\n",
    "        return 0  # Normal 가능성 높은 class\n",
    "    else:\n",
    "        return 1  # Danger or Fall 가능성 높은 class\n",
    "\n",
    "# YOLO xy 비율 계산 함수\n",
    "def calculate_yolo_xy_ratio(frame):\n",
    "    bbox = frame.get('bbox', None)\n",
    "    if bbox and (bbox['x2'] - bbox['x1']) != 0:\n",
    "        yolo_xy_ratio = round((bbox['y2'] - bbox['y1']) / (bbox['x2'] - bbox['x1']), 3)\n",
    "    else:\n",
    "        yolo_xy_ratio = 0.0\n",
    "    return yolo_xy_ratio"
   ]
  },
  {
   "cell_type": "code",
   "execution_count": 6,
   "id": "ea132622",
   "metadata": {},
   "outputs": [],
   "source": [
    "# 머리 및 상체 속도 계산 함수 (시퀀스 평균값 사용)\n",
    "def calculate_head_upper_body_speed(sequence):\n",
    "    speeds = []\n",
    "    for j in range(1, len(sequence)):\n",
    "        keypoints = sequence[j]\n",
    "        prev_keypoints = sequence[j - 1]\n",
    "        h = np.array([keypoints.get(f'landmark_0', {}).get('x', 0.0), keypoints.get(f'landmark_0', {}).get('y', 0.0)])\n",
    "        l = np.array([keypoints.get(f'landmark_11', {}).get('x', 0.0), keypoints.get(f'landmark_11', {}).get('y', 0.0)])\n",
    "        r = np.array([keypoints.get(f'landmark_12', {}).get('x', 0.0), keypoints.get(f'landmark_12', {}).get('y', 0.0)])\n",
    "\n",
    "        # 이전 프레임의 좌표\n",
    "        prev_h = np.array([prev_keypoints.get(f'landmark_0', {}).get('x', 0.0), prev_keypoints.get(f'landmark_0', {}).get('y', 0.0)])\n",
    "        prev_l = np.array([prev_keypoints.get(f'landmark_11', {}).get('x', 0.0), prev_keypoints.get(f'landmark_11', {}).get('y', 0.0)])\n",
    "        prev_r = np.array([prev_keypoints.get(f'landmark_12', {}).get('x', 0.0), prev_keypoints.get(f'landmark_12', {}).get('y', 0.0)])\n",
    "\n",
    "        # 현재 프레임과 이전 프레임의 상체 중심\n",
    "        center_new = (h + l + r) / 3\n",
    "        center_prev = (prev_h + prev_l + prev_r) / 3\n",
    "\n",
    "        # 유클리드 거리 계산 (6프레임당 일정하므로 속력이라 봐도 무방함)\n",
    "        dist_new = distance.euclidean(center_new, center_prev)\n",
    "        speeds.append(dist_new)\n",
    "\n",
    "    # 평균 속력 계산\n",
    "    if speeds:\n",
    "        return sum(speeds) / len(speeds)\n",
    "    else:\n",
    "        return 0.0"
   ]
  },
  {
   "cell_type": "code",
   "execution_count": 7,
   "id": "594bd98f",
   "metadata": {
    "lines_to_next_cell": 1
   },
   "outputs": [],
   "source": [
    "# 데이터셋 클래스 정의\n",
    "# 현재 input은 mediapipe의 관절 좌표값 22개 + YOLO xy ratio + bbox_ratio_class + 머리/상체 속도 => 25개\n",
    "class FallSequenceDataset(Dataset):\n",
    "    def __init__(self, json_files, sequence_length=3, input_config='full'):\n",
    "        self.sequence_length = sequence_length\n",
    "        self.sequences = []\n",
    "        self.labels = []\n",
    "        self.scaler = StandardScaler()\n",
    "        self.input_config = input_config\n",
    "\n",
    "        all_landmarks = []\n",
    "\n",
    "        for json_file in tqdm(json_files, desc=\"Processing JSON files\"):\n",
    "            with open(json_file, 'r') as f:\n",
    "                data = json.load(f)\n",
    "\n",
    "            if len(data['pose_data']) < 90:\n",
    "                    continue\n",
    "            \n",
    "            data['pose_data'] = fill_missing_data(data)\n",
    "\n",
    "            frames = list(data['pose_data'].values())\n",
    "\n",
    "            for i in range(0, len(frames) - self.sequence_length + 1, self.sequence_length):\n",
    "                sequence = frames[i:i + self.sequence_length]\n",
    "                landmarks = []\n",
    "\n",
    "                # YOLO xy ratio 및 바운딩 박스 클래스는 시퀀스마다 1개씩만 추가\n",
    "                yolo_xy_ratio = calculate_yolo_xy_ratio(sequence[-1])  # 마지막 프레임 기준으로 계산\n",
    "                ratio_class = bbox_ratio_class(yolo_xy_ratio)\n",
    "                head_torso_speed = calculate_head_upper_body_speed(sequence)\n",
    "\n",
    "                for j, frame in enumerate(sequence):\n",
    "                    frame_landmarks = []\n",
    "                    if frame is not None:\n",
    "                        if self.input_config in ['full', 'mediapipe']:\n",
    "                            for landmark in LANDMARKS:\n",
    "                                landmark_data = frame.get(f'landmark_{landmark}', None)\n",
    "                                if landmark_data:\n",
    "                                    frame_landmarks.extend([\n",
    "                                        round(landmark_data['x'], 3),  # 소수점 세 자리로 반올림\n",
    "                                        round(landmark_data['y'], 3)\n",
    "                                    ])\n",
    "                                else:\n",
    "                                    frame_landmarks.extend([0.0, 0.0])\n",
    "\n",
    "                        if self.input_config in ['full', 'simplified']:\n",
    "                            # YOLO xy ratio, 바운딩 박스 클래스, 머리/상체 속도 추가 (시퀀스 단위로 동일 값 사용)\n",
    "                            frame_landmarks.append(yolo_xy_ratio)\n",
    "                            frame_landmarks.append(ratio_class)\n",
    "                            frame_landmarks.append(head_torso_speed)\n",
    "                    \n",
    "                    landmarks.append(frame_landmarks)\n",
    "\n",
    "                # 데이터 증강 없이 원래 데이터를 사용\n",
    "                all_landmarks.extend(landmarks)\n",
    "\n",
    "                # 레이블 재정의\n",
    "                if sequence[-1]['class'] == 'Normal':\n",
    "                    label = 0  # 비낙상\n",
    "                elif sequence[-1]['class'] == 'Danger':\n",
    "                    label = 1  # 낙상 위험\n",
    "                elif sequence[-1]['class'] == 'Fall':\n",
    "                    label = 2  # 완전 낙상\n",
    "\n",
    "                self.sequences.append(landmarks)\n",
    "                self.labels.append(label)\n",
    "\n",
    "    def __len__(self):\n",
    "        return len(self.sequences)\n",
    "\n",
    "    def __getitem__(self, idx):\n",
    "        return torch.FloatTensor(self.sequences[idx]), torch.LongTensor([self.labels[idx]]).squeeze()"
   ]
  },
  {
   "cell_type": "code",
   "execution_count": 8,
   "id": "ddba071a",
   "metadata": {},
   "outputs": [],
   "source": [
    "# GRU 기반 낙상 감지 모델 정의\n",
    "class FallDetectionGRU(nn.Module):\n",
    "    def __init__(self, input_size, hidden_size=128, num_layers=2, num_classes=3):\n",
    "        super(FallDetectionGRU, self).__init__()\n",
    "        self.gru = nn.GRU(input_size, hidden_size, num_layers, batch_first=True)\n",
    "        self.fc = nn.Linear(hidden_size, num_classes)\n",
    "\n",
    "    def forward(self, x):\n",
    "        h_0 = torch.zeros(2, x.size(0), 128).to(x.device)  # 초기 은닉 상태 정의\n",
    "        out, _ = self.gru(x, h_0)\n",
    "        out = self.fc(out[:, -1, :])  # 마지막 time step의 출력을 사용\n",
    "        return out"
   ]
  },
  {
   "cell_type": "code",
   "execution_count": 9,
   "id": "c562b8d5",
   "metadata": {
    "lines_to_next_cell": 1
   },
   "outputs": [
    {
     "name": "stderr",
     "output_type": "stream",
     "text": [
      "Processing JSON files:   0%|          | 0/2024 [00:00<?, ?it/s]"
     ]
    },
    {
     "name": "stderr",
     "output_type": "stream",
     "text": [
      "Processing JSON files: 100%|██████████| 2024/2024 [00:28<00:00, 71.17it/s]\n",
      "Processing JSON files: 100%|██████████| 2024/2024 [00:06<00:00, 337.03it/s]\n",
      "Processing JSON files: 100%|██████████| 2024/2024 [00:14<00:00, 135.24it/s]\n"
     ]
    }
   ],
   "source": [
    "# 검증 및 테스트 데이터셋 로드 경로\n",
    "json_folder = r'E:\\json_6_tvt'\n",
    "\n",
    "# 각 데이터 폴더에서 JSON 파일 목록 생성\n",
    "json_files = [os.path.join(json_folder, f) for f in os.listdir(json_folder) if f.endswith('.json')]\n",
    "\n",
    "\n",
    "# 데이터셋 생성 (입력 데이터 설정에 따라)\n",
    "full_dataset = FallSequenceDataset(json_files, input_config='full')\n",
    "dataset_size = len(full_dataset)\n",
    "train_size = int(dataset_size*0.8)\n",
    "valid_size = int(dataset_size*0.1)\n",
    "test_size = dataset_size - train_size - valid_size\n",
    "simplified_dataset = FallSequenceDataset(json_files, input_config='simplified')\n",
    "mediapipe_dataset = FallSequenceDataset(json_files, input_config='mediapipe')\n",
    "\n",
    "train_full_dataset, valid_full_dataset, test_full_dataset = random_split(full_dataset, [train_size, valid_size, test_size])\n",
    "train_simplified_dataset, valid_simplified_dataset, test_simplified_dataset = random_split(simplified_dataset, [train_size, valid_size, test_size])\n",
    "train_mediapipe_dataset, valid_mediapipe_dataset, test_mediapipe_dataset = random_split(mediapipe_dataset, [train_size, valid_size, test_size])\n",
    "\n",
    "# 데이터 로더 생성\n",
    "train_loader_full = DataLoader(train_full_dataset, batch_size=32, shuffle=True)\n",
    "valid_loader_full = DataLoader(valid_full_dataset, batch_size=32, shuffle=False)\n",
    "test_loader_full = DataLoader(test_full_dataset, batch_size=32, shuffle=False)\n",
    "\n",
    "train_loader_simplified = DataLoader(train_simplified_dataset, batch_size=32, shuffle=True)\n",
    "valid_loader_simplified = DataLoader(valid_simplified_dataset, batch_size=32, shuffle=False)\n",
    "test_loader_simplified = DataLoader(test_simplified_dataset, batch_size=32, shuffle=False)\n",
    "\n",
    "train_loader_mediapipe = DataLoader(train_mediapipe_dataset, batch_size=32, shuffle=True)\n",
    "valid_loader_mediapipe = DataLoader(valid_mediapipe_dataset, batch_size=32, shuffle=False)\n",
    "test_loader_mediapipe = DataLoader(test_mediapipe_dataset, batch_size=32, shuffle=False)"
   ]
  },
  {
   "cell_type": "code",
   "execution_count": 10,
   "id": "c2fe890d",
   "metadata": {},
   "outputs": [],
   "source": [
    "# 클래스 가중치 계산 및 손실 함수 정의 (훈련 데이터셋 기준)\n",
    "class_weights = compute_class_weight('balanced', classes=np.unique(full_dataset.labels), y=full_dataset.labels)\n",
    "class_weights = torch.FloatTensor(class_weights).to(device)\n",
    "criterion = nn.CrossEntropyLoss(weight=class_weights)\n",
    "\n",
    "# 모델 준비\n",
    "def create_model_for_dataset(dataset):\n",
    "    if len(dataset) > 0:\n",
    "        sample_sequence, sample_label = dataset[0]\n",
    "        input_size = len(sample_sequence[0])  # 시퀀스 내의 각 프레임에서 입력의 길이를 가져옴\n",
    "        return FallDetectionGRU(input_size).to(device)\n",
    "    else:\n",
    "        print(\"데이터 없음\")\n",
    "        exit()\n",
    "\n",
    "# 학습 파라미터 설정\n",
    "num_epochs = 500\n",
    "best_loss = float('inf')\n",
    "patience = 50\n",
    "no_improve = 0"
   ]
  },
  {
   "cell_type": "code",
   "execution_count": 11,
   "id": "9c39017e",
   "metadata": {},
   "outputs": [
    {
     "name": "stdout",
     "output_type": "stream",
     "text": [
      "normx_best_fall_detection_gru_001_full.pt 학습 시작\n",
      "\n",
      "==================== Training Configuration: GRU with input_config='full' and lr='0.001' ====================\n",
      "\n",
      "현재 입력 크기 (마지막 차원): 25\n",
      "예상 입력 크기: 25\n"
     ]
    },
    {
     "name": "stderr",
     "output_type": "stream",
     "text": [
      "Epoch 1/500: 100%|██████████| 1608/1608 [00:03<00:00, 528.90it/s]\n"
     ]
    },
    {
     "name": "stdout",
     "output_type": "stream",
     "text": [
      "Epoch [1/500], Train Loss: 0.6480\n",
      "Epoch [1/500], Valid Loss: 0.6378\n"
     ]
    },
    {
     "name": "stderr",
     "output_type": "stream",
     "text": [
      "Epoch 2/500: 100%|██████████| 1608/1608 [00:03<00:00, 517.21it/s]\n"
     ]
    },
    {
     "name": "stdout",
     "output_type": "stream",
     "text": [
      "Epoch [2/500], Train Loss: 0.5060\n",
      "Epoch [2/500], Valid Loss: 0.4732\n"
     ]
    },
    {
     "name": "stderr",
     "output_type": "stream",
     "text": [
      "Epoch 3/500: 100%|██████████| 1608/1608 [00:03<00:00, 504.08it/s]\n"
     ]
    },
    {
     "name": "stdout",
     "output_type": "stream",
     "text": [
      "Epoch [3/500], Train Loss: 0.4621\n",
      "Epoch [3/500], Valid Loss: 0.4618\n"
     ]
    },
    {
     "name": "stderr",
     "output_type": "stream",
     "text": [
      "Epoch 4/500: 100%|██████████| 1608/1608 [00:03<00:00, 499.98it/s]\n"
     ]
    },
    {
     "name": "stdout",
     "output_type": "stream",
     "text": [
      "Epoch [4/500], Train Loss: 0.4439\n",
      "Epoch [4/500], Valid Loss: 0.4533\n"
     ]
    },
    {
     "name": "stderr",
     "output_type": "stream",
     "text": [
      "Epoch 5/500: 100%|██████████| 1608/1608 [00:03<00:00, 507.41it/s]\n"
     ]
    },
    {
     "name": "stdout",
     "output_type": "stream",
     "text": [
      "Epoch [5/500], Train Loss: 0.4356\n",
      "Epoch [5/500], Valid Loss: 0.4026\n"
     ]
    },
    {
     "name": "stderr",
     "output_type": "stream",
     "text": [
      "Epoch 6/500: 100%|██████████| 1608/1608 [00:03<00:00, 512.92it/s]\n"
     ]
    },
    {
     "name": "stdout",
     "output_type": "stream",
     "text": [
      "Epoch [6/500], Train Loss: 0.4272\n",
      "Epoch [6/500], Valid Loss: 0.3916\n"
     ]
    },
    {
     "name": "stderr",
     "output_type": "stream",
     "text": [
      "Epoch 7/500: 100%|██████████| 1608/1608 [00:03<00:00, 498.92it/s]\n"
     ]
    },
    {
     "name": "stdout",
     "output_type": "stream",
     "text": [
      "Epoch [7/500], Train Loss: 0.4180\n",
      "Epoch [7/500], Valid Loss: 0.4182\n"
     ]
    },
    {
     "name": "stderr",
     "output_type": "stream",
     "text": [
      "Epoch 8/500: 100%|██████████| 1608/1608 [00:03<00:00, 502.82it/s]\n"
     ]
    },
    {
     "name": "stdout",
     "output_type": "stream",
     "text": [
      "Epoch [8/500], Train Loss: 0.4135\n",
      "Epoch [8/500], Valid Loss: 0.4252\n"
     ]
    },
    {
     "name": "stderr",
     "output_type": "stream",
     "text": [
      "Epoch 9/500: 100%|██████████| 1608/1608 [00:03<00:00, 485.95it/s]\n"
     ]
    },
    {
     "name": "stdout",
     "output_type": "stream",
     "text": [
      "Epoch [9/500], Train Loss: 0.4032\n",
      "Epoch [9/500], Valid Loss: 0.4137\n"
     ]
    },
    {
     "name": "stderr",
     "output_type": "stream",
     "text": [
      "Epoch 10/500: 100%|██████████| 1608/1608 [00:03<00:00, 499.38it/s]\n"
     ]
    },
    {
     "name": "stdout",
     "output_type": "stream",
     "text": [
      "Epoch [10/500], Train Loss: 0.4030\n",
      "Epoch [10/500], Valid Loss: 0.4069\n"
     ]
    },
    {
     "name": "stderr",
     "output_type": "stream",
     "text": [
      "Epoch 11/500: 100%|██████████| 1608/1608 [00:03<00:00, 496.14it/s]\n"
     ]
    },
    {
     "name": "stdout",
     "output_type": "stream",
     "text": [
      "Epoch [11/500], Train Loss: 0.3981\n",
      "Epoch [11/500], Valid Loss: 0.3854\n"
     ]
    },
    {
     "name": "stderr",
     "output_type": "stream",
     "text": [
      "Epoch 12/500: 100%|██████████| 1608/1608 [00:03<00:00, 513.09it/s]\n"
     ]
    },
    {
     "name": "stdout",
     "output_type": "stream",
     "text": [
      "Epoch [12/500], Train Loss: 0.3949\n",
      "Epoch [12/500], Valid Loss: 0.3786\n"
     ]
    },
    {
     "name": "stderr",
     "output_type": "stream",
     "text": [
      "Epoch 13/500: 100%|██████████| 1608/1608 [00:03<00:00, 504.67it/s]\n"
     ]
    },
    {
     "name": "stdout",
     "output_type": "stream",
     "text": [
      "Epoch [13/500], Train Loss: 0.3905\n",
      "Epoch [13/500], Valid Loss: 0.3843\n"
     ]
    },
    {
     "name": "stderr",
     "output_type": "stream",
     "text": [
      "Epoch 14/500: 100%|██████████| 1608/1608 [00:03<00:00, 518.57it/s]\n"
     ]
    },
    {
     "name": "stdout",
     "output_type": "stream",
     "text": [
      "Epoch [14/500], Train Loss: 0.3872\n",
      "Epoch [14/500], Valid Loss: 0.3942\n"
     ]
    },
    {
     "name": "stderr",
     "output_type": "stream",
     "text": [
      "Epoch 15/500: 100%|██████████| 1608/1608 [00:03<00:00, 517.46it/s]\n"
     ]
    },
    {
     "name": "stdout",
     "output_type": "stream",
     "text": [
      "Epoch [15/500], Train Loss: 0.3803\n",
      "Epoch [15/500], Valid Loss: 0.3961\n"
     ]
    },
    {
     "name": "stderr",
     "output_type": "stream",
     "text": [
      "Epoch 16/500: 100%|██████████| 1608/1608 [00:03<00:00, 512.96it/s]\n"
     ]
    },
    {
     "name": "stdout",
     "output_type": "stream",
     "text": [
      "Epoch [16/500], Train Loss: 0.3782\n",
      "Epoch [16/500], Valid Loss: 0.3696\n"
     ]
    },
    {
     "name": "stderr",
     "output_type": "stream",
     "text": [
      "Epoch 17/500: 100%|██████████| 1608/1608 [00:03<00:00, 516.79it/s]\n"
     ]
    },
    {
     "name": "stdout",
     "output_type": "stream",
     "text": [
      "Epoch [17/500], Train Loss: 0.3769\n",
      "Epoch [17/500], Valid Loss: 0.4036\n"
     ]
    },
    {
     "name": "stderr",
     "output_type": "stream",
     "text": [
      "Epoch 18/500: 100%|██████████| 1608/1608 [00:03<00:00, 516.46it/s]\n"
     ]
    },
    {
     "name": "stdout",
     "output_type": "stream",
     "text": [
      "Epoch [18/500], Train Loss: 0.3750\n",
      "Epoch [18/500], Valid Loss: 0.4213\n"
     ]
    },
    {
     "name": "stderr",
     "output_type": "stream",
     "text": [
      "Epoch 19/500: 100%|██████████| 1608/1608 [00:03<00:00, 513.94it/s]\n"
     ]
    },
    {
     "name": "stdout",
     "output_type": "stream",
     "text": [
      "Epoch [19/500], Train Loss: 0.3701\n",
      "Epoch [19/500], Valid Loss: 0.3593\n"
     ]
    },
    {
     "name": "stderr",
     "output_type": "stream",
     "text": [
      "Epoch 20/500: 100%|██████████| 1608/1608 [00:03<00:00, 514.67it/s]\n"
     ]
    },
    {
     "name": "stdout",
     "output_type": "stream",
     "text": [
      "Epoch [20/500], Train Loss: 0.3695\n",
      "Epoch [20/500], Valid Loss: 0.3850\n"
     ]
    },
    {
     "name": "stderr",
     "output_type": "stream",
     "text": [
      "Epoch 21/500: 100%|██████████| 1608/1608 [00:03<00:00, 517.70it/s]\n"
     ]
    },
    {
     "name": "stdout",
     "output_type": "stream",
     "text": [
      "Epoch [21/500], Train Loss: 0.3640\n",
      "Epoch [21/500], Valid Loss: 0.3711\n"
     ]
    },
    {
     "name": "stderr",
     "output_type": "stream",
     "text": [
      "Epoch 22/500: 100%|██████████| 1608/1608 [00:03<00:00, 512.58it/s]\n"
     ]
    },
    {
     "name": "stdout",
     "output_type": "stream",
     "text": [
      "Epoch [22/500], Train Loss: 0.3614\n",
      "Epoch [22/500], Valid Loss: 0.4269\n"
     ]
    },
    {
     "name": "stderr",
     "output_type": "stream",
     "text": [
      "Epoch 23/500: 100%|██████████| 1608/1608 [00:03<00:00, 520.56it/s]\n"
     ]
    },
    {
     "name": "stdout",
     "output_type": "stream",
     "text": [
      "Epoch [23/500], Train Loss: 0.3606\n",
      "Epoch [23/500], Valid Loss: 0.3798\n"
     ]
    },
    {
     "name": "stderr",
     "output_type": "stream",
     "text": [
      "Epoch 24/500: 100%|██████████| 1608/1608 [00:03<00:00, 521.06it/s]\n"
     ]
    },
    {
     "name": "stdout",
     "output_type": "stream",
     "text": [
      "Epoch [24/500], Train Loss: 0.3596\n",
      "Epoch [24/500], Valid Loss: 0.3881\n"
     ]
    },
    {
     "name": "stderr",
     "output_type": "stream",
     "text": [
      "Epoch 25/500: 100%|██████████| 1608/1608 [00:03<00:00, 515.71it/s]\n"
     ]
    },
    {
     "name": "stdout",
     "output_type": "stream",
     "text": [
      "Epoch [25/500], Train Loss: 0.3556\n",
      "Epoch [25/500], Valid Loss: 0.3695\n"
     ]
    },
    {
     "name": "stderr",
     "output_type": "stream",
     "text": [
      "Epoch 26/500: 100%|██████████| 1608/1608 [00:03<00:00, 520.37it/s]\n"
     ]
    },
    {
     "name": "stdout",
     "output_type": "stream",
     "text": [
      "Epoch [26/500], Train Loss: 0.3199\n",
      "Epoch [26/500], Valid Loss: 0.3349\n"
     ]
    },
    {
     "name": "stderr",
     "output_type": "stream",
     "text": [
      "Epoch 27/500: 100%|██████████| 1608/1608 [00:03<00:00, 515.47it/s]\n"
     ]
    },
    {
     "name": "stdout",
     "output_type": "stream",
     "text": [
      "Epoch [27/500], Train Loss: 0.3167\n",
      "Epoch [27/500], Valid Loss: 0.3355\n"
     ]
    },
    {
     "name": "stderr",
     "output_type": "stream",
     "text": [
      "Epoch 28/500: 100%|██████████| 1608/1608 [00:03<00:00, 514.88it/s]\n"
     ]
    },
    {
     "name": "stdout",
     "output_type": "stream",
     "text": [
      "Epoch [28/500], Train Loss: 0.3149\n",
      "Epoch [28/500], Valid Loss: 0.3364\n"
     ]
    },
    {
     "name": "stderr",
     "output_type": "stream",
     "text": [
      "Epoch 29/500: 100%|██████████| 1608/1608 [00:03<00:00, 518.04it/s]\n"
     ]
    },
    {
     "name": "stdout",
     "output_type": "stream",
     "text": [
      "Epoch [29/500], Train Loss: 0.3141\n",
      "Epoch [29/500], Valid Loss: 0.3310\n"
     ]
    },
    {
     "name": "stderr",
     "output_type": "stream",
     "text": [
      "Epoch 30/500: 100%|██████████| 1608/1608 [00:03<00:00, 513.41it/s]\n"
     ]
    },
    {
     "name": "stdout",
     "output_type": "stream",
     "text": [
      "Epoch [30/500], Train Loss: 0.3118\n",
      "Epoch [30/500], Valid Loss: 0.3312\n"
     ]
    },
    {
     "name": "stderr",
     "output_type": "stream",
     "text": [
      "Epoch 31/500: 100%|██████████| 1608/1608 [00:03<00:00, 511.85it/s]\n"
     ]
    },
    {
     "name": "stdout",
     "output_type": "stream",
     "text": [
      "Epoch [31/500], Train Loss: 0.3126\n",
      "Epoch [31/500], Valid Loss: 0.3381\n"
     ]
    },
    {
     "name": "stderr",
     "output_type": "stream",
     "text": [
      "Epoch 32/500: 100%|██████████| 1608/1608 [00:03<00:00, 512.91it/s]\n"
     ]
    },
    {
     "name": "stdout",
     "output_type": "stream",
     "text": [
      "Epoch [32/500], Train Loss: 0.3111\n",
      "Epoch [32/500], Valid Loss: 0.3431\n"
     ]
    },
    {
     "name": "stderr",
     "output_type": "stream",
     "text": [
      "Epoch 33/500: 100%|██████████| 1608/1608 [00:03<00:00, 514.39it/s]\n"
     ]
    },
    {
     "name": "stdout",
     "output_type": "stream",
     "text": [
      "Epoch [33/500], Train Loss: 0.3097\n",
      "Epoch [33/500], Valid Loss: 0.3296\n"
     ]
    },
    {
     "name": "stderr",
     "output_type": "stream",
     "text": [
      "Epoch 34/500: 100%|██████████| 1608/1608 [00:03<00:00, 513.24it/s]\n"
     ]
    },
    {
     "name": "stdout",
     "output_type": "stream",
     "text": [
      "Epoch [34/500], Train Loss: 0.3087\n",
      "Epoch [34/500], Valid Loss: 0.3313\n"
     ]
    },
    {
     "name": "stderr",
     "output_type": "stream",
     "text": [
      "Epoch 35/500: 100%|██████████| 1608/1608 [00:03<00:00, 520.06it/s]\n"
     ]
    },
    {
     "name": "stdout",
     "output_type": "stream",
     "text": [
      "Epoch [35/500], Train Loss: 0.3077\n",
      "Epoch [35/500], Valid Loss: 0.3285\n"
     ]
    },
    {
     "name": "stderr",
     "output_type": "stream",
     "text": [
      "Epoch 36/500: 100%|██████████| 1608/1608 [00:03<00:00, 516.37it/s]\n"
     ]
    },
    {
     "name": "stdout",
     "output_type": "stream",
     "text": [
      "Epoch [36/500], Train Loss: 0.3073\n",
      "Epoch [36/500], Valid Loss: 0.3334\n"
     ]
    },
    {
     "name": "stderr",
     "output_type": "stream",
     "text": [
      "Epoch 37/500: 100%|██████████| 1608/1608 [00:03<00:00, 516.29it/s]\n"
     ]
    },
    {
     "name": "stdout",
     "output_type": "stream",
     "text": [
      "Epoch [37/500], Train Loss: 0.3063\n",
      "Epoch [37/500], Valid Loss: 0.3353\n"
     ]
    },
    {
     "name": "stderr",
     "output_type": "stream",
     "text": [
      "Epoch 38/500: 100%|██████████| 1608/1608 [00:03<00:00, 514.53it/s]\n"
     ]
    },
    {
     "name": "stdout",
     "output_type": "stream",
     "text": [
      "Epoch [38/500], Train Loss: 0.3055\n",
      "Epoch [38/500], Valid Loss: 0.3317\n"
     ]
    },
    {
     "name": "stderr",
     "output_type": "stream",
     "text": [
      "Epoch 39/500: 100%|██████████| 1608/1608 [00:03<00:00, 517.70it/s]\n"
     ]
    },
    {
     "name": "stdout",
     "output_type": "stream",
     "text": [
      "Epoch [39/500], Train Loss: 0.3030\n",
      "Epoch [39/500], Valid Loss: 0.3379\n"
     ]
    },
    {
     "name": "stderr",
     "output_type": "stream",
     "text": [
      "Epoch 40/500: 100%|██████████| 1608/1608 [00:03<00:00, 516.21it/s]\n"
     ]
    },
    {
     "name": "stdout",
     "output_type": "stream",
     "text": [
      "Epoch [40/500], Train Loss: 0.3046\n",
      "Epoch [40/500], Valid Loss: 0.3362\n"
     ]
    },
    {
     "name": "stderr",
     "output_type": "stream",
     "text": [
      "Epoch 41/500: 100%|██████████| 1608/1608 [00:03<00:00, 514.14it/s]\n"
     ]
    },
    {
     "name": "stdout",
     "output_type": "stream",
     "text": [
      "Epoch [41/500], Train Loss: 0.3035\n",
      "Epoch [41/500], Valid Loss: 0.3304\n"
     ]
    },
    {
     "name": "stderr",
     "output_type": "stream",
     "text": [
      "Epoch 42/500: 100%|██████████| 1608/1608 [00:03<00:00, 512.26it/s]\n"
     ]
    },
    {
     "name": "stdout",
     "output_type": "stream",
     "text": [
      "Epoch [42/500], Train Loss: 0.2968\n",
      "Epoch [42/500], Valid Loss: 0.3271\n"
     ]
    },
    {
     "name": "stderr",
     "output_type": "stream",
     "text": [
      "Epoch 43/500: 100%|██████████| 1608/1608 [00:03<00:00, 516.21it/s]\n"
     ]
    },
    {
     "name": "stdout",
     "output_type": "stream",
     "text": [
      "Epoch [43/500], Train Loss: 0.2968\n",
      "Epoch [43/500], Valid Loss: 0.3273\n"
     ]
    },
    {
     "name": "stderr",
     "output_type": "stream",
     "text": [
      "Epoch 44/500: 100%|██████████| 1608/1608 [00:03<00:00, 518.38it/s]\n"
     ]
    },
    {
     "name": "stdout",
     "output_type": "stream",
     "text": [
      "Epoch [44/500], Train Loss: 0.2977\n",
      "Epoch [44/500], Valid Loss: 0.3264\n"
     ]
    },
    {
     "name": "stderr",
     "output_type": "stream",
     "text": [
      "Epoch 45/500: 100%|██████████| 1608/1608 [00:03<00:00, 512.10it/s]\n"
     ]
    },
    {
     "name": "stdout",
     "output_type": "stream",
     "text": [
      "Epoch [45/500], Train Loss: 0.2972\n",
      "Epoch [45/500], Valid Loss: 0.3262\n"
     ]
    },
    {
     "name": "stderr",
     "output_type": "stream",
     "text": [
      "Epoch 46/500: 100%|██████████| 1608/1608 [00:03<00:00, 513.73it/s]\n"
     ]
    },
    {
     "name": "stdout",
     "output_type": "stream",
     "text": [
      "Epoch [46/500], Train Loss: 0.2953\n",
      "Epoch [46/500], Valid Loss: 0.3264\n"
     ]
    },
    {
     "name": "stderr",
     "output_type": "stream",
     "text": [
      "Epoch 47/500: 100%|██████████| 1608/1608 [00:03<00:00, 516.13it/s]\n"
     ]
    },
    {
     "name": "stdout",
     "output_type": "stream",
     "text": [
      "Epoch [47/500], Train Loss: 0.2961\n",
      "Epoch [47/500], Valid Loss: 0.3274\n"
     ]
    },
    {
     "name": "stderr",
     "output_type": "stream",
     "text": [
      "Epoch 48/500: 100%|██████████| 1608/1608 [00:03<00:00, 509.91it/s]\n"
     ]
    },
    {
     "name": "stdout",
     "output_type": "stream",
     "text": [
      "Epoch [48/500], Train Loss: 0.2965\n",
      "Epoch [48/500], Valid Loss: 0.3266\n"
     ]
    },
    {
     "name": "stderr",
     "output_type": "stream",
     "text": [
      "Epoch 49/500: 100%|██████████| 1608/1608 [00:03<00:00, 518.46it/s]\n"
     ]
    },
    {
     "name": "stdout",
     "output_type": "stream",
     "text": [
      "Epoch [49/500], Train Loss: 0.2957\n",
      "Epoch [49/500], Valid Loss: 0.3262\n"
     ]
    },
    {
     "name": "stderr",
     "output_type": "stream",
     "text": [
      "Epoch 50/500: 100%|██████████| 1608/1608 [00:03<00:00, 518.21it/s]\n"
     ]
    },
    {
     "name": "stdout",
     "output_type": "stream",
     "text": [
      "Epoch [50/500], Train Loss: 0.2954\n",
      "Epoch [50/500], Valid Loss: 0.3272\n"
     ]
    },
    {
     "name": "stderr",
     "output_type": "stream",
     "text": [
      "Epoch 51/500: 100%|██████████| 1608/1608 [00:03<00:00, 517.45it/s]\n"
     ]
    },
    {
     "name": "stdout",
     "output_type": "stream",
     "text": [
      "Epoch [51/500], Train Loss: 0.2959\n",
      "Epoch [51/500], Valid Loss: 0.3266\n"
     ]
    },
    {
     "name": "stderr",
     "output_type": "stream",
     "text": [
      "Epoch 52/500: 100%|██████████| 1608/1608 [00:03<00:00, 510.96it/s]\n"
     ]
    },
    {
     "name": "stdout",
     "output_type": "stream",
     "text": [
      "Epoch [52/500], Train Loss: 0.2958\n",
      "Epoch [52/500], Valid Loss: 0.3262\n"
     ]
    },
    {
     "name": "stderr",
     "output_type": "stream",
     "text": [
      "Epoch 53/500: 100%|██████████| 1608/1608 [00:03<00:00, 515.13it/s]\n"
     ]
    },
    {
     "name": "stdout",
     "output_type": "stream",
     "text": [
      "Epoch [53/500], Train Loss: 0.2959\n",
      "Epoch [53/500], Valid Loss: 0.3262\n"
     ]
    },
    {
     "name": "stderr",
     "output_type": "stream",
     "text": [
      "Epoch 54/500: 100%|██████████| 1608/1608 [00:03<00:00, 519.95it/s]\n"
     ]
    },
    {
     "name": "stdout",
     "output_type": "stream",
     "text": [
      "Epoch [54/500], Train Loss: 0.2942\n",
      "Epoch [54/500], Valid Loss: 0.3262\n"
     ]
    },
    {
     "name": "stderr",
     "output_type": "stream",
     "text": [
      "Epoch 55/500: 100%|██████████| 1608/1608 [00:03<00:00, 512.10it/s]\n"
     ]
    },
    {
     "name": "stdout",
     "output_type": "stream",
     "text": [
      "Epoch [55/500], Train Loss: 0.2955\n",
      "Epoch [55/500], Valid Loss: 0.3262\n"
     ]
    },
    {
     "name": "stderr",
     "output_type": "stream",
     "text": [
      "Epoch 56/500: 100%|██████████| 1608/1608 [00:03<00:00, 522.07it/s]\n"
     ]
    },
    {
     "name": "stdout",
     "output_type": "stream",
     "text": [
      "Epoch [56/500], Train Loss: 0.2965\n",
      "Epoch [56/500], Valid Loss: 0.3261\n"
     ]
    },
    {
     "name": "stderr",
     "output_type": "stream",
     "text": [
      "Epoch 57/500: 100%|██████████| 1608/1608 [00:03<00:00, 517.79it/s]\n"
     ]
    },
    {
     "name": "stdout",
     "output_type": "stream",
     "text": [
      "Epoch [57/500], Train Loss: 0.2950\n",
      "Epoch [57/500], Valid Loss: 0.3262\n"
     ]
    },
    {
     "name": "stderr",
     "output_type": "stream",
     "text": [
      "Epoch 58/500: 100%|██████████| 1608/1608 [00:03<00:00, 516.08it/s]\n"
     ]
    },
    {
     "name": "stdout",
     "output_type": "stream",
     "text": [
      "Epoch [58/500], Train Loss: 0.2946\n",
      "Epoch [58/500], Valid Loss: 0.3263\n"
     ]
    },
    {
     "name": "stderr",
     "output_type": "stream",
     "text": [
      "Epoch 59/500: 100%|██████████| 1608/1608 [00:03<00:00, 515.88it/s]\n"
     ]
    },
    {
     "name": "stdout",
     "output_type": "stream",
     "text": [
      "Epoch [59/500], Train Loss: 0.2945\n",
      "Epoch [59/500], Valid Loss: 0.3263\n"
     ]
    },
    {
     "name": "stderr",
     "output_type": "stream",
     "text": [
      "Epoch 60/500: 100%|██████████| 1608/1608 [00:03<00:00, 519.04it/s]\n"
     ]
    },
    {
     "name": "stdout",
     "output_type": "stream",
     "text": [
      "Epoch [60/500], Train Loss: 0.2948\n",
      "Epoch [60/500], Valid Loss: 0.3263\n"
     ]
    },
    {
     "name": "stderr",
     "output_type": "stream",
     "text": [
      "Epoch 61/500: 100%|██████████| 1608/1608 [00:03<00:00, 517.45it/s]\n"
     ]
    },
    {
     "name": "stdout",
     "output_type": "stream",
     "text": [
      "Epoch [61/500], Train Loss: 0.2951\n",
      "Epoch [61/500], Valid Loss: 0.3263\n"
     ]
    },
    {
     "name": "stderr",
     "output_type": "stream",
     "text": [
      "Epoch 62/500: 100%|██████████| 1608/1608 [00:03<00:00, 515.96it/s]\n"
     ]
    },
    {
     "name": "stdout",
     "output_type": "stream",
     "text": [
      "Epoch [62/500], Train Loss: 0.2942\n",
      "Epoch [62/500], Valid Loss: 0.3263\n"
     ]
    },
    {
     "name": "stderr",
     "output_type": "stream",
     "text": [
      "Epoch 63/500: 100%|██████████| 1608/1608 [00:03<00:00, 516.87it/s]\n"
     ]
    },
    {
     "name": "stdout",
     "output_type": "stream",
     "text": [
      "Epoch [63/500], Train Loss: 0.2949\n",
      "Epoch [63/500], Valid Loss: 0.3263\n"
     ]
    },
    {
     "name": "stderr",
     "output_type": "stream",
     "text": [
      "Epoch 64/500: 100%|██████████| 1608/1608 [00:03<00:00, 513.90it/s]\n"
     ]
    },
    {
     "name": "stdout",
     "output_type": "stream",
     "text": [
      "Epoch [64/500], Train Loss: 0.2956\n",
      "Epoch [64/500], Valid Loss: 0.3263\n"
     ]
    },
    {
     "name": "stderr",
     "output_type": "stream",
     "text": [
      "Epoch 65/500: 100%|██████████| 1608/1608 [00:03<00:00, 519.13it/s]\n"
     ]
    },
    {
     "name": "stdout",
     "output_type": "stream",
     "text": [
      "Epoch [65/500], Train Loss: 0.2955\n",
      "Epoch [65/500], Valid Loss: 0.3263\n"
     ]
    },
    {
     "name": "stderr",
     "output_type": "stream",
     "text": [
      "Epoch 66/500: 100%|██████████| 1608/1608 [00:03<00:00, 514.72it/s]\n"
     ]
    },
    {
     "name": "stdout",
     "output_type": "stream",
     "text": [
      "Epoch [66/500], Train Loss: 0.2948\n",
      "Epoch [66/500], Valid Loss: 0.3263\n"
     ]
    },
    {
     "name": "stderr",
     "output_type": "stream",
     "text": [
      "Epoch 67/500: 100%|██████████| 1608/1608 [00:03<00:00, 516.21it/s]\n"
     ]
    },
    {
     "name": "stdout",
     "output_type": "stream",
     "text": [
      "Epoch [67/500], Train Loss: 0.2955\n",
      "Epoch [67/500], Valid Loss: 0.3263\n"
     ]
    },
    {
     "name": "stderr",
     "output_type": "stream",
     "text": [
      "Epoch 68/500: 100%|██████████| 1608/1608 [00:03<00:00, 513.57it/s]\n"
     ]
    },
    {
     "name": "stdout",
     "output_type": "stream",
     "text": [
      "Epoch [68/500], Train Loss: 0.2946\n",
      "Epoch [68/500], Valid Loss: 0.3263\n"
     ]
    },
    {
     "name": "stderr",
     "output_type": "stream",
     "text": [
      "Epoch 69/500: 100%|██████████| 1608/1608 [00:03<00:00, 518.36it/s]\n"
     ]
    },
    {
     "name": "stdout",
     "output_type": "stream",
     "text": [
      "Epoch [69/500], Train Loss: 0.2945\n",
      "Epoch [69/500], Valid Loss: 0.3263\n"
     ]
    },
    {
     "name": "stderr",
     "output_type": "stream",
     "text": [
      "Epoch 70/500: 100%|██████████| 1608/1608 [00:03<00:00, 513.40it/s]\n"
     ]
    },
    {
     "name": "stdout",
     "output_type": "stream",
     "text": [
      "Epoch [70/500], Train Loss: 0.2952\n",
      "Epoch [70/500], Valid Loss: 0.3263\n"
     ]
    },
    {
     "name": "stderr",
     "output_type": "stream",
     "text": [
      "Epoch 71/500: 100%|██████████| 1608/1608 [00:03<00:00, 512.16it/s]\n"
     ]
    },
    {
     "name": "stdout",
     "output_type": "stream",
     "text": [
      "Epoch [71/500], Train Loss: 0.2951\n",
      "Epoch [71/500], Valid Loss: 0.3263\n"
     ]
    },
    {
     "name": "stderr",
     "output_type": "stream",
     "text": [
      "Epoch 72/500: 100%|██████████| 1608/1608 [00:03<00:00, 514.56it/s]\n"
     ]
    },
    {
     "name": "stdout",
     "output_type": "stream",
     "text": [
      "Epoch [72/500], Train Loss: 0.2937\n",
      "Epoch [72/500], Valid Loss: 0.3263\n"
     ]
    },
    {
     "name": "stderr",
     "output_type": "stream",
     "text": [
      "Epoch 73/500: 100%|██████████| 1608/1608 [00:03<00:00, 515.38it/s]\n"
     ]
    },
    {
     "name": "stdout",
     "output_type": "stream",
     "text": [
      "Epoch [73/500], Train Loss: 0.2932\n",
      "Epoch [73/500], Valid Loss: 0.3263\n"
     ]
    },
    {
     "name": "stderr",
     "output_type": "stream",
     "text": [
      "Epoch 74/500: 100%|██████████| 1608/1608 [00:03<00:00, 519.38it/s]\n"
     ]
    },
    {
     "name": "stdout",
     "output_type": "stream",
     "text": [
      "Epoch [74/500], Train Loss: 0.2948\n",
      "Epoch [74/500], Valid Loss: 0.3263\n"
     ]
    },
    {
     "name": "stderr",
     "output_type": "stream",
     "text": [
      "Epoch 75/500: 100%|██████████| 1608/1608 [00:03<00:00, 515.71it/s]\n"
     ]
    },
    {
     "name": "stdout",
     "output_type": "stream",
     "text": [
      "Epoch [75/500], Train Loss: 0.2952\n",
      "Epoch [75/500], Valid Loss: 0.3263\n"
     ]
    },
    {
     "name": "stderr",
     "output_type": "stream",
     "text": [
      "Epoch 76/500: 100%|██████████| 1608/1608 [00:03<00:00, 524.46it/s]\n"
     ]
    },
    {
     "name": "stdout",
     "output_type": "stream",
     "text": [
      "Epoch [76/500], Train Loss: 0.2950\n",
      "Epoch [76/500], Valid Loss: 0.3263\n"
     ]
    },
    {
     "name": "stderr",
     "output_type": "stream",
     "text": [
      "Epoch 77/500: 100%|██████████| 1608/1608 [00:03<00:00, 509.91it/s]\n"
     ]
    },
    {
     "name": "stdout",
     "output_type": "stream",
     "text": [
      "Epoch [77/500], Train Loss: 0.2947\n",
      "Epoch [77/500], Valid Loss: 0.3263\n"
     ]
    },
    {
     "name": "stderr",
     "output_type": "stream",
     "text": [
      "Epoch 78/500: 100%|██████████| 1608/1608 [00:03<00:00, 517.95it/s]\n"
     ]
    },
    {
     "name": "stdout",
     "output_type": "stream",
     "text": [
      "Epoch [78/500], Train Loss: 0.2944\n",
      "Epoch [78/500], Valid Loss: 0.3263\n"
     ]
    },
    {
     "name": "stderr",
     "output_type": "stream",
     "text": [
      "Epoch 79/500: 100%|██████████| 1608/1608 [00:03<00:00, 515.78it/s]\n"
     ]
    },
    {
     "name": "stdout",
     "output_type": "stream",
     "text": [
      "Epoch [79/500], Train Loss: 0.2942\n",
      "Epoch [79/500], Valid Loss: 0.3263\n"
     ]
    },
    {
     "name": "stderr",
     "output_type": "stream",
     "text": [
      "Epoch 80/500: 100%|██████████| 1608/1608 [00:03<00:00, 517.78it/s]\n"
     ]
    },
    {
     "name": "stdout",
     "output_type": "stream",
     "text": [
      "Epoch [80/500], Train Loss: 0.2950\n",
      "Epoch [80/500], Valid Loss: 0.3263\n"
     ]
    },
    {
     "name": "stderr",
     "output_type": "stream",
     "text": [
      "Epoch 81/500: 100%|██████████| 1608/1608 [00:03<00:00, 520.02it/s]\n"
     ]
    },
    {
     "name": "stdout",
     "output_type": "stream",
     "text": [
      "Epoch [81/500], Train Loss: 0.2945\n",
      "Epoch [81/500], Valid Loss: 0.3263\n"
     ]
    },
    {
     "name": "stderr",
     "output_type": "stream",
     "text": [
      "Epoch 82/500: 100%|██████████| 1608/1608 [00:03<00:00, 519.81it/s]\n"
     ]
    },
    {
     "name": "stdout",
     "output_type": "stream",
     "text": [
      "Epoch [82/500], Train Loss: 0.2953\n",
      "Epoch [82/500], Valid Loss: 0.3263\n"
     ]
    },
    {
     "name": "stderr",
     "output_type": "stream",
     "text": [
      "Epoch 83/500: 100%|██████████| 1608/1608 [00:03<00:00, 516.55it/s]\n"
     ]
    },
    {
     "name": "stdout",
     "output_type": "stream",
     "text": [
      "Epoch [83/500], Train Loss: 0.2951\n",
      "Epoch [83/500], Valid Loss: 0.3263\n"
     ]
    },
    {
     "name": "stderr",
     "output_type": "stream",
     "text": [
      "Epoch 84/500: 100%|██████████| 1608/1608 [00:03<00:00, 518.83it/s]\n"
     ]
    },
    {
     "name": "stdout",
     "output_type": "stream",
     "text": [
      "Epoch [84/500], Train Loss: 0.2955\n",
      "Epoch [84/500], Valid Loss: 0.3263\n"
     ]
    },
    {
     "name": "stderr",
     "output_type": "stream",
     "text": [
      "Epoch 85/500: 100%|██████████| 1608/1608 [00:03<00:00, 516.59it/s]\n"
     ]
    },
    {
     "name": "stdout",
     "output_type": "stream",
     "text": [
      "Epoch [85/500], Train Loss: 0.2948\n",
      "Epoch [85/500], Valid Loss: 0.3263\n"
     ]
    },
    {
     "name": "stderr",
     "output_type": "stream",
     "text": [
      "Epoch 86/500: 100%|██████████| 1608/1608 [00:03<00:00, 512.88it/s]\n"
     ]
    },
    {
     "name": "stdout",
     "output_type": "stream",
     "text": [
      "Epoch [86/500], Train Loss: 0.2957\n",
      "Epoch [86/500], Valid Loss: 0.3263\n"
     ]
    },
    {
     "name": "stderr",
     "output_type": "stream",
     "text": [
      "Epoch 87/500: 100%|██████████| 1608/1608 [00:03<00:00, 525.60it/s]\n"
     ]
    },
    {
     "name": "stdout",
     "output_type": "stream",
     "text": [
      "Epoch [87/500], Train Loss: 0.2942\n",
      "Epoch [87/500], Valid Loss: 0.3263\n"
     ]
    },
    {
     "name": "stderr",
     "output_type": "stream",
     "text": [
      "Epoch 88/500: 100%|██████████| 1608/1608 [00:03<00:00, 524.36it/s]\n"
     ]
    },
    {
     "name": "stdout",
     "output_type": "stream",
     "text": [
      "Epoch [88/500], Train Loss: 0.2944\n",
      "Epoch [88/500], Valid Loss: 0.3263\n"
     ]
    },
    {
     "name": "stderr",
     "output_type": "stream",
     "text": [
      "Epoch 89/500: 100%|██████████| 1608/1608 [00:03<00:00, 519.86it/s]\n"
     ]
    },
    {
     "name": "stdout",
     "output_type": "stream",
     "text": [
      "Epoch [89/500], Train Loss: 0.2940\n",
      "Epoch [89/500], Valid Loss: 0.3263\n"
     ]
    },
    {
     "name": "stderr",
     "output_type": "stream",
     "text": [
      "Epoch 90/500: 100%|██████████| 1608/1608 [00:03<00:00, 522.42it/s]\n"
     ]
    },
    {
     "name": "stdout",
     "output_type": "stream",
     "text": [
      "Epoch [90/500], Train Loss: 0.2955\n",
      "Epoch [90/500], Valid Loss: 0.3263\n"
     ]
    },
    {
     "name": "stderr",
     "output_type": "stream",
     "text": [
      "Epoch 91/500: 100%|██████████| 1608/1608 [00:03<00:00, 523.13it/s]\n"
     ]
    },
    {
     "name": "stdout",
     "output_type": "stream",
     "text": [
      "Epoch [91/500], Train Loss: 0.2945\n",
      "Epoch [91/500], Valid Loss: 0.3263\n"
     ]
    },
    {
     "name": "stderr",
     "output_type": "stream",
     "text": [
      "Epoch 92/500: 100%|██████████| 1608/1608 [00:03<00:00, 516.11it/s]\n"
     ]
    },
    {
     "name": "stdout",
     "output_type": "stream",
     "text": [
      "Epoch [92/500], Train Loss: 0.2947\n",
      "Epoch [92/500], Valid Loss: 0.3263\n"
     ]
    },
    {
     "name": "stderr",
     "output_type": "stream",
     "text": [
      "Epoch 93/500: 100%|██████████| 1608/1608 [00:03<00:00, 522.41it/s]\n"
     ]
    },
    {
     "name": "stdout",
     "output_type": "stream",
     "text": [
      "Epoch [93/500], Train Loss: 0.2952\n",
      "Epoch [93/500], Valid Loss: 0.3263\n"
     ]
    },
    {
     "name": "stderr",
     "output_type": "stream",
     "text": [
      "Epoch 94/500: 100%|██████████| 1608/1608 [00:03<00:00, 519.00it/s]\n"
     ]
    },
    {
     "name": "stdout",
     "output_type": "stream",
     "text": [
      "Epoch [94/500], Train Loss: 0.2941\n",
      "Epoch [94/500], Valid Loss: 0.3263\n"
     ]
    },
    {
     "name": "stderr",
     "output_type": "stream",
     "text": [
      "Epoch 95/500: 100%|██████████| 1608/1608 [00:03<00:00, 519.46it/s]\n"
     ]
    },
    {
     "name": "stdout",
     "output_type": "stream",
     "text": [
      "Epoch [95/500], Train Loss: 0.2945\n",
      "Epoch [95/500], Valid Loss: 0.3263\n"
     ]
    },
    {
     "name": "stderr",
     "output_type": "stream",
     "text": [
      "Epoch 96/500: 100%|██████████| 1608/1608 [00:03<00:00, 524.95it/s]\n"
     ]
    },
    {
     "name": "stdout",
     "output_type": "stream",
     "text": [
      "Epoch [96/500], Train Loss: 0.2947\n",
      "Epoch [96/500], Valid Loss: 0.3263\n"
     ]
    },
    {
     "name": "stderr",
     "output_type": "stream",
     "text": [
      "Epoch 97/500: 100%|██████████| 1608/1608 [00:03<00:00, 514.00it/s]\n"
     ]
    },
    {
     "name": "stdout",
     "output_type": "stream",
     "text": [
      "Epoch [97/500], Train Loss: 0.2959\n",
      "Epoch [97/500], Valid Loss: 0.3263\n"
     ]
    },
    {
     "name": "stderr",
     "output_type": "stream",
     "text": [
      "Epoch 98/500: 100%|██████████| 1608/1608 [00:03<00:00, 518.14it/s]\n"
     ]
    },
    {
     "name": "stdout",
     "output_type": "stream",
     "text": [
      "Epoch [98/500], Train Loss: 0.2957\n",
      "Epoch [98/500], Valid Loss: 0.3263\n"
     ]
    },
    {
     "name": "stderr",
     "output_type": "stream",
     "text": [
      "Epoch 99/500: 100%|██████████| 1608/1608 [00:03<00:00, 518.37it/s]\n"
     ]
    },
    {
     "name": "stdout",
     "output_type": "stream",
     "text": [
      "Epoch [99/500], Train Loss: 0.2949\n",
      "Epoch [99/500], Valid Loss: 0.3263\n"
     ]
    },
    {
     "name": "stderr",
     "output_type": "stream",
     "text": [
      "Epoch 100/500: 100%|██████████| 1608/1608 [00:03<00:00, 517.50it/s]\n"
     ]
    },
    {
     "name": "stdout",
     "output_type": "stream",
     "text": [
      "Epoch [100/500], Train Loss: 0.2955\n",
      "Epoch [100/500], Valid Loss: 0.3263\n"
     ]
    },
    {
     "name": "stderr",
     "output_type": "stream",
     "text": [
      "Epoch 101/500: 100%|██████████| 1608/1608 [00:03<00:00, 518.78it/s]\n"
     ]
    },
    {
     "name": "stdout",
     "output_type": "stream",
     "text": [
      "Epoch [101/500], Train Loss: 0.2957\n",
      "Epoch [101/500], Valid Loss: 0.3263\n"
     ]
    },
    {
     "name": "stderr",
     "output_type": "stream",
     "text": [
      "Epoch 102/500: 100%|██████████| 1608/1608 [00:03<00:00, 517.02it/s]\n"
     ]
    },
    {
     "name": "stdout",
     "output_type": "stream",
     "text": [
      "Epoch [102/500], Train Loss: 0.2937\n",
      "Epoch [102/500], Valid Loss: 0.3263\n"
     ]
    },
    {
     "name": "stderr",
     "output_type": "stream",
     "text": [
      "Epoch 103/500: 100%|██████████| 1608/1608 [00:03<00:00, 519.41it/s]\n"
     ]
    },
    {
     "name": "stdout",
     "output_type": "stream",
     "text": [
      "Epoch [103/500], Train Loss: 0.2972\n",
      "Epoch [103/500], Valid Loss: 0.3263\n"
     ]
    },
    {
     "name": "stderr",
     "output_type": "stream",
     "text": [
      "Epoch 104/500: 100%|██████████| 1608/1608 [00:03<00:00, 513.90it/s]\n"
     ]
    },
    {
     "name": "stdout",
     "output_type": "stream",
     "text": [
      "Epoch [104/500], Train Loss: 0.2955\n",
      "Epoch [104/500], Valid Loss: 0.3263\n"
     ]
    },
    {
     "name": "stderr",
     "output_type": "stream",
     "text": [
      "Epoch 105/500: 100%|██████████| 1608/1608 [00:03<00:00, 520.92it/s]\n"
     ]
    },
    {
     "name": "stdout",
     "output_type": "stream",
     "text": [
      "Epoch [105/500], Train Loss: 0.2963\n",
      "Epoch [105/500], Valid Loss: 0.3263\n"
     ]
    },
    {
     "name": "stderr",
     "output_type": "stream",
     "text": [
      "Epoch 106/500: 100%|██████████| 1608/1608 [00:03<00:00, 523.02it/s]\n"
     ]
    },
    {
     "name": "stdout",
     "output_type": "stream",
     "text": [
      "Epoch [106/500], Train Loss: 0.2942\n",
      "Epoch [106/500], Valid Loss: 0.3263\n",
      "Early stopping\n",
      "normx_best_fall_detection_gru_0001_full.pt 학습 시작\n",
      "\n",
      "==================== Training Configuration: GRU with input_config='full' and lr='0.0001' ====================\n",
      "\n",
      "현재 입력 크기 (마지막 차원): 25\n",
      "예상 입력 크기: 25\n"
     ]
    },
    {
     "name": "stderr",
     "output_type": "stream",
     "text": [
      "Epoch 1/500: 100%|██████████| 1608/1608 [00:03<00:00, 519.66it/s]\n"
     ]
    },
    {
     "name": "stdout",
     "output_type": "stream",
     "text": [
      "Epoch [1/500], Train Loss: 0.7723\n",
      "Epoch [1/500], Valid Loss: 0.7568\n"
     ]
    },
    {
     "name": "stderr",
     "output_type": "stream",
     "text": [
      "Epoch 2/500: 100%|██████████| 1608/1608 [00:03<00:00, 517.37it/s]\n"
     ]
    },
    {
     "name": "stdout",
     "output_type": "stream",
     "text": [
      "Epoch [2/500], Train Loss: 0.6848\n",
      "Epoch [2/500], Valid Loss: 0.6365\n"
     ]
    },
    {
     "name": "stderr",
     "output_type": "stream",
     "text": [
      "Epoch 3/500: 100%|██████████| 1608/1608 [00:03<00:00, 517.80it/s]\n"
     ]
    },
    {
     "name": "stdout",
     "output_type": "stream",
     "text": [
      "Epoch [3/500], Train Loss: 0.5951\n",
      "Epoch [3/500], Valid Loss: 0.5826\n"
     ]
    },
    {
     "name": "stderr",
     "output_type": "stream",
     "text": [
      "Epoch 4/500: 100%|██████████| 1608/1608 [00:03<00:00, 513.32it/s]\n"
     ]
    },
    {
     "name": "stdout",
     "output_type": "stream",
     "text": [
      "Epoch [4/500], Train Loss: 0.5474\n",
      "Epoch [4/500], Valid Loss: 0.5468\n"
     ]
    },
    {
     "name": "stderr",
     "output_type": "stream",
     "text": [
      "Epoch 5/500: 100%|██████████| 1608/1608 [00:03<00:00, 517.70it/s]\n"
     ]
    },
    {
     "name": "stdout",
     "output_type": "stream",
     "text": [
      "Epoch [5/500], Train Loss: 0.5138\n",
      "Epoch [5/500], Valid Loss: 0.5030\n"
     ]
    },
    {
     "name": "stderr",
     "output_type": "stream",
     "text": [
      "Epoch 6/500: 100%|██████████| 1608/1608 [00:03<00:00, 518.33it/s]\n"
     ]
    },
    {
     "name": "stdout",
     "output_type": "stream",
     "text": [
      "Epoch [6/500], Train Loss: 0.4888\n",
      "Epoch [6/500], Valid Loss: 0.4760\n"
     ]
    },
    {
     "name": "stderr",
     "output_type": "stream",
     "text": [
      "Epoch 7/500: 100%|██████████| 1608/1608 [00:03<00:00, 509.18it/s]\n"
     ]
    },
    {
     "name": "stdout",
     "output_type": "stream",
     "text": [
      "Epoch [7/500], Train Loss: 0.4763\n",
      "Epoch [7/500], Valid Loss: 0.4564\n"
     ]
    },
    {
     "name": "stderr",
     "output_type": "stream",
     "text": [
      "Epoch 8/500: 100%|██████████| 1608/1608 [00:03<00:00, 515.54it/s]\n"
     ]
    },
    {
     "name": "stdout",
     "output_type": "stream",
     "text": [
      "Epoch [8/500], Train Loss: 0.4641\n",
      "Epoch [8/500], Valid Loss: 0.4488\n"
     ]
    },
    {
     "name": "stderr",
     "output_type": "stream",
     "text": [
      "Epoch 9/500: 100%|██████████| 1608/1608 [00:03<00:00, 510.31it/s]\n"
     ]
    },
    {
     "name": "stdout",
     "output_type": "stream",
     "text": [
      "Epoch [9/500], Train Loss: 0.4566\n",
      "Epoch [9/500], Valid Loss: 0.4733\n"
     ]
    },
    {
     "name": "stderr",
     "output_type": "stream",
     "text": [
      "Epoch 10/500: 100%|██████████| 1608/1608 [00:03<00:00, 515.21it/s]\n"
     ]
    },
    {
     "name": "stdout",
     "output_type": "stream",
     "text": [
      "Epoch [10/500], Train Loss: 0.4517\n",
      "Epoch [10/500], Valid Loss: 0.4592\n"
     ]
    },
    {
     "name": "stderr",
     "output_type": "stream",
     "text": [
      "Epoch 11/500: 100%|██████████| 1608/1608 [00:03<00:00, 518.70it/s]\n"
     ]
    },
    {
     "name": "stdout",
     "output_type": "stream",
     "text": [
      "Epoch [11/500], Train Loss: 0.4530\n",
      "Epoch [11/500], Valid Loss: 0.5050\n"
     ]
    },
    {
     "name": "stderr",
     "output_type": "stream",
     "text": [
      "Epoch 12/500: 100%|██████████| 1608/1608 [00:03<00:00, 516.70it/s]\n"
     ]
    },
    {
     "name": "stdout",
     "output_type": "stream",
     "text": [
      "Epoch [12/500], Train Loss: 0.4474\n",
      "Epoch [12/500], Valid Loss: 0.4770\n"
     ]
    },
    {
     "name": "stderr",
     "output_type": "stream",
     "text": [
      "Epoch 13/500: 100%|██████████| 1608/1608 [00:03<00:00, 512.08it/s]\n"
     ]
    },
    {
     "name": "stdout",
     "output_type": "stream",
     "text": [
      "Epoch [13/500], Train Loss: 0.4420\n",
      "Epoch [13/500], Valid Loss: 0.4367\n"
     ]
    },
    {
     "name": "stderr",
     "output_type": "stream",
     "text": [
      "Epoch 14/500: 100%|██████████| 1608/1608 [00:03<00:00, 519.84it/s]\n"
     ]
    },
    {
     "name": "stdout",
     "output_type": "stream",
     "text": [
      "Epoch [14/500], Train Loss: 0.4404\n",
      "Epoch [14/500], Valid Loss: 0.4324\n"
     ]
    },
    {
     "name": "stderr",
     "output_type": "stream",
     "text": [
      "Epoch 15/500: 100%|██████████| 1608/1608 [00:03<00:00, 519.71it/s]\n"
     ]
    },
    {
     "name": "stdout",
     "output_type": "stream",
     "text": [
      "Epoch [15/500], Train Loss: 0.4372\n",
      "Epoch [15/500], Valid Loss: 0.4316\n"
     ]
    },
    {
     "name": "stderr",
     "output_type": "stream",
     "text": [
      "Epoch 16/500: 100%|██████████| 1608/1608 [00:03<00:00, 517.37it/s]\n"
     ]
    },
    {
     "name": "stdout",
     "output_type": "stream",
     "text": [
      "Epoch [16/500], Train Loss: 0.4330\n",
      "Epoch [16/500], Valid Loss: 0.4268\n"
     ]
    },
    {
     "name": "stderr",
     "output_type": "stream",
     "text": [
      "Epoch 17/500: 100%|██████████| 1608/1608 [00:03<00:00, 518.79it/s]\n"
     ]
    },
    {
     "name": "stdout",
     "output_type": "stream",
     "text": [
      "Epoch [17/500], Train Loss: 0.4256\n",
      "Epoch [17/500], Valid Loss: 0.4294\n"
     ]
    },
    {
     "name": "stderr",
     "output_type": "stream",
     "text": [
      "Epoch 18/500: 100%|██████████| 1608/1608 [00:03<00:00, 516.71it/s]\n"
     ]
    },
    {
     "name": "stdout",
     "output_type": "stream",
     "text": [
      "Epoch [18/500], Train Loss: 0.4266\n",
      "Epoch [18/500], Valid Loss: 0.4141\n"
     ]
    },
    {
     "name": "stderr",
     "output_type": "stream",
     "text": [
      "Epoch 19/500: 100%|██████████| 1608/1608 [00:03<00:00, 514.47it/s]\n"
     ]
    },
    {
     "name": "stdout",
     "output_type": "stream",
     "text": [
      "Epoch [19/500], Train Loss: 0.4226\n",
      "Epoch [19/500], Valid Loss: 0.4367\n"
     ]
    },
    {
     "name": "stderr",
     "output_type": "stream",
     "text": [
      "Epoch 20/500: 100%|██████████| 1608/1608 [00:03<00:00, 515.55it/s]\n"
     ]
    },
    {
     "name": "stdout",
     "output_type": "stream",
     "text": [
      "Epoch [20/500], Train Loss: 0.4240\n",
      "Epoch [20/500], Valid Loss: 0.4160\n"
     ]
    },
    {
     "name": "stderr",
     "output_type": "stream",
     "text": [
      "Epoch 21/500: 100%|██████████| 1608/1608 [00:03<00:00, 511.12it/s]\n"
     ]
    },
    {
     "name": "stdout",
     "output_type": "stream",
     "text": [
      "Epoch [21/500], Train Loss: 0.4192\n",
      "Epoch [21/500], Valid Loss: 0.4143\n"
     ]
    },
    {
     "name": "stderr",
     "output_type": "stream",
     "text": [
      "Epoch 22/500: 100%|██████████| 1608/1608 [00:03<00:00, 512.38it/s]\n"
     ]
    },
    {
     "name": "stdout",
     "output_type": "stream",
     "text": [
      "Epoch [22/500], Train Loss: 0.4169\n",
      "Epoch [22/500], Valid Loss: 0.4024\n"
     ]
    },
    {
     "name": "stderr",
     "output_type": "stream",
     "text": [
      "Epoch 23/500: 100%|██████████| 1608/1608 [00:03<00:00, 522.59it/s]\n"
     ]
    },
    {
     "name": "stdout",
     "output_type": "stream",
     "text": [
      "Epoch [23/500], Train Loss: 0.4115\n",
      "Epoch [23/500], Valid Loss: 0.4189\n"
     ]
    },
    {
     "name": "stderr",
     "output_type": "stream",
     "text": [
      "Epoch 24/500: 100%|██████████| 1608/1608 [00:03<00:00, 516.37it/s]\n"
     ]
    },
    {
     "name": "stdout",
     "output_type": "stream",
     "text": [
      "Epoch [24/500], Train Loss: 0.4122\n",
      "Epoch [24/500], Valid Loss: 0.4078\n"
     ]
    },
    {
     "name": "stderr",
     "output_type": "stream",
     "text": [
      "Epoch 25/500: 100%|██████████| 1608/1608 [00:03<00:00, 519.04it/s]\n"
     ]
    },
    {
     "name": "stdout",
     "output_type": "stream",
     "text": [
      "Epoch [25/500], Train Loss: 0.4060\n",
      "Epoch [25/500], Valid Loss: 0.4038\n"
     ]
    },
    {
     "name": "stderr",
     "output_type": "stream",
     "text": [
      "Epoch 26/500: 100%|██████████| 1608/1608 [00:03<00:00, 519.83it/s]\n"
     ]
    },
    {
     "name": "stdout",
     "output_type": "stream",
     "text": [
      "Epoch [26/500], Train Loss: 0.4062\n",
      "Epoch [26/500], Valid Loss: 0.3964\n"
     ]
    },
    {
     "name": "stderr",
     "output_type": "stream",
     "text": [
      "Epoch 27/500: 100%|██████████| 1608/1608 [00:03<00:00, 517.62it/s]\n"
     ]
    },
    {
     "name": "stdout",
     "output_type": "stream",
     "text": [
      "Epoch [27/500], Train Loss: 0.4044\n",
      "Epoch [27/500], Valid Loss: 0.4158\n"
     ]
    },
    {
     "name": "stderr",
     "output_type": "stream",
     "text": [
      "Epoch 28/500: 100%|██████████| 1608/1608 [00:03<00:00, 517.08it/s]\n"
     ]
    },
    {
     "name": "stdout",
     "output_type": "stream",
     "text": [
      "Epoch [28/500], Train Loss: 0.4022\n",
      "Epoch [28/500], Valid Loss: 0.3955\n"
     ]
    },
    {
     "name": "stderr",
     "output_type": "stream",
     "text": [
      "Epoch 29/500: 100%|██████████| 1608/1608 [00:03<00:00, 516.37it/s]\n"
     ]
    },
    {
     "name": "stdout",
     "output_type": "stream",
     "text": [
      "Epoch [29/500], Train Loss: 0.4020\n",
      "Epoch [29/500], Valid Loss: 0.4039\n"
     ]
    },
    {
     "name": "stderr",
     "output_type": "stream",
     "text": [
      "Epoch 30/500: 100%|██████████| 1608/1608 [00:03<00:00, 518.23it/s]\n"
     ]
    },
    {
     "name": "stdout",
     "output_type": "stream",
     "text": [
      "Epoch [30/500], Train Loss: 0.4016\n",
      "Epoch [30/500], Valid Loss: 0.3958\n"
     ]
    },
    {
     "name": "stderr",
     "output_type": "stream",
     "text": [
      "Epoch 31/500: 100%|██████████| 1608/1608 [00:03<00:00, 516.98it/s]\n"
     ]
    },
    {
     "name": "stdout",
     "output_type": "stream",
     "text": [
      "Epoch [31/500], Train Loss: 0.4016\n",
      "Epoch [31/500], Valid Loss: 0.4130\n"
     ]
    },
    {
     "name": "stderr",
     "output_type": "stream",
     "text": [
      "Epoch 32/500: 100%|██████████| 1608/1608 [00:03<00:00, 513.15it/s]\n"
     ]
    },
    {
     "name": "stdout",
     "output_type": "stream",
     "text": [
      "Epoch [32/500], Train Loss: 0.3984\n",
      "Epoch [32/500], Valid Loss: 0.3971\n"
     ]
    },
    {
     "name": "stderr",
     "output_type": "stream",
     "text": [
      "Epoch 33/500: 100%|██████████| 1608/1608 [00:03<00:00, 519.29it/s]\n"
     ]
    },
    {
     "name": "stdout",
     "output_type": "stream",
     "text": [
      "Epoch [33/500], Train Loss: 0.3987\n",
      "Epoch [33/500], Valid Loss: 0.3954\n"
     ]
    },
    {
     "name": "stderr",
     "output_type": "stream",
     "text": [
      "Epoch 34/500: 100%|██████████| 1608/1608 [00:03<00:00, 518.20it/s]\n"
     ]
    },
    {
     "name": "stdout",
     "output_type": "stream",
     "text": [
      "Epoch [34/500], Train Loss: 0.3975\n",
      "Epoch [34/500], Valid Loss: 0.4045\n"
     ]
    },
    {
     "name": "stderr",
     "output_type": "stream",
     "text": [
      "Epoch 35/500: 100%|██████████| 1608/1608 [00:03<00:00, 507.01it/s]\n"
     ]
    },
    {
     "name": "stdout",
     "output_type": "stream",
     "text": [
      "Epoch [35/500], Train Loss: 0.3963\n",
      "Epoch [35/500], Valid Loss: 0.3887\n"
     ]
    },
    {
     "name": "stderr",
     "output_type": "stream",
     "text": [
      "Epoch 36/500: 100%|██████████| 1608/1608 [00:03<00:00, 516.04it/s]\n"
     ]
    },
    {
     "name": "stdout",
     "output_type": "stream",
     "text": [
      "Epoch [36/500], Train Loss: 0.3956\n",
      "Epoch [36/500], Valid Loss: 0.4237\n"
     ]
    },
    {
     "name": "stderr",
     "output_type": "stream",
     "text": [
      "Epoch 37/500: 100%|██████████| 1608/1608 [00:03<00:00, 517.71it/s]\n"
     ]
    },
    {
     "name": "stdout",
     "output_type": "stream",
     "text": [
      "Epoch [37/500], Train Loss: 0.3926\n",
      "Epoch [37/500], Valid Loss: 0.3904\n"
     ]
    },
    {
     "name": "stderr",
     "output_type": "stream",
     "text": [
      "Epoch 38/500: 100%|██████████| 1608/1608 [00:03<00:00, 510.96it/s]\n"
     ]
    },
    {
     "name": "stdout",
     "output_type": "stream",
     "text": [
      "Epoch [38/500], Train Loss: 0.3946\n",
      "Epoch [38/500], Valid Loss: 0.4003\n"
     ]
    },
    {
     "name": "stderr",
     "output_type": "stream",
     "text": [
      "Epoch 39/500: 100%|██████████| 1608/1608 [00:03<00:00, 514.72it/s]\n"
     ]
    },
    {
     "name": "stdout",
     "output_type": "stream",
     "text": [
      "Epoch [39/500], Train Loss: 0.3917\n",
      "Epoch [39/500], Valid Loss: 0.3885\n"
     ]
    },
    {
     "name": "stderr",
     "output_type": "stream",
     "text": [
      "Epoch 40/500: 100%|██████████| 1608/1608 [00:03<00:00, 519.38it/s]\n"
     ]
    },
    {
     "name": "stdout",
     "output_type": "stream",
     "text": [
      "Epoch [40/500], Train Loss: 0.3924\n",
      "Epoch [40/500], Valid Loss: 0.3896\n"
     ]
    },
    {
     "name": "stderr",
     "output_type": "stream",
     "text": [
      "Epoch 41/500: 100%|██████████| 1608/1608 [00:03<00:00, 510.33it/s]\n"
     ]
    },
    {
     "name": "stdout",
     "output_type": "stream",
     "text": [
      "Epoch [41/500], Train Loss: 0.3921\n",
      "Epoch [41/500], Valid Loss: 0.3918\n"
     ]
    },
    {
     "name": "stderr",
     "output_type": "stream",
     "text": [
      "Epoch 42/500: 100%|██████████| 1608/1608 [00:03<00:00, 520.89it/s]\n"
     ]
    },
    {
     "name": "stdout",
     "output_type": "stream",
     "text": [
      "Epoch [42/500], Train Loss: 0.3891\n",
      "Epoch [42/500], Valid Loss: 0.4091\n"
     ]
    },
    {
     "name": "stderr",
     "output_type": "stream",
     "text": [
      "Epoch 43/500: 100%|██████████| 1608/1608 [00:03<00:00, 517.95it/s]\n"
     ]
    },
    {
     "name": "stdout",
     "output_type": "stream",
     "text": [
      "Epoch [43/500], Train Loss: 0.3877\n",
      "Epoch [43/500], Valid Loss: 0.3911\n"
     ]
    },
    {
     "name": "stderr",
     "output_type": "stream",
     "text": [
      "Epoch 44/500: 100%|██████████| 1608/1608 [00:03<00:00, 510.31it/s]\n"
     ]
    },
    {
     "name": "stdout",
     "output_type": "stream",
     "text": [
      "Epoch [44/500], Train Loss: 0.3891\n",
      "Epoch [44/500], Valid Loss: 0.3856\n"
     ]
    },
    {
     "name": "stderr",
     "output_type": "stream",
     "text": [
      "Epoch 45/500: 100%|██████████| 1608/1608 [00:03<00:00, 509.67it/s]\n"
     ]
    },
    {
     "name": "stdout",
     "output_type": "stream",
     "text": [
      "Epoch [45/500], Train Loss: 0.3880\n",
      "Epoch [45/500], Valid Loss: 0.3838\n"
     ]
    },
    {
     "name": "stderr",
     "output_type": "stream",
     "text": [
      "Epoch 46/500: 100%|██████████| 1608/1608 [00:03<00:00, 519.88it/s]\n"
     ]
    },
    {
     "name": "stdout",
     "output_type": "stream",
     "text": [
      "Epoch [46/500], Train Loss: 0.3872\n",
      "Epoch [46/500], Valid Loss: 0.3797\n"
     ]
    },
    {
     "name": "stderr",
     "output_type": "stream",
     "text": [
      "Epoch 47/500: 100%|██████████| 1608/1608 [00:03<00:00, 517.54it/s]\n"
     ]
    },
    {
     "name": "stdout",
     "output_type": "stream",
     "text": [
      "Epoch [47/500], Train Loss: 0.3869\n",
      "Epoch [47/500], Valid Loss: 0.3952\n"
     ]
    },
    {
     "name": "stderr",
     "output_type": "stream",
     "text": [
      "Epoch 48/500: 100%|██████████| 1608/1608 [00:03<00:00, 515.38it/s]\n"
     ]
    },
    {
     "name": "stdout",
     "output_type": "stream",
     "text": [
      "Epoch [48/500], Train Loss: 0.3835\n",
      "Epoch [48/500], Valid Loss: 0.3804\n"
     ]
    },
    {
     "name": "stderr",
     "output_type": "stream",
     "text": [
      "Epoch 49/500: 100%|██████████| 1608/1608 [00:03<00:00, 519.69it/s]\n"
     ]
    },
    {
     "name": "stdout",
     "output_type": "stream",
     "text": [
      "Epoch [49/500], Train Loss: 0.3859\n",
      "Epoch [49/500], Valid Loss: 0.3804\n"
     ]
    },
    {
     "name": "stderr",
     "output_type": "stream",
     "text": [
      "Epoch 50/500: 100%|██████████| 1608/1608 [00:03<00:00, 517.46it/s]\n"
     ]
    },
    {
     "name": "stdout",
     "output_type": "stream",
     "text": [
      "Epoch [50/500], Train Loss: 0.3846\n",
      "Epoch [50/500], Valid Loss: 0.4140\n"
     ]
    },
    {
     "name": "stderr",
     "output_type": "stream",
     "text": [
      "Epoch 51/500: 100%|██████████| 1608/1608 [00:03<00:00, 522.92it/s]\n"
     ]
    },
    {
     "name": "stdout",
     "output_type": "stream",
     "text": [
      "Epoch [51/500], Train Loss: 0.3831\n",
      "Epoch [51/500], Valid Loss: 0.3979\n"
     ]
    },
    {
     "name": "stderr",
     "output_type": "stream",
     "text": [
      "Epoch 52/500: 100%|██████████| 1608/1608 [00:03<00:00, 516.71it/s]\n"
     ]
    },
    {
     "name": "stdout",
     "output_type": "stream",
     "text": [
      "Epoch [52/500], Train Loss: 0.3838\n",
      "Epoch [52/500], Valid Loss: 0.3919\n"
     ]
    },
    {
     "name": "stderr",
     "output_type": "stream",
     "text": [
      "Epoch 53/500: 100%|██████████| 1608/1608 [00:03<00:00, 515.39it/s]\n"
     ]
    },
    {
     "name": "stdout",
     "output_type": "stream",
     "text": [
      "Epoch [53/500], Train Loss: 0.3706\n",
      "Epoch [53/500], Valid Loss: 0.3771\n"
     ]
    },
    {
     "name": "stderr",
     "output_type": "stream",
     "text": [
      "Epoch 54/500: 100%|██████████| 1608/1608 [00:03<00:00, 518.88it/s]\n"
     ]
    },
    {
     "name": "stdout",
     "output_type": "stream",
     "text": [
      "Epoch [54/500], Train Loss: 0.3692\n",
      "Epoch [54/500], Valid Loss: 0.3799\n"
     ]
    },
    {
     "name": "stderr",
     "output_type": "stream",
     "text": [
      "Epoch 55/500: 100%|██████████| 1608/1608 [00:03<00:00, 519.69it/s]\n"
     ]
    },
    {
     "name": "stdout",
     "output_type": "stream",
     "text": [
      "Epoch [55/500], Train Loss: 0.3687\n",
      "Epoch [55/500], Valid Loss: 0.3759\n"
     ]
    },
    {
     "name": "stderr",
     "output_type": "stream",
     "text": [
      "Epoch 56/500: 100%|██████████| 1608/1608 [00:03<00:00, 514.54it/s]\n"
     ]
    },
    {
     "name": "stdout",
     "output_type": "stream",
     "text": [
      "Epoch [56/500], Train Loss: 0.3678\n",
      "Epoch [56/500], Valid Loss: 0.3761\n"
     ]
    },
    {
     "name": "stderr",
     "output_type": "stream",
     "text": [
      "Epoch 57/500: 100%|██████████| 1608/1608 [00:03<00:00, 513.07it/s]\n"
     ]
    },
    {
     "name": "stdout",
     "output_type": "stream",
     "text": [
      "Epoch [57/500], Train Loss: 0.3692\n",
      "Epoch [57/500], Valid Loss: 0.3765\n"
     ]
    },
    {
     "name": "stderr",
     "output_type": "stream",
     "text": [
      "Epoch 58/500: 100%|██████████| 1608/1608 [00:03<00:00, 521.57it/s]\n"
     ]
    },
    {
     "name": "stdout",
     "output_type": "stream",
     "text": [
      "Epoch [58/500], Train Loss: 0.3687\n",
      "Epoch [58/500], Valid Loss: 0.3809\n"
     ]
    },
    {
     "name": "stderr",
     "output_type": "stream",
     "text": [
      "Epoch 59/500: 100%|██████████| 1608/1608 [00:03<00:00, 516.04it/s]\n"
     ]
    },
    {
     "name": "stdout",
     "output_type": "stream",
     "text": [
      "Epoch [59/500], Train Loss: 0.3690\n",
      "Epoch [59/500], Valid Loss: 0.3764\n"
     ]
    },
    {
     "name": "stderr",
     "output_type": "stream",
     "text": [
      "Epoch 60/500: 100%|██████████| 1608/1608 [00:03<00:00, 521.57it/s]\n"
     ]
    },
    {
     "name": "stdout",
     "output_type": "stream",
     "text": [
      "Epoch [60/500], Train Loss: 0.3675\n",
      "Epoch [60/500], Valid Loss: 0.3778\n"
     ]
    },
    {
     "name": "stderr",
     "output_type": "stream",
     "text": [
      "Epoch 61/500: 100%|██████████| 1608/1608 [00:03<00:00, 516.54it/s]\n"
     ]
    },
    {
     "name": "stdout",
     "output_type": "stream",
     "text": [
      "Epoch [61/500], Train Loss: 0.3674\n",
      "Epoch [61/500], Valid Loss: 0.3760\n"
     ]
    },
    {
     "name": "stderr",
     "output_type": "stream",
     "text": [
      "Epoch 62/500: 100%|██████████| 1608/1608 [00:03<00:00, 523.60it/s]\n"
     ]
    },
    {
     "name": "stdout",
     "output_type": "stream",
     "text": [
      "Epoch [62/500], Train Loss: 0.3664\n",
      "Epoch [62/500], Valid Loss: 0.3750\n"
     ]
    },
    {
     "name": "stderr",
     "output_type": "stream",
     "text": [
      "Epoch 63/500: 100%|██████████| 1608/1608 [00:03<00:00, 517.04it/s]\n"
     ]
    },
    {
     "name": "stdout",
     "output_type": "stream",
     "text": [
      "Epoch [63/500], Train Loss: 0.3658\n",
      "Epoch [63/500], Valid Loss: 0.3756\n"
     ]
    },
    {
     "name": "stderr",
     "output_type": "stream",
     "text": [
      "Epoch 64/500: 100%|██████████| 1608/1608 [00:03<00:00, 518.54it/s]\n"
     ]
    },
    {
     "name": "stdout",
     "output_type": "stream",
     "text": [
      "Epoch [64/500], Train Loss: 0.3677\n",
      "Epoch [64/500], Valid Loss: 0.3754\n"
     ]
    },
    {
     "name": "stderr",
     "output_type": "stream",
     "text": [
      "Epoch 65/500: 100%|██████████| 1608/1608 [00:03<00:00, 517.71it/s]\n"
     ]
    },
    {
     "name": "stdout",
     "output_type": "stream",
     "text": [
      "Epoch [65/500], Train Loss: 0.3653\n",
      "Epoch [65/500], Valid Loss: 0.3755\n"
     ]
    },
    {
     "name": "stderr",
     "output_type": "stream",
     "text": [
      "Epoch 66/500: 100%|██████████| 1608/1608 [00:03<00:00, 522.24it/s]\n"
     ]
    },
    {
     "name": "stdout",
     "output_type": "stream",
     "text": [
      "Epoch [66/500], Train Loss: 0.3660\n",
      "Epoch [66/500], Valid Loss: 0.3757\n"
     ]
    },
    {
     "name": "stderr",
     "output_type": "stream",
     "text": [
      "Epoch 67/500: 100%|██████████| 1608/1608 [00:03<00:00, 519.38it/s]\n"
     ]
    },
    {
     "name": "stdout",
     "output_type": "stream",
     "text": [
      "Epoch [67/500], Train Loss: 0.3665\n",
      "Epoch [67/500], Valid Loss: 0.3756\n"
     ]
    },
    {
     "name": "stderr",
     "output_type": "stream",
     "text": [
      "Epoch 68/500: 100%|██████████| 1608/1608 [00:03<00:00, 512.26it/s]\n"
     ]
    },
    {
     "name": "stdout",
     "output_type": "stream",
     "text": [
      "Epoch [68/500], Train Loss: 0.3656\n",
      "Epoch [68/500], Valid Loss: 0.3755\n"
     ]
    },
    {
     "name": "stderr",
     "output_type": "stream",
     "text": [
      "Epoch 69/500: 100%|██████████| 1608/1608 [00:03<00:00, 522.07it/s]\n"
     ]
    },
    {
     "name": "stdout",
     "output_type": "stream",
     "text": [
      "Epoch [69/500], Train Loss: 0.3658\n",
      "Epoch [69/500], Valid Loss: 0.3755\n"
     ]
    },
    {
     "name": "stderr",
     "output_type": "stream",
     "text": [
      "Epoch 70/500: 100%|██████████| 1608/1608 [00:03<00:00, 517.04it/s]\n"
     ]
    },
    {
     "name": "stdout",
     "output_type": "stream",
     "text": [
      "Epoch [70/500], Train Loss: 0.3673\n",
      "Epoch [70/500], Valid Loss: 0.3755\n"
     ]
    },
    {
     "name": "stderr",
     "output_type": "stream",
     "text": [
      "Epoch 71/500: 100%|██████████| 1608/1608 [00:03<00:00, 518.27it/s]\n"
     ]
    },
    {
     "name": "stdout",
     "output_type": "stream",
     "text": [
      "Epoch [71/500], Train Loss: 0.3668\n",
      "Epoch [71/500], Valid Loss: 0.3755\n"
     ]
    },
    {
     "name": "stderr",
     "output_type": "stream",
     "text": [
      "Epoch 72/500: 100%|██████████| 1608/1608 [00:03<00:00, 519.55it/s]\n"
     ]
    },
    {
     "name": "stdout",
     "output_type": "stream",
     "text": [
      "Epoch [72/500], Train Loss: 0.3668\n",
      "Epoch [72/500], Valid Loss: 0.3755\n"
     ]
    },
    {
     "name": "stderr",
     "output_type": "stream",
     "text": [
      "Epoch 73/500: 100%|██████████| 1608/1608 [00:03<00:00, 521.74it/s]\n"
     ]
    },
    {
     "name": "stdout",
     "output_type": "stream",
     "text": [
      "Epoch [73/500], Train Loss: 0.3664\n",
      "Epoch [73/500], Valid Loss: 0.3754\n"
     ]
    },
    {
     "name": "stderr",
     "output_type": "stream",
     "text": [
      "Epoch 74/500: 100%|██████████| 1608/1608 [00:03<00:00, 520.89it/s]\n"
     ]
    },
    {
     "name": "stdout",
     "output_type": "stream",
     "text": [
      "Epoch [74/500], Train Loss: 0.3656\n",
      "Epoch [74/500], Valid Loss: 0.3754\n"
     ]
    },
    {
     "name": "stderr",
     "output_type": "stream",
     "text": [
      "Epoch 75/500: 100%|██████████| 1608/1608 [00:03<00:00, 518.88it/s]\n"
     ]
    },
    {
     "name": "stdout",
     "output_type": "stream",
     "text": [
      "Epoch [75/500], Train Loss: 0.3664\n",
      "Epoch [75/500], Valid Loss: 0.3754\n"
     ]
    },
    {
     "name": "stderr",
     "output_type": "stream",
     "text": [
      "Epoch 76/500: 100%|██████████| 1608/1608 [00:03<00:00, 519.38it/s]\n"
     ]
    },
    {
     "name": "stdout",
     "output_type": "stream",
     "text": [
      "Epoch [76/500], Train Loss: 0.3657\n",
      "Epoch [76/500], Valid Loss: 0.3754\n"
     ]
    },
    {
     "name": "stderr",
     "output_type": "stream",
     "text": [
      "Epoch 77/500: 100%|██████████| 1608/1608 [00:03<00:00, 520.73it/s]\n"
     ]
    },
    {
     "name": "stdout",
     "output_type": "stream",
     "text": [
      "Epoch [77/500], Train Loss: 0.3649\n",
      "Epoch [77/500], Valid Loss: 0.3754\n"
     ]
    },
    {
     "name": "stderr",
     "output_type": "stream",
     "text": [
      "Epoch 78/500: 100%|██████████| 1608/1608 [00:03<00:00, 519.07it/s]\n"
     ]
    },
    {
     "name": "stdout",
     "output_type": "stream",
     "text": [
      "Epoch [78/500], Train Loss: 0.3661\n",
      "Epoch [78/500], Valid Loss: 0.3754\n"
     ]
    },
    {
     "name": "stderr",
     "output_type": "stream",
     "text": [
      "Epoch 79/500: 100%|██████████| 1608/1608 [00:03<00:00, 518.93it/s]\n"
     ]
    },
    {
     "name": "stdout",
     "output_type": "stream",
     "text": [
      "Epoch [79/500], Train Loss: 0.3673\n",
      "Epoch [79/500], Valid Loss: 0.3754\n"
     ]
    },
    {
     "name": "stderr",
     "output_type": "stream",
     "text": [
      "Epoch 80/500: 100%|██████████| 1608/1608 [00:03<00:00, 525.15it/s]\n"
     ]
    },
    {
     "name": "stdout",
     "output_type": "stream",
     "text": [
      "Epoch [80/500], Train Loss: 0.3656\n",
      "Epoch [80/500], Valid Loss: 0.3754\n"
     ]
    },
    {
     "name": "stderr",
     "output_type": "stream",
     "text": [
      "Epoch 81/500: 100%|██████████| 1608/1608 [00:03<00:00, 517.88it/s]\n"
     ]
    },
    {
     "name": "stdout",
     "output_type": "stream",
     "text": [
      "Epoch [81/500], Train Loss: 0.3672\n",
      "Epoch [81/500], Valid Loss: 0.3754\n"
     ]
    },
    {
     "name": "stderr",
     "output_type": "stream",
     "text": [
      "Epoch 82/500: 100%|██████████| 1608/1608 [00:03<00:00, 515.55it/s]\n"
     ]
    },
    {
     "name": "stdout",
     "output_type": "stream",
     "text": [
      "Epoch [82/500], Train Loss: 0.3659\n",
      "Epoch [82/500], Valid Loss: 0.3755\n"
     ]
    },
    {
     "name": "stderr",
     "output_type": "stream",
     "text": [
      "Epoch 83/500: 100%|██████████| 1608/1608 [00:03<00:00, 521.57it/s]\n"
     ]
    },
    {
     "name": "stdout",
     "output_type": "stream",
     "text": [
      "Epoch [83/500], Train Loss: 0.3649\n",
      "Epoch [83/500], Valid Loss: 0.3755\n"
     ]
    },
    {
     "name": "stderr",
     "output_type": "stream",
     "text": [
      "Epoch 84/500: 100%|██████████| 1608/1608 [00:03<00:00, 523.78it/s]\n"
     ]
    },
    {
     "name": "stdout",
     "output_type": "stream",
     "text": [
      "Epoch [84/500], Train Loss: 0.3648\n",
      "Epoch [84/500], Valid Loss: 0.3755\n"
     ]
    },
    {
     "name": "stderr",
     "output_type": "stream",
     "text": [
      "Epoch 85/500: 100%|██████████| 1608/1608 [00:03<00:00, 516.36it/s]\n"
     ]
    },
    {
     "name": "stdout",
     "output_type": "stream",
     "text": [
      "Epoch [85/500], Train Loss: 0.3661\n",
      "Epoch [85/500], Valid Loss: 0.3755\n"
     ]
    },
    {
     "name": "stderr",
     "output_type": "stream",
     "text": [
      "Epoch 86/500: 100%|██████████| 1608/1608 [00:03<00:00, 518.19it/s]\n"
     ]
    },
    {
     "name": "stdout",
     "output_type": "stream",
     "text": [
      "Epoch [86/500], Train Loss: 0.3654\n",
      "Epoch [86/500], Valid Loss: 0.3755\n"
     ]
    },
    {
     "name": "stderr",
     "output_type": "stream",
     "text": [
      "Epoch 87/500: 100%|██████████| 1608/1608 [00:03<00:00, 516.88it/s]\n"
     ]
    },
    {
     "name": "stdout",
     "output_type": "stream",
     "text": [
      "Epoch [87/500], Train Loss: 0.3643\n",
      "Epoch [87/500], Valid Loss: 0.3755\n"
     ]
    },
    {
     "name": "stderr",
     "output_type": "stream",
     "text": [
      "Epoch 88/500: 100%|██████████| 1608/1608 [00:03<00:00, 521.74it/s]\n"
     ]
    },
    {
     "name": "stdout",
     "output_type": "stream",
     "text": [
      "Epoch [88/500], Train Loss: 0.3659\n",
      "Epoch [88/500], Valid Loss: 0.3755\n"
     ]
    },
    {
     "name": "stderr",
     "output_type": "stream",
     "text": [
      "Epoch 89/500: 100%|██████████| 1608/1608 [00:03<00:00, 517.71it/s]\n"
     ]
    },
    {
     "name": "stdout",
     "output_type": "stream",
     "text": [
      "Epoch [89/500], Train Loss: 0.3664\n",
      "Epoch [89/500], Valid Loss: 0.3755\n"
     ]
    },
    {
     "name": "stderr",
     "output_type": "stream",
     "text": [
      "Epoch 90/500: 100%|██████████| 1608/1608 [00:03<00:00, 522.76it/s]\n"
     ]
    },
    {
     "name": "stdout",
     "output_type": "stream",
     "text": [
      "Epoch [90/500], Train Loss: 0.3672\n",
      "Epoch [90/500], Valid Loss: 0.3755\n"
     ]
    },
    {
     "name": "stderr",
     "output_type": "stream",
     "text": [
      "Epoch 91/500: 100%|██████████| 1608/1608 [00:03<00:00, 526.35it/s]\n"
     ]
    },
    {
     "name": "stdout",
     "output_type": "stream",
     "text": [
      "Epoch [91/500], Train Loss: 0.3662\n",
      "Epoch [91/500], Valid Loss: 0.3755\n"
     ]
    },
    {
     "name": "stderr",
     "output_type": "stream",
     "text": [
      "Epoch 92/500: 100%|██████████| 1608/1608 [00:03<00:00, 524.60it/s]\n"
     ]
    },
    {
     "name": "stdout",
     "output_type": "stream",
     "text": [
      "Epoch [92/500], Train Loss: 0.3658\n",
      "Epoch [92/500], Valid Loss: 0.3755\n"
     ]
    },
    {
     "name": "stderr",
     "output_type": "stream",
     "text": [
      "Epoch 93/500: 100%|██████████| 1608/1608 [00:03<00:00, 524.46it/s]\n"
     ]
    },
    {
     "name": "stdout",
     "output_type": "stream",
     "text": [
      "Epoch [93/500], Train Loss: 0.3667\n",
      "Epoch [93/500], Valid Loss: 0.3755\n"
     ]
    },
    {
     "name": "stderr",
     "output_type": "stream",
     "text": [
      "Epoch 94/500: 100%|██████████| 1608/1608 [00:03<00:00, 523.26it/s]\n"
     ]
    },
    {
     "name": "stdout",
     "output_type": "stream",
     "text": [
      "Epoch [94/500], Train Loss: 0.3670\n",
      "Epoch [94/500], Valid Loss: 0.3755\n"
     ]
    },
    {
     "name": "stderr",
     "output_type": "stream",
     "text": [
      "Epoch 95/500: 100%|██████████| 1608/1608 [00:03<00:00, 521.91it/s]\n"
     ]
    },
    {
     "name": "stdout",
     "output_type": "stream",
     "text": [
      "Epoch [95/500], Train Loss: 0.3656\n",
      "Epoch [95/500], Valid Loss: 0.3755\n"
     ]
    },
    {
     "name": "stderr",
     "output_type": "stream",
     "text": [
      "Epoch 96/500: 100%|██████████| 1608/1608 [00:03<00:00, 505.89it/s]\n"
     ]
    },
    {
     "name": "stdout",
     "output_type": "stream",
     "text": [
      "Epoch [96/500], Train Loss: 0.3647\n",
      "Epoch [96/500], Valid Loss: 0.3755\n"
     ]
    },
    {
     "name": "stderr",
     "output_type": "stream",
     "text": [
      "Epoch 97/500: 100%|██████████| 1608/1608 [00:03<00:00, 505.98it/s]\n"
     ]
    },
    {
     "name": "stdout",
     "output_type": "stream",
     "text": [
      "Epoch [97/500], Train Loss: 0.3647\n",
      "Epoch [97/500], Valid Loss: 0.3755\n"
     ]
    },
    {
     "name": "stderr",
     "output_type": "stream",
     "text": [
      "Epoch 98/500: 100%|██████████| 1608/1608 [00:03<00:00, 502.62it/s]\n"
     ]
    },
    {
     "name": "stdout",
     "output_type": "stream",
     "text": [
      "Epoch [98/500], Train Loss: 0.3668\n",
      "Epoch [98/500], Valid Loss: 0.3755\n"
     ]
    },
    {
     "name": "stderr",
     "output_type": "stream",
     "text": [
      "Epoch 99/500: 100%|██████████| 1608/1608 [00:03<00:00, 503.97it/s]\n"
     ]
    },
    {
     "name": "stdout",
     "output_type": "stream",
     "text": [
      "Epoch [99/500], Train Loss: 0.3666\n",
      "Epoch [99/500], Valid Loss: 0.3755\n"
     ]
    },
    {
     "name": "stderr",
     "output_type": "stream",
     "text": [
      "Epoch 100/500: 100%|██████████| 1608/1608 [00:03<00:00, 513.16it/s]\n"
     ]
    },
    {
     "name": "stdout",
     "output_type": "stream",
     "text": [
      "Epoch [100/500], Train Loss: 0.3675\n",
      "Epoch [100/500], Valid Loss: 0.3755\n"
     ]
    },
    {
     "name": "stderr",
     "output_type": "stream",
     "text": [
      "Epoch 101/500: 100%|██████████| 1608/1608 [00:03<00:00, 520.00it/s]\n"
     ]
    },
    {
     "name": "stdout",
     "output_type": "stream",
     "text": [
      "Epoch [101/500], Train Loss: 0.3659\n",
      "Epoch [101/500], Valid Loss: 0.3755\n"
     ]
    },
    {
     "name": "stderr",
     "output_type": "stream",
     "text": [
      "Epoch 102/500: 100%|██████████| 1608/1608 [00:03<00:00, 513.45it/s]\n"
     ]
    },
    {
     "name": "stdout",
     "output_type": "stream",
     "text": [
      "Epoch [102/500], Train Loss: 0.3664\n",
      "Epoch [102/500], Valid Loss: 0.3755\n"
     ]
    },
    {
     "name": "stderr",
     "output_type": "stream",
     "text": [
      "Epoch 103/500: 100%|██████████| 1608/1608 [00:03<00:00, 516.14it/s]\n"
     ]
    },
    {
     "name": "stdout",
     "output_type": "stream",
     "text": [
      "Epoch [103/500], Train Loss: 0.3658\n",
      "Epoch [103/500], Valid Loss: 0.3755\n"
     ]
    },
    {
     "name": "stderr",
     "output_type": "stream",
     "text": [
      "Epoch 104/500: 100%|██████████| 1608/1608 [00:03<00:00, 517.13it/s]\n"
     ]
    },
    {
     "name": "stdout",
     "output_type": "stream",
     "text": [
      "Epoch [104/500], Train Loss: 0.3650\n",
      "Epoch [104/500], Valid Loss: 0.3755\n"
     ]
    },
    {
     "name": "stderr",
     "output_type": "stream",
     "text": [
      "Epoch 105/500: 100%|██████████| 1608/1608 [00:03<00:00, 513.13it/s]\n"
     ]
    },
    {
     "name": "stdout",
     "output_type": "stream",
     "text": [
      "Epoch [105/500], Train Loss: 0.3661\n",
      "Epoch [105/500], Valid Loss: 0.3755\n"
     ]
    },
    {
     "name": "stderr",
     "output_type": "stream",
     "text": [
      "Epoch 106/500: 100%|██████████| 1608/1608 [00:03<00:00, 511.84it/s]\n"
     ]
    },
    {
     "name": "stdout",
     "output_type": "stream",
     "text": [
      "Epoch [106/500], Train Loss: 0.3662\n",
      "Epoch [106/500], Valid Loss: 0.3755\n"
     ]
    },
    {
     "name": "stderr",
     "output_type": "stream",
     "text": [
      "Epoch 107/500: 100%|██████████| 1608/1608 [00:03<00:00, 501.74it/s]\n"
     ]
    },
    {
     "name": "stdout",
     "output_type": "stream",
     "text": [
      "Epoch [107/500], Train Loss: 0.3652\n",
      "Epoch [107/500], Valid Loss: 0.3755\n"
     ]
    },
    {
     "name": "stderr",
     "output_type": "stream",
     "text": [
      "Epoch 108/500: 100%|██████████| 1608/1608 [00:03<00:00, 513.15it/s]\n"
     ]
    },
    {
     "name": "stdout",
     "output_type": "stream",
     "text": [
      "Epoch [108/500], Train Loss: 0.3663\n",
      "Epoch [108/500], Valid Loss: 0.3755\n"
     ]
    },
    {
     "name": "stderr",
     "output_type": "stream",
     "text": [
      "Epoch 109/500: 100%|██████████| 1608/1608 [00:03<00:00, 514.85it/s]\n"
     ]
    },
    {
     "name": "stdout",
     "output_type": "stream",
     "text": [
      "Epoch [109/500], Train Loss: 0.3665\n",
      "Epoch [109/500], Valid Loss: 0.3755\n"
     ]
    },
    {
     "name": "stderr",
     "output_type": "stream",
     "text": [
      "Epoch 110/500: 100%|██████████| 1608/1608 [00:03<00:00, 512.59it/s]\n"
     ]
    },
    {
     "name": "stdout",
     "output_type": "stream",
     "text": [
      "Epoch [110/500], Train Loss: 0.3668\n",
      "Epoch [110/500], Valid Loss: 0.3755\n"
     ]
    },
    {
     "name": "stderr",
     "output_type": "stream",
     "text": [
      "Epoch 111/500: 100%|██████████| 1608/1608 [00:03<00:00, 515.03it/s]\n"
     ]
    },
    {
     "name": "stdout",
     "output_type": "stream",
     "text": [
      "Epoch [111/500], Train Loss: 0.3652\n",
      "Epoch [111/500], Valid Loss: 0.3755\n"
     ]
    },
    {
     "name": "stderr",
     "output_type": "stream",
     "text": [
      "Epoch 112/500: 100%|██████████| 1608/1608 [00:03<00:00, 511.81it/s]\n"
     ]
    },
    {
     "name": "stdout",
     "output_type": "stream",
     "text": [
      "Epoch [112/500], Train Loss: 0.3666\n",
      "Epoch [112/500], Valid Loss: 0.3755\n",
      "Early stopping\n",
      "normx_best_fall_detection_gru_0001_simplified.pt 학습 시작\n",
      "\n",
      "==================== Training Configuration: GRU with input_config='simplified' and lr='0.0001' ====================\n",
      "\n",
      "현재 입력 크기 (마지막 차원): 3\n",
      "예상 입력 크기: 3\n"
     ]
    },
    {
     "name": "stderr",
     "output_type": "stream",
     "text": [
      "Epoch 1/500: 100%|██████████| 1608/1608 [00:02<00:00, 549.67it/s]\n"
     ]
    },
    {
     "name": "stdout",
     "output_type": "stream",
     "text": [
      "Epoch [1/500], Train Loss: 0.8185\n",
      "Epoch [1/500], Valid Loss: 0.7636\n"
     ]
    },
    {
     "name": "stderr",
     "output_type": "stream",
     "text": [
      "Epoch 2/500: 100%|██████████| 1608/1608 [00:02<00:00, 544.25it/s]\n"
     ]
    },
    {
     "name": "stdout",
     "output_type": "stream",
     "text": [
      "Epoch [2/500], Train Loss: 0.7786\n",
      "Epoch [2/500], Valid Loss: 0.7523\n"
     ]
    },
    {
     "name": "stderr",
     "output_type": "stream",
     "text": [
      "Epoch 3/500: 100%|██████████| 1608/1608 [00:02<00:00, 543.60it/s]\n"
     ]
    },
    {
     "name": "stdout",
     "output_type": "stream",
     "text": [
      "Epoch [3/500], Train Loss: 0.7433\n",
      "Epoch [3/500], Valid Loss: 0.6314\n"
     ]
    },
    {
     "name": "stderr",
     "output_type": "stream",
     "text": [
      "Epoch 4/500: 100%|██████████| 1608/1608 [00:02<00:00, 545.26it/s]\n"
     ]
    },
    {
     "name": "stdout",
     "output_type": "stream",
     "text": [
      "Epoch [4/500], Train Loss: 0.5706\n",
      "Epoch [4/500], Valid Loss: 0.5556\n"
     ]
    },
    {
     "name": "stderr",
     "output_type": "stream",
     "text": [
      "Epoch 5/500: 100%|██████████| 1608/1608 [00:02<00:00, 552.38it/s]\n"
     ]
    },
    {
     "name": "stdout",
     "output_type": "stream",
     "text": [
      "Epoch [5/500], Train Loss: 0.5418\n",
      "Epoch [5/500], Valid Loss: 0.4995\n"
     ]
    },
    {
     "name": "stderr",
     "output_type": "stream",
     "text": [
      "Epoch 6/500: 100%|██████████| 1608/1608 [00:02<00:00, 547.12it/s]\n"
     ]
    },
    {
     "name": "stdout",
     "output_type": "stream",
     "text": [
      "Epoch [6/500], Train Loss: 0.5321\n",
      "Epoch [6/500], Valid Loss: 0.5074\n"
     ]
    },
    {
     "name": "stderr",
     "output_type": "stream",
     "text": [
      "Epoch 7/500: 100%|██████████| 1608/1608 [00:02<00:00, 553.04it/s]\n"
     ]
    },
    {
     "name": "stdout",
     "output_type": "stream",
     "text": [
      "Epoch [7/500], Train Loss: 0.5282\n",
      "Epoch [7/500], Valid Loss: 0.4917\n"
     ]
    },
    {
     "name": "stderr",
     "output_type": "stream",
     "text": [
      "Epoch 8/500: 100%|██████████| 1608/1608 [00:02<00:00, 551.68it/s]\n"
     ]
    },
    {
     "name": "stdout",
     "output_type": "stream",
     "text": [
      "Epoch [8/500], Train Loss: 0.5260\n",
      "Epoch [8/500], Valid Loss: 0.4914\n"
     ]
    },
    {
     "name": "stderr",
     "output_type": "stream",
     "text": [
      "Epoch 9/500: 100%|██████████| 1608/1608 [00:02<00:00, 549.74it/s]\n"
     ]
    },
    {
     "name": "stdout",
     "output_type": "stream",
     "text": [
      "Epoch [9/500], Train Loss: 0.5238\n",
      "Epoch [9/500], Valid Loss: 0.4859\n"
     ]
    },
    {
     "name": "stderr",
     "output_type": "stream",
     "text": [
      "Epoch 10/500: 100%|██████████| 1608/1608 [00:02<00:00, 549.92it/s]\n"
     ]
    },
    {
     "name": "stdout",
     "output_type": "stream",
     "text": [
      "Epoch [10/500], Train Loss: 0.5204\n",
      "Epoch [10/500], Valid Loss: 0.4795\n"
     ]
    },
    {
     "name": "stderr",
     "output_type": "stream",
     "text": [
      "Epoch 11/500: 100%|██████████| 1608/1608 [00:02<00:00, 550.21it/s]\n"
     ]
    },
    {
     "name": "stdout",
     "output_type": "stream",
     "text": [
      "Epoch [11/500], Train Loss: 0.5199\n",
      "Epoch [11/500], Valid Loss: 0.4849\n"
     ]
    },
    {
     "name": "stderr",
     "output_type": "stream",
     "text": [
      "Epoch 12/500: 100%|██████████| 1608/1608 [00:02<00:00, 550.62it/s]\n"
     ]
    },
    {
     "name": "stdout",
     "output_type": "stream",
     "text": [
      "Epoch [12/500], Train Loss: 0.5187\n",
      "Epoch [12/500], Valid Loss: 0.4777\n"
     ]
    },
    {
     "name": "stderr",
     "output_type": "stream",
     "text": [
      "Epoch 13/500: 100%|██████████| 1608/1608 [00:02<00:00, 552.69it/s]\n"
     ]
    },
    {
     "name": "stdout",
     "output_type": "stream",
     "text": [
      "Epoch [13/500], Train Loss: 0.5178\n",
      "Epoch [13/500], Valid Loss: 0.4766\n"
     ]
    },
    {
     "name": "stderr",
     "output_type": "stream",
     "text": [
      "Epoch 14/500: 100%|██████████| 1608/1608 [00:02<00:00, 551.08it/s]\n"
     ]
    },
    {
     "name": "stdout",
     "output_type": "stream",
     "text": [
      "Epoch [14/500], Train Loss: 0.5173\n",
      "Epoch [14/500], Valid Loss: 0.4789\n"
     ]
    },
    {
     "name": "stderr",
     "output_type": "stream",
     "text": [
      "Epoch 15/500: 100%|██████████| 1608/1608 [00:02<00:00, 549.94it/s]\n"
     ]
    },
    {
     "name": "stdout",
     "output_type": "stream",
     "text": [
      "Epoch [15/500], Train Loss: 0.5184\n",
      "Epoch [15/500], Valid Loss: 0.4790\n"
     ]
    },
    {
     "name": "stderr",
     "output_type": "stream",
     "text": [
      "Epoch 16/500: 100%|██████████| 1608/1608 [00:02<00:00, 555.15it/s]\n"
     ]
    },
    {
     "name": "stdout",
     "output_type": "stream",
     "text": [
      "Epoch [16/500], Train Loss: 0.5164\n",
      "Epoch [16/500], Valid Loss: 0.4745\n"
     ]
    },
    {
     "name": "stderr",
     "output_type": "stream",
     "text": [
      "Epoch 17/500: 100%|██████████| 1608/1608 [00:02<00:00, 552.92it/s]\n"
     ]
    },
    {
     "name": "stdout",
     "output_type": "stream",
     "text": [
      "Epoch [17/500], Train Loss: 0.5128\n",
      "Epoch [17/500], Valid Loss: 0.4758\n"
     ]
    },
    {
     "name": "stderr",
     "output_type": "stream",
     "text": [
      "Epoch 18/500: 100%|██████████| 1608/1608 [00:02<00:00, 549.98it/s]\n"
     ]
    },
    {
     "name": "stdout",
     "output_type": "stream",
     "text": [
      "Epoch [18/500], Train Loss: 0.5149\n",
      "Epoch [18/500], Valid Loss: 0.4851\n"
     ]
    },
    {
     "name": "stderr",
     "output_type": "stream",
     "text": [
      "Epoch 19/500: 100%|██████████| 1608/1608 [00:02<00:00, 553.45it/s]\n"
     ]
    },
    {
     "name": "stdout",
     "output_type": "stream",
     "text": [
      "Epoch [19/500], Train Loss: 0.5139\n",
      "Epoch [19/500], Valid Loss: 0.4953\n"
     ]
    },
    {
     "name": "stderr",
     "output_type": "stream",
     "text": [
      "Epoch 20/500: 100%|██████████| 1608/1608 [00:02<00:00, 557.31it/s]\n"
     ]
    },
    {
     "name": "stdout",
     "output_type": "stream",
     "text": [
      "Epoch [20/500], Train Loss: 0.5147\n",
      "Epoch [20/500], Valid Loss: 0.5162\n"
     ]
    },
    {
     "name": "stderr",
     "output_type": "stream",
     "text": [
      "Epoch 21/500: 100%|██████████| 1608/1608 [00:02<00:00, 556.40it/s]\n"
     ]
    },
    {
     "name": "stdout",
     "output_type": "stream",
     "text": [
      "Epoch [21/500], Train Loss: 0.5157\n",
      "Epoch [21/500], Valid Loss: 0.4844\n"
     ]
    },
    {
     "name": "stderr",
     "output_type": "stream",
     "text": [
      "Epoch 22/500: 100%|██████████| 1608/1608 [00:02<00:00, 550.72it/s]\n"
     ]
    },
    {
     "name": "stdout",
     "output_type": "stream",
     "text": [
      "Epoch [22/500], Train Loss: 0.5142\n",
      "Epoch [22/500], Valid Loss: 0.4784\n"
     ]
    },
    {
     "name": "stderr",
     "output_type": "stream",
     "text": [
      "Epoch 23/500: 100%|██████████| 1608/1608 [00:02<00:00, 561.27it/s]\n"
     ]
    },
    {
     "name": "stdout",
     "output_type": "stream",
     "text": [
      "Epoch [23/500], Train Loss: 0.5069\n",
      "Epoch [23/500], Valid Loss: 0.4727\n"
     ]
    },
    {
     "name": "stderr",
     "output_type": "stream",
     "text": [
      "Epoch 24/500: 100%|██████████| 1608/1608 [00:02<00:00, 557.01it/s]\n"
     ]
    },
    {
     "name": "stdout",
     "output_type": "stream",
     "text": [
      "Epoch [24/500], Train Loss: 0.5069\n",
      "Epoch [24/500], Valid Loss: 0.4738\n"
     ]
    },
    {
     "name": "stderr",
     "output_type": "stream",
     "text": [
      "Epoch 25/500: 100%|██████████| 1608/1608 [00:02<00:00, 551.66it/s]\n"
     ]
    },
    {
     "name": "stdout",
     "output_type": "stream",
     "text": [
      "Epoch [25/500], Train Loss: 0.5062\n",
      "Epoch [25/500], Valid Loss: 0.4741\n"
     ]
    },
    {
     "name": "stderr",
     "output_type": "stream",
     "text": [
      "Epoch 26/500: 100%|██████████| 1608/1608 [00:02<00:00, 555.63it/s]\n"
     ]
    },
    {
     "name": "stdout",
     "output_type": "stream",
     "text": [
      "Epoch [26/500], Train Loss: 0.5066\n",
      "Epoch [26/500], Valid Loss: 0.4737\n"
     ]
    },
    {
     "name": "stderr",
     "output_type": "stream",
     "text": [
      "Epoch 27/500: 100%|██████████| 1608/1608 [00:02<00:00, 550.60it/s]\n"
     ]
    },
    {
     "name": "stdout",
     "output_type": "stream",
     "text": [
      "Epoch [27/500], Train Loss: 0.5064\n",
      "Epoch [27/500], Valid Loss: 0.4736\n"
     ]
    },
    {
     "name": "stderr",
     "output_type": "stream",
     "text": [
      "Epoch 28/500: 100%|██████████| 1608/1608 [00:02<00:00, 552.68it/s]\n"
     ]
    },
    {
     "name": "stdout",
     "output_type": "stream",
     "text": [
      "Epoch [28/500], Train Loss: 0.5070\n",
      "Epoch [28/500], Valid Loss: 0.4736\n"
     ]
    },
    {
     "name": "stderr",
     "output_type": "stream",
     "text": [
      "Epoch 29/500: 100%|██████████| 1608/1608 [00:02<00:00, 555.47it/s]\n"
     ]
    },
    {
     "name": "stdout",
     "output_type": "stream",
     "text": [
      "Epoch [29/500], Train Loss: 0.5055\n",
      "Epoch [29/500], Valid Loss: 0.4748\n"
     ]
    },
    {
     "name": "stderr",
     "output_type": "stream",
     "text": [
      "Epoch 30/500: 100%|██████████| 1608/1608 [00:02<00:00, 563.22it/s]\n"
     ]
    },
    {
     "name": "stdout",
     "output_type": "stream",
     "text": [
      "Epoch [30/500], Train Loss: 0.5060\n",
      "Epoch [30/500], Valid Loss: 0.4738\n"
     ]
    },
    {
     "name": "stderr",
     "output_type": "stream",
     "text": [
      "Epoch 31/500: 100%|██████████| 1608/1608 [00:02<00:00, 559.85it/s]\n"
     ]
    },
    {
     "name": "stdout",
     "output_type": "stream",
     "text": [
      "Epoch [31/500], Train Loss: 0.5069\n",
      "Epoch [31/500], Valid Loss: 0.4745\n"
     ]
    },
    {
     "name": "stderr",
     "output_type": "stream",
     "text": [
      "Epoch 32/500: 100%|██████████| 1608/1608 [00:02<00:00, 555.35it/s]\n"
     ]
    },
    {
     "name": "stdout",
     "output_type": "stream",
     "text": [
      "Epoch [32/500], Train Loss: 0.5054\n",
      "Epoch [32/500], Valid Loss: 0.4742\n"
     ]
    },
    {
     "name": "stderr",
     "output_type": "stream",
     "text": [
      "Epoch 33/500: 100%|██████████| 1608/1608 [00:02<00:00, 564.44it/s]\n"
     ]
    },
    {
     "name": "stdout",
     "output_type": "stream",
     "text": [
      "Epoch [33/500], Train Loss: 0.5061\n",
      "Epoch [33/500], Valid Loss: 0.4733\n"
     ]
    },
    {
     "name": "stderr",
     "output_type": "stream",
     "text": [
      "Epoch 34/500: 100%|██████████| 1608/1608 [00:02<00:00, 559.39it/s]\n"
     ]
    },
    {
     "name": "stdout",
     "output_type": "stream",
     "text": [
      "Epoch [34/500], Train Loss: 0.5058\n",
      "Epoch [34/500], Valid Loss: 0.4753\n"
     ]
    },
    {
     "name": "stderr",
     "output_type": "stream",
     "text": [
      "Epoch 35/500: 100%|██████████| 1608/1608 [00:02<00:00, 557.86it/s]\n"
     ]
    },
    {
     "name": "stdout",
     "output_type": "stream",
     "text": [
      "Epoch [35/500], Train Loss: 0.5069\n",
      "Epoch [35/500], Valid Loss: 0.4737\n"
     ]
    },
    {
     "name": "stderr",
     "output_type": "stream",
     "text": [
      "Epoch 36/500: 100%|██████████| 1608/1608 [00:02<00:00, 563.58it/s]\n"
     ]
    },
    {
     "name": "stdout",
     "output_type": "stream",
     "text": [
      "Epoch [36/500], Train Loss: 0.5055\n",
      "Epoch [36/500], Valid Loss: 0.4737\n"
     ]
    },
    {
     "name": "stderr",
     "output_type": "stream",
     "text": [
      "Epoch 37/500: 100%|██████████| 1608/1608 [00:02<00:00, 558.97it/s]\n"
     ]
    },
    {
     "name": "stdout",
     "output_type": "stream",
     "text": [
      "Epoch [37/500], Train Loss: 0.5068\n",
      "Epoch [37/500], Valid Loss: 0.4739\n"
     ]
    },
    {
     "name": "stderr",
     "output_type": "stream",
     "text": [
      "Epoch 38/500: 100%|██████████| 1608/1608 [00:02<00:00, 561.01it/s]\n"
     ]
    },
    {
     "name": "stdout",
     "output_type": "stream",
     "text": [
      "Epoch [38/500], Train Loss: 0.5069\n",
      "Epoch [38/500], Valid Loss: 0.4739\n"
     ]
    },
    {
     "name": "stderr",
     "output_type": "stream",
     "text": [
      "Epoch 39/500: 100%|██████████| 1608/1608 [00:02<00:00, 560.37it/s]\n"
     ]
    },
    {
     "name": "stdout",
     "output_type": "stream",
     "text": [
      "Epoch [39/500], Train Loss: 0.5066\n",
      "Epoch [39/500], Valid Loss: 0.4739\n"
     ]
    },
    {
     "name": "stderr",
     "output_type": "stream",
     "text": [
      "Epoch 40/500: 100%|██████████| 1608/1608 [00:02<00:00, 555.96it/s]\n"
     ]
    },
    {
     "name": "stdout",
     "output_type": "stream",
     "text": [
      "Epoch [40/500], Train Loss: 0.5060\n",
      "Epoch [40/500], Valid Loss: 0.4739\n"
     ]
    },
    {
     "name": "stderr",
     "output_type": "stream",
     "text": [
      "Epoch 41/500: 100%|██████████| 1608/1608 [00:02<00:00, 552.47it/s]\n"
     ]
    },
    {
     "name": "stdout",
     "output_type": "stream",
     "text": [
      "Epoch [41/500], Train Loss: 0.5065\n",
      "Epoch [41/500], Valid Loss: 0.4740\n"
     ]
    },
    {
     "name": "stderr",
     "output_type": "stream",
     "text": [
      "Epoch 42/500: 100%|██████████| 1608/1608 [00:02<00:00, 559.10it/s]\n"
     ]
    },
    {
     "name": "stdout",
     "output_type": "stream",
     "text": [
      "Epoch [42/500], Train Loss: 0.5058\n",
      "Epoch [42/500], Valid Loss: 0.4740\n"
     ]
    },
    {
     "name": "stderr",
     "output_type": "stream",
     "text": [
      "Epoch 43/500: 100%|██████████| 1608/1608 [00:02<00:00, 558.92it/s]\n"
     ]
    },
    {
     "name": "stdout",
     "output_type": "stream",
     "text": [
      "Epoch [43/500], Train Loss: 0.5064\n",
      "Epoch [43/500], Valid Loss: 0.4740\n"
     ]
    },
    {
     "name": "stderr",
     "output_type": "stream",
     "text": [
      "Epoch 44/500: 100%|██████████| 1608/1608 [00:02<00:00, 558.36it/s]\n"
     ]
    },
    {
     "name": "stdout",
     "output_type": "stream",
     "text": [
      "Epoch [44/500], Train Loss: 0.5062\n",
      "Epoch [44/500], Valid Loss: 0.4740\n"
     ]
    },
    {
     "name": "stderr",
     "output_type": "stream",
     "text": [
      "Epoch 45/500: 100%|██████████| 1608/1608 [00:02<00:00, 557.90it/s]\n"
     ]
    },
    {
     "name": "stdout",
     "output_type": "stream",
     "text": [
      "Epoch [45/500], Train Loss: 0.5058\n",
      "Epoch [45/500], Valid Loss: 0.4740\n"
     ]
    },
    {
     "name": "stderr",
     "output_type": "stream",
     "text": [
      "Epoch 46/500: 100%|██████████| 1608/1608 [00:02<00:00, 557.89it/s]\n"
     ]
    },
    {
     "name": "stdout",
     "output_type": "stream",
     "text": [
      "Epoch [46/500], Train Loss: 0.5059\n",
      "Epoch [46/500], Valid Loss: 0.4740\n"
     ]
    },
    {
     "name": "stderr",
     "output_type": "stream",
     "text": [
      "Epoch 47/500: 100%|██████████| 1608/1608 [00:02<00:00, 556.55it/s]\n"
     ]
    },
    {
     "name": "stdout",
     "output_type": "stream",
     "text": [
      "Epoch [47/500], Train Loss: 0.5054\n",
      "Epoch [47/500], Valid Loss: 0.4740\n"
     ]
    },
    {
     "name": "stderr",
     "output_type": "stream",
     "text": [
      "Epoch 48/500: 100%|██████████| 1608/1608 [00:02<00:00, 559.07it/s]\n"
     ]
    },
    {
     "name": "stdout",
     "output_type": "stream",
     "text": [
      "Epoch [48/500], Train Loss: 0.5050\n",
      "Epoch [48/500], Valid Loss: 0.4740\n"
     ]
    },
    {
     "name": "stderr",
     "output_type": "stream",
     "text": [
      "Epoch 49/500: 100%|██████████| 1608/1608 [00:02<00:00, 556.20it/s]\n"
     ]
    },
    {
     "name": "stdout",
     "output_type": "stream",
     "text": [
      "Epoch [49/500], Train Loss: 0.5044\n",
      "Epoch [49/500], Valid Loss: 0.4740\n"
     ]
    },
    {
     "name": "stderr",
     "output_type": "stream",
     "text": [
      "Epoch 50/500: 100%|██████████| 1608/1608 [00:02<00:00, 558.36it/s]\n"
     ]
    },
    {
     "name": "stdout",
     "output_type": "stream",
     "text": [
      "Epoch [50/500], Train Loss: 0.5065\n",
      "Epoch [50/500], Valid Loss: 0.4740\n"
     ]
    },
    {
     "name": "stderr",
     "output_type": "stream",
     "text": [
      "Epoch 51/500: 100%|██████████| 1608/1608 [00:02<00:00, 555.02it/s]\n"
     ]
    },
    {
     "name": "stdout",
     "output_type": "stream",
     "text": [
      "Epoch [51/500], Train Loss: 0.5056\n",
      "Epoch [51/500], Valid Loss: 0.4740\n"
     ]
    },
    {
     "name": "stderr",
     "output_type": "stream",
     "text": [
      "Epoch 52/500: 100%|██████████| 1608/1608 [00:02<00:00, 560.19it/s]\n"
     ]
    },
    {
     "name": "stdout",
     "output_type": "stream",
     "text": [
      "Epoch [52/500], Train Loss: 0.5052\n",
      "Epoch [52/500], Valid Loss: 0.4740\n"
     ]
    },
    {
     "name": "stderr",
     "output_type": "stream",
     "text": [
      "Epoch 53/500: 100%|██████████| 1608/1608 [00:02<00:00, 564.08it/s]\n"
     ]
    },
    {
     "name": "stdout",
     "output_type": "stream",
     "text": [
      "Epoch [53/500], Train Loss: 0.5056\n",
      "Epoch [53/500], Valid Loss: 0.4740\n"
     ]
    },
    {
     "name": "stderr",
     "output_type": "stream",
     "text": [
      "Epoch 54/500: 100%|██████████| 1608/1608 [00:02<00:00, 562.29it/s]\n"
     ]
    },
    {
     "name": "stdout",
     "output_type": "stream",
     "text": [
      "Epoch [54/500], Train Loss: 0.5057\n",
      "Epoch [54/500], Valid Loss: 0.4740\n"
     ]
    },
    {
     "name": "stderr",
     "output_type": "stream",
     "text": [
      "Epoch 55/500: 100%|██████████| 1608/1608 [00:02<00:00, 552.69it/s]\n"
     ]
    },
    {
     "name": "stdout",
     "output_type": "stream",
     "text": [
      "Epoch [55/500], Train Loss: 0.5056\n",
      "Epoch [55/500], Valid Loss: 0.4740\n"
     ]
    },
    {
     "name": "stderr",
     "output_type": "stream",
     "text": [
      "Epoch 56/500: 100%|██████████| 1608/1608 [00:02<00:00, 560.78it/s]\n"
     ]
    },
    {
     "name": "stdout",
     "output_type": "stream",
     "text": [
      "Epoch [56/500], Train Loss: 0.5064\n",
      "Epoch [56/500], Valid Loss: 0.4740\n"
     ]
    },
    {
     "name": "stderr",
     "output_type": "stream",
     "text": [
      "Epoch 57/500: 100%|██████████| 1608/1608 [00:02<00:00, 561.10it/s]\n"
     ]
    },
    {
     "name": "stdout",
     "output_type": "stream",
     "text": [
      "Epoch [57/500], Train Loss: 0.5058\n",
      "Epoch [57/500], Valid Loss: 0.4740\n"
     ]
    },
    {
     "name": "stderr",
     "output_type": "stream",
     "text": [
      "Epoch 58/500: 100%|██████████| 1608/1608 [00:02<00:00, 558.11it/s]\n"
     ]
    },
    {
     "name": "stdout",
     "output_type": "stream",
     "text": [
      "Epoch [58/500], Train Loss: 0.5061\n",
      "Epoch [58/500], Valid Loss: 0.4740\n"
     ]
    },
    {
     "name": "stderr",
     "output_type": "stream",
     "text": [
      "Epoch 59/500: 100%|██████████| 1608/1608 [00:02<00:00, 555.63it/s]\n"
     ]
    },
    {
     "name": "stdout",
     "output_type": "stream",
     "text": [
      "Epoch [59/500], Train Loss: 0.5051\n",
      "Epoch [59/500], Valid Loss: 0.4740\n"
     ]
    },
    {
     "name": "stderr",
     "output_type": "stream",
     "text": [
      "Epoch 60/500: 100%|██████████| 1608/1608 [00:02<00:00, 562.33it/s]\n"
     ]
    },
    {
     "name": "stdout",
     "output_type": "stream",
     "text": [
      "Epoch [60/500], Train Loss: 0.5064\n",
      "Epoch [60/500], Valid Loss: 0.4741\n"
     ]
    },
    {
     "name": "stderr",
     "output_type": "stream",
     "text": [
      "Epoch 61/500: 100%|██████████| 1608/1608 [00:02<00:00, 561.55it/s]\n"
     ]
    },
    {
     "name": "stdout",
     "output_type": "stream",
     "text": [
      "Epoch [61/500], Train Loss: 0.5068\n",
      "Epoch [61/500], Valid Loss: 0.4741\n"
     ]
    },
    {
     "name": "stderr",
     "output_type": "stream",
     "text": [
      "Epoch 62/500: 100%|██████████| 1608/1608 [00:02<00:00, 559.86it/s]\n"
     ]
    },
    {
     "name": "stdout",
     "output_type": "stream",
     "text": [
      "Epoch [62/500], Train Loss: 0.5052\n",
      "Epoch [62/500], Valid Loss: 0.4741\n"
     ]
    },
    {
     "name": "stderr",
     "output_type": "stream",
     "text": [
      "Epoch 63/500: 100%|██████████| 1608/1608 [00:02<00:00, 561.89it/s]\n"
     ]
    },
    {
     "name": "stdout",
     "output_type": "stream",
     "text": [
      "Epoch [63/500], Train Loss: 0.5053\n",
      "Epoch [63/500], Valid Loss: 0.4741\n"
     ]
    },
    {
     "name": "stderr",
     "output_type": "stream",
     "text": [
      "Epoch 64/500: 100%|██████████| 1608/1608 [00:02<00:00, 556.27it/s]\n"
     ]
    },
    {
     "name": "stdout",
     "output_type": "stream",
     "text": [
      "Epoch [64/500], Train Loss: 0.5053\n",
      "Epoch [64/500], Valid Loss: 0.4741\n"
     ]
    },
    {
     "name": "stderr",
     "output_type": "stream",
     "text": [
      "Epoch 65/500: 100%|██████████| 1608/1608 [00:02<00:00, 553.23it/s]\n"
     ]
    },
    {
     "name": "stdout",
     "output_type": "stream",
     "text": [
      "Epoch [65/500], Train Loss: 0.5064\n",
      "Epoch [65/500], Valid Loss: 0.4741\n"
     ]
    },
    {
     "name": "stderr",
     "output_type": "stream",
     "text": [
      "Epoch 66/500: 100%|██████████| 1608/1608 [00:02<00:00, 556.21it/s]\n"
     ]
    },
    {
     "name": "stdout",
     "output_type": "stream",
     "text": [
      "Epoch [66/500], Train Loss: 0.5045\n",
      "Epoch [66/500], Valid Loss: 0.4741\n"
     ]
    },
    {
     "name": "stderr",
     "output_type": "stream",
     "text": [
      "Epoch 67/500: 100%|██████████| 1608/1608 [00:02<00:00, 548.25it/s]\n"
     ]
    },
    {
     "name": "stdout",
     "output_type": "stream",
     "text": [
      "Epoch [67/500], Train Loss: 0.5045\n",
      "Epoch [67/500], Valid Loss: 0.4741\n"
     ]
    },
    {
     "name": "stderr",
     "output_type": "stream",
     "text": [
      "Epoch 68/500: 100%|██████████| 1608/1608 [00:02<00:00, 553.25it/s]\n"
     ]
    },
    {
     "name": "stdout",
     "output_type": "stream",
     "text": [
      "Epoch [68/500], Train Loss: 0.5046\n",
      "Epoch [68/500], Valid Loss: 0.4741\n"
     ]
    },
    {
     "name": "stderr",
     "output_type": "stream",
     "text": [
      "Epoch 69/500: 100%|██████████| 1608/1608 [00:02<00:00, 556.88it/s]\n"
     ]
    },
    {
     "name": "stdout",
     "output_type": "stream",
     "text": [
      "Epoch [69/500], Train Loss: 0.5059\n",
      "Epoch [69/500], Valid Loss: 0.4741\n"
     ]
    },
    {
     "name": "stderr",
     "output_type": "stream",
     "text": [
      "Epoch 70/500: 100%|██████████| 1608/1608 [00:02<00:00, 555.63it/s]\n"
     ]
    },
    {
     "name": "stdout",
     "output_type": "stream",
     "text": [
      "Epoch [70/500], Train Loss: 0.5051\n",
      "Epoch [70/500], Valid Loss: 0.4741\n"
     ]
    },
    {
     "name": "stderr",
     "output_type": "stream",
     "text": [
      "Epoch 71/500: 100%|██████████| 1608/1608 [00:02<00:00, 558.44it/s]\n"
     ]
    },
    {
     "name": "stdout",
     "output_type": "stream",
     "text": [
      "Epoch [71/500], Train Loss: 0.5061\n",
      "Epoch [71/500], Valid Loss: 0.4741\n"
     ]
    },
    {
     "name": "stderr",
     "output_type": "stream",
     "text": [
      "Epoch 72/500: 100%|██████████| 1608/1608 [00:02<00:00, 561.66it/s]\n"
     ]
    },
    {
     "name": "stdout",
     "output_type": "stream",
     "text": [
      "Epoch [72/500], Train Loss: 0.5052\n",
      "Epoch [72/500], Valid Loss: 0.4741\n"
     ]
    },
    {
     "name": "stderr",
     "output_type": "stream",
     "text": [
      "Epoch 73/500: 100%|██████████| 1608/1608 [00:02<00:00, 557.94it/s]\n"
     ]
    },
    {
     "name": "stdout",
     "output_type": "stream",
     "text": [
      "Epoch [73/500], Train Loss: 0.5064\n",
      "Epoch [73/500], Valid Loss: 0.4741\n",
      "Early stopping\n",
      "normx_best_fall_detection_gru_0001_mediapipe.pt 학습 시작\n",
      "\n",
      "==================== Training Configuration: GRU with input_config='mediapipe' and lr='0.0001' ====================\n",
      "\n",
      "현재 입력 크기 (마지막 차원): 22\n",
      "예상 입력 크기: 22\n"
     ]
    },
    {
     "name": "stderr",
     "output_type": "stream",
     "text": [
      "Epoch 1/500: 100%|██████████| 1608/1608 [00:03<00:00, 523.32it/s]\n"
     ]
    },
    {
     "name": "stdout",
     "output_type": "stream",
     "text": [
      "Epoch [1/500], Train Loss: 0.8473\n",
      "Epoch [1/500], Valid Loss: 0.7873\n"
     ]
    },
    {
     "name": "stderr",
     "output_type": "stream",
     "text": [
      "Epoch 2/500: 100%|██████████| 1608/1608 [00:03<00:00, 532.80it/s]\n"
     ]
    },
    {
     "name": "stdout",
     "output_type": "stream",
     "text": [
      "Epoch [2/500], Train Loss: 0.7728\n",
      "Epoch [2/500], Valid Loss: 0.7718\n"
     ]
    },
    {
     "name": "stderr",
     "output_type": "stream",
     "text": [
      "Epoch 3/500: 100%|██████████| 1608/1608 [00:03<00:00, 532.98it/s]\n"
     ]
    },
    {
     "name": "stdout",
     "output_type": "stream",
     "text": [
      "Epoch [3/500], Train Loss: 0.7459\n",
      "Epoch [3/500], Valid Loss: 0.7404\n"
     ]
    },
    {
     "name": "stderr",
     "output_type": "stream",
     "text": [
      "Epoch 4/500: 100%|██████████| 1608/1608 [00:03<00:00, 518.71it/s]\n"
     ]
    },
    {
     "name": "stdout",
     "output_type": "stream",
     "text": [
      "Epoch [4/500], Train Loss: 0.7123\n",
      "Epoch [4/500], Valid Loss: 0.6891\n"
     ]
    },
    {
     "name": "stderr",
     "output_type": "stream",
     "text": [
      "Epoch 5/500: 100%|██████████| 1608/1608 [00:03<00:00, 519.12it/s]\n"
     ]
    },
    {
     "name": "stdout",
     "output_type": "stream",
     "text": [
      "Epoch [5/500], Train Loss: 0.6831\n",
      "Epoch [5/500], Valid Loss: 0.6630\n"
     ]
    },
    {
     "name": "stderr",
     "output_type": "stream",
     "text": [
      "Epoch 6/500: 100%|██████████| 1608/1608 [00:03<00:00, 521.23it/s]\n"
     ]
    },
    {
     "name": "stdout",
     "output_type": "stream",
     "text": [
      "Epoch [6/500], Train Loss: 0.6584\n",
      "Epoch [6/500], Valid Loss: 0.6300\n"
     ]
    },
    {
     "name": "stderr",
     "output_type": "stream",
     "text": [
      "Epoch 7/500: 100%|██████████| 1608/1608 [00:03<00:00, 526.09it/s]\n"
     ]
    },
    {
     "name": "stdout",
     "output_type": "stream",
     "text": [
      "Epoch [7/500], Train Loss: 0.6342\n",
      "Epoch [7/500], Valid Loss: 0.6335\n"
     ]
    },
    {
     "name": "stderr",
     "output_type": "stream",
     "text": [
      "Epoch 8/500: 100%|██████████| 1608/1608 [00:03<00:00, 524.46it/s]\n"
     ]
    },
    {
     "name": "stdout",
     "output_type": "stream",
     "text": [
      "Epoch [8/500], Train Loss: 0.6191\n",
      "Epoch [8/500], Valid Loss: 0.5966\n"
     ]
    },
    {
     "name": "stderr",
     "output_type": "stream",
     "text": [
      "Epoch 9/500: 100%|██████████| 1608/1608 [00:03<00:00, 524.46it/s]\n"
     ]
    },
    {
     "name": "stdout",
     "output_type": "stream",
     "text": [
      "Epoch [9/500], Train Loss: 0.6037\n",
      "Epoch [9/500], Valid Loss: 0.5728\n"
     ]
    },
    {
     "name": "stderr",
     "output_type": "stream",
     "text": [
      "Epoch 10/500: 100%|██████████| 1608/1608 [00:03<00:00, 524.89it/s]\n"
     ]
    },
    {
     "name": "stdout",
     "output_type": "stream",
     "text": [
      "Epoch [10/500], Train Loss: 0.5882\n",
      "Epoch [10/500], Valid Loss: 0.5728\n"
     ]
    },
    {
     "name": "stderr",
     "output_type": "stream",
     "text": [
      "Epoch 11/500: 100%|██████████| 1608/1608 [00:03<00:00, 520.30it/s]\n"
     ]
    },
    {
     "name": "stdout",
     "output_type": "stream",
     "text": [
      "Epoch [11/500], Train Loss: 0.5806\n",
      "Epoch [11/500], Valid Loss: 0.5527\n"
     ]
    },
    {
     "name": "stderr",
     "output_type": "stream",
     "text": [
      "Epoch 12/500: 100%|██████████| 1608/1608 [00:03<00:00, 517.87it/s]\n"
     ]
    },
    {
     "name": "stdout",
     "output_type": "stream",
     "text": [
      "Epoch [12/500], Train Loss: 0.5705\n",
      "Epoch [12/500], Valid Loss: 0.5492\n"
     ]
    },
    {
     "name": "stderr",
     "output_type": "stream",
     "text": [
      "Epoch 13/500: 100%|██████████| 1608/1608 [00:03<00:00, 520.22it/s]\n"
     ]
    },
    {
     "name": "stdout",
     "output_type": "stream",
     "text": [
      "Epoch [13/500], Train Loss: 0.5667\n",
      "Epoch [13/500], Valid Loss: 0.5384\n"
     ]
    },
    {
     "name": "stderr",
     "output_type": "stream",
     "text": [
      "Epoch 14/500: 100%|██████████| 1608/1608 [00:03<00:00, 518.12it/s]\n"
     ]
    },
    {
     "name": "stdout",
     "output_type": "stream",
     "text": [
      "Epoch [14/500], Train Loss: 0.5602\n",
      "Epoch [14/500], Valid Loss: 0.5510\n"
     ]
    },
    {
     "name": "stderr",
     "output_type": "stream",
     "text": [
      "Epoch 15/500: 100%|██████████| 1608/1608 [00:03<00:00, 523.94it/s]\n"
     ]
    },
    {
     "name": "stdout",
     "output_type": "stream",
     "text": [
      "Epoch [15/500], Train Loss: 0.5544\n",
      "Epoch [15/500], Valid Loss: 0.5406\n"
     ]
    },
    {
     "name": "stderr",
     "output_type": "stream",
     "text": [
      "Epoch 16/500: 100%|██████████| 1608/1608 [00:03<00:00, 520.75it/s]\n"
     ]
    },
    {
     "name": "stdout",
     "output_type": "stream",
     "text": [
      "Epoch [16/500], Train Loss: 0.5496\n",
      "Epoch [16/500], Valid Loss: 0.5858\n"
     ]
    },
    {
     "name": "stderr",
     "output_type": "stream",
     "text": [
      "Epoch 17/500: 100%|██████████| 1608/1608 [00:03<00:00, 520.38it/s]\n"
     ]
    },
    {
     "name": "stdout",
     "output_type": "stream",
     "text": [
      "Epoch [17/500], Train Loss: 0.5470\n",
      "Epoch [17/500], Valid Loss: 0.5457\n"
     ]
    },
    {
     "name": "stderr",
     "output_type": "stream",
     "text": [
      "Epoch 18/500: 100%|██████████| 1608/1608 [00:03<00:00, 523.09it/s]\n"
     ]
    },
    {
     "name": "stdout",
     "output_type": "stream",
     "text": [
      "Epoch [18/500], Train Loss: 0.5435\n",
      "Epoch [18/500], Valid Loss: 0.5161\n"
     ]
    },
    {
     "name": "stderr",
     "output_type": "stream",
     "text": [
      "Epoch 19/500: 100%|██████████| 1608/1608 [00:03<00:00, 525.61it/s]\n"
     ]
    },
    {
     "name": "stdout",
     "output_type": "stream",
     "text": [
      "Epoch [19/500], Train Loss: 0.5361\n",
      "Epoch [19/500], Valid Loss: 0.5174\n"
     ]
    },
    {
     "name": "stderr",
     "output_type": "stream",
     "text": [
      "Epoch 20/500: 100%|██████████| 1608/1608 [00:03<00:00, 531.22it/s]\n"
     ]
    },
    {
     "name": "stdout",
     "output_type": "stream",
     "text": [
      "Epoch [20/500], Train Loss: 0.5337\n",
      "Epoch [20/500], Valid Loss: 0.5414\n"
     ]
    },
    {
     "name": "stderr",
     "output_type": "stream",
     "text": [
      "Epoch 21/500: 100%|██████████| 1608/1608 [00:03<00:00, 528.76it/s]\n"
     ]
    },
    {
     "name": "stdout",
     "output_type": "stream",
     "text": [
      "Epoch [21/500], Train Loss: 0.5304\n",
      "Epoch [21/500], Valid Loss: 0.5104\n"
     ]
    },
    {
     "name": "stderr",
     "output_type": "stream",
     "text": [
      "Epoch 22/500: 100%|██████████| 1608/1608 [00:03<00:00, 522.92it/s]\n"
     ]
    },
    {
     "name": "stdout",
     "output_type": "stream",
     "text": [
      "Epoch [22/500], Train Loss: 0.5287\n",
      "Epoch [22/500], Valid Loss: 0.5228\n"
     ]
    },
    {
     "name": "stderr",
     "output_type": "stream",
     "text": [
      "Epoch 23/500: 100%|██████████| 1608/1608 [00:03<00:00, 526.69it/s]\n"
     ]
    },
    {
     "name": "stdout",
     "output_type": "stream",
     "text": [
      "Epoch [23/500], Train Loss: 0.5256\n",
      "Epoch [23/500], Valid Loss: 0.5228\n"
     ]
    },
    {
     "name": "stderr",
     "output_type": "stream",
     "text": [
      "Epoch 24/500: 100%|██████████| 1608/1608 [00:03<00:00, 522.59it/s]\n"
     ]
    },
    {
     "name": "stdout",
     "output_type": "stream",
     "text": [
      "Epoch [24/500], Train Loss: 0.5239\n",
      "Epoch [24/500], Valid Loss: 0.5104\n"
     ]
    },
    {
     "name": "stderr",
     "output_type": "stream",
     "text": [
      "Epoch 25/500: 100%|██████████| 1608/1608 [00:03<00:00, 523.61it/s]\n"
     ]
    },
    {
     "name": "stdout",
     "output_type": "stream",
     "text": [
      "Epoch [25/500], Train Loss: 0.5187\n",
      "Epoch [25/500], Valid Loss: 0.5146\n"
     ]
    },
    {
     "name": "stderr",
     "output_type": "stream",
     "text": [
      "Epoch 26/500: 100%|██████████| 1608/1608 [00:03<00:00, 523.69it/s]\n"
     ]
    },
    {
     "name": "stdout",
     "output_type": "stream",
     "text": [
      "Epoch [26/500], Train Loss: 0.5170\n",
      "Epoch [26/500], Valid Loss: 0.4956\n"
     ]
    },
    {
     "name": "stderr",
     "output_type": "stream",
     "text": [
      "Epoch 27/500: 100%|██████████| 1608/1608 [00:03<00:00, 529.94it/s]\n"
     ]
    },
    {
     "name": "stdout",
     "output_type": "stream",
     "text": [
      "Epoch [27/500], Train Loss: 0.5128\n",
      "Epoch [27/500], Valid Loss: 0.5104\n"
     ]
    },
    {
     "name": "stderr",
     "output_type": "stream",
     "text": [
      "Epoch 28/500: 100%|██████████| 1608/1608 [00:03<00:00, 529.95it/s]\n"
     ]
    },
    {
     "name": "stdout",
     "output_type": "stream",
     "text": [
      "Epoch [28/500], Train Loss: 0.5133\n",
      "Epoch [28/500], Valid Loss: 0.4967\n"
     ]
    },
    {
     "name": "stderr",
     "output_type": "stream",
     "text": [
      "Epoch 29/500: 100%|██████████| 1608/1608 [00:03<00:00, 526.68it/s]\n"
     ]
    },
    {
     "name": "stdout",
     "output_type": "stream",
     "text": [
      "Epoch [29/500], Train Loss: 0.5096\n",
      "Epoch [29/500], Valid Loss: 0.5279\n"
     ]
    },
    {
     "name": "stderr",
     "output_type": "stream",
     "text": [
      "Epoch 30/500: 100%|██████████| 1608/1608 [00:03<00:00, 528.51it/s]\n"
     ]
    },
    {
     "name": "stdout",
     "output_type": "stream",
     "text": [
      "Epoch [30/500], Train Loss: 0.5067\n",
      "Epoch [30/500], Valid Loss: 0.5029\n"
     ]
    },
    {
     "name": "stderr",
     "output_type": "stream",
     "text": [
      "Epoch 31/500: 100%|██████████| 1608/1608 [00:03<00:00, 526.26it/s]\n"
     ]
    },
    {
     "name": "stdout",
     "output_type": "stream",
     "text": [
      "Epoch [31/500], Train Loss: 0.5050\n",
      "Epoch [31/500], Valid Loss: 0.5005\n"
     ]
    },
    {
     "name": "stderr",
     "output_type": "stream",
     "text": [
      "Epoch 32/500: 100%|██████████| 1608/1608 [00:03<00:00, 528.38it/s]\n"
     ]
    },
    {
     "name": "stdout",
     "output_type": "stream",
     "text": [
      "Epoch [32/500], Train Loss: 0.5053\n",
      "Epoch [32/500], Valid Loss: 0.4823\n"
     ]
    },
    {
     "name": "stderr",
     "output_type": "stream",
     "text": [
      "Epoch 33/500: 100%|██████████| 1608/1608 [00:03<00:00, 529.30it/s]\n"
     ]
    },
    {
     "name": "stdout",
     "output_type": "stream",
     "text": [
      "Epoch [33/500], Train Loss: 0.5028\n",
      "Epoch [33/500], Valid Loss: 0.4951\n"
     ]
    },
    {
     "name": "stderr",
     "output_type": "stream",
     "text": [
      "Epoch 34/500: 100%|██████████| 1608/1608 [00:03<00:00, 530.35it/s]\n"
     ]
    },
    {
     "name": "stdout",
     "output_type": "stream",
     "text": [
      "Epoch [34/500], Train Loss: 0.4998\n",
      "Epoch [34/500], Valid Loss: 0.5088\n"
     ]
    },
    {
     "name": "stderr",
     "output_type": "stream",
     "text": [
      "Epoch 35/500: 100%|██████████| 1608/1608 [00:03<00:00, 529.17it/s]\n"
     ]
    },
    {
     "name": "stdout",
     "output_type": "stream",
     "text": [
      "Epoch [35/500], Train Loss: 0.4993\n",
      "Epoch [35/500], Valid Loss: 0.4846\n"
     ]
    },
    {
     "name": "stderr",
     "output_type": "stream",
     "text": [
      "Epoch 36/500: 100%|██████████| 1608/1608 [00:03<00:00, 530.87it/s]\n"
     ]
    },
    {
     "name": "stdout",
     "output_type": "stream",
     "text": [
      "Epoch [36/500], Train Loss: 0.4975\n",
      "Epoch [36/500], Valid Loss: 0.4827\n"
     ]
    },
    {
     "name": "stderr",
     "output_type": "stream",
     "text": [
      "Epoch 37/500: 100%|██████████| 1608/1608 [00:03<00:00, 530.17it/s]\n"
     ]
    },
    {
     "name": "stdout",
     "output_type": "stream",
     "text": [
      "Epoch [37/500], Train Loss: 0.4963\n",
      "Epoch [37/500], Valid Loss: 0.4798\n"
     ]
    },
    {
     "name": "stderr",
     "output_type": "stream",
     "text": [
      "Epoch 38/500: 100%|██████████| 1608/1608 [00:03<00:00, 531.04it/s]\n"
     ]
    },
    {
     "name": "stdout",
     "output_type": "stream",
     "text": [
      "Epoch [38/500], Train Loss: 0.4946\n",
      "Epoch [38/500], Valid Loss: 0.4849\n"
     ]
    },
    {
     "name": "stderr",
     "output_type": "stream",
     "text": [
      "Epoch 39/500: 100%|██████████| 1608/1608 [00:03<00:00, 531.57it/s]\n"
     ]
    },
    {
     "name": "stdout",
     "output_type": "stream",
     "text": [
      "Epoch [39/500], Train Loss: 0.4941\n",
      "Epoch [39/500], Valid Loss: 0.4861\n"
     ]
    },
    {
     "name": "stderr",
     "output_type": "stream",
     "text": [
      "Epoch 40/500: 100%|██████████| 1608/1608 [00:03<00:00, 527.05it/s]\n"
     ]
    },
    {
     "name": "stdout",
     "output_type": "stream",
     "text": [
      "Epoch [40/500], Train Loss: 0.4915\n",
      "Epoch [40/500], Valid Loss: 0.4846\n"
     ]
    },
    {
     "name": "stderr",
     "output_type": "stream",
     "text": [
      "Epoch 41/500: 100%|██████████| 1608/1608 [00:03<00:00, 528.77it/s]\n"
     ]
    },
    {
     "name": "stdout",
     "output_type": "stream",
     "text": [
      "Epoch [41/500], Train Loss: 0.4926\n",
      "Epoch [41/500], Valid Loss: 0.4768\n"
     ]
    },
    {
     "name": "stderr",
     "output_type": "stream",
     "text": [
      "Epoch 42/500: 100%|██████████| 1608/1608 [00:03<00:00, 525.57it/s]\n"
     ]
    },
    {
     "name": "stdout",
     "output_type": "stream",
     "text": [
      "Epoch [42/500], Train Loss: 0.4916\n",
      "Epoch [42/500], Valid Loss: 0.5069\n"
     ]
    },
    {
     "name": "stderr",
     "output_type": "stream",
     "text": [
      "Epoch 43/500: 100%|██████████| 1608/1608 [00:03<00:00, 525.14it/s]\n"
     ]
    },
    {
     "name": "stdout",
     "output_type": "stream",
     "text": [
      "Epoch [43/500], Train Loss: 0.4884\n",
      "Epoch [43/500], Valid Loss: 0.4867\n"
     ]
    },
    {
     "name": "stderr",
     "output_type": "stream",
     "text": [
      "Epoch 44/500: 100%|██████████| 1608/1608 [00:03<00:00, 522.76it/s]\n"
     ]
    },
    {
     "name": "stdout",
     "output_type": "stream",
     "text": [
      "Epoch [44/500], Train Loss: 0.4912\n",
      "Epoch [44/500], Valid Loss: 0.4754\n"
     ]
    },
    {
     "name": "stderr",
     "output_type": "stream",
     "text": [
      "Epoch 45/500: 100%|██████████| 1608/1608 [00:03<00:00, 528.16it/s]\n"
     ]
    },
    {
     "name": "stdout",
     "output_type": "stream",
     "text": [
      "Epoch [45/500], Train Loss: 0.4888\n",
      "Epoch [45/500], Valid Loss: 0.4741\n"
     ]
    },
    {
     "name": "stderr",
     "output_type": "stream",
     "text": [
      "Epoch 46/500: 100%|██████████| 1608/1608 [00:03<00:00, 523.78it/s]\n"
     ]
    },
    {
     "name": "stdout",
     "output_type": "stream",
     "text": [
      "Epoch [46/500], Train Loss: 0.4867\n",
      "Epoch [46/500], Valid Loss: 0.4853\n"
     ]
    },
    {
     "name": "stderr",
     "output_type": "stream",
     "text": [
      "Epoch 47/500: 100%|██████████| 1608/1608 [00:03<00:00, 528.13it/s]\n"
     ]
    },
    {
     "name": "stdout",
     "output_type": "stream",
     "text": [
      "Epoch [47/500], Train Loss: 0.4864\n",
      "Epoch [47/500], Valid Loss: 0.4725\n"
     ]
    },
    {
     "name": "stderr",
     "output_type": "stream",
     "text": [
      "Epoch 48/500: 100%|██████████| 1608/1608 [00:03<00:00, 526.93it/s]\n"
     ]
    },
    {
     "name": "stdout",
     "output_type": "stream",
     "text": [
      "Epoch [48/500], Train Loss: 0.4851\n",
      "Epoch [48/500], Valid Loss: 0.4731\n"
     ]
    },
    {
     "name": "stderr",
     "output_type": "stream",
     "text": [
      "Epoch 49/500: 100%|██████████| 1608/1608 [00:03<00:00, 530.68it/s]\n"
     ]
    },
    {
     "name": "stdout",
     "output_type": "stream",
     "text": [
      "Epoch [49/500], Train Loss: 0.4858\n",
      "Epoch [49/500], Valid Loss: 0.4717\n"
     ]
    },
    {
     "name": "stderr",
     "output_type": "stream",
     "text": [
      "Epoch 50/500: 100%|██████████| 1608/1608 [00:03<00:00, 524.46it/s]\n"
     ]
    },
    {
     "name": "stdout",
     "output_type": "stream",
     "text": [
      "Epoch [50/500], Train Loss: 0.4845\n",
      "Epoch [50/500], Valid Loss: 0.5045\n"
     ]
    },
    {
     "name": "stderr",
     "output_type": "stream",
     "text": [
      "Epoch 51/500: 100%|██████████| 1608/1608 [00:03<00:00, 521.90it/s]\n"
     ]
    },
    {
     "name": "stdout",
     "output_type": "stream",
     "text": [
      "Epoch [51/500], Train Loss: 0.4825\n",
      "Epoch [51/500], Valid Loss: 0.4990\n"
     ]
    },
    {
     "name": "stderr",
     "output_type": "stream",
     "text": [
      "Epoch 52/500: 100%|██████████| 1608/1608 [00:03<00:00, 524.46it/s]\n"
     ]
    },
    {
     "name": "stdout",
     "output_type": "stream",
     "text": [
      "Epoch [52/500], Train Loss: 0.4823\n",
      "Epoch [52/500], Valid Loss: 0.4820\n"
     ]
    },
    {
     "name": "stderr",
     "output_type": "stream",
     "text": [
      "Epoch 53/500: 100%|██████████| 1608/1608 [00:03<00:00, 521.90it/s]\n"
     ]
    },
    {
     "name": "stdout",
     "output_type": "stream",
     "text": [
      "Epoch [53/500], Train Loss: 0.4822\n",
      "Epoch [53/500], Valid Loss: 0.4798\n"
     ]
    },
    {
     "name": "stderr",
     "output_type": "stream",
     "text": [
      "Epoch 54/500: 100%|██████████| 1608/1608 [00:03<00:00, 526.00it/s]\n"
     ]
    },
    {
     "name": "stdout",
     "output_type": "stream",
     "text": [
      "Epoch [54/500], Train Loss: 0.4794\n",
      "Epoch [54/500], Valid Loss: 0.4837\n"
     ]
    },
    {
     "name": "stderr",
     "output_type": "stream",
     "text": [
      "Epoch 55/500: 100%|██████████| 1608/1608 [00:03<00:00, 526.69it/s]\n"
     ]
    },
    {
     "name": "stdout",
     "output_type": "stream",
     "text": [
      "Epoch [55/500], Train Loss: 0.4797\n",
      "Epoch [55/500], Valid Loss: 0.4685\n"
     ]
    },
    {
     "name": "stderr",
     "output_type": "stream",
     "text": [
      "Epoch 56/500: 100%|██████████| 1608/1608 [00:03<00:00, 526.17it/s]\n"
     ]
    },
    {
     "name": "stdout",
     "output_type": "stream",
     "text": [
      "Epoch [56/500], Train Loss: 0.4794\n",
      "Epoch [56/500], Valid Loss: 0.4790\n"
     ]
    },
    {
     "name": "stderr",
     "output_type": "stream",
     "text": [
      "Epoch 57/500: 100%|██████████| 1608/1608 [00:03<00:00, 526.00it/s]\n"
     ]
    },
    {
     "name": "stdout",
     "output_type": "stream",
     "text": [
      "Epoch [57/500], Train Loss: 0.4775\n",
      "Epoch [57/500], Valid Loss: 0.4690\n"
     ]
    },
    {
     "name": "stderr",
     "output_type": "stream",
     "text": [
      "Epoch 58/500: 100%|██████████| 1608/1608 [00:03<00:00, 530.71it/s]\n"
     ]
    },
    {
     "name": "stdout",
     "output_type": "stream",
     "text": [
      "Epoch [58/500], Train Loss: 0.4769\n",
      "Epoch [58/500], Valid Loss: 0.4793\n"
     ]
    },
    {
     "name": "stderr",
     "output_type": "stream",
     "text": [
      "Epoch 59/500: 100%|██████████| 1608/1608 [00:03<00:00, 530.46it/s]\n"
     ]
    },
    {
     "name": "stdout",
     "output_type": "stream",
     "text": [
      "Epoch [59/500], Train Loss: 0.4770\n",
      "Epoch [59/500], Valid Loss: 0.4811\n"
     ]
    },
    {
     "name": "stderr",
     "output_type": "stream",
     "text": [
      "Epoch 60/500: 100%|██████████| 1608/1608 [00:03<00:00, 532.25it/s]\n"
     ]
    },
    {
     "name": "stdout",
     "output_type": "stream",
     "text": [
      "Epoch [60/500], Train Loss: 0.4753\n",
      "Epoch [60/500], Valid Loss: 0.4666\n"
     ]
    },
    {
     "name": "stderr",
     "output_type": "stream",
     "text": [
      "Epoch 61/500: 100%|██████████| 1608/1608 [00:03<00:00, 531.53it/s]\n"
     ]
    },
    {
     "name": "stdout",
     "output_type": "stream",
     "text": [
      "Epoch [61/500], Train Loss: 0.4751\n",
      "Epoch [61/500], Valid Loss: 0.4617\n"
     ]
    },
    {
     "name": "stderr",
     "output_type": "stream",
     "text": [
      "Epoch 62/500: 100%|██████████| 1608/1608 [00:03<00:00, 527.55it/s]\n"
     ]
    },
    {
     "name": "stdout",
     "output_type": "stream",
     "text": [
      "Epoch [62/500], Train Loss: 0.4755\n",
      "Epoch [62/500], Valid Loss: 0.4758\n"
     ]
    },
    {
     "name": "stderr",
     "output_type": "stream",
     "text": [
      "Epoch 63/500: 100%|██████████| 1608/1608 [00:03<00:00, 533.86it/s]\n"
     ]
    },
    {
     "name": "stdout",
     "output_type": "stream",
     "text": [
      "Epoch [63/500], Train Loss: 0.4709\n",
      "Epoch [63/500], Valid Loss: 0.4674\n"
     ]
    },
    {
     "name": "stderr",
     "output_type": "stream",
     "text": [
      "Epoch 64/500: 100%|██████████| 1608/1608 [00:03<00:00, 530.17it/s]\n"
     ]
    },
    {
     "name": "stdout",
     "output_type": "stream",
     "text": [
      "Epoch [64/500], Train Loss: 0.4721\n",
      "Epoch [64/500], Valid Loss: 0.4775\n"
     ]
    },
    {
     "name": "stderr",
     "output_type": "stream",
     "text": [
      "Epoch 65/500: 100%|██████████| 1608/1608 [00:03<00:00, 533.77it/s]\n"
     ]
    },
    {
     "name": "stdout",
     "output_type": "stream",
     "text": [
      "Epoch [65/500], Train Loss: 0.4734\n",
      "Epoch [65/500], Valid Loss: 0.4711\n"
     ]
    },
    {
     "name": "stderr",
     "output_type": "stream",
     "text": [
      "Epoch 66/500: 100%|██████████| 1608/1608 [00:03<00:00, 527.56it/s]\n"
     ]
    },
    {
     "name": "stdout",
     "output_type": "stream",
     "text": [
      "Epoch [66/500], Train Loss: 0.4712\n",
      "Epoch [66/500], Valid Loss: 0.4834\n"
     ]
    },
    {
     "name": "stderr",
     "output_type": "stream",
     "text": [
      "Epoch 67/500: 100%|██████████| 1608/1608 [00:03<00:00, 527.90it/s]\n"
     ]
    },
    {
     "name": "stdout",
     "output_type": "stream",
     "text": [
      "Epoch [67/500], Train Loss: 0.4721\n",
      "Epoch [67/500], Valid Loss: 0.4715\n"
     ]
    },
    {
     "name": "stderr",
     "output_type": "stream",
     "text": [
      "Epoch 68/500: 100%|██████████| 1608/1608 [00:03<00:00, 524.02it/s]\n"
     ]
    },
    {
     "name": "stdout",
     "output_type": "stream",
     "text": [
      "Epoch [68/500], Train Loss: 0.4615\n",
      "Epoch [68/500], Valid Loss: 0.4565\n"
     ]
    },
    {
     "name": "stderr",
     "output_type": "stream",
     "text": [
      "Epoch 69/500: 100%|██████████| 1608/1608 [00:03<00:00, 528.42it/s]\n"
     ]
    },
    {
     "name": "stdout",
     "output_type": "stream",
     "text": [
      "Epoch [69/500], Train Loss: 0.4599\n",
      "Epoch [69/500], Valid Loss: 0.4571\n"
     ]
    },
    {
     "name": "stderr",
     "output_type": "stream",
     "text": [
      "Epoch 70/500: 100%|██████████| 1608/1608 [00:03<00:00, 528.59it/s]\n"
     ]
    },
    {
     "name": "stdout",
     "output_type": "stream",
     "text": [
      "Epoch [70/500], Train Loss: 0.4574\n",
      "Epoch [70/500], Valid Loss: 0.4576\n"
     ]
    },
    {
     "name": "stderr",
     "output_type": "stream",
     "text": [
      "Epoch 71/500: 100%|██████████| 1608/1608 [00:03<00:00, 529.82it/s]\n"
     ]
    },
    {
     "name": "stdout",
     "output_type": "stream",
     "text": [
      "Epoch [71/500], Train Loss: 0.4567\n",
      "Epoch [71/500], Valid Loss: 0.4579\n"
     ]
    },
    {
     "name": "stderr",
     "output_type": "stream",
     "text": [
      "Epoch 72/500: 100%|██████████| 1608/1608 [00:03<00:00, 526.76it/s]\n"
     ]
    },
    {
     "name": "stdout",
     "output_type": "stream",
     "text": [
      "Epoch [72/500], Train Loss: 0.4571\n",
      "Epoch [72/500], Valid Loss: 0.4568\n"
     ]
    },
    {
     "name": "stderr",
     "output_type": "stream",
     "text": [
      "Epoch 73/500: 100%|██████████| 1608/1608 [00:03<00:00, 525.66it/s]\n"
     ]
    },
    {
     "name": "stdout",
     "output_type": "stream",
     "text": [
      "Epoch [73/500], Train Loss: 0.4568\n",
      "Epoch [73/500], Valid Loss: 0.4566\n"
     ]
    },
    {
     "name": "stderr",
     "output_type": "stream",
     "text": [
      "Epoch 74/500: 100%|██████████| 1608/1608 [00:03<00:00, 523.39it/s]\n"
     ]
    },
    {
     "name": "stdout",
     "output_type": "stream",
     "text": [
      "Epoch [74/500], Train Loss: 0.4578\n",
      "Epoch [74/500], Valid Loss: 0.4575\n"
     ]
    },
    {
     "name": "stderr",
     "output_type": "stream",
     "text": [
      "Epoch 75/500: 100%|██████████| 1608/1608 [00:03<00:00, 524.02it/s]\n"
     ]
    },
    {
     "name": "stdout",
     "output_type": "stream",
     "text": [
      "Epoch [75/500], Train Loss: 0.4552\n",
      "Epoch [75/500], Valid Loss: 0.4563\n"
     ]
    },
    {
     "name": "stderr",
     "output_type": "stream",
     "text": [
      "Epoch 76/500: 100%|██████████| 1608/1608 [00:03<00:00, 517.12it/s]\n"
     ]
    },
    {
     "name": "stdout",
     "output_type": "stream",
     "text": [
      "Epoch [76/500], Train Loss: 0.4556\n",
      "Epoch [76/500], Valid Loss: 0.4562\n"
     ]
    },
    {
     "name": "stderr",
     "output_type": "stream",
     "text": [
      "Epoch 77/500: 100%|██████████| 1608/1608 [00:03<00:00, 521.78it/s]\n"
     ]
    },
    {
     "name": "stdout",
     "output_type": "stream",
     "text": [
      "Epoch [77/500], Train Loss: 0.4565\n",
      "Epoch [77/500], Valid Loss: 0.4561\n"
     ]
    },
    {
     "name": "stderr",
     "output_type": "stream",
     "text": [
      "Epoch 78/500: 100%|██████████| 1608/1608 [00:03<00:00, 521.73it/s]\n"
     ]
    },
    {
     "name": "stdout",
     "output_type": "stream",
     "text": [
      "Epoch [78/500], Train Loss: 0.4573\n",
      "Epoch [78/500], Valid Loss: 0.4563\n"
     ]
    },
    {
     "name": "stderr",
     "output_type": "stream",
     "text": [
      "Epoch 79/500: 100%|██████████| 1608/1608 [00:03<00:00, 526.28it/s]\n"
     ]
    },
    {
     "name": "stdout",
     "output_type": "stream",
     "text": [
      "Epoch [79/500], Train Loss: 0.4578\n",
      "Epoch [79/500], Valid Loss: 0.4562\n"
     ]
    },
    {
     "name": "stderr",
     "output_type": "stream",
     "text": [
      "Epoch 80/500: 100%|██████████| 1608/1608 [00:03<00:00, 528.22it/s]\n"
     ]
    },
    {
     "name": "stdout",
     "output_type": "stream",
     "text": [
      "Epoch [80/500], Train Loss: 0.4567\n",
      "Epoch [80/500], Valid Loss: 0.4560\n"
     ]
    },
    {
     "name": "stderr",
     "output_type": "stream",
     "text": [
      "Epoch 81/500: 100%|██████████| 1608/1608 [00:03<00:00, 530.05it/s]\n"
     ]
    },
    {
     "name": "stdout",
     "output_type": "stream",
     "text": [
      "Epoch [81/500], Train Loss: 0.4567\n",
      "Epoch [81/500], Valid Loss: 0.4559\n"
     ]
    },
    {
     "name": "stderr",
     "output_type": "stream",
     "text": [
      "Epoch 82/500: 100%|██████████| 1608/1608 [00:03<00:00, 533.59it/s]\n"
     ]
    },
    {
     "name": "stdout",
     "output_type": "stream",
     "text": [
      "Epoch [82/500], Train Loss: 0.4557\n",
      "Epoch [82/500], Valid Loss: 0.4560\n"
     ]
    },
    {
     "name": "stderr",
     "output_type": "stream",
     "text": [
      "Epoch 83/500: 100%|██████████| 1608/1608 [00:03<00:00, 531.75it/s]\n"
     ]
    },
    {
     "name": "stdout",
     "output_type": "stream",
     "text": [
      "Epoch [83/500], Train Loss: 0.4571\n",
      "Epoch [83/500], Valid Loss: 0.4560\n"
     ]
    },
    {
     "name": "stderr",
     "output_type": "stream",
     "text": [
      "Epoch 84/500: 100%|██████████| 1608/1608 [00:03<00:00, 532.61it/s]\n"
     ]
    },
    {
     "name": "stdout",
     "output_type": "stream",
     "text": [
      "Epoch [84/500], Train Loss: 0.4568\n",
      "Epoch [84/500], Valid Loss: 0.4559\n"
     ]
    },
    {
     "name": "stderr",
     "output_type": "stream",
     "text": [
      "Epoch 85/500: 100%|██████████| 1608/1608 [00:03<00:00, 521.61it/s]\n"
     ]
    },
    {
     "name": "stdout",
     "output_type": "stream",
     "text": [
      "Epoch [85/500], Train Loss: 0.4561\n",
      "Epoch [85/500], Valid Loss: 0.4558\n"
     ]
    },
    {
     "name": "stderr",
     "output_type": "stream",
     "text": [
      "Epoch 86/500: 100%|██████████| 1608/1608 [00:03<00:00, 522.24it/s]\n"
     ]
    },
    {
     "name": "stdout",
     "output_type": "stream",
     "text": [
      "Epoch [86/500], Train Loss: 0.4565\n",
      "Epoch [86/500], Valid Loss: 0.4558\n"
     ]
    },
    {
     "name": "stderr",
     "output_type": "stream",
     "text": [
      "Epoch 87/500: 100%|██████████| 1608/1608 [00:03<00:00, 510.05it/s]\n"
     ]
    },
    {
     "name": "stdout",
     "output_type": "stream",
     "text": [
      "Epoch [87/500], Train Loss: 0.4570\n",
      "Epoch [87/500], Valid Loss: 0.4559\n"
     ]
    },
    {
     "name": "stderr",
     "output_type": "stream",
     "text": [
      "Epoch 88/500: 100%|██████████| 1608/1608 [00:03<00:00, 506.01it/s]\n"
     ]
    },
    {
     "name": "stdout",
     "output_type": "stream",
     "text": [
      "Epoch [88/500], Train Loss: 0.4562\n",
      "Epoch [88/500], Valid Loss: 0.4558\n"
     ]
    },
    {
     "name": "stderr",
     "output_type": "stream",
     "text": [
      "Epoch 89/500: 100%|██████████| 1608/1608 [00:03<00:00, 523.86it/s]\n"
     ]
    },
    {
     "name": "stdout",
     "output_type": "stream",
     "text": [
      "Epoch [89/500], Train Loss: 0.4548\n",
      "Epoch [89/500], Valid Loss: 0.4559\n"
     ]
    },
    {
     "name": "stderr",
     "output_type": "stream",
     "text": [
      "Epoch 90/500: 100%|██████████| 1608/1608 [00:03<00:00, 520.39it/s]\n"
     ]
    },
    {
     "name": "stdout",
     "output_type": "stream",
     "text": [
      "Epoch [90/500], Train Loss: 0.4566\n",
      "Epoch [90/500], Valid Loss: 0.4558\n"
     ]
    },
    {
     "name": "stderr",
     "output_type": "stream",
     "text": [
      "Epoch 91/500: 100%|██████████| 1608/1608 [00:03<00:00, 523.60it/s]\n"
     ]
    },
    {
     "name": "stdout",
     "output_type": "stream",
     "text": [
      "Epoch [91/500], Train Loss: 0.4565\n",
      "Epoch [91/500], Valid Loss: 0.4557\n"
     ]
    },
    {
     "name": "stderr",
     "output_type": "stream",
     "text": [
      "Epoch 92/500: 100%|██████████| 1608/1608 [00:03<00:00, 518.04it/s]\n"
     ]
    },
    {
     "name": "stdout",
     "output_type": "stream",
     "text": [
      "Epoch [92/500], Train Loss: 0.4559\n",
      "Epoch [92/500], Valid Loss: 0.4559\n"
     ]
    },
    {
     "name": "stderr",
     "output_type": "stream",
     "text": [
      "Epoch 93/500: 100%|██████████| 1608/1608 [00:03<00:00, 520.89it/s]\n"
     ]
    },
    {
     "name": "stdout",
     "output_type": "stream",
     "text": [
      "Epoch [93/500], Train Loss: 0.4559\n",
      "Epoch [93/500], Valid Loss: 0.4558\n"
     ]
    },
    {
     "name": "stderr",
     "output_type": "stream",
     "text": [
      "Epoch 94/500: 100%|██████████| 1608/1608 [00:03<00:00, 519.38it/s]\n"
     ]
    },
    {
     "name": "stdout",
     "output_type": "stream",
     "text": [
      "Epoch [94/500], Train Loss: 0.4563\n",
      "Epoch [94/500], Valid Loss: 0.4560\n"
     ]
    },
    {
     "name": "stderr",
     "output_type": "stream",
     "text": [
      "Epoch 95/500: 100%|██████████| 1608/1608 [00:03<00:00, 519.38it/s]\n"
     ]
    },
    {
     "name": "stdout",
     "output_type": "stream",
     "text": [
      "Epoch [95/500], Train Loss: 0.4550\n",
      "Epoch [95/500], Valid Loss: 0.4558\n"
     ]
    },
    {
     "name": "stderr",
     "output_type": "stream",
     "text": [
      "Epoch 96/500: 100%|██████████| 1608/1608 [00:03<00:00, 523.52it/s]\n"
     ]
    },
    {
     "name": "stdout",
     "output_type": "stream",
     "text": [
      "Epoch [96/500], Train Loss: 0.4562\n",
      "Epoch [96/500], Valid Loss: 0.4557\n"
     ]
    },
    {
     "name": "stderr",
     "output_type": "stream",
     "text": [
      "Epoch 97/500: 100%|██████████| 1608/1608 [00:03<00:00, 518.37it/s]\n"
     ]
    },
    {
     "name": "stdout",
     "output_type": "stream",
     "text": [
      "Epoch [97/500], Train Loss: 0.4564\n",
      "Epoch [97/500], Valid Loss: 0.4557\n"
     ]
    },
    {
     "name": "stderr",
     "output_type": "stream",
     "text": [
      "Epoch 98/500: 100%|██████████| 1608/1608 [00:03<00:00, 521.03it/s]\n"
     ]
    },
    {
     "name": "stdout",
     "output_type": "stream",
     "text": [
      "Epoch [98/500], Train Loss: 0.4559\n",
      "Epoch [98/500], Valid Loss: 0.4559\n"
     ]
    },
    {
     "name": "stderr",
     "output_type": "stream",
     "text": [
      "Epoch 99/500: 100%|██████████| 1608/1608 [00:03<00:00, 523.18it/s]\n"
     ]
    },
    {
     "name": "stdout",
     "output_type": "stream",
     "text": [
      "Epoch [99/500], Train Loss: 0.4553\n",
      "Epoch [99/500], Valid Loss: 0.4557\n"
     ]
    },
    {
     "name": "stderr",
     "output_type": "stream",
     "text": [
      "Epoch 100/500: 100%|██████████| 1608/1608 [00:03<00:00, 527.56it/s]\n"
     ]
    },
    {
     "name": "stdout",
     "output_type": "stream",
     "text": [
      "Epoch [100/500], Train Loss: 0.4567\n",
      "Epoch [100/500], Valid Loss: 0.4557\n"
     ]
    },
    {
     "name": "stderr",
     "output_type": "stream",
     "text": [
      "Epoch 101/500: 100%|██████████| 1608/1608 [00:03<00:00, 518.04it/s]\n"
     ]
    },
    {
     "name": "stdout",
     "output_type": "stream",
     "text": [
      "Epoch [101/500], Train Loss: 0.4564\n",
      "Epoch [101/500], Valid Loss: 0.4557\n"
     ]
    },
    {
     "name": "stderr",
     "output_type": "stream",
     "text": [
      "Epoch 102/500: 100%|██████████| 1608/1608 [00:03<00:00, 515.79it/s]\n"
     ]
    },
    {
     "name": "stdout",
     "output_type": "stream",
     "text": [
      "Epoch [102/500], Train Loss: 0.4575\n",
      "Epoch [102/500], Valid Loss: 0.4557\n"
     ]
    },
    {
     "name": "stderr",
     "output_type": "stream",
     "text": [
      "Epoch 103/500: 100%|██████████| 1608/1608 [00:03<00:00, 522.08it/s]\n"
     ]
    },
    {
     "name": "stdout",
     "output_type": "stream",
     "text": [
      "Epoch [103/500], Train Loss: 0.4562\n",
      "Epoch [103/500], Valid Loss: 0.4557\n"
     ]
    },
    {
     "name": "stderr",
     "output_type": "stream",
     "text": [
      "Epoch 104/500: 100%|██████████| 1608/1608 [00:03<00:00, 518.71it/s]\n"
     ]
    },
    {
     "name": "stdout",
     "output_type": "stream",
     "text": [
      "Epoch [104/500], Train Loss: 0.4553\n",
      "Epoch [104/500], Valid Loss: 0.4557\n"
     ]
    },
    {
     "name": "stderr",
     "output_type": "stream",
     "text": [
      "Epoch 105/500: 100%|██████████| 1608/1608 [00:03<00:00, 518.37it/s]\n"
     ]
    },
    {
     "name": "stdout",
     "output_type": "stream",
     "text": [
      "Epoch [105/500], Train Loss: 0.4546\n",
      "Epoch [105/500], Valid Loss: 0.4557\n"
     ]
    },
    {
     "name": "stderr",
     "output_type": "stream",
     "text": [
      "Epoch 106/500: 100%|██████████| 1608/1608 [00:03<00:00, 521.06it/s]\n"
     ]
    },
    {
     "name": "stdout",
     "output_type": "stream",
     "text": [
      "Epoch [106/500], Train Loss: 0.4552\n",
      "Epoch [106/500], Valid Loss: 0.4557\n"
     ]
    },
    {
     "name": "stderr",
     "output_type": "stream",
     "text": [
      "Epoch 107/500: 100%|██████████| 1608/1608 [00:03<00:00, 523.53it/s]\n"
     ]
    },
    {
     "name": "stdout",
     "output_type": "stream",
     "text": [
      "Epoch [107/500], Train Loss: 0.4564\n",
      "Epoch [107/500], Valid Loss: 0.4557\n"
     ]
    },
    {
     "name": "stderr",
     "output_type": "stream",
     "text": [
      "Epoch 108/500: 100%|██████████| 1608/1608 [00:03<00:00, 526.00it/s]\n"
     ]
    },
    {
     "name": "stdout",
     "output_type": "stream",
     "text": [
      "Epoch [108/500], Train Loss: 0.4544\n",
      "Epoch [108/500], Valid Loss: 0.4557\n"
     ]
    },
    {
     "name": "stderr",
     "output_type": "stream",
     "text": [
      "Epoch 109/500: 100%|██████████| 1608/1608 [00:03<00:00, 524.20it/s]\n"
     ]
    },
    {
     "name": "stdout",
     "output_type": "stream",
     "text": [
      "Epoch [109/500], Train Loss: 0.4564\n",
      "Epoch [109/500], Valid Loss: 0.4557\n"
     ]
    },
    {
     "name": "stderr",
     "output_type": "stream",
     "text": [
      "Epoch 110/500: 100%|██████████| 1608/1608 [00:03<00:00, 524.63it/s]\n"
     ]
    },
    {
     "name": "stdout",
     "output_type": "stream",
     "text": [
      "Epoch [110/500], Train Loss: 0.4542\n",
      "Epoch [110/500], Valid Loss: 0.4557\n"
     ]
    },
    {
     "name": "stderr",
     "output_type": "stream",
     "text": [
      "Epoch 111/500: 100%|██████████| 1608/1608 [00:03<00:00, 526.27it/s]\n"
     ]
    },
    {
     "name": "stdout",
     "output_type": "stream",
     "text": [
      "Epoch [111/500], Train Loss: 0.4554\n",
      "Epoch [111/500], Valid Loss: 0.4557\n"
     ]
    },
    {
     "name": "stderr",
     "output_type": "stream",
     "text": [
      "Epoch 112/500: 100%|██████████| 1608/1608 [00:03<00:00, 513.53it/s]\n"
     ]
    },
    {
     "name": "stdout",
     "output_type": "stream",
     "text": [
      "Epoch [112/500], Train Loss: 0.4555\n",
      "Epoch [112/500], Valid Loss: 0.4557\n"
     ]
    },
    {
     "name": "stderr",
     "output_type": "stream",
     "text": [
      "Epoch 113/500: 100%|██████████| 1608/1608 [00:03<00:00, 506.06it/s]\n"
     ]
    },
    {
     "name": "stdout",
     "output_type": "stream",
     "text": [
      "Epoch [113/500], Train Loss: 0.4561\n",
      "Epoch [113/500], Valid Loss: 0.4557\n"
     ]
    },
    {
     "name": "stderr",
     "output_type": "stream",
     "text": [
      "Epoch 114/500: 100%|██████████| 1608/1608 [00:03<00:00, 522.24it/s]\n"
     ]
    },
    {
     "name": "stdout",
     "output_type": "stream",
     "text": [
      "Epoch [114/500], Train Loss: 0.4553\n",
      "Epoch [114/500], Valid Loss: 0.4557\n"
     ]
    },
    {
     "name": "stderr",
     "output_type": "stream",
     "text": [
      "Epoch 115/500: 100%|██████████| 1608/1608 [00:03<00:00, 516.37it/s]\n"
     ]
    },
    {
     "name": "stdout",
     "output_type": "stream",
     "text": [
      "Epoch [115/500], Train Loss: 0.4551\n",
      "Epoch [115/500], Valid Loss: 0.4557\n"
     ]
    },
    {
     "name": "stderr",
     "output_type": "stream",
     "text": [
      "Epoch 116/500: 100%|██████████| 1608/1608 [00:03<00:00, 522.67it/s]\n"
     ]
    },
    {
     "name": "stdout",
     "output_type": "stream",
     "text": [
      "Epoch [116/500], Train Loss: 0.4548\n",
      "Epoch [116/500], Valid Loss: 0.4557\n"
     ]
    },
    {
     "name": "stderr",
     "output_type": "stream",
     "text": [
      "Epoch 117/500: 100%|██████████| 1608/1608 [00:03<00:00, 514.48it/s]\n"
     ]
    },
    {
     "name": "stdout",
     "output_type": "stream",
     "text": [
      "Epoch [117/500], Train Loss: 0.4571\n",
      "Epoch [117/500], Valid Loss: 0.4557\n"
     ]
    },
    {
     "name": "stderr",
     "output_type": "stream",
     "text": [
      "Epoch 118/500: 100%|██████████| 1608/1608 [00:03<00:00, 518.70it/s]\n"
     ]
    },
    {
     "name": "stdout",
     "output_type": "stream",
     "text": [
      "Epoch [118/500], Train Loss: 0.4555\n",
      "Epoch [118/500], Valid Loss: 0.4557\n"
     ]
    },
    {
     "name": "stderr",
     "output_type": "stream",
     "text": [
      "Epoch 119/500: 100%|██████████| 1608/1608 [00:03<00:00, 517.04it/s]\n"
     ]
    },
    {
     "name": "stdout",
     "output_type": "stream",
     "text": [
      "Epoch [119/500], Train Loss: 0.4576\n",
      "Epoch [119/500], Valid Loss: 0.4557\n"
     ]
    },
    {
     "name": "stderr",
     "output_type": "stream",
     "text": [
      "Epoch 120/500: 100%|██████████| 1608/1608 [00:03<00:00, 521.90it/s]\n"
     ]
    },
    {
     "name": "stdout",
     "output_type": "stream",
     "text": [
      "Epoch [120/500], Train Loss: 0.4553\n",
      "Epoch [120/500], Valid Loss: 0.4557\n"
     ]
    },
    {
     "name": "stderr",
     "output_type": "stream",
     "text": [
      "Epoch 121/500: 100%|██████████| 1608/1608 [00:03<00:00, 526.60it/s]\n"
     ]
    },
    {
     "name": "stdout",
     "output_type": "stream",
     "text": [
      "Epoch [121/500], Train Loss: 0.4553\n",
      "Epoch [121/500], Valid Loss: 0.4557\n"
     ]
    },
    {
     "name": "stderr",
     "output_type": "stream",
     "text": [
      "Epoch 122/500: 100%|██████████| 1608/1608 [00:03<00:00, 530.16it/s]\n"
     ]
    },
    {
     "name": "stdout",
     "output_type": "stream",
     "text": [
      "Epoch [122/500], Train Loss: 0.4552\n",
      "Epoch [122/500], Valid Loss: 0.4557\n"
     ]
    },
    {
     "name": "stderr",
     "output_type": "stream",
     "text": [
      "Epoch 123/500: 100%|██████████| 1608/1608 [00:03<00:00, 520.05it/s]\n"
     ]
    },
    {
     "name": "stdout",
     "output_type": "stream",
     "text": [
      "Epoch [123/500], Train Loss: 0.4561\n",
      "Epoch [123/500], Valid Loss: 0.4557\n"
     ]
    },
    {
     "name": "stderr",
     "output_type": "stream",
     "text": [
      "Epoch 124/500: 100%|██████████| 1608/1608 [00:03<00:00, 520.89it/s]\n"
     ]
    },
    {
     "name": "stdout",
     "output_type": "stream",
     "text": [
      "Epoch [124/500], Train Loss: 0.4537\n",
      "Epoch [124/500], Valid Loss: 0.4557\n"
     ]
    },
    {
     "name": "stderr",
     "output_type": "stream",
     "text": [
      "Epoch 125/500: 100%|██████████| 1608/1608 [00:03<00:00, 522.62it/s]\n"
     ]
    },
    {
     "name": "stdout",
     "output_type": "stream",
     "text": [
      "Epoch [125/500], Train Loss: 0.4555\n",
      "Epoch [125/500], Valid Loss: 0.4557\n"
     ]
    },
    {
     "name": "stderr",
     "output_type": "stream",
     "text": [
      "Epoch 126/500: 100%|██████████| 1608/1608 [00:03<00:00, 524.06it/s]\n"
     ]
    },
    {
     "name": "stdout",
     "output_type": "stream",
     "text": [
      "Epoch [126/500], Train Loss: 0.4560\n",
      "Epoch [126/500], Valid Loss: 0.4557\n"
     ]
    },
    {
     "name": "stderr",
     "output_type": "stream",
     "text": [
      "Epoch 127/500: 100%|██████████| 1608/1608 [00:03<00:00, 529.61it/s]\n"
     ]
    },
    {
     "name": "stdout",
     "output_type": "stream",
     "text": [
      "Epoch [127/500], Train Loss: 0.4547\n",
      "Epoch [127/500], Valid Loss: 0.4557\n"
     ]
    },
    {
     "name": "stderr",
     "output_type": "stream",
     "text": [
      "Epoch 128/500: 100%|██████████| 1608/1608 [00:03<00:00, 524.42it/s]\n"
     ]
    },
    {
     "name": "stdout",
     "output_type": "stream",
     "text": [
      "Epoch [128/500], Train Loss: 0.4557\n",
      "Epoch [128/500], Valid Loss: 0.4557\n"
     ]
    },
    {
     "name": "stderr",
     "output_type": "stream",
     "text": [
      "Epoch 129/500: 100%|██████████| 1608/1608 [00:03<00:00, 528.16it/s]\n"
     ]
    },
    {
     "name": "stdout",
     "output_type": "stream",
     "text": [
      "Epoch [129/500], Train Loss: 0.4566\n",
      "Epoch [129/500], Valid Loss: 0.4557\n"
     ]
    },
    {
     "name": "stderr",
     "output_type": "stream",
     "text": [
      "Epoch 130/500: 100%|██████████| 1608/1608 [00:03<00:00, 526.10it/s]\n"
     ]
    },
    {
     "name": "stdout",
     "output_type": "stream",
     "text": [
      "Epoch [130/500], Train Loss: 0.4554\n",
      "Epoch [130/500], Valid Loss: 0.4557\n"
     ]
    },
    {
     "name": "stderr",
     "output_type": "stream",
     "text": [
      "Epoch 131/500: 100%|██████████| 1608/1608 [00:03<00:00, 529.93it/s]\n"
     ]
    },
    {
     "name": "stdout",
     "output_type": "stream",
     "text": [
      "Epoch [131/500], Train Loss: 0.4551\n",
      "Epoch [131/500], Valid Loss: 0.4557\n"
     ]
    },
    {
     "name": "stderr",
     "output_type": "stream",
     "text": [
      "Epoch 132/500: 100%|██████████| 1608/1608 [00:03<00:00, 529.67it/s]\n"
     ]
    },
    {
     "name": "stdout",
     "output_type": "stream",
     "text": [
      "Epoch [132/500], Train Loss: 0.4552\n",
      "Epoch [132/500], Valid Loss: 0.4557\n"
     ]
    },
    {
     "name": "stderr",
     "output_type": "stream",
     "text": [
      "Epoch 133/500: 100%|██████████| 1608/1608 [00:02<00:00, 536.68it/s]\n"
     ]
    },
    {
     "name": "stdout",
     "output_type": "stream",
     "text": [
      "Epoch [133/500], Train Loss: 0.4562\n",
      "Epoch [133/500], Valid Loss: 0.4557\n"
     ]
    },
    {
     "name": "stderr",
     "output_type": "stream",
     "text": [
      "Epoch 134/500: 100%|██████████| 1608/1608 [00:03<00:00, 534.91it/s]\n"
     ]
    },
    {
     "name": "stdout",
     "output_type": "stream",
     "text": [
      "Epoch [134/500], Train Loss: 0.4544\n",
      "Epoch [134/500], Valid Loss: 0.4557\n"
     ]
    },
    {
     "name": "stderr",
     "output_type": "stream",
     "text": [
      "Epoch 135/500: 100%|██████████| 1608/1608 [00:03<00:00, 528.08it/s]\n"
     ]
    },
    {
     "name": "stdout",
     "output_type": "stream",
     "text": [
      "Epoch [135/500], Train Loss: 0.4561\n",
      "Epoch [135/500], Valid Loss: 0.4557\n"
     ]
    },
    {
     "name": "stderr",
     "output_type": "stream",
     "text": [
      "Epoch 136/500: 100%|██████████| 1608/1608 [00:02<00:00, 536.98it/s]\n"
     ]
    },
    {
     "name": "stdout",
     "output_type": "stream",
     "text": [
      "Epoch [136/500], Train Loss: 0.4561\n",
      "Epoch [136/500], Valid Loss: 0.4557\n"
     ]
    },
    {
     "name": "stderr",
     "output_type": "stream",
     "text": [
      "Epoch 137/500: 100%|██████████| 1608/1608 [00:03<00:00, 529.26it/s]\n"
     ]
    },
    {
     "name": "stdout",
     "output_type": "stream",
     "text": [
      "Epoch [137/500], Train Loss: 0.4545\n",
      "Epoch [137/500], Valid Loss: 0.4557\n"
     ]
    },
    {
     "name": "stderr",
     "output_type": "stream",
     "text": [
      "Epoch 138/500: 100%|██████████| 1608/1608 [00:03<00:00, 530.32it/s]\n"
     ]
    },
    {
     "name": "stdout",
     "output_type": "stream",
     "text": [
      "Epoch [138/500], Train Loss: 0.4576\n",
      "Epoch [138/500], Valid Loss: 0.4557\n"
     ]
    },
    {
     "name": "stderr",
     "output_type": "stream",
     "text": [
      "Epoch 139/500: 100%|██████████| 1608/1608 [00:03<00:00, 533.28it/s]\n"
     ]
    },
    {
     "name": "stdout",
     "output_type": "stream",
     "text": [
      "Epoch [139/500], Train Loss: 0.4557\n",
      "Epoch [139/500], Valid Loss: 0.4557\n"
     ]
    },
    {
     "name": "stderr",
     "output_type": "stream",
     "text": [
      "Epoch 140/500: 100%|██████████| 1608/1608 [00:03<00:00, 529.74it/s]\n"
     ]
    },
    {
     "name": "stdout",
     "output_type": "stream",
     "text": [
      "Epoch [140/500], Train Loss: 0.4552\n",
      "Epoch [140/500], Valid Loss: 0.4557\n"
     ]
    },
    {
     "name": "stderr",
     "output_type": "stream",
     "text": [
      "Epoch 141/500: 100%|██████████| 1608/1608 [00:03<00:00, 527.56it/s]\n"
     ]
    },
    {
     "name": "stdout",
     "output_type": "stream",
     "text": [
      "Epoch [141/500], Train Loss: 0.4550\n",
      "Epoch [141/500], Valid Loss: 0.4557\n"
     ]
    },
    {
     "name": "stderr",
     "output_type": "stream",
     "text": [
      "Epoch 142/500: 100%|██████████| 1608/1608 [00:03<00:00, 523.61it/s]\n"
     ]
    },
    {
     "name": "stdout",
     "output_type": "stream",
     "text": [
      "Epoch [142/500], Train Loss: 0.4554\n",
      "Epoch [142/500], Valid Loss: 0.4557\n"
     ]
    },
    {
     "name": "stderr",
     "output_type": "stream",
     "text": [
      "Epoch 143/500: 100%|██████████| 1608/1608 [00:03<00:00, 530.45it/s]\n"
     ]
    },
    {
     "name": "stdout",
     "output_type": "stream",
     "text": [
      "Epoch [143/500], Train Loss: 0.4564\n",
      "Epoch [143/500], Valid Loss: 0.4557\n"
     ]
    },
    {
     "name": "stderr",
     "output_type": "stream",
     "text": [
      "Epoch 144/500: 100%|██████████| 1608/1608 [00:03<00:00, 524.08it/s]\n"
     ]
    },
    {
     "name": "stdout",
     "output_type": "stream",
     "text": [
      "Epoch [144/500], Train Loss: 0.4540\n",
      "Epoch [144/500], Valid Loss: 0.4557\n"
     ]
    },
    {
     "name": "stderr",
     "output_type": "stream",
     "text": [
      "Epoch 145/500: 100%|██████████| 1608/1608 [00:03<00:00, 513.32it/s]\n"
     ]
    },
    {
     "name": "stdout",
     "output_type": "stream",
     "text": [
      "Epoch [145/500], Train Loss: 0.4548\n",
      "Epoch [145/500], Valid Loss: 0.4557\n"
     ]
    },
    {
     "name": "stderr",
     "output_type": "stream",
     "text": [
      "Epoch 146/500: 100%|██████████| 1608/1608 [00:03<00:00, 522.42it/s]\n"
     ]
    },
    {
     "name": "stdout",
     "output_type": "stream",
     "text": [
      "Epoch [146/500], Train Loss: 0.4548\n",
      "Epoch [146/500], Valid Loss: 0.4557\n",
      "Early stopping\n"
     ]
    }
   ],
   "source": [
    "# 학습 루프\n",
    "for train_loader, valid_loader, model_name, dataset, lr in [\n",
    "    (train_loader_full, valid_loader_full, 'normx_best_fall_detection_gru_001_full.pt', train_full_dataset, 0.001),\n",
    "    (train_loader_full, valid_loader_full, 'normx_best_fall_detection_gru_0001_full.pt', train_full_dataset, 0.0001),\n",
    "    (train_loader_simplified, valid_loader_simplified, 'normx_best_fall_detection_gru_0001_simplified.pt', train_simplified_dataset, 0.0001),\n",
    "    (train_loader_mediapipe, valid_loader_mediapipe, 'normx_best_fall_detection_gru_0001_mediapipe.pt', train_mediapipe_dataset, 0.0001)\n",
    "]:\n",
    "    # 모델을 새로 생성\n",
    "    model = create_model_for_dataset(dataset)\n",
    "    model.to(device)\n",
    "\n",
    "    # 옵티마이저와 스케줄러 설정\n",
    "    optimizer = torch.optim.Adam(model.parameters(), lr=lr, weight_decay=1e-5)\n",
    "    scheduler = torch.optim.lr_scheduler.ReduceLROnPlateau(optimizer, mode='min', factor=0.1, patience=5)\n",
    "\n",
    "    # 각 학습 설정별 초기화\n",
    "    best_loss = float('inf')\n",
    "    no_improve = 0\n",
    "    \n",
    "    print(f\"{model_name} 학습 시작\", flush=True)\n",
    "    print(\"\\n\" + \"=\" * 20 + f\" Training Configuration: GRU with input_config='{model_name[:-3].split('_')[-1]}' and lr='{optimizer.param_groups[0]['lr']}' \" + \"=\" * 20 + \"\\n\")\n",
    "\n",
    "    # 입력 크기 체크 (훈련 시작 시 1회만 출력)\n",
    "    sequences, labels = next(iter(train_loader))\n",
    "    print(f'현재 입력 크기 (마지막 차원): {sequences.size(-1)}')\n",
    "    print(f'예상 입력 크기: {model.gru.input_size}')\n",
    "\n",
    "    for epoch in range(num_epochs):\n",
    "        model.train()\n",
    "        total_loss_train = 0\n",
    "\n",
    "        for sequences, labels in tqdm(train_loader, desc=f\"Epoch {epoch + 1}/{num_epochs}\"):\n",
    "            sequences, labels = sequences.to(device), labels.to(device)\n",
    "\n",
    "            optimizer.zero_grad()\n",
    "            outputs = model(sequences)\n",
    "            loss_train = criterion(outputs, labels.view(-1))\n",
    "            loss_train.backward()\n",
    "            optimizer.step()\n",
    "            \n",
    "            total_loss_train += loss_train.item()\n",
    "\n",
    "        avg_loss_train = total_loss_train / len(train_loader)\n",
    "        print(f'Epoch [{epoch + 1}/{num_epochs}], Train Loss: {avg_loss_train:.4f}')\n",
    "\n",
    "        # 검증 데이터셋 평가\n",
    "        model.eval()\n",
    "        total_loss_valid = 0\n",
    "        with torch.no_grad():\n",
    "            for sequences, labels in valid_loader:\n",
    "                sequences, labels = sequences.to(device), labels.to(device)\n",
    "                outputs = model(sequences)\n",
    "                loss_valid = criterion(outputs, labels.view(-1))\n",
    "                total_loss_valid += loss_valid.item()\n",
    "\n",
    "        avg_loss_valid = total_loss_valid / len(valid_loader)\n",
    "        print(f'Epoch [{epoch + 1}/{num_epochs}], Valid Loss: {avg_loss_valid:.4f}')\n",
    "\n",
    "        # 학습률 조정 스케줄러 업데이트\n",
    "        scheduler.step(avg_loss_valid)\n",
    "\n",
    "        # 최상의 모델 저장\n",
    "        if avg_loss_valid < best_loss:\n",
    "            best_loss = avg_loss_valid\n",
    "            no_improve = 0\n",
    "            torch.save(model.state_dict(), f'{pt_path}\\\\{model_name}')\n",
    "        else:\n",
    "            no_improve += 1\n",
    "\n",
    "        if no_improve >= patience:\n",
    "            print(\"Early stopping\")\n",
    "            break"
   ]
  },
  {
   "cell_type": "code",
   "execution_count": 12,
   "id": "ddab0d9a",
   "metadata": {},
   "outputs": [
    {
     "name": "stdout",
     "output_type": "stream",
     "text": [
      "normx_best_fall_detection_gru_001_simplified.pt 학습 시작\n",
      "\n",
      "==================== Training Configuration: GRU with input_config='simplified' and lr='0.001' ====================\n",
      "\n",
      "현재 입력 크기 (마지막 차원): 3\n",
      "예상 입력 크기: 3\n"
     ]
    },
    {
     "name": "stderr",
     "output_type": "stream",
     "text": [
      "Epoch 1/500: 100%|██████████| 1608/1608 [00:02<00:00, 546.89it/s]\n"
     ]
    },
    {
     "name": "stdout",
     "output_type": "stream",
     "text": [
      "Epoch [1/500], Train Loss: 0.6628\n",
      "Epoch [1/500], Valid Loss: 0.4859\n"
     ]
    },
    {
     "name": "stderr",
     "output_type": "stream",
     "text": [
      "Epoch 2/500: 100%|██████████| 1608/1608 [00:02<00:00, 556.21it/s]\n"
     ]
    },
    {
     "name": "stdout",
     "output_type": "stream",
     "text": [
      "Epoch [2/500], Train Loss: 0.5437\n",
      "Epoch [2/500], Valid Loss: 0.5083\n"
     ]
    },
    {
     "name": "stderr",
     "output_type": "stream",
     "text": [
      "Epoch 3/500: 100%|██████████| 1608/1608 [00:02<00:00, 552.95it/s]\n"
     ]
    },
    {
     "name": "stdout",
     "output_type": "stream",
     "text": [
      "Epoch [3/500], Train Loss: 0.5335\n",
      "Epoch [3/500], Valid Loss: 0.4974\n"
     ]
    },
    {
     "name": "stderr",
     "output_type": "stream",
     "text": [
      "Epoch 4/500: 100%|██████████| 1608/1608 [00:02<00:00, 563.37it/s]\n"
     ]
    },
    {
     "name": "stdout",
     "output_type": "stream",
     "text": [
      "Epoch [4/500], Train Loss: 0.5304\n",
      "Epoch [4/500], Valid Loss: 0.4819\n"
     ]
    },
    {
     "name": "stderr",
     "output_type": "stream",
     "text": [
      "Epoch 5/500: 100%|██████████| 1608/1608 [00:02<00:00, 555.63it/s]\n"
     ]
    },
    {
     "name": "stdout",
     "output_type": "stream",
     "text": [
      "Epoch [5/500], Train Loss: 0.5253\n",
      "Epoch [5/500], Valid Loss: 0.5169\n"
     ]
    },
    {
     "name": "stderr",
     "output_type": "stream",
     "text": [
      "Epoch 6/500: 100%|██████████| 1608/1608 [00:02<00:00, 551.15it/s]\n"
     ]
    },
    {
     "name": "stdout",
     "output_type": "stream",
     "text": [
      "Epoch [6/500], Train Loss: 0.5240\n",
      "Epoch [6/500], Valid Loss: 0.5114\n"
     ]
    },
    {
     "name": "stderr",
     "output_type": "stream",
     "text": [
      "Epoch 7/500: 100%|██████████| 1608/1608 [00:02<00:00, 560.67it/s]\n"
     ]
    },
    {
     "name": "stdout",
     "output_type": "stream",
     "text": [
      "Epoch [7/500], Train Loss: 0.5238\n",
      "Epoch [7/500], Valid Loss: 0.4960\n"
     ]
    },
    {
     "name": "stderr",
     "output_type": "stream",
     "text": [
      "Epoch 8/500: 100%|██████████| 1608/1608 [00:02<00:00, 553.14it/s]\n"
     ]
    },
    {
     "name": "stdout",
     "output_type": "stream",
     "text": [
      "Epoch [8/500], Train Loss: 0.5250\n",
      "Epoch [8/500], Valid Loss: 0.4853\n"
     ]
    },
    {
     "name": "stderr",
     "output_type": "stream",
     "text": [
      "Epoch 9/500: 100%|██████████| 1608/1608 [00:02<00:00, 551.91it/s]\n"
     ]
    },
    {
     "name": "stdout",
     "output_type": "stream",
     "text": [
      "Epoch [9/500], Train Loss: 0.5210\n",
      "Epoch [9/500], Valid Loss: 0.4765\n"
     ]
    },
    {
     "name": "stderr",
     "output_type": "stream",
     "text": [
      "Epoch 10/500: 100%|██████████| 1608/1608 [00:02<00:00, 552.19it/s]\n"
     ]
    },
    {
     "name": "stdout",
     "output_type": "stream",
     "text": [
      "Epoch [10/500], Train Loss: 0.5229\n",
      "Epoch [10/500], Valid Loss: 0.4804\n"
     ]
    },
    {
     "name": "stderr",
     "output_type": "stream",
     "text": [
      "Epoch 11/500: 100%|██████████| 1608/1608 [00:02<00:00, 552.76it/s]\n"
     ]
    },
    {
     "name": "stdout",
     "output_type": "stream",
     "text": [
      "Epoch [11/500], Train Loss: 0.5167\n",
      "Epoch [11/500], Valid Loss: 0.4859\n"
     ]
    },
    {
     "name": "stderr",
     "output_type": "stream",
     "text": [
      "Epoch 12/500: 100%|██████████| 1608/1608 [00:02<00:00, 557.94it/s]\n"
     ]
    },
    {
     "name": "stdout",
     "output_type": "stream",
     "text": [
      "Epoch [12/500], Train Loss: 0.5179\n",
      "Epoch [12/500], Valid Loss: 0.4770\n"
     ]
    },
    {
     "name": "stderr",
     "output_type": "stream",
     "text": [
      "Epoch 13/500: 100%|██████████| 1608/1608 [00:02<00:00, 557.65it/s]\n"
     ]
    },
    {
     "name": "stdout",
     "output_type": "stream",
     "text": [
      "Epoch [13/500], Train Loss: 0.5174\n",
      "Epoch [13/500], Valid Loss: 0.4964\n"
     ]
    },
    {
     "name": "stderr",
     "output_type": "stream",
     "text": [
      "Epoch 14/500: 100%|██████████| 1608/1608 [00:02<00:00, 556.59it/s]\n"
     ]
    },
    {
     "name": "stdout",
     "output_type": "stream",
     "text": [
      "Epoch [14/500], Train Loss: 0.5172\n",
      "Epoch [14/500], Valid Loss: 0.4858\n"
     ]
    },
    {
     "name": "stderr",
     "output_type": "stream",
     "text": [
      "Epoch 15/500: 100%|██████████| 1608/1608 [00:02<00:00, 561.64it/s]\n"
     ]
    },
    {
     "name": "stdout",
     "output_type": "stream",
     "text": [
      "Epoch [15/500], Train Loss: 0.5166\n",
      "Epoch [15/500], Valid Loss: 0.4754\n"
     ]
    },
    {
     "name": "stderr",
     "output_type": "stream",
     "text": [
      "Epoch 16/500: 100%|██████████| 1608/1608 [00:02<00:00, 555.77it/s]\n"
     ]
    },
    {
     "name": "stdout",
     "output_type": "stream",
     "text": [
      "Epoch [16/500], Train Loss: 0.5170\n",
      "Epoch [16/500], Valid Loss: 0.4790\n"
     ]
    },
    {
     "name": "stderr",
     "output_type": "stream",
     "text": [
      "Epoch 17/500: 100%|██████████| 1608/1608 [00:02<00:00, 552.00it/s]\n"
     ]
    },
    {
     "name": "stdout",
     "output_type": "stream",
     "text": [
      "Epoch [17/500], Train Loss: 0.5153\n",
      "Epoch [17/500], Valid Loss: 0.4733\n"
     ]
    },
    {
     "name": "stderr",
     "output_type": "stream",
     "text": [
      "Epoch 18/500: 100%|██████████| 1608/1608 [00:02<00:00, 555.72it/s]\n"
     ]
    },
    {
     "name": "stdout",
     "output_type": "stream",
     "text": [
      "Epoch [18/500], Train Loss: 0.5146\n",
      "Epoch [18/500], Valid Loss: 0.4717\n"
     ]
    },
    {
     "name": "stderr",
     "output_type": "stream",
     "text": [
      "Epoch 19/500: 100%|██████████| 1608/1608 [00:02<00:00, 556.78it/s]\n"
     ]
    },
    {
     "name": "stdout",
     "output_type": "stream",
     "text": [
      "Epoch [19/500], Train Loss: 0.5101\n",
      "Epoch [19/500], Valid Loss: 0.5042\n"
     ]
    },
    {
     "name": "stderr",
     "output_type": "stream",
     "text": [
      "Epoch 20/500: 100%|██████████| 1608/1608 [00:02<00:00, 556.01it/s]\n"
     ]
    },
    {
     "name": "stdout",
     "output_type": "stream",
     "text": [
      "Epoch [20/500], Train Loss: 0.5130\n",
      "Epoch [20/500], Valid Loss: 0.4830\n"
     ]
    },
    {
     "name": "stderr",
     "output_type": "stream",
     "text": [
      "Epoch 21/500: 100%|██████████| 1608/1608 [00:02<00:00, 555.82it/s]\n"
     ]
    },
    {
     "name": "stdout",
     "output_type": "stream",
     "text": [
      "Epoch [21/500], Train Loss: 0.5136\n",
      "Epoch [21/500], Valid Loss: 0.4825\n"
     ]
    },
    {
     "name": "stderr",
     "output_type": "stream",
     "text": [
      "Epoch 22/500: 100%|██████████| 1608/1608 [00:02<00:00, 557.65it/s]\n"
     ]
    },
    {
     "name": "stdout",
     "output_type": "stream",
     "text": [
      "Epoch [22/500], Train Loss: 0.5115\n",
      "Epoch [22/500], Valid Loss: 0.4904\n"
     ]
    },
    {
     "name": "stderr",
     "output_type": "stream",
     "text": [
      "Epoch 23/500: 100%|██████████| 1608/1608 [00:02<00:00, 552.09it/s]\n"
     ]
    },
    {
     "name": "stdout",
     "output_type": "stream",
     "text": [
      "Epoch [23/500], Train Loss: 0.5138\n",
      "Epoch [23/500], Valid Loss: 0.4786\n"
     ]
    },
    {
     "name": "stderr",
     "output_type": "stream",
     "text": [
      "Epoch 24/500: 100%|██████████| 1608/1608 [00:02<00:00, 554.65it/s]\n"
     ]
    },
    {
     "name": "stdout",
     "output_type": "stream",
     "text": [
      "Epoch [24/500], Train Loss: 0.5116\n",
      "Epoch [24/500], Valid Loss: 0.4802\n"
     ]
    },
    {
     "name": "stderr",
     "output_type": "stream",
     "text": [
      "Epoch 25/500: 100%|██████████| 1608/1608 [00:02<00:00, 553.62it/s]\n"
     ]
    },
    {
     "name": "stdout",
     "output_type": "stream",
     "text": [
      "Epoch [25/500], Train Loss: 0.5018\n",
      "Epoch [25/500], Valid Loss: 0.4739\n"
     ]
    },
    {
     "name": "stderr",
     "output_type": "stream",
     "text": [
      "Epoch 26/500: 100%|██████████| 1608/1608 [00:02<00:00, 553.53it/s]\n"
     ]
    },
    {
     "name": "stdout",
     "output_type": "stream",
     "text": [
      "Epoch [26/500], Train Loss: 0.5017\n",
      "Epoch [26/500], Valid Loss: 0.4740\n"
     ]
    },
    {
     "name": "stderr",
     "output_type": "stream",
     "text": [
      "Epoch 27/500: 100%|██████████| 1608/1608 [00:02<00:00, 557.41it/s]\n"
     ]
    },
    {
     "name": "stdout",
     "output_type": "stream",
     "text": [
      "Epoch [27/500], Train Loss: 0.5025\n",
      "Epoch [27/500], Valid Loss: 0.4724\n"
     ]
    },
    {
     "name": "stderr",
     "output_type": "stream",
     "text": [
      "Epoch 28/500: 100%|██████████| 1608/1608 [00:02<00:00, 555.82it/s]\n"
     ]
    },
    {
     "name": "stdout",
     "output_type": "stream",
     "text": [
      "Epoch [28/500], Train Loss: 0.5010\n",
      "Epoch [28/500], Valid Loss: 0.4737\n"
     ]
    },
    {
     "name": "stderr",
     "output_type": "stream",
     "text": [
      "Epoch 29/500: 100%|██████████| 1608/1608 [00:02<00:00, 557.36it/s]\n"
     ]
    },
    {
     "name": "stdout",
     "output_type": "stream",
     "text": [
      "Epoch [29/500], Train Loss: 0.5020\n",
      "Epoch [29/500], Valid Loss: 0.4708\n"
     ]
    },
    {
     "name": "stderr",
     "output_type": "stream",
     "text": [
      "Epoch 30/500: 100%|██████████| 1608/1608 [00:02<00:00, 553.52it/s]\n"
     ]
    },
    {
     "name": "stdout",
     "output_type": "stream",
     "text": [
      "Epoch [30/500], Train Loss: 0.5011\n",
      "Epoch [30/500], Valid Loss: 0.4723\n"
     ]
    },
    {
     "name": "stderr",
     "output_type": "stream",
     "text": [
      "Epoch 31/500: 100%|██████████| 1608/1608 [00:02<00:00, 552.69it/s]\n"
     ]
    },
    {
     "name": "stdout",
     "output_type": "stream",
     "text": [
      "Epoch [31/500], Train Loss: 0.5017\n",
      "Epoch [31/500], Valid Loss: 0.4742\n"
     ]
    },
    {
     "name": "stderr",
     "output_type": "stream",
     "text": [
      "Epoch 32/500: 100%|██████████| 1608/1608 [00:02<00:00, 557.94it/s]\n"
     ]
    },
    {
     "name": "stdout",
     "output_type": "stream",
     "text": [
      "Epoch [32/500], Train Loss: 0.5016\n",
      "Epoch [32/500], Valid Loss: 0.4746\n"
     ]
    },
    {
     "name": "stderr",
     "output_type": "stream",
     "text": [
      "Epoch 33/500: 100%|██████████| 1608/1608 [00:02<00:00, 555.05it/s]\n"
     ]
    },
    {
     "name": "stdout",
     "output_type": "stream",
     "text": [
      "Epoch [33/500], Train Loss: 0.5015\n",
      "Epoch [33/500], Valid Loss: 0.4775\n"
     ]
    },
    {
     "name": "stderr",
     "output_type": "stream",
     "text": [
      "Epoch 34/500: 100%|██████████| 1608/1608 [00:02<00:00, 554.76it/s]\n"
     ]
    },
    {
     "name": "stdout",
     "output_type": "stream",
     "text": [
      "Epoch [34/500], Train Loss: 0.5013\n",
      "Epoch [34/500], Valid Loss: 0.4714\n"
     ]
    },
    {
     "name": "stderr",
     "output_type": "stream",
     "text": [
      "Epoch 35/500: 100%|██████████| 1608/1608 [00:02<00:00, 553.72it/s]\n"
     ]
    },
    {
     "name": "stdout",
     "output_type": "stream",
     "text": [
      "Epoch [35/500], Train Loss: 0.5017\n",
      "Epoch [35/500], Valid Loss: 0.4725\n"
     ]
    },
    {
     "name": "stderr",
     "output_type": "stream",
     "text": [
      "Epoch 36/500: 100%|██████████| 1608/1608 [00:02<00:00, 553.27it/s]\n"
     ]
    },
    {
     "name": "stdout",
     "output_type": "stream",
     "text": [
      "Epoch [36/500], Train Loss: 0.5011\n",
      "Epoch [36/500], Valid Loss: 0.4713\n"
     ]
    },
    {
     "name": "stderr",
     "output_type": "stream",
     "text": [
      "Epoch 37/500: 100%|██████████| 1608/1608 [00:02<00:00, 550.68it/s]\n"
     ]
    },
    {
     "name": "stdout",
     "output_type": "stream",
     "text": [
      "Epoch [37/500], Train Loss: 0.4990\n",
      "Epoch [37/500], Valid Loss: 0.4722\n"
     ]
    },
    {
     "name": "stderr",
     "output_type": "stream",
     "text": [
      "Epoch 38/500: 100%|██████████| 1608/1608 [00:02<00:00, 554.96it/s]\n"
     ]
    },
    {
     "name": "stdout",
     "output_type": "stream",
     "text": [
      "Epoch [38/500], Train Loss: 0.4985\n",
      "Epoch [38/500], Valid Loss: 0.4711\n"
     ]
    },
    {
     "name": "stderr",
     "output_type": "stream",
     "text": [
      "Epoch 39/500: 100%|██████████| 1608/1608 [00:02<00:00, 552.95it/s]\n"
     ]
    },
    {
     "name": "stdout",
     "output_type": "stream",
     "text": [
      "Epoch [39/500], Train Loss: 0.5007\n",
      "Epoch [39/500], Valid Loss: 0.4719\n"
     ]
    },
    {
     "name": "stderr",
     "output_type": "stream",
     "text": [
      "Epoch 40/500: 100%|██████████| 1608/1608 [00:02<00:00, 555.06it/s]\n"
     ]
    },
    {
     "name": "stdout",
     "output_type": "stream",
     "text": [
      "Epoch [40/500], Train Loss: 0.4996\n",
      "Epoch [40/500], Valid Loss: 0.4712\n"
     ]
    },
    {
     "name": "stderr",
     "output_type": "stream",
     "text": [
      "Epoch 41/500: 100%|██████████| 1608/1608 [00:02<00:00, 550.74it/s]\n"
     ]
    },
    {
     "name": "stdout",
     "output_type": "stream",
     "text": [
      "Epoch [41/500], Train Loss: 0.4997\n",
      "Epoch [41/500], Valid Loss: 0.4720\n"
     ]
    },
    {
     "name": "stderr",
     "output_type": "stream",
     "text": [
      "Epoch 42/500: 100%|██████████| 1608/1608 [00:02<00:00, 561.84it/s]\n"
     ]
    },
    {
     "name": "stdout",
     "output_type": "stream",
     "text": [
      "Epoch [42/500], Train Loss: 0.5003\n",
      "Epoch [42/500], Valid Loss: 0.4719\n"
     ]
    },
    {
     "name": "stderr",
     "output_type": "stream",
     "text": [
      "Epoch 43/500: 100%|██████████| 1608/1608 [00:02<00:00, 565.07it/s]\n"
     ]
    },
    {
     "name": "stdout",
     "output_type": "stream",
     "text": [
      "Epoch [43/500], Train Loss: 0.4995\n",
      "Epoch [43/500], Valid Loss: 0.4718\n"
     ]
    },
    {
     "name": "stderr",
     "output_type": "stream",
     "text": [
      "Epoch 44/500: 100%|██████████| 1608/1608 [00:02<00:00, 562.04it/s]\n"
     ]
    },
    {
     "name": "stdout",
     "output_type": "stream",
     "text": [
      "Epoch [44/500], Train Loss: 0.4992\n",
      "Epoch [44/500], Valid Loss: 0.4717\n"
     ]
    },
    {
     "name": "stderr",
     "output_type": "stream",
     "text": [
      "Epoch 45/500: 100%|██████████| 1608/1608 [00:02<00:00, 563.80it/s]\n"
     ]
    },
    {
     "name": "stdout",
     "output_type": "stream",
     "text": [
      "Epoch [45/500], Train Loss: 0.4997\n",
      "Epoch [45/500], Valid Loss: 0.4717\n"
     ]
    },
    {
     "name": "stderr",
     "output_type": "stream",
     "text": [
      "Epoch 46/500: 100%|██████████| 1608/1608 [00:02<00:00, 564.70it/s]\n"
     ]
    },
    {
     "name": "stdout",
     "output_type": "stream",
     "text": [
      "Epoch [46/500], Train Loss: 0.5004\n",
      "Epoch [46/500], Valid Loss: 0.4717\n"
     ]
    },
    {
     "name": "stderr",
     "output_type": "stream",
     "text": [
      "Epoch 47/500: 100%|██████████| 1608/1608 [00:02<00:00, 565.19it/s]\n"
     ]
    },
    {
     "name": "stdout",
     "output_type": "stream",
     "text": [
      "Epoch [47/500], Train Loss: 0.4994\n",
      "Epoch [47/500], Valid Loss: 0.4717\n"
     ]
    },
    {
     "name": "stderr",
     "output_type": "stream",
     "text": [
      "Epoch 48/500: 100%|██████████| 1608/1608 [00:02<00:00, 558.91it/s]\n"
     ]
    },
    {
     "name": "stdout",
     "output_type": "stream",
     "text": [
      "Epoch [48/500], Train Loss: 0.5007\n",
      "Epoch [48/500], Valid Loss: 0.4717\n"
     ]
    },
    {
     "name": "stderr",
     "output_type": "stream",
     "text": [
      "Epoch 49/500: 100%|██████████| 1608/1608 [00:02<00:00, 560.56it/s]\n"
     ]
    },
    {
     "name": "stdout",
     "output_type": "stream",
     "text": [
      "Epoch [49/500], Train Loss: 0.5016\n",
      "Epoch [49/500], Valid Loss: 0.4717\n"
     ]
    },
    {
     "name": "stderr",
     "output_type": "stream",
     "text": [
      "Epoch 50/500: 100%|██████████| 1608/1608 [00:02<00:00, 556.13it/s]\n"
     ]
    },
    {
     "name": "stdout",
     "output_type": "stream",
     "text": [
      "Epoch [50/500], Train Loss: 0.4993\n",
      "Epoch [50/500], Valid Loss: 0.4717\n"
     ]
    },
    {
     "name": "stderr",
     "output_type": "stream",
     "text": [
      "Epoch 51/500: 100%|██████████| 1608/1608 [00:02<00:00, 564.72it/s]\n"
     ]
    },
    {
     "name": "stdout",
     "output_type": "stream",
     "text": [
      "Epoch [51/500], Train Loss: 0.4990\n",
      "Epoch [51/500], Valid Loss: 0.4717\n"
     ]
    },
    {
     "name": "stderr",
     "output_type": "stream",
     "text": [
      "Epoch 52/500: 100%|██████████| 1608/1608 [00:02<00:00, 562.34it/s]\n"
     ]
    },
    {
     "name": "stdout",
     "output_type": "stream",
     "text": [
      "Epoch [52/500], Train Loss: 0.5002\n",
      "Epoch [52/500], Valid Loss: 0.4717\n"
     ]
    },
    {
     "name": "stderr",
     "output_type": "stream",
     "text": [
      "Epoch 53/500: 100%|██████████| 1608/1608 [00:02<00:00, 567.09it/s]\n"
     ]
    },
    {
     "name": "stdout",
     "output_type": "stream",
     "text": [
      "Epoch [53/500], Train Loss: 0.5002\n",
      "Epoch [53/500], Valid Loss: 0.4717\n"
     ]
    },
    {
     "name": "stderr",
     "output_type": "stream",
     "text": [
      "Epoch 54/500: 100%|██████████| 1608/1608 [00:02<00:00, 558.14it/s]\n"
     ]
    },
    {
     "name": "stdout",
     "output_type": "stream",
     "text": [
      "Epoch [54/500], Train Loss: 0.5000\n",
      "Epoch [54/500], Valid Loss: 0.4717\n"
     ]
    },
    {
     "name": "stderr",
     "output_type": "stream",
     "text": [
      "Epoch 55/500: 100%|██████████| 1608/1608 [00:02<00:00, 560.66it/s]\n"
     ]
    },
    {
     "name": "stdout",
     "output_type": "stream",
     "text": [
      "Epoch [55/500], Train Loss: 0.5003\n",
      "Epoch [55/500], Valid Loss: 0.4717\n"
     ]
    },
    {
     "name": "stderr",
     "output_type": "stream",
     "text": [
      "Epoch 56/500: 100%|██████████| 1608/1608 [00:02<00:00, 561.21it/s]\n"
     ]
    },
    {
     "name": "stdout",
     "output_type": "stream",
     "text": [
      "Epoch [56/500], Train Loss: 0.4995\n",
      "Epoch [56/500], Valid Loss: 0.4717\n"
     ]
    },
    {
     "name": "stderr",
     "output_type": "stream",
     "text": [
      "Epoch 57/500: 100%|██████████| 1608/1608 [00:02<00:00, 562.43it/s]\n"
     ]
    },
    {
     "name": "stdout",
     "output_type": "stream",
     "text": [
      "Epoch [57/500], Train Loss: 0.4995\n",
      "Epoch [57/500], Valid Loss: 0.4717\n"
     ]
    },
    {
     "name": "stderr",
     "output_type": "stream",
     "text": [
      "Epoch 58/500: 100%|██████████| 1608/1608 [00:02<00:00, 559.17it/s]\n"
     ]
    },
    {
     "name": "stdout",
     "output_type": "stream",
     "text": [
      "Epoch [58/500], Train Loss: 0.5009\n",
      "Epoch [58/500], Valid Loss: 0.4717\n"
     ]
    },
    {
     "name": "stderr",
     "output_type": "stream",
     "text": [
      "Epoch 59/500: 100%|██████████| 1608/1608 [00:02<00:00, 569.96it/s]\n"
     ]
    },
    {
     "name": "stdout",
     "output_type": "stream",
     "text": [
      "Epoch [59/500], Train Loss: 0.5000\n",
      "Epoch [59/500], Valid Loss: 0.4717\n"
     ]
    },
    {
     "name": "stderr",
     "output_type": "stream",
     "text": [
      "Epoch 60/500: 100%|██████████| 1608/1608 [00:02<00:00, 559.30it/s]\n"
     ]
    },
    {
     "name": "stdout",
     "output_type": "stream",
     "text": [
      "Epoch [60/500], Train Loss: 0.5005\n",
      "Epoch [60/500], Valid Loss: 0.4717\n"
     ]
    },
    {
     "name": "stderr",
     "output_type": "stream",
     "text": [
      "Epoch 61/500: 100%|██████████| 1608/1608 [00:02<00:00, 566.11it/s]\n"
     ]
    },
    {
     "name": "stdout",
     "output_type": "stream",
     "text": [
      "Epoch [61/500], Train Loss: 0.5006\n",
      "Epoch [61/500], Valid Loss: 0.4717\n"
     ]
    },
    {
     "name": "stderr",
     "output_type": "stream",
     "text": [
      "Epoch 62/500: 100%|██████████| 1608/1608 [00:02<00:00, 568.97it/s]\n"
     ]
    },
    {
     "name": "stdout",
     "output_type": "stream",
     "text": [
      "Epoch [62/500], Train Loss: 0.4994\n",
      "Epoch [62/500], Valid Loss: 0.4717\n"
     ]
    },
    {
     "name": "stderr",
     "output_type": "stream",
     "text": [
      "Epoch 63/500: 100%|██████████| 1608/1608 [00:02<00:00, 567.45it/s]\n"
     ]
    },
    {
     "name": "stdout",
     "output_type": "stream",
     "text": [
      "Epoch [63/500], Train Loss: 0.4982\n",
      "Epoch [63/500], Valid Loss: 0.4717\n"
     ]
    },
    {
     "name": "stderr",
     "output_type": "stream",
     "text": [
      "Epoch 64/500: 100%|██████████| 1608/1608 [00:02<00:00, 569.40it/s]\n"
     ]
    },
    {
     "name": "stdout",
     "output_type": "stream",
     "text": [
      "Epoch [64/500], Train Loss: 0.4993\n",
      "Epoch [64/500], Valid Loss: 0.4717\n"
     ]
    },
    {
     "name": "stderr",
     "output_type": "stream",
     "text": [
      "Epoch 65/500: 100%|██████████| 1608/1608 [00:02<00:00, 565.39it/s]\n"
     ]
    },
    {
     "name": "stdout",
     "output_type": "stream",
     "text": [
      "Epoch [65/500], Train Loss: 0.4998\n",
      "Epoch [65/500], Valid Loss: 0.4717\n"
     ]
    },
    {
     "name": "stderr",
     "output_type": "stream",
     "text": [
      "Epoch 66/500: 100%|██████████| 1608/1608 [00:02<00:00, 563.22it/s]\n"
     ]
    },
    {
     "name": "stdout",
     "output_type": "stream",
     "text": [
      "Epoch [66/500], Train Loss: 0.5009\n",
      "Epoch [66/500], Valid Loss: 0.4717\n"
     ]
    },
    {
     "name": "stderr",
     "output_type": "stream",
     "text": [
      "Epoch 67/500: 100%|██████████| 1608/1608 [00:02<00:00, 565.98it/s]\n"
     ]
    },
    {
     "name": "stdout",
     "output_type": "stream",
     "text": [
      "Epoch [67/500], Train Loss: 0.5000\n",
      "Epoch [67/500], Valid Loss: 0.4717\n"
     ]
    },
    {
     "name": "stderr",
     "output_type": "stream",
     "text": [
      "Epoch 68/500: 100%|██████████| 1608/1608 [00:02<00:00, 565.26it/s]\n"
     ]
    },
    {
     "name": "stdout",
     "output_type": "stream",
     "text": [
      "Epoch [68/500], Train Loss: 0.4992\n",
      "Epoch [68/500], Valid Loss: 0.4717\n"
     ]
    },
    {
     "name": "stderr",
     "output_type": "stream",
     "text": [
      "Epoch 69/500: 100%|██████████| 1608/1608 [00:02<00:00, 569.19it/s]\n"
     ]
    },
    {
     "name": "stdout",
     "output_type": "stream",
     "text": [
      "Epoch [69/500], Train Loss: 0.5007\n",
      "Epoch [69/500], Valid Loss: 0.4717\n"
     ]
    },
    {
     "name": "stderr",
     "output_type": "stream",
     "text": [
      "Epoch 70/500: 100%|██████████| 1608/1608 [00:02<00:00, 567.04it/s]\n"
     ]
    },
    {
     "name": "stdout",
     "output_type": "stream",
     "text": [
      "Epoch [70/500], Train Loss: 0.4993\n",
      "Epoch [70/500], Valid Loss: 0.4717\n"
     ]
    },
    {
     "name": "stderr",
     "output_type": "stream",
     "text": [
      "Epoch 71/500: 100%|██████████| 1608/1608 [00:02<00:00, 564.57it/s]\n"
     ]
    },
    {
     "name": "stdout",
     "output_type": "stream",
     "text": [
      "Epoch [71/500], Train Loss: 0.5007\n",
      "Epoch [71/500], Valid Loss: 0.4717\n"
     ]
    },
    {
     "name": "stderr",
     "output_type": "stream",
     "text": [
      "Epoch 72/500: 100%|██████████| 1608/1608 [00:02<00:00, 560.82it/s]\n"
     ]
    },
    {
     "name": "stdout",
     "output_type": "stream",
     "text": [
      "Epoch [72/500], Train Loss: 0.4997\n",
      "Epoch [72/500], Valid Loss: 0.4717\n"
     ]
    },
    {
     "name": "stderr",
     "output_type": "stream",
     "text": [
      "Epoch 73/500: 100%|██████████| 1608/1608 [00:02<00:00, 563.33it/s]\n"
     ]
    },
    {
     "name": "stdout",
     "output_type": "stream",
     "text": [
      "Epoch [73/500], Train Loss: 0.4998\n",
      "Epoch [73/500], Valid Loss: 0.4717\n"
     ]
    },
    {
     "name": "stderr",
     "output_type": "stream",
     "text": [
      "Epoch 74/500: 100%|██████████| 1608/1608 [00:02<00:00, 560.28it/s]\n"
     ]
    },
    {
     "name": "stdout",
     "output_type": "stream",
     "text": [
      "Epoch [74/500], Train Loss: 0.4997\n",
      "Epoch [74/500], Valid Loss: 0.4717\n"
     ]
    },
    {
     "name": "stderr",
     "output_type": "stream",
     "text": [
      "Epoch 75/500: 100%|██████████| 1608/1608 [00:02<00:00, 562.82it/s]\n"
     ]
    },
    {
     "name": "stdout",
     "output_type": "stream",
     "text": [
      "Epoch [75/500], Train Loss: 0.5006\n",
      "Epoch [75/500], Valid Loss: 0.4717\n"
     ]
    },
    {
     "name": "stderr",
     "output_type": "stream",
     "text": [
      "Epoch 76/500: 100%|██████████| 1608/1608 [00:02<00:00, 566.41it/s]\n"
     ]
    },
    {
     "name": "stdout",
     "output_type": "stream",
     "text": [
      "Epoch [76/500], Train Loss: 0.4998\n",
      "Epoch [76/500], Valid Loss: 0.4717\n"
     ]
    },
    {
     "name": "stderr",
     "output_type": "stream",
     "text": [
      "Epoch 77/500: 100%|██████████| 1608/1608 [00:02<00:00, 554.96it/s]\n"
     ]
    },
    {
     "name": "stdout",
     "output_type": "stream",
     "text": [
      "Epoch [77/500], Train Loss: 0.5003\n",
      "Epoch [77/500], Valid Loss: 0.4717\n"
     ]
    },
    {
     "name": "stderr",
     "output_type": "stream",
     "text": [
      "Epoch 78/500: 100%|██████████| 1608/1608 [00:02<00:00, 554.78it/s]\n"
     ]
    },
    {
     "name": "stdout",
     "output_type": "stream",
     "text": [
      "Epoch [78/500], Train Loss: 0.5011\n",
      "Epoch [78/500], Valid Loss: 0.4717\n"
     ]
    },
    {
     "name": "stderr",
     "output_type": "stream",
     "text": [
      "Epoch 79/500: 100%|██████████| 1608/1608 [00:02<00:00, 561.58it/s]\n"
     ]
    },
    {
     "name": "stdout",
     "output_type": "stream",
     "text": [
      "Epoch [79/500], Train Loss: 0.5000\n",
      "Epoch [79/500], Valid Loss: 0.4717\n",
      "Early stopping\n",
      "normx_best_fall_detection_gru_001_mediapipe.pt 학습 시작\n",
      "\n",
      "==================== Training Configuration: GRU with input_config='mediapipe' and lr='0.001' ====================\n",
      "\n",
      "현재 입력 크기 (마지막 차원): 22\n",
      "예상 입력 크기: 22\n"
     ]
    },
    {
     "name": "stderr",
     "output_type": "stream",
     "text": [
      "Epoch 1/500: 100%|██████████| 1608/1608 [00:03<00:00, 531.89it/s]\n"
     ]
    },
    {
     "name": "stdout",
     "output_type": "stream",
     "text": [
      "Epoch [1/500], Train Loss: 0.7413\n",
      "Epoch [1/500], Valid Loss: 0.5931\n"
     ]
    },
    {
     "name": "stderr",
     "output_type": "stream",
     "text": [
      "Epoch 2/500: 100%|██████████| 1608/1608 [00:03<00:00, 519.84it/s]\n"
     ]
    },
    {
     "name": "stdout",
     "output_type": "stream",
     "text": [
      "Epoch [2/500], Train Loss: 0.5973\n",
      "Epoch [2/500], Valid Loss: 0.6208\n"
     ]
    },
    {
     "name": "stderr",
     "output_type": "stream",
     "text": [
      "Epoch 3/500: 100%|██████████| 1608/1608 [00:03<00:00, 517.03it/s]\n"
     ]
    },
    {
     "name": "stdout",
     "output_type": "stream",
     "text": [
      "Epoch [3/500], Train Loss: 0.5657\n",
      "Epoch [3/500], Valid Loss: 0.5228\n"
     ]
    },
    {
     "name": "stderr",
     "output_type": "stream",
     "text": [
      "Epoch 4/500: 100%|██████████| 1608/1608 [00:03<00:00, 520.35it/s]\n"
     ]
    },
    {
     "name": "stdout",
     "output_type": "stream",
     "text": [
      "Epoch [4/500], Train Loss: 0.5397\n",
      "Epoch [4/500], Valid Loss: 0.5053\n"
     ]
    },
    {
     "name": "stderr",
     "output_type": "stream",
     "text": [
      "Epoch 5/500: 100%|██████████| 1608/1608 [00:03<00:00, 518.35it/s]\n"
     ]
    },
    {
     "name": "stdout",
     "output_type": "stream",
     "text": [
      "Epoch [5/500], Train Loss: 0.5243\n",
      "Epoch [5/500], Valid Loss: 0.5862\n"
     ]
    },
    {
     "name": "stderr",
     "output_type": "stream",
     "text": [
      "Epoch 6/500: 100%|██████████| 1608/1608 [00:03<00:00, 517.37it/s]\n"
     ]
    },
    {
     "name": "stdout",
     "output_type": "stream",
     "text": [
      "Epoch [6/500], Train Loss: 0.5166\n",
      "Epoch [6/500], Valid Loss: 0.5131\n"
     ]
    },
    {
     "name": "stderr",
     "output_type": "stream",
     "text": [
      "Epoch 7/500: 100%|██████████| 1608/1608 [00:03<00:00, 520.62it/s]\n"
     ]
    },
    {
     "name": "stdout",
     "output_type": "stream",
     "text": [
      "Epoch [7/500], Train Loss: 0.5074\n",
      "Epoch [7/500], Valid Loss: 0.5133\n"
     ]
    },
    {
     "name": "stderr",
     "output_type": "stream",
     "text": [
      "Epoch 8/500: 100%|██████████| 1608/1608 [00:03<00:00, 517.04it/s]\n"
     ]
    },
    {
     "name": "stdout",
     "output_type": "stream",
     "text": [
      "Epoch [8/500], Train Loss: 0.5038\n",
      "Epoch [8/500], Valid Loss: 0.5691\n"
     ]
    },
    {
     "name": "stderr",
     "output_type": "stream",
     "text": [
      "Epoch 9/500: 100%|██████████| 1608/1608 [00:03<00:00, 522.55it/s]\n"
     ]
    },
    {
     "name": "stdout",
     "output_type": "stream",
     "text": [
      "Epoch [9/500], Train Loss: 0.4971\n",
      "Epoch [9/500], Valid Loss: 0.4759\n"
     ]
    },
    {
     "name": "stderr",
     "output_type": "stream",
     "text": [
      "Epoch 10/500: 100%|██████████| 1608/1608 [00:03<00:00, 521.16it/s]\n"
     ]
    },
    {
     "name": "stdout",
     "output_type": "stream",
     "text": [
      "Epoch [10/500], Train Loss: 0.4895\n",
      "Epoch [10/500], Valid Loss: 0.5523\n"
     ]
    },
    {
     "name": "stderr",
     "output_type": "stream",
     "text": [
      "Epoch 11/500: 100%|██████████| 1608/1608 [00:03<00:00, 519.54it/s]\n"
     ]
    },
    {
     "name": "stdout",
     "output_type": "stream",
     "text": [
      "Epoch [11/500], Train Loss: 0.4821\n",
      "Epoch [11/500], Valid Loss: 0.4802\n"
     ]
    },
    {
     "name": "stderr",
     "output_type": "stream",
     "text": [
      "Epoch 12/500: 100%|██████████| 1608/1608 [00:03<00:00, 520.26it/s]\n"
     ]
    },
    {
     "name": "stdout",
     "output_type": "stream",
     "text": [
      "Epoch [12/500], Train Loss: 0.4730\n",
      "Epoch [12/500], Valid Loss: 0.4694\n"
     ]
    },
    {
     "name": "stderr",
     "output_type": "stream",
     "text": [
      "Epoch 13/500: 100%|██████████| 1608/1608 [00:03<00:00, 524.05it/s]\n"
     ]
    },
    {
     "name": "stdout",
     "output_type": "stream",
     "text": [
      "Epoch [13/500], Train Loss: 0.4685\n",
      "Epoch [13/500], Valid Loss: 0.4891\n"
     ]
    },
    {
     "name": "stderr",
     "output_type": "stream",
     "text": [
      "Epoch 14/500: 100%|██████████| 1608/1608 [00:03<00:00, 527.48it/s]\n"
     ]
    },
    {
     "name": "stdout",
     "output_type": "stream",
     "text": [
      "Epoch [14/500], Train Loss: 0.4598\n",
      "Epoch [14/500], Valid Loss: 0.4566\n"
     ]
    },
    {
     "name": "stderr",
     "output_type": "stream",
     "text": [
      "Epoch 15/500: 100%|██████████| 1608/1608 [00:03<00:00, 518.79it/s]\n"
     ]
    },
    {
     "name": "stdout",
     "output_type": "stream",
     "text": [
      "Epoch [15/500], Train Loss: 0.4602\n",
      "Epoch [15/500], Valid Loss: 0.4566\n"
     ]
    },
    {
     "name": "stderr",
     "output_type": "stream",
     "text": [
      "Epoch 16/500: 100%|██████████| 1608/1608 [00:03<00:00, 523.43it/s]\n"
     ]
    },
    {
     "name": "stdout",
     "output_type": "stream",
     "text": [
      "Epoch [16/500], Train Loss: 0.4561\n",
      "Epoch [16/500], Valid Loss: 0.5046\n"
     ]
    },
    {
     "name": "stderr",
     "output_type": "stream",
     "text": [
      "Epoch 17/500: 100%|██████████| 1608/1608 [00:03<00:00, 522.66it/s]\n"
     ]
    },
    {
     "name": "stdout",
     "output_type": "stream",
     "text": [
      "Epoch [17/500], Train Loss: 0.4503\n",
      "Epoch [17/500], Valid Loss: 0.4357\n"
     ]
    },
    {
     "name": "stderr",
     "output_type": "stream",
     "text": [
      "Epoch 18/500: 100%|██████████| 1608/1608 [00:03<00:00, 520.38it/s]\n"
     ]
    },
    {
     "name": "stdout",
     "output_type": "stream",
     "text": [
      "Epoch [18/500], Train Loss: 0.4479\n",
      "Epoch [18/500], Valid Loss: 0.4753\n"
     ]
    },
    {
     "name": "stderr",
     "output_type": "stream",
     "text": [
      "Epoch 19/500: 100%|██████████| 1608/1608 [00:03<00:00, 524.29it/s]\n"
     ]
    },
    {
     "name": "stdout",
     "output_type": "stream",
     "text": [
      "Epoch [19/500], Train Loss: 0.4451\n",
      "Epoch [19/500], Valid Loss: 0.4584\n"
     ]
    },
    {
     "name": "stderr",
     "output_type": "stream",
     "text": [
      "Epoch 20/500: 100%|██████████| 1608/1608 [00:03<00:00, 519.71it/s]\n"
     ]
    },
    {
     "name": "stdout",
     "output_type": "stream",
     "text": [
      "Epoch [20/500], Train Loss: 0.4400\n",
      "Epoch [20/500], Valid Loss: 0.4490\n"
     ]
    },
    {
     "name": "stderr",
     "output_type": "stream",
     "text": [
      "Epoch 21/500: 100%|██████████| 1608/1608 [00:03<00:00, 522.92it/s]\n"
     ]
    },
    {
     "name": "stdout",
     "output_type": "stream",
     "text": [
      "Epoch [21/500], Train Loss: 0.4373\n",
      "Epoch [21/500], Valid Loss: 0.4526\n"
     ]
    },
    {
     "name": "stderr",
     "output_type": "stream",
     "text": [
      "Epoch 22/500: 100%|██████████| 1608/1608 [00:03<00:00, 526.00it/s]\n"
     ]
    },
    {
     "name": "stdout",
     "output_type": "stream",
     "text": [
      "Epoch [22/500], Train Loss: 0.4330\n",
      "Epoch [22/500], Valid Loss: 0.4916\n"
     ]
    },
    {
     "name": "stderr",
     "output_type": "stream",
     "text": [
      "Epoch 23/500: 100%|██████████| 1608/1608 [00:03<00:00, 520.05it/s]\n"
     ]
    },
    {
     "name": "stdout",
     "output_type": "stream",
     "text": [
      "Epoch [23/500], Train Loss: 0.4340\n",
      "Epoch [23/500], Valid Loss: 0.4576\n"
     ]
    },
    {
     "name": "stderr",
     "output_type": "stream",
     "text": [
      "Epoch 24/500: 100%|██████████| 1608/1608 [00:03<00:00, 526.86it/s]\n"
     ]
    },
    {
     "name": "stdout",
     "output_type": "stream",
     "text": [
      "Epoch [24/500], Train Loss: 0.3979\n",
      "Epoch [24/500], Valid Loss: 0.4204\n"
     ]
    },
    {
     "name": "stderr",
     "output_type": "stream",
     "text": [
      "Epoch 25/500: 100%|██████████| 1608/1608 [00:03<00:00, 526.09it/s]\n"
     ]
    },
    {
     "name": "stdout",
     "output_type": "stream",
     "text": [
      "Epoch [25/500], Train Loss: 0.3938\n",
      "Epoch [25/500], Valid Loss: 0.4177\n"
     ]
    },
    {
     "name": "stderr",
     "output_type": "stream",
     "text": [
      "Epoch 26/500: 100%|██████████| 1608/1608 [00:03<00:00, 525.15it/s]\n"
     ]
    },
    {
     "name": "stdout",
     "output_type": "stream",
     "text": [
      "Epoch [26/500], Train Loss: 0.3915\n",
      "Epoch [26/500], Valid Loss: 0.4131\n"
     ]
    },
    {
     "name": "stderr",
     "output_type": "stream",
     "text": [
      "Epoch 27/500: 100%|██████████| 1608/1608 [00:03<00:00, 526.52it/s]\n"
     ]
    },
    {
     "name": "stdout",
     "output_type": "stream",
     "text": [
      "Epoch [27/500], Train Loss: 0.3907\n",
      "Epoch [27/500], Valid Loss: 0.4113\n"
     ]
    },
    {
     "name": "stderr",
     "output_type": "stream",
     "text": [
      "Epoch 28/500: 100%|██████████| 1608/1608 [00:03<00:00, 515.41it/s]\n"
     ]
    },
    {
     "name": "stdout",
     "output_type": "stream",
     "text": [
      "Epoch [28/500], Train Loss: 0.3869\n",
      "Epoch [28/500], Valid Loss: 0.4100\n"
     ]
    },
    {
     "name": "stderr",
     "output_type": "stream",
     "text": [
      "Epoch 29/500: 100%|██████████| 1608/1608 [00:03<00:00, 520.55it/s]\n"
     ]
    },
    {
     "name": "stdout",
     "output_type": "stream",
     "text": [
      "Epoch [29/500], Train Loss: 0.3851\n",
      "Epoch [29/500], Valid Loss: 0.4142\n"
     ]
    },
    {
     "name": "stderr",
     "output_type": "stream",
     "text": [
      "Epoch 30/500: 100%|██████████| 1608/1608 [00:03<00:00, 532.98it/s]\n"
     ]
    },
    {
     "name": "stdout",
     "output_type": "stream",
     "text": [
      "Epoch [30/500], Train Loss: 0.3833\n",
      "Epoch [30/500], Valid Loss: 0.4114\n"
     ]
    },
    {
     "name": "stderr",
     "output_type": "stream",
     "text": [
      "Epoch 31/500: 100%|██████████| 1608/1608 [00:03<00:00, 528.24it/s]\n"
     ]
    },
    {
     "name": "stdout",
     "output_type": "stream",
     "text": [
      "Epoch [31/500], Train Loss: 0.3832\n",
      "Epoch [31/500], Valid Loss: 0.4134\n"
     ]
    },
    {
     "name": "stderr",
     "output_type": "stream",
     "text": [
      "Epoch 32/500: 100%|██████████| 1608/1608 [00:03<00:00, 524.28it/s]\n"
     ]
    },
    {
     "name": "stdout",
     "output_type": "stream",
     "text": [
      "Epoch [32/500], Train Loss: 0.3825\n",
      "Epoch [32/500], Valid Loss: 0.4138\n"
     ]
    },
    {
     "name": "stderr",
     "output_type": "stream",
     "text": [
      "Epoch 33/500: 100%|██████████| 1608/1608 [00:03<00:00, 524.37it/s]\n"
     ]
    },
    {
     "name": "stdout",
     "output_type": "stream",
     "text": [
      "Epoch [33/500], Train Loss: 0.3790\n",
      "Epoch [33/500], Valid Loss: 0.4072\n"
     ]
    },
    {
     "name": "stderr",
     "output_type": "stream",
     "text": [
      "Epoch 34/500: 100%|██████████| 1608/1608 [00:03<00:00, 527.51it/s]\n"
     ]
    },
    {
     "name": "stdout",
     "output_type": "stream",
     "text": [
      "Epoch [34/500], Train Loss: 0.3786\n",
      "Epoch [34/500], Valid Loss: 0.4146\n"
     ]
    },
    {
     "name": "stderr",
     "output_type": "stream",
     "text": [
      "Epoch 35/500: 100%|██████████| 1608/1608 [00:03<00:00, 529.08it/s]\n"
     ]
    },
    {
     "name": "stdout",
     "output_type": "stream",
     "text": [
      "Epoch [35/500], Train Loss: 0.3770\n",
      "Epoch [35/500], Valid Loss: 0.4065\n"
     ]
    },
    {
     "name": "stderr",
     "output_type": "stream",
     "text": [
      "Epoch 36/500: 100%|██████████| 1608/1608 [00:03<00:00, 522.93it/s]\n"
     ]
    },
    {
     "name": "stdout",
     "output_type": "stream",
     "text": [
      "Epoch [36/500], Train Loss: 0.3726\n",
      "Epoch [36/500], Valid Loss: 0.4077\n"
     ]
    },
    {
     "name": "stderr",
     "output_type": "stream",
     "text": [
      "Epoch 37/500: 100%|██████████| 1608/1608 [00:03<00:00, 525.15it/s]\n"
     ]
    },
    {
     "name": "stdout",
     "output_type": "stream",
     "text": [
      "Epoch [37/500], Train Loss: 0.3722\n",
      "Epoch [37/500], Valid Loss: 0.4071\n"
     ]
    },
    {
     "name": "stderr",
     "output_type": "stream",
     "text": [
      "Epoch 38/500: 100%|██████████| 1608/1608 [00:03<00:00, 521.91it/s]\n"
     ]
    },
    {
     "name": "stdout",
     "output_type": "stream",
     "text": [
      "Epoch [38/500], Train Loss: 0.3704\n",
      "Epoch [38/500], Valid Loss: 0.4050\n"
     ]
    },
    {
     "name": "stderr",
     "output_type": "stream",
     "text": [
      "Epoch 39/500: 100%|██████████| 1608/1608 [00:03<00:00, 526.38it/s]\n"
     ]
    },
    {
     "name": "stdout",
     "output_type": "stream",
     "text": [
      "Epoch [39/500], Train Loss: 0.3680\n",
      "Epoch [39/500], Valid Loss: 0.4017\n"
     ]
    },
    {
     "name": "stderr",
     "output_type": "stream",
     "text": [
      "Epoch 40/500: 100%|██████████| 1608/1608 [00:03<00:00, 531.92it/s]\n"
     ]
    },
    {
     "name": "stdout",
     "output_type": "stream",
     "text": [
      "Epoch [40/500], Train Loss: 0.3671\n",
      "Epoch [40/500], Valid Loss: 0.4021\n"
     ]
    },
    {
     "name": "stderr",
     "output_type": "stream",
     "text": [
      "Epoch 41/500: 100%|██████████| 1608/1608 [00:03<00:00, 526.15it/s]\n"
     ]
    },
    {
     "name": "stdout",
     "output_type": "stream",
     "text": [
      "Epoch [41/500], Train Loss: 0.3650\n",
      "Epoch [41/500], Valid Loss: 0.4031\n"
     ]
    },
    {
     "name": "stderr",
     "output_type": "stream",
     "text": [
      "Epoch 42/500: 100%|██████████| 1608/1608 [00:03<00:00, 525.49it/s]\n"
     ]
    },
    {
     "name": "stdout",
     "output_type": "stream",
     "text": [
      "Epoch [42/500], Train Loss: 0.3629\n",
      "Epoch [42/500], Valid Loss: 0.4042\n"
     ]
    },
    {
     "name": "stderr",
     "output_type": "stream",
     "text": [
      "Epoch 43/500: 100%|██████████| 1608/1608 [00:03<00:00, 526.00it/s]\n"
     ]
    },
    {
     "name": "stdout",
     "output_type": "stream",
     "text": [
      "Epoch [43/500], Train Loss: 0.3635\n",
      "Epoch [43/500], Valid Loss: 0.4006\n"
     ]
    },
    {
     "name": "stderr",
     "output_type": "stream",
     "text": [
      "Epoch 44/500: 100%|██████████| 1608/1608 [00:03<00:00, 519.46it/s]\n"
     ]
    },
    {
     "name": "stdout",
     "output_type": "stream",
     "text": [
      "Epoch [44/500], Train Loss: 0.3615\n",
      "Epoch [44/500], Valid Loss: 0.3994\n"
     ]
    },
    {
     "name": "stderr",
     "output_type": "stream",
     "text": [
      "Epoch 45/500: 100%|██████████| 1608/1608 [00:03<00:00, 521.57it/s]\n"
     ]
    },
    {
     "name": "stdout",
     "output_type": "stream",
     "text": [
      "Epoch [45/500], Train Loss: 0.3590\n",
      "Epoch [45/500], Valid Loss: 0.3991\n"
     ]
    },
    {
     "name": "stderr",
     "output_type": "stream",
     "text": [
      "Epoch 46/500: 100%|██████████| 1608/1608 [00:03<00:00, 524.29it/s]\n"
     ]
    },
    {
     "name": "stdout",
     "output_type": "stream",
     "text": [
      "Epoch [46/500], Train Loss: 0.3584\n",
      "Epoch [46/500], Valid Loss: 0.4026\n"
     ]
    },
    {
     "name": "stderr",
     "output_type": "stream",
     "text": [
      "Epoch 47/500: 100%|██████████| 1608/1608 [00:03<00:00, 520.39it/s]\n"
     ]
    },
    {
     "name": "stdout",
     "output_type": "stream",
     "text": [
      "Epoch [47/500], Train Loss: 0.3575\n",
      "Epoch [47/500], Valid Loss: 0.3969\n"
     ]
    },
    {
     "name": "stderr",
     "output_type": "stream",
     "text": [
      "Epoch 48/500: 100%|██████████| 1608/1608 [00:03<00:00, 515.71it/s]\n"
     ]
    },
    {
     "name": "stdout",
     "output_type": "stream",
     "text": [
      "Epoch [48/500], Train Loss: 0.3557\n",
      "Epoch [48/500], Valid Loss: 0.3979\n"
     ]
    },
    {
     "name": "stderr",
     "output_type": "stream",
     "text": [
      "Epoch 49/500: 100%|██████████| 1608/1608 [00:03<00:00, 521.46it/s]\n"
     ]
    },
    {
     "name": "stdout",
     "output_type": "stream",
     "text": [
      "Epoch [49/500], Train Loss: 0.3553\n",
      "Epoch [49/500], Valid Loss: 0.4041\n"
     ]
    },
    {
     "name": "stderr",
     "output_type": "stream",
     "text": [
      "Epoch 50/500: 100%|██████████| 1608/1608 [00:03<00:00, 529.27it/s]\n"
     ]
    },
    {
     "name": "stdout",
     "output_type": "stream",
     "text": [
      "Epoch [50/500], Train Loss: 0.3538\n",
      "Epoch [50/500], Valid Loss: 0.3959\n"
     ]
    },
    {
     "name": "stderr",
     "output_type": "stream",
     "text": [
      "Epoch 51/500: 100%|██████████| 1608/1608 [00:03<00:00, 527.56it/s]\n"
     ]
    },
    {
     "name": "stdout",
     "output_type": "stream",
     "text": [
      "Epoch [51/500], Train Loss: 0.3541\n",
      "Epoch [51/500], Valid Loss: 0.3973\n"
     ]
    },
    {
     "name": "stderr",
     "output_type": "stream",
     "text": [
      "Epoch 52/500: 100%|██████████| 1608/1608 [00:03<00:00, 523.06it/s]\n"
     ]
    },
    {
     "name": "stdout",
     "output_type": "stream",
     "text": [
      "Epoch [52/500], Train Loss: 0.3519\n",
      "Epoch [52/500], Valid Loss: 0.3935\n"
     ]
    },
    {
     "name": "stderr",
     "output_type": "stream",
     "text": [
      "Epoch 53/500: 100%|██████████| 1608/1608 [00:03<00:00, 522.57it/s]\n"
     ]
    },
    {
     "name": "stdout",
     "output_type": "stream",
     "text": [
      "Epoch [53/500], Train Loss: 0.3509\n",
      "Epoch [53/500], Valid Loss: 0.3931\n"
     ]
    },
    {
     "name": "stderr",
     "output_type": "stream",
     "text": [
      "Epoch 54/500: 100%|██████████| 1608/1608 [00:03<00:00, 524.29it/s]\n"
     ]
    },
    {
     "name": "stdout",
     "output_type": "stream",
     "text": [
      "Epoch [54/500], Train Loss: 0.3492\n",
      "Epoch [54/500], Valid Loss: 0.3917\n"
     ]
    },
    {
     "name": "stderr",
     "output_type": "stream",
     "text": [
      "Epoch 55/500: 100%|██████████| 1608/1608 [00:03<00:00, 525.05it/s]\n"
     ]
    },
    {
     "name": "stdout",
     "output_type": "stream",
     "text": [
      "Epoch [55/500], Train Loss: 0.3479\n",
      "Epoch [55/500], Valid Loss: 0.3980\n"
     ]
    },
    {
     "name": "stderr",
     "output_type": "stream",
     "text": [
      "Epoch 56/500: 100%|██████████| 1608/1608 [00:03<00:00, 529.94it/s]\n"
     ]
    },
    {
     "name": "stdout",
     "output_type": "stream",
     "text": [
      "Epoch [56/500], Train Loss: 0.3478\n",
      "Epoch [56/500], Valid Loss: 0.3894\n"
     ]
    },
    {
     "name": "stderr",
     "output_type": "stream",
     "text": [
      "Epoch 57/500: 100%|██████████| 1608/1608 [00:03<00:00, 527.19it/s]\n"
     ]
    },
    {
     "name": "stdout",
     "output_type": "stream",
     "text": [
      "Epoch [57/500], Train Loss: 0.3467\n",
      "Epoch [57/500], Valid Loss: 0.3943\n"
     ]
    },
    {
     "name": "stderr",
     "output_type": "stream",
     "text": [
      "Epoch 58/500: 100%|██████████| 1608/1608 [00:03<00:00, 525.63it/s]\n"
     ]
    },
    {
     "name": "stdout",
     "output_type": "stream",
     "text": [
      "Epoch [58/500], Train Loss: 0.3443\n",
      "Epoch [58/500], Valid Loss: 0.3939\n"
     ]
    },
    {
     "name": "stderr",
     "output_type": "stream",
     "text": [
      "Epoch 59/500: 100%|██████████| 1608/1608 [00:03<00:00, 528.18it/s]\n"
     ]
    },
    {
     "name": "stdout",
     "output_type": "stream",
     "text": [
      "Epoch [59/500], Train Loss: 0.3439\n",
      "Epoch [59/500], Valid Loss: 0.3884\n"
     ]
    },
    {
     "name": "stderr",
     "output_type": "stream",
     "text": [
      "Epoch 60/500: 100%|██████████| 1608/1608 [00:03<00:00, 519.79it/s]\n"
     ]
    },
    {
     "name": "stdout",
     "output_type": "stream",
     "text": [
      "Epoch [60/500], Train Loss: 0.3400\n",
      "Epoch [60/500], Valid Loss: 0.3949\n"
     ]
    },
    {
     "name": "stderr",
     "output_type": "stream",
     "text": [
      "Epoch 61/500: 100%|██████████| 1608/1608 [00:03<00:00, 522.15it/s]\n"
     ]
    },
    {
     "name": "stdout",
     "output_type": "stream",
     "text": [
      "Epoch [61/500], Train Loss: 0.3408\n",
      "Epoch [61/500], Valid Loss: 0.3871\n"
     ]
    },
    {
     "name": "stderr",
     "output_type": "stream",
     "text": [
      "Epoch 62/500: 100%|██████████| 1608/1608 [00:03<00:00, 529.65it/s]\n"
     ]
    },
    {
     "name": "stdout",
     "output_type": "stream",
     "text": [
      "Epoch [62/500], Train Loss: 0.3389\n",
      "Epoch [62/500], Valid Loss: 0.3879\n"
     ]
    },
    {
     "name": "stderr",
     "output_type": "stream",
     "text": [
      "Epoch 63/500: 100%|██████████| 1608/1608 [00:03<00:00, 527.29it/s]\n"
     ]
    },
    {
     "name": "stdout",
     "output_type": "stream",
     "text": [
      "Epoch [63/500], Train Loss: 0.3369\n",
      "Epoch [63/500], Valid Loss: 0.3848\n"
     ]
    },
    {
     "name": "stderr",
     "output_type": "stream",
     "text": [
      "Epoch 64/500: 100%|██████████| 1608/1608 [00:03<00:00, 529.99it/s]\n"
     ]
    },
    {
     "name": "stdout",
     "output_type": "stream",
     "text": [
      "Epoch [64/500], Train Loss: 0.3365\n",
      "Epoch [64/500], Valid Loss: 0.3820\n"
     ]
    },
    {
     "name": "stderr",
     "output_type": "stream",
     "text": [
      "Epoch 65/500: 100%|██████████| 1608/1608 [00:03<00:00, 529.91it/s]\n"
     ]
    },
    {
     "name": "stdout",
     "output_type": "stream",
     "text": [
      "Epoch [65/500], Train Loss: 0.3358\n",
      "Epoch [65/500], Valid Loss: 0.3870\n"
     ]
    },
    {
     "name": "stderr",
     "output_type": "stream",
     "text": [
      "Epoch 66/500: 100%|██████████| 1608/1608 [00:03<00:00, 527.86it/s]\n"
     ]
    },
    {
     "name": "stdout",
     "output_type": "stream",
     "text": [
      "Epoch [66/500], Train Loss: 0.3339\n",
      "Epoch [66/500], Valid Loss: 0.3864\n"
     ]
    },
    {
     "name": "stderr",
     "output_type": "stream",
     "text": [
      "Epoch 67/500: 100%|██████████| 1608/1608 [00:03<00:00, 528.26it/s]\n"
     ]
    },
    {
     "name": "stdout",
     "output_type": "stream",
     "text": [
      "Epoch [67/500], Train Loss: 0.3342\n",
      "Epoch [67/500], Valid Loss: 0.3819\n"
     ]
    },
    {
     "name": "stderr",
     "output_type": "stream",
     "text": [
      "Epoch 68/500: 100%|██████████| 1608/1608 [00:03<00:00, 525.73it/s]\n"
     ]
    },
    {
     "name": "stdout",
     "output_type": "stream",
     "text": [
      "Epoch [68/500], Train Loss: 0.3305\n",
      "Epoch [68/500], Valid Loss: 0.3807\n"
     ]
    },
    {
     "name": "stderr",
     "output_type": "stream",
     "text": [
      "Epoch 69/500: 100%|██████████| 1608/1608 [00:03<00:00, 522.75it/s]\n"
     ]
    },
    {
     "name": "stdout",
     "output_type": "stream",
     "text": [
      "Epoch [69/500], Train Loss: 0.3307\n",
      "Epoch [69/500], Valid Loss: 0.3835\n"
     ]
    },
    {
     "name": "stderr",
     "output_type": "stream",
     "text": [
      "Epoch 70/500: 100%|██████████| 1608/1608 [00:03<00:00, 526.24it/s]\n"
     ]
    },
    {
     "name": "stdout",
     "output_type": "stream",
     "text": [
      "Epoch [70/500], Train Loss: 0.3284\n",
      "Epoch [70/500], Valid Loss: 0.3893\n"
     ]
    },
    {
     "name": "stderr",
     "output_type": "stream",
     "text": [
      "Epoch 71/500: 100%|██████████| 1608/1608 [00:03<00:00, 520.79it/s]\n"
     ]
    },
    {
     "name": "stdout",
     "output_type": "stream",
     "text": [
      "Epoch [71/500], Train Loss: 0.3282\n",
      "Epoch [71/500], Valid Loss: 0.3801\n"
     ]
    },
    {
     "name": "stderr",
     "output_type": "stream",
     "text": [
      "Epoch 72/500: 100%|██████████| 1608/1608 [00:03<00:00, 521.23it/s]\n"
     ]
    },
    {
     "name": "stdout",
     "output_type": "stream",
     "text": [
      "Epoch [72/500], Train Loss: 0.3256\n",
      "Epoch [72/500], Valid Loss: 0.3831\n"
     ]
    },
    {
     "name": "stderr",
     "output_type": "stream",
     "text": [
      "Epoch 73/500: 100%|██████████| 1608/1608 [00:03<00:00, 521.35it/s]\n"
     ]
    },
    {
     "name": "stdout",
     "output_type": "stream",
     "text": [
      "Epoch [73/500], Train Loss: 0.3237\n",
      "Epoch [73/500], Valid Loss: 0.3855\n"
     ]
    },
    {
     "name": "stderr",
     "output_type": "stream",
     "text": [
      "Epoch 74/500: 100%|██████████| 1608/1608 [00:03<00:00, 520.72it/s]\n"
     ]
    },
    {
     "name": "stdout",
     "output_type": "stream",
     "text": [
      "Epoch [74/500], Train Loss: 0.3232\n",
      "Epoch [74/500], Valid Loss: 0.3784\n"
     ]
    },
    {
     "name": "stderr",
     "output_type": "stream",
     "text": [
      "Epoch 75/500: 100%|██████████| 1608/1608 [00:03<00:00, 520.89it/s]\n"
     ]
    },
    {
     "name": "stdout",
     "output_type": "stream",
     "text": [
      "Epoch [75/500], Train Loss: 0.3223\n",
      "Epoch [75/500], Valid Loss: 0.3751\n"
     ]
    },
    {
     "name": "stderr",
     "output_type": "stream",
     "text": [
      "Epoch 76/500: 100%|██████████| 1608/1608 [00:03<00:00, 517.70it/s]\n"
     ]
    },
    {
     "name": "stdout",
     "output_type": "stream",
     "text": [
      "Epoch [76/500], Train Loss: 0.3205\n",
      "Epoch [76/500], Valid Loss: 0.3785\n"
     ]
    },
    {
     "name": "stderr",
     "output_type": "stream",
     "text": [
      "Epoch 77/500: 100%|██████████| 1608/1608 [00:03<00:00, 521.74it/s]\n"
     ]
    },
    {
     "name": "stdout",
     "output_type": "stream",
     "text": [
      "Epoch [77/500], Train Loss: 0.3199\n",
      "Epoch [77/500], Valid Loss: 0.3750\n"
     ]
    },
    {
     "name": "stderr",
     "output_type": "stream",
     "text": [
      "Epoch 78/500: 100%|██████████| 1608/1608 [00:03<00:00, 522.13it/s]\n"
     ]
    },
    {
     "name": "stdout",
     "output_type": "stream",
     "text": [
      "Epoch [78/500], Train Loss: 0.3171\n",
      "Epoch [78/500], Valid Loss: 0.3785\n"
     ]
    },
    {
     "name": "stderr",
     "output_type": "stream",
     "text": [
      "Epoch 79/500: 100%|██████████| 1608/1608 [00:03<00:00, 522.07it/s]\n"
     ]
    },
    {
     "name": "stdout",
     "output_type": "stream",
     "text": [
      "Epoch [79/500], Train Loss: 0.3157\n",
      "Epoch [79/500], Valid Loss: 0.3795\n"
     ]
    },
    {
     "name": "stderr",
     "output_type": "stream",
     "text": [
      "Epoch 80/500: 100%|██████████| 1608/1608 [00:03<00:00, 521.57it/s]\n"
     ]
    },
    {
     "name": "stdout",
     "output_type": "stream",
     "text": [
      "Epoch [80/500], Train Loss: 0.3160\n",
      "Epoch [80/500], Valid Loss: 0.3798\n"
     ]
    },
    {
     "name": "stderr",
     "output_type": "stream",
     "text": [
      "Epoch 81/500: 100%|██████████| 1608/1608 [00:03<00:00, 520.55it/s]\n"
     ]
    },
    {
     "name": "stdout",
     "output_type": "stream",
     "text": [
      "Epoch [81/500], Train Loss: 0.3155\n",
      "Epoch [81/500], Valid Loss: 0.3713\n"
     ]
    },
    {
     "name": "stderr",
     "output_type": "stream",
     "text": [
      "Epoch 82/500: 100%|██████████| 1608/1608 [00:03<00:00, 523.23it/s]\n"
     ]
    },
    {
     "name": "stdout",
     "output_type": "stream",
     "text": [
      "Epoch [82/500], Train Loss: 0.3103\n",
      "Epoch [82/500], Valid Loss: 0.3736\n"
     ]
    },
    {
     "name": "stderr",
     "output_type": "stream",
     "text": [
      "Epoch 83/500: 100%|██████████| 1608/1608 [00:03<00:00, 526.35it/s]\n"
     ]
    },
    {
     "name": "stdout",
     "output_type": "stream",
     "text": [
      "Epoch [83/500], Train Loss: 0.3103\n",
      "Epoch [83/500], Valid Loss: 0.3812\n"
     ]
    },
    {
     "name": "stderr",
     "output_type": "stream",
     "text": [
      "Epoch 84/500: 100%|██████████| 1608/1608 [00:03<00:00, 521.83it/s]\n"
     ]
    },
    {
     "name": "stdout",
     "output_type": "stream",
     "text": [
      "Epoch [84/500], Train Loss: 0.3090\n",
      "Epoch [84/500], Valid Loss: 0.3772\n"
     ]
    },
    {
     "name": "stderr",
     "output_type": "stream",
     "text": [
      "Epoch 85/500: 100%|██████████| 1608/1608 [00:03<00:00, 531.99it/s]\n"
     ]
    },
    {
     "name": "stdout",
     "output_type": "stream",
     "text": [
      "Epoch [85/500], Train Loss: 0.3071\n",
      "Epoch [85/500], Valid Loss: 0.3740\n"
     ]
    },
    {
     "name": "stderr",
     "output_type": "stream",
     "text": [
      "Epoch 86/500: 100%|██████████| 1608/1608 [00:03<00:00, 533.52it/s]\n"
     ]
    },
    {
     "name": "stdout",
     "output_type": "stream",
     "text": [
      "Epoch [86/500], Train Loss: 0.3074\n",
      "Epoch [86/500], Valid Loss: 0.3704\n"
     ]
    },
    {
     "name": "stderr",
     "output_type": "stream",
     "text": [
      "Epoch 87/500: 100%|██████████| 1608/1608 [00:03<00:00, 533.16it/s]\n"
     ]
    },
    {
     "name": "stdout",
     "output_type": "stream",
     "text": [
      "Epoch [87/500], Train Loss: 0.3065\n",
      "Epoch [87/500], Valid Loss: 0.3779\n"
     ]
    },
    {
     "name": "stderr",
     "output_type": "stream",
     "text": [
      "Epoch 88/500: 100%|██████████| 1608/1608 [00:03<00:00, 528.12it/s]\n"
     ]
    },
    {
     "name": "stdout",
     "output_type": "stream",
     "text": [
      "Epoch [88/500], Train Loss: 0.3039\n",
      "Epoch [88/500], Valid Loss: 0.3694\n"
     ]
    },
    {
     "name": "stderr",
     "output_type": "stream",
     "text": [
      "Epoch 89/500: 100%|██████████| 1608/1608 [00:03<00:00, 530.85it/s]\n"
     ]
    },
    {
     "name": "stdout",
     "output_type": "stream",
     "text": [
      "Epoch [89/500], Train Loss: 0.3031\n",
      "Epoch [89/500], Valid Loss: 0.3748\n"
     ]
    },
    {
     "name": "stderr",
     "output_type": "stream",
     "text": [
      "Epoch 90/500: 100%|██████████| 1608/1608 [00:03<00:00, 534.02it/s]\n"
     ]
    },
    {
     "name": "stdout",
     "output_type": "stream",
     "text": [
      "Epoch [90/500], Train Loss: 0.3008\n",
      "Epoch [90/500], Valid Loss: 0.3751\n"
     ]
    },
    {
     "name": "stderr",
     "output_type": "stream",
     "text": [
      "Epoch 91/500: 100%|██████████| 1608/1608 [00:03<00:00, 528.42it/s]\n"
     ]
    },
    {
     "name": "stdout",
     "output_type": "stream",
     "text": [
      "Epoch [91/500], Train Loss: 0.3010\n",
      "Epoch [91/500], Valid Loss: 0.3730\n"
     ]
    },
    {
     "name": "stderr",
     "output_type": "stream",
     "text": [
      "Epoch 92/500: 100%|██████████| 1608/1608 [00:03<00:00, 531.89it/s]\n"
     ]
    },
    {
     "name": "stdout",
     "output_type": "stream",
     "text": [
      "Epoch [92/500], Train Loss: 0.2971\n",
      "Epoch [92/500], Valid Loss: 0.3761\n"
     ]
    },
    {
     "name": "stderr",
     "output_type": "stream",
     "text": [
      "Epoch 93/500: 100%|██████████| 1608/1608 [00:03<00:00, 532.85it/s]\n"
     ]
    },
    {
     "name": "stdout",
     "output_type": "stream",
     "text": [
      "Epoch [93/500], Train Loss: 0.2972\n",
      "Epoch [93/500], Valid Loss: 0.3716\n"
     ]
    },
    {
     "name": "stderr",
     "output_type": "stream",
     "text": [
      "Epoch 94/500: 100%|██████████| 1608/1608 [00:03<00:00, 527.39it/s]\n"
     ]
    },
    {
     "name": "stdout",
     "output_type": "stream",
     "text": [
      "Epoch [94/500], Train Loss: 0.2952\n",
      "Epoch [94/500], Valid Loss: 0.3707\n"
     ]
    },
    {
     "name": "stderr",
     "output_type": "stream",
     "text": [
      "Epoch 95/500: 100%|██████████| 1608/1608 [00:03<00:00, 525.93it/s]\n"
     ]
    },
    {
     "name": "stdout",
     "output_type": "stream",
     "text": [
      "Epoch [95/500], Train Loss: 0.2842\n",
      "Epoch [95/500], Valid Loss: 0.3675\n"
     ]
    },
    {
     "name": "stderr",
     "output_type": "stream",
     "text": [
      "Epoch 96/500: 100%|██████████| 1608/1608 [00:03<00:00, 520.55it/s]\n"
     ]
    },
    {
     "name": "stdout",
     "output_type": "stream",
     "text": [
      "Epoch [96/500], Train Loss: 0.2822\n",
      "Epoch [96/500], Valid Loss: 0.3680\n"
     ]
    },
    {
     "name": "stderr",
     "output_type": "stream",
     "text": [
      "Epoch 97/500: 100%|██████████| 1608/1608 [00:03<00:00, 524.46it/s]\n"
     ]
    },
    {
     "name": "stdout",
     "output_type": "stream",
     "text": [
      "Epoch [97/500], Train Loss: 0.2815\n",
      "Epoch [97/500], Valid Loss: 0.3674\n"
     ]
    },
    {
     "name": "stderr",
     "output_type": "stream",
     "text": [
      "Epoch 98/500: 100%|██████████| 1608/1608 [00:03<00:00, 520.05it/s]\n"
     ]
    },
    {
     "name": "stdout",
     "output_type": "stream",
     "text": [
      "Epoch [98/500], Train Loss: 0.2825\n",
      "Epoch [98/500], Valid Loss: 0.3672\n"
     ]
    },
    {
     "name": "stderr",
     "output_type": "stream",
     "text": [
      "Epoch 99/500: 100%|██████████| 1608/1608 [00:03<00:00, 519.03it/s]\n"
     ]
    },
    {
     "name": "stdout",
     "output_type": "stream",
     "text": [
      "Epoch [99/500], Train Loss: 0.2823\n",
      "Epoch [99/500], Valid Loss: 0.3666\n"
     ]
    },
    {
     "name": "stderr",
     "output_type": "stream",
     "text": [
      "Epoch 100/500: 100%|██████████| 1608/1608 [00:03<00:00, 522.24it/s]\n"
     ]
    },
    {
     "name": "stdout",
     "output_type": "stream",
     "text": [
      "Epoch [100/500], Train Loss: 0.2822\n",
      "Epoch [100/500], Valid Loss: 0.3665\n"
     ]
    },
    {
     "name": "stderr",
     "output_type": "stream",
     "text": [
      "Epoch 101/500: 100%|██████████| 1608/1608 [00:03<00:00, 528.75it/s]\n"
     ]
    },
    {
     "name": "stdout",
     "output_type": "stream",
     "text": [
      "Epoch [101/500], Train Loss: 0.2806\n",
      "Epoch [101/500], Valid Loss: 0.3672\n"
     ]
    },
    {
     "name": "stderr",
     "output_type": "stream",
     "text": [
      "Epoch 102/500: 100%|██████████| 1608/1608 [00:03<00:00, 529.60it/s]\n"
     ]
    },
    {
     "name": "stdout",
     "output_type": "stream",
     "text": [
      "Epoch [102/500], Train Loss: 0.2815\n",
      "Epoch [102/500], Valid Loss: 0.3664\n"
     ]
    },
    {
     "name": "stderr",
     "output_type": "stream",
     "text": [
      "Epoch 103/500: 100%|██████████| 1608/1608 [00:03<00:00, 522.05it/s]\n"
     ]
    },
    {
     "name": "stdout",
     "output_type": "stream",
     "text": [
      "Epoch [103/500], Train Loss: 0.2800\n",
      "Epoch [103/500], Valid Loss: 0.3679\n"
     ]
    },
    {
     "name": "stderr",
     "output_type": "stream",
     "text": [
      "Epoch 104/500: 100%|██████████| 1608/1608 [00:03<00:00, 523.44it/s]\n"
     ]
    },
    {
     "name": "stdout",
     "output_type": "stream",
     "text": [
      "Epoch [104/500], Train Loss: 0.2808\n",
      "Epoch [104/500], Valid Loss: 0.3689\n"
     ]
    },
    {
     "name": "stderr",
     "output_type": "stream",
     "text": [
      "Epoch 105/500: 100%|██████████| 1608/1608 [00:03<00:00, 522.91it/s]\n"
     ]
    },
    {
     "name": "stdout",
     "output_type": "stream",
     "text": [
      "Epoch [105/500], Train Loss: 0.2805\n",
      "Epoch [105/500], Valid Loss: 0.3672\n"
     ]
    },
    {
     "name": "stderr",
     "output_type": "stream",
     "text": [
      "Epoch 106/500: 100%|██████████| 1608/1608 [00:03<00:00, 525.82it/s]\n"
     ]
    },
    {
     "name": "stdout",
     "output_type": "stream",
     "text": [
      "Epoch [106/500], Train Loss: 0.2808\n",
      "Epoch [106/500], Valid Loss: 0.3681\n"
     ]
    },
    {
     "name": "stderr",
     "output_type": "stream",
     "text": [
      "Epoch 107/500: 100%|██████████| 1608/1608 [00:03<00:00, 530.98it/s]\n"
     ]
    },
    {
     "name": "stdout",
     "output_type": "stream",
     "text": [
      "Epoch [107/500], Train Loss: 0.2789\n",
      "Epoch [107/500], Valid Loss: 0.3664\n"
     ]
    },
    {
     "name": "stderr",
     "output_type": "stream",
     "text": [
      "Epoch 108/500: 100%|██████████| 1608/1608 [00:03<00:00, 520.51it/s]\n"
     ]
    },
    {
     "name": "stdout",
     "output_type": "stream",
     "text": [
      "Epoch [108/500], Train Loss: 0.2795\n",
      "Epoch [108/500], Valid Loss: 0.3669\n"
     ]
    },
    {
     "name": "stderr",
     "output_type": "stream",
     "text": [
      "Epoch 109/500: 100%|██████████| 1608/1608 [00:03<00:00, 523.39it/s]\n"
     ]
    },
    {
     "name": "stdout",
     "output_type": "stream",
     "text": [
      "Epoch [109/500], Train Loss: 0.2773\n",
      "Epoch [109/500], Valid Loss: 0.3668\n"
     ]
    },
    {
     "name": "stderr",
     "output_type": "stream",
     "text": [
      "Epoch 110/500: 100%|██████████| 1608/1608 [00:03<00:00, 525.08it/s]\n"
     ]
    },
    {
     "name": "stdout",
     "output_type": "stream",
     "text": [
      "Epoch [110/500], Train Loss: 0.2782\n",
      "Epoch [110/500], Valid Loss: 0.3669\n"
     ]
    },
    {
     "name": "stderr",
     "output_type": "stream",
     "text": [
      "Epoch 111/500: 100%|██████████| 1608/1608 [00:03<00:00, 526.22it/s]\n"
     ]
    },
    {
     "name": "stdout",
     "output_type": "stream",
     "text": [
      "Epoch [111/500], Train Loss: 0.2785\n",
      "Epoch [111/500], Valid Loss: 0.3671\n"
     ]
    },
    {
     "name": "stderr",
     "output_type": "stream",
     "text": [
      "Epoch 112/500: 100%|██████████| 1608/1608 [00:03<00:00, 524.64it/s]\n"
     ]
    },
    {
     "name": "stdout",
     "output_type": "stream",
     "text": [
      "Epoch [112/500], Train Loss: 0.2762\n",
      "Epoch [112/500], Valid Loss: 0.3670\n"
     ]
    },
    {
     "name": "stderr",
     "output_type": "stream",
     "text": [
      "Epoch 113/500: 100%|██████████| 1608/1608 [00:03<00:00, 528.83it/s]\n"
     ]
    },
    {
     "name": "stdout",
     "output_type": "stream",
     "text": [
      "Epoch [113/500], Train Loss: 0.2778\n",
      "Epoch [113/500], Valid Loss: 0.3671\n"
     ]
    },
    {
     "name": "stderr",
     "output_type": "stream",
     "text": [
      "Epoch 114/500: 100%|██████████| 1608/1608 [00:03<00:00, 528.74it/s]\n"
     ]
    },
    {
     "name": "stdout",
     "output_type": "stream",
     "text": [
      "Epoch [114/500], Train Loss: 0.2775\n",
      "Epoch [114/500], Valid Loss: 0.3669\n"
     ]
    },
    {
     "name": "stderr",
     "output_type": "stream",
     "text": [
      "Epoch 115/500: 100%|██████████| 1608/1608 [00:03<00:00, 532.91it/s]\n"
     ]
    },
    {
     "name": "stdout",
     "output_type": "stream",
     "text": [
      "Epoch [115/500], Train Loss: 0.2773\n",
      "Epoch [115/500], Valid Loss: 0.3669\n"
     ]
    },
    {
     "name": "stderr",
     "output_type": "stream",
     "text": [
      "Epoch 116/500: 100%|██████████| 1608/1608 [00:03<00:00, 523.09it/s]\n"
     ]
    },
    {
     "name": "stdout",
     "output_type": "stream",
     "text": [
      "Epoch [116/500], Train Loss: 0.2783\n",
      "Epoch [116/500], Valid Loss: 0.3669\n"
     ]
    },
    {
     "name": "stderr",
     "output_type": "stream",
     "text": [
      "Epoch 117/500: 100%|██████████| 1608/1608 [00:03<00:00, 525.83it/s]\n"
     ]
    },
    {
     "name": "stdout",
     "output_type": "stream",
     "text": [
      "Epoch [117/500], Train Loss: 0.2777\n",
      "Epoch [117/500], Valid Loss: 0.3669\n"
     ]
    },
    {
     "name": "stderr",
     "output_type": "stream",
     "text": [
      "Epoch 118/500: 100%|██████████| 1608/1608 [00:03<00:00, 526.99it/s]\n"
     ]
    },
    {
     "name": "stdout",
     "output_type": "stream",
     "text": [
      "Epoch [118/500], Train Loss: 0.2777\n",
      "Epoch [118/500], Valid Loss: 0.3669\n"
     ]
    },
    {
     "name": "stderr",
     "output_type": "stream",
     "text": [
      "Epoch 119/500: 100%|██████████| 1608/1608 [00:03<00:00, 529.48it/s]\n"
     ]
    },
    {
     "name": "stdout",
     "output_type": "stream",
     "text": [
      "Epoch [119/500], Train Loss: 0.2769\n",
      "Epoch [119/500], Valid Loss: 0.3669\n"
     ]
    },
    {
     "name": "stderr",
     "output_type": "stream",
     "text": [
      "Epoch 120/500: 100%|██████████| 1608/1608 [00:03<00:00, 531.16it/s]\n"
     ]
    },
    {
     "name": "stdout",
     "output_type": "stream",
     "text": [
      "Epoch [120/500], Train Loss: 0.2787\n",
      "Epoch [120/500], Valid Loss: 0.3669\n"
     ]
    },
    {
     "name": "stderr",
     "output_type": "stream",
     "text": [
      "Epoch 121/500: 100%|██████████| 1608/1608 [00:03<00:00, 528.75it/s]\n"
     ]
    },
    {
     "name": "stdout",
     "output_type": "stream",
     "text": [
      "Epoch [121/500], Train Loss: 0.2782\n",
      "Epoch [121/500], Valid Loss: 0.3669\n"
     ]
    },
    {
     "name": "stderr",
     "output_type": "stream",
     "text": [
      "Epoch 122/500: 100%|██████████| 1608/1608 [00:03<00:00, 526.04it/s]\n"
     ]
    },
    {
     "name": "stdout",
     "output_type": "stream",
     "text": [
      "Epoch [122/500], Train Loss: 0.2773\n",
      "Epoch [122/500], Valid Loss: 0.3669\n"
     ]
    },
    {
     "name": "stderr",
     "output_type": "stream",
     "text": [
      "Epoch 123/500: 100%|██████████| 1608/1608 [00:03<00:00, 526.35it/s]\n"
     ]
    },
    {
     "name": "stdout",
     "output_type": "stream",
     "text": [
      "Epoch [123/500], Train Loss: 0.2768\n",
      "Epoch [123/500], Valid Loss: 0.3669\n"
     ]
    },
    {
     "name": "stderr",
     "output_type": "stream",
     "text": [
      "Epoch 124/500: 100%|██████████| 1608/1608 [00:03<00:00, 525.69it/s]\n"
     ]
    },
    {
     "name": "stdout",
     "output_type": "stream",
     "text": [
      "Epoch [124/500], Train Loss: 0.2779\n",
      "Epoch [124/500], Valid Loss: 0.3669\n"
     ]
    },
    {
     "name": "stderr",
     "output_type": "stream",
     "text": [
      "Epoch 125/500: 100%|██████████| 1608/1608 [00:03<00:00, 526.52it/s]\n"
     ]
    },
    {
     "name": "stdout",
     "output_type": "stream",
     "text": [
      "Epoch [125/500], Train Loss: 0.2771\n",
      "Epoch [125/500], Valid Loss: 0.3669\n"
     ]
    },
    {
     "name": "stderr",
     "output_type": "stream",
     "text": [
      "Epoch 126/500: 100%|██████████| 1608/1608 [00:03<00:00, 527.54it/s]\n"
     ]
    },
    {
     "name": "stdout",
     "output_type": "stream",
     "text": [
      "Epoch [126/500], Train Loss: 0.2769\n",
      "Epoch [126/500], Valid Loss: 0.3669\n"
     ]
    },
    {
     "name": "stderr",
     "output_type": "stream",
     "text": [
      "Epoch 127/500: 100%|██████████| 1608/1608 [00:03<00:00, 525.32it/s]\n"
     ]
    },
    {
     "name": "stdout",
     "output_type": "stream",
     "text": [
      "Epoch [127/500], Train Loss: 0.2774\n",
      "Epoch [127/500], Valid Loss: 0.3669\n"
     ]
    },
    {
     "name": "stderr",
     "output_type": "stream",
     "text": [
      "Epoch 128/500: 100%|██████████| 1608/1608 [00:03<00:00, 529.64it/s]\n"
     ]
    },
    {
     "name": "stdout",
     "output_type": "stream",
     "text": [
      "Epoch [128/500], Train Loss: 0.2776\n",
      "Epoch [128/500], Valid Loss: 0.3669\n"
     ]
    },
    {
     "name": "stderr",
     "output_type": "stream",
     "text": [
      "Epoch 129/500: 100%|██████████| 1608/1608 [00:03<00:00, 529.07it/s]\n"
     ]
    },
    {
     "name": "stdout",
     "output_type": "stream",
     "text": [
      "Epoch [129/500], Train Loss: 0.2778\n",
      "Epoch [129/500], Valid Loss: 0.3669\n"
     ]
    },
    {
     "name": "stderr",
     "output_type": "stream",
     "text": [
      "Epoch 130/500: 100%|██████████| 1608/1608 [00:03<00:00, 529.46it/s]\n"
     ]
    },
    {
     "name": "stdout",
     "output_type": "stream",
     "text": [
      "Epoch [130/500], Train Loss: 0.2769\n",
      "Epoch [130/500], Valid Loss: 0.3669\n"
     ]
    },
    {
     "name": "stderr",
     "output_type": "stream",
     "text": [
      "Epoch 131/500: 100%|██████████| 1608/1608 [00:03<00:00, 532.38it/s]\n"
     ]
    },
    {
     "name": "stdout",
     "output_type": "stream",
     "text": [
      "Epoch [131/500], Train Loss: 0.2771\n",
      "Epoch [131/500], Valid Loss: 0.3669\n"
     ]
    },
    {
     "name": "stderr",
     "output_type": "stream",
     "text": [
      "Epoch 132/500: 100%|██████████| 1608/1608 [00:03<00:00, 529.12it/s]\n"
     ]
    },
    {
     "name": "stdout",
     "output_type": "stream",
     "text": [
      "Epoch [132/500], Train Loss: 0.2787\n",
      "Epoch [132/500], Valid Loss: 0.3669\n"
     ]
    },
    {
     "name": "stderr",
     "output_type": "stream",
     "text": [
      "Epoch 133/500: 100%|██████████| 1608/1608 [00:03<00:00, 532.73it/s]\n"
     ]
    },
    {
     "name": "stdout",
     "output_type": "stream",
     "text": [
      "Epoch [133/500], Train Loss: 0.2788\n",
      "Epoch [133/500], Valid Loss: 0.3669\n"
     ]
    },
    {
     "name": "stderr",
     "output_type": "stream",
     "text": [
      "Epoch 134/500: 100%|██████████| 1608/1608 [00:03<00:00, 527.87it/s]\n"
     ]
    },
    {
     "name": "stdout",
     "output_type": "stream",
     "text": [
      "Epoch [134/500], Train Loss: 0.2772\n",
      "Epoch [134/500], Valid Loss: 0.3669\n"
     ]
    },
    {
     "name": "stderr",
     "output_type": "stream",
     "text": [
      "Epoch 135/500: 100%|██████████| 1608/1608 [00:02<00:00, 536.26it/s]\n"
     ]
    },
    {
     "name": "stdout",
     "output_type": "stream",
     "text": [
      "Epoch [135/500], Train Loss: 0.2775\n",
      "Epoch [135/500], Valid Loss: 0.3669\n"
     ]
    },
    {
     "name": "stderr",
     "output_type": "stream",
     "text": [
      "Epoch 136/500: 100%|██████████| 1608/1608 [00:02<00:00, 536.29it/s]\n"
     ]
    },
    {
     "name": "stdout",
     "output_type": "stream",
     "text": [
      "Epoch [136/500], Train Loss: 0.2787\n",
      "Epoch [136/500], Valid Loss: 0.3669\n"
     ]
    },
    {
     "name": "stderr",
     "output_type": "stream",
     "text": [
      "Epoch 137/500: 100%|██████████| 1608/1608 [00:03<00:00, 529.91it/s]\n"
     ]
    },
    {
     "name": "stdout",
     "output_type": "stream",
     "text": [
      "Epoch [137/500], Train Loss: 0.2779\n",
      "Epoch [137/500], Valid Loss: 0.3669\n"
     ]
    },
    {
     "name": "stderr",
     "output_type": "stream",
     "text": [
      "Epoch 138/500: 100%|██████████| 1608/1608 [00:03<00:00, 533.25it/s]\n"
     ]
    },
    {
     "name": "stdout",
     "output_type": "stream",
     "text": [
      "Epoch [138/500], Train Loss: 0.2782\n",
      "Epoch [138/500], Valid Loss: 0.3669\n"
     ]
    },
    {
     "name": "stderr",
     "output_type": "stream",
     "text": [
      "Epoch 139/500: 100%|██████████| 1608/1608 [00:03<00:00, 530.46it/s]\n"
     ]
    },
    {
     "name": "stdout",
     "output_type": "stream",
     "text": [
      "Epoch [139/500], Train Loss: 0.2772\n",
      "Epoch [139/500], Valid Loss: 0.3669\n"
     ]
    },
    {
     "name": "stderr",
     "output_type": "stream",
     "text": [
      "Epoch 140/500: 100%|██████████| 1608/1608 [00:03<00:00, 535.38it/s]\n"
     ]
    },
    {
     "name": "stdout",
     "output_type": "stream",
     "text": [
      "Epoch [140/500], Train Loss: 0.2769\n",
      "Epoch [140/500], Valid Loss: 0.3669\n"
     ]
    },
    {
     "name": "stderr",
     "output_type": "stream",
     "text": [
      "Epoch 141/500: 100%|██████████| 1608/1608 [00:03<00:00, 529.01it/s]\n"
     ]
    },
    {
     "name": "stdout",
     "output_type": "stream",
     "text": [
      "Epoch [141/500], Train Loss: 0.2779\n",
      "Epoch [141/500], Valid Loss: 0.3669\n"
     ]
    },
    {
     "name": "stderr",
     "output_type": "stream",
     "text": [
      "Epoch 142/500: 100%|██████████| 1608/1608 [00:03<00:00, 535.46it/s]\n"
     ]
    },
    {
     "name": "stdout",
     "output_type": "stream",
     "text": [
      "Epoch [142/500], Train Loss: 0.2770\n",
      "Epoch [142/500], Valid Loss: 0.3669\n"
     ]
    },
    {
     "name": "stderr",
     "output_type": "stream",
     "text": [
      "Epoch 143/500: 100%|██████████| 1608/1608 [00:03<00:00, 529.31it/s]\n"
     ]
    },
    {
     "name": "stdout",
     "output_type": "stream",
     "text": [
      "Epoch [143/500], Train Loss: 0.2777\n",
      "Epoch [143/500], Valid Loss: 0.3669\n"
     ]
    },
    {
     "name": "stderr",
     "output_type": "stream",
     "text": [
      "Epoch 144/500: 100%|██████████| 1608/1608 [00:03<00:00, 523.61it/s]\n"
     ]
    },
    {
     "name": "stdout",
     "output_type": "stream",
     "text": [
      "Epoch [144/500], Train Loss: 0.2773\n",
      "Epoch [144/500], Valid Loss: 0.3669\n"
     ]
    },
    {
     "name": "stderr",
     "output_type": "stream",
     "text": [
      "Epoch 145/500: 100%|██████████| 1608/1608 [00:03<00:00, 530.37it/s]\n"
     ]
    },
    {
     "name": "stdout",
     "output_type": "stream",
     "text": [
      "Epoch [145/500], Train Loss: 0.2787\n",
      "Epoch [145/500], Valid Loss: 0.3669\n"
     ]
    },
    {
     "name": "stderr",
     "output_type": "stream",
     "text": [
      "Epoch 146/500: 100%|██████████| 1608/1608 [00:03<00:00, 532.25it/s]\n"
     ]
    },
    {
     "name": "stdout",
     "output_type": "stream",
     "text": [
      "Epoch [146/500], Train Loss: 0.2765\n",
      "Epoch [146/500], Valid Loss: 0.3669\n"
     ]
    },
    {
     "name": "stderr",
     "output_type": "stream",
     "text": [
      "Epoch 147/500: 100%|██████████| 1608/1608 [00:03<00:00, 526.85it/s]\n"
     ]
    },
    {
     "name": "stdout",
     "output_type": "stream",
     "text": [
      "Epoch [147/500], Train Loss: 0.2781\n",
      "Epoch [147/500], Valid Loss: 0.3669\n"
     ]
    },
    {
     "name": "stderr",
     "output_type": "stream",
     "text": [
      "Epoch 148/500: 100%|██████████| 1608/1608 [00:03<00:00, 529.29it/s]\n"
     ]
    },
    {
     "name": "stdout",
     "output_type": "stream",
     "text": [
      "Epoch [148/500], Train Loss: 0.2773\n",
      "Epoch [148/500], Valid Loss: 0.3668\n"
     ]
    },
    {
     "name": "stderr",
     "output_type": "stream",
     "text": [
      "Epoch 149/500: 100%|██████████| 1608/1608 [00:03<00:00, 526.08it/s]\n"
     ]
    },
    {
     "name": "stdout",
     "output_type": "stream",
     "text": [
      "Epoch [149/500], Train Loss: 0.2776\n",
      "Epoch [149/500], Valid Loss: 0.3668\n"
     ]
    },
    {
     "name": "stderr",
     "output_type": "stream",
     "text": [
      "Epoch 150/500: 100%|██████████| 1608/1608 [00:03<00:00, 525.29it/s]\n"
     ]
    },
    {
     "name": "stdout",
     "output_type": "stream",
     "text": [
      "Epoch [150/500], Train Loss: 0.2777\n",
      "Epoch [150/500], Valid Loss: 0.3668\n"
     ]
    },
    {
     "name": "stderr",
     "output_type": "stream",
     "text": [
      "Epoch 151/500: 100%|██████████| 1608/1608 [00:03<00:00, 526.62it/s]\n"
     ]
    },
    {
     "name": "stdout",
     "output_type": "stream",
     "text": [
      "Epoch [151/500], Train Loss: 0.2787\n",
      "Epoch [151/500], Valid Loss: 0.3668\n"
     ]
    },
    {
     "name": "stderr",
     "output_type": "stream",
     "text": [
      "Epoch 152/500: 100%|██████████| 1608/1608 [00:03<00:00, 523.34it/s]\n"
     ]
    },
    {
     "name": "stdout",
     "output_type": "stream",
     "text": [
      "Epoch [152/500], Train Loss: 0.2777\n",
      "Epoch [152/500], Valid Loss: 0.3668\n"
     ]
    },
    {
     "name": "stderr",
     "output_type": "stream",
     "text": [
      "Epoch 153/500: 100%|██████████| 1608/1608 [00:03<00:00, 528.12it/s]\n"
     ]
    },
    {
     "name": "stdout",
     "output_type": "stream",
     "text": [
      "Epoch [153/500], Train Loss: 0.2768\n",
      "Epoch [153/500], Valid Loss: 0.3668\n"
     ]
    },
    {
     "name": "stderr",
     "output_type": "stream",
     "text": [
      "Epoch 154/500: 100%|██████████| 1608/1608 [00:03<00:00, 517.19it/s]\n"
     ]
    },
    {
     "name": "stdout",
     "output_type": "stream",
     "text": [
      "Epoch [154/500], Train Loss: 0.2776\n",
      "Epoch [154/500], Valid Loss: 0.3668\n"
     ]
    },
    {
     "name": "stderr",
     "output_type": "stream",
     "text": [
      "Epoch 155/500: 100%|██████████| 1608/1608 [00:03<00:00, 520.34it/s]\n"
     ]
    },
    {
     "name": "stdout",
     "output_type": "stream",
     "text": [
      "Epoch [155/500], Train Loss: 0.2770\n",
      "Epoch [155/500], Valid Loss: 0.3668\n"
     ]
    },
    {
     "name": "stderr",
     "output_type": "stream",
     "text": [
      "Epoch 156/500: 100%|██████████| 1608/1608 [00:03<00:00, 521.28it/s]\n"
     ]
    },
    {
     "name": "stdout",
     "output_type": "stream",
     "text": [
      "Epoch [156/500], Train Loss: 0.2770\n",
      "Epoch [156/500], Valid Loss: 0.3668\n"
     ]
    },
    {
     "name": "stderr",
     "output_type": "stream",
     "text": [
      "Epoch 157/500: 100%|██████████| 1608/1608 [00:03<00:00, 518.51it/s]\n"
     ]
    },
    {
     "name": "stdout",
     "output_type": "stream",
     "text": [
      "Epoch [157/500], Train Loss: 0.2781\n",
      "Epoch [157/500], Valid Loss: 0.3668\n",
      "Early stopping\n"
     ]
    }
   ],
   "source": [
    "# 학습 루프 (lr = 0.001에 대해 새로 학습)\n",
    "for train_loader, valid_loader, model_name, dataset, lr in [\n",
    "    (train_loader_simplified, valid_loader_simplified, 'normx_best_fall_detection_gru_001_simplified.pt', train_simplified_dataset, 0.001),\n",
    "    (train_loader_mediapipe, valid_loader_mediapipe, 'normx_best_fall_detection_gru_001_mediapipe.pt', train_mediapipe_dataset, 0.001)\n",
    "]:\n",
    "    # 모델을 새로 생성\n",
    "    model = create_model_for_dataset(dataset)\n",
    "    model.to(device)\n",
    "\n",
    "    # 옵티마이저와 스케줄러 설정\n",
    "    optimizer = torch.optim.Adam(model.parameters(), lr=lr, weight_decay=1e-5)\n",
    "    scheduler = torch.optim.lr_scheduler.ReduceLROnPlateau(optimizer, mode='min', factor=0.1, patience=5)\n",
    "\n",
    "    # 각 학습 설정별 초기화\n",
    "    best_loss = float('inf')\n",
    "    no_improve = 0\n",
    "    \n",
    "    print(f\"{model_name} 학습 시작\", flush=True)\n",
    "    print(\"\\n\" + \"=\" * 20 + f\" Training Configuration: GRU with input_config='{model_name[:-3].split('_')[-1]}' and lr='{optimizer.param_groups[0]['lr']}' \" + \"=\" * 20 + \"\\n\")\n",
    "\n",
    "    # 입력 크기 체크 (훈련 시작 시 1회만 출력)\n",
    "    sequences, labels = next(iter(train_loader))\n",
    "    print(f'현재 입력 크기 (마지막 차원): {sequences.size(-1)}')\n",
    "    print(f'예상 입력 크기: {model.gru.input_size}')\n",
    "\n",
    "    for epoch in range(num_epochs):\n",
    "        model.train()\n",
    "        total_loss_train = 0\n",
    "\n",
    "        for sequences, labels in tqdm(train_loader, desc=f\"Epoch {epoch + 1}/{num_epochs}\"):\n",
    "            sequences, labels = sequences.to(device), labels.to(device)\n",
    "\n",
    "            optimizer.zero_grad()\n",
    "            outputs = model(sequences)\n",
    "            loss_train = criterion(outputs, labels.view(-1))\n",
    "            loss_train.backward()\n",
    "            optimizer.step()\n",
    "            \n",
    "            total_loss_train += loss_train.item()\n",
    "\n",
    "        avg_loss_train = total_loss_train / len(train_loader)\n",
    "        print(f'Epoch [{epoch + 1}/{num_epochs}], Train Loss: {avg_loss_train:.4f}')\n",
    "\n",
    "        # 검증 데이터셋 평가\n",
    "        model.eval()\n",
    "        total_loss_valid = 0\n",
    "        with torch.no_grad():\n",
    "            for sequences, labels in valid_loader:\n",
    "                sequences, labels = sequences.to(device), labels.to(device)\n",
    "                outputs = model(sequences)\n",
    "                loss_valid = criterion(outputs, labels.view(-1))\n",
    "                total_loss_valid += loss_valid.item()\n",
    "\n",
    "        avg_loss_valid = total_loss_valid / len(valid_loader)\n",
    "        print(f'Epoch [{epoch + 1}/{num_epochs}], Valid Loss: {avg_loss_valid:.4f}')\n",
    "\n",
    "        # 학습률 조정 스케줄러 업데이트\n",
    "        scheduler.step(avg_loss_valid)\n",
    "\n",
    "        # 최상의 모델 저장\n",
    "        if avg_loss_valid < best_loss:\n",
    "            best_loss = avg_loss_valid\n",
    "            no_improve = 0\n",
    "            torch.save(model.state_dict(), f'{pt_path}\\\\{model_name}')\n",
    "        else:\n",
    "            no_improve += 1\n",
    "\n",
    "        if no_improve >= patience:\n",
    "            print(\"Early stopping\")\n",
    "            break"
   ]
  },
  {
   "cell_type": "code",
   "execution_count": 13,
   "id": "ba2a4044",
   "metadata": {},
   "outputs": [],
   "source": [
    "# 성능 지표 계산 함수 정의\n",
    "def calculate_metrics(model, data_loader):\n",
    "    model.eval()\n",
    "    all_preds = []\n",
    "    all_labels = []\n",
    "    with torch.no_grad():\n",
    "        for sequences, labels in data_loader:\n",
    "            sequences, labels = sequences.to(device), labels.to(device)\n",
    "            outputs = model(sequences)\n",
    "            _, preds = torch.max(outputs, 1)\n",
    "            all_preds.extend(preds.cpu().numpy())\n",
    "            all_labels.extend(labels.cpu().numpy())\n",
    "\n",
    "    f1 = f1_score(all_labels, all_preds, average='weighted')\n",
    "    cm = confusion_matrix(all_labels, all_preds)\n",
    "    return f1, cm"
   ]
  },
  {
   "cell_type": "code",
   "execution_count": 14,
   "id": "60c64456",
   "metadata": {},
   "outputs": [
    {
     "name": "stdout",
     "output_type": "stream",
     "text": [
      "normx_best_fall_detection_gru_001_full.pt (Train): F1 Score: 0.8951\n",
      "Confusion Matrix (Train):\n",
      "[[25954  2240  1730]\n",
      " [  305  3173   234]\n",
      " [  486   734 16571]]\n",
      "normx_best_fall_detection_gru_001_full.pt (Validation): F1 Score: 0.8866\n",
      "Confusion Matrix (Validation):\n",
      "[[3223  285  239]\n",
      " [  56  375   24]\n",
      " [  66  105 2055]]\n",
      "normx_best_fall_detection_gru_001_full.pt (Test): F1 Score: 0.8905\n",
      "Confusion Matrix (Test):\n",
      "[[3251  307  210]\n",
      " [  55  404   43]\n",
      " [  43   90 2026]]\n",
      "normx_best_fall_detection_gru_0001_full.pt (Train): F1 Score: 0.8689\n",
      "Confusion Matrix (Train):\n",
      "[[25001  2540  2383]\n",
      " [  381  3038   293]\n",
      " [  696   853 16242]]\n",
      "normx_best_fall_detection_gru_0001_full.pt (Validation): F1 Score: 0.8602\n",
      "Confusion Matrix (Validation):\n",
      "[[3076  342  329]\n",
      " [  59  368   28]\n",
      " [  88  108 2030]]\n",
      "normx_best_fall_detection_gru_0001_full.pt (Test): F1 Score: 0.8652\n",
      "Confusion Matrix (Test):\n",
      "[[3148  340  280]\n",
      " [  54  400   48]\n",
      " [  90  107 1962]]\n",
      "normx_best_fall_detection_gru_001_simplified.pt (Train): F1 Score: 0.7994\n",
      "Confusion Matrix (Train):\n",
      "[[22209  3795  3861]\n",
      " [  568  2880   332]\n",
      " [ 1247  1189 15346]]\n",
      "normx_best_fall_detection_gru_001_simplified.pt (Validation): F1 Score: 0.8048\n",
      "Confusion Matrix (Validation):\n",
      "[[2882  488  457]\n",
      " [  48  378   34]\n",
      " [ 166  153 1822]]\n",
      "normx_best_fall_detection_gru_001_simplified.pt (Test): F1 Score: 0.8009\n",
      "Confusion Matrix (Test):\n",
      "[[2775  512  460]\n",
      " [  62  330   37]\n",
      " [ 162  146 1945]]\n",
      "normx_best_fall_detection_gru_0001_simplified.pt (Train): F1 Score: 0.8016\n",
      "Confusion Matrix (Train):\n",
      "[[22383  3556  3926]\n",
      " [  588  2833   359]\n",
      " [ 1299  1072 15411]]\n",
      "normx_best_fall_detection_gru_0001_simplified.pt (Validation): F1 Score: 0.8086\n",
      "Confusion Matrix (Validation):\n",
      "[[2906  449  472]\n",
      " [  47  373   40]\n",
      " [ 166  135 1840]]\n",
      "normx_best_fall_detection_gru_0001_simplified.pt (Test): F1 Score: 0.8030\n",
      "Confusion Matrix (Test):\n",
      "[[2797  474  476]\n",
      " [  69  322   38]\n",
      " [ 167  129 1957]]\n",
      "normx_best_fall_detection_gru_001_mediapipe.pt (Train): F1 Score: 0.9115\n",
      "Confusion Matrix (Train):\n",
      "[[26930  1802  1309]\n",
      " [  325  3116   237]\n",
      " [  469   657 16582]]\n",
      "normx_best_fall_detection_gru_001_mediapipe.pt (Validation): F1 Score: 0.8924\n",
      "Confusion Matrix (Validation):\n",
      "[[3270  240  190]\n",
      " [  60  390   46]\n",
      " [  66  130 2036]]\n",
      "normx_best_fall_detection_gru_001_mediapipe.pt (Test): F1 Score: 0.8984\n",
      "Confusion Matrix (Test):\n",
      "[[3265  261  172]\n",
      " [  63  392   40]\n",
      " [  74   76 2086]]\n",
      "normx_best_fall_detection_gru_0001_mediapipe.pt (Train): F1 Score: 0.8717\n",
      "Confusion Matrix (Train):\n",
      "[[25758  1751  2532]\n",
      " [  536  2615   527]\n",
      " [  938   502 16268]]\n",
      "normx_best_fall_detection_gru_0001_mediapipe.pt (Validation): F1 Score: 0.8672\n",
      "Confusion Matrix (Validation):\n",
      "[[3157  226  317]\n",
      " [  71  355   70]\n",
      " [ 118   76 2038]]\n",
      "normx_best_fall_detection_gru_0001_mediapipe.pt (Test): F1 Score: 0.8686\n",
      "Confusion Matrix (Test):\n",
      "[[3138  241  319]\n",
      " [  71  360   64]\n",
      " [ 116   57 2063]]\n"
     ]
    }
   ],
   "source": [
    "# 학습, 검증, 테스트 데이터셋 평가\n",
    "results = []\n",
    "for model_name, train_loader, val_loader, test_loader in [\n",
    "    ('normx_best_fall_detection_gru_001_full.pt', train_loader_full, valid_loader_full, test_loader_full),\n",
    "    ('normx_best_fall_detection_gru_0001_full.pt', train_loader_full, valid_loader_full, test_loader_full),\n",
    "    ('normx_best_fall_detection_gru_001_simplified.pt', train_loader_simplified, valid_loader_simplified, test_loader_simplified),\n",
    "    ('normx_best_fall_detection_gru_0001_simplified.pt', train_loader_simplified, valid_loader_simplified, test_loader_simplified),\n",
    "    ('normx_best_fall_detection_gru_001_mediapipe.pt', train_loader_mediapipe, valid_loader_mediapipe, test_loader_mediapipe),\n",
    "    ('normx_best_fall_detection_gru_0001_mediapipe.pt', train_loader_mediapipe, valid_loader_mediapipe, test_loader_mediapipe)\n",
    "]:\n",
    "    # 모델 생성 (각 모델의 input에 맞게 dataset 전달)\n",
    "    model = create_model_for_dataset(test_loader.dataset)\n",
    "    model.load_state_dict(torch.load(f'{pt_path}\\\\{model_name}', weights_only=True))\n",
    "    model.to(device)\n",
    "\n",
    "    # 데이터셋별 평가\n",
    "    scores = {'Model': model_name}\n",
    "    for loader_name, data_loader in [('Train', train_loader), ('Validation', val_loader), ('Test', test_loader)]:\n",
    "        f1, cm = calculate_metrics(model, data_loader)\n",
    "        print(f\"{model_name} ({loader_name}): F1 Score: {f1:.4f}\")\n",
    "        print(f\"Confusion Matrix ({loader_name}):\\n{cm}\")\n",
    "        scores[loader_name] = f1\n",
    "    results.append(scores)"
   ]
  },
  {
   "cell_type": "code",
   "execution_count": 15,
   "id": "dfa8cfc9",
   "metadata": {},
   "outputs": [
    {
     "data": {
      "image/png": "[encoded data removed]",
      "text/plain": [
       "<Figure size 1200x800 with 1 Axes>"
      ]
     },
     "metadata": {},
     "output_type": "display_data"
    }
   ],
   "source": [
    "# 그래프용 데이터 변환\n",
    "model_names = [result['Model'] for result in results]\n",
    "train_scores = [result['Train'] for result in results]\n",
    "val_scores = [result['Validation'] for result in results]\n",
    "test_scores = [result['Test'] for result in results]\n",
    "\n",
    "# 그래프 생성\n",
    "plt.figure(figsize=(12, 8))\n",
    "bar_width = 0.25\n",
    "indices = range(len(model_names))\n",
    "\n",
    "# 막대 그래프\n",
    "plt.bar(indices, train_scores, bar_width, label=\"Train F1 Score\")\n",
    "plt.bar([i + bar_width for i in indices], val_scores, bar_width, label=\"Validation F1 Score\")\n",
    "plt.bar([i + 2 * bar_width for i in indices], test_scores, bar_width, label=\"Test F1 Score\")\n",
    "\n",
    "# 그래프 꾸미기\n",
    "plt.xlabel(\"Model\", fontsize=12)\n",
    "plt.ylabel(\"F1 Score\", fontsize=12)\n",
    "plt.title(\"F1 Scores by Model and Dataset\", fontsize=14)\n",
    "plt.xticks([i + bar_width for i in indices], model_names, rotation=45, fontsize=10)\n",
    "plt.ylim(0.7, 1.0)\n",
    "plt.legend()\n",
    "\n",
    "# 그래프 출력\n",
    "plt.tight_layout()\n",
    "plt.show()"
   ]
  },
  {
   "cell_type": "code",
   "execution_count": 16,
   "id": "f2f59933",
   "metadata": {},
   "outputs": [],
   "source": [
    "# CNN 기반 낙상 감지 모델 정의\n",
    "class FallDetectionCNN(nn.Module):\n",
    "    def __init__(self, input_size, num_classes=3):\n",
    "        super(FallDetectionCNN, self).__init__()\n",
    "        self.conv1 = nn.Conv1d(in_channels=22, out_channels=64, kernel_size=3, padding=1)  # mediapipe dataset을 공유하므로 in_channels은 22\n",
    "        self.conv2 = nn.Conv1d(in_channels=64, out_channels=64, kernel_size=3, padding=1)\n",
    "        self.conv3 = nn.Conv1d(in_channels=64, out_channels=128, kernel_size=3, padding=1)\n",
    "        self.fc1 = nn.Linear(128 * input_size, 256)\n",
    "        self.fc2 = nn.Linear(256, 128)\n",
    "        self.fc3 = nn.Linear(128, num_classes)\n",
    "        self.dropout = nn.Dropout(0.5)\n",
    "\n",
    "    def forward(self, x):\n",
    "        x = x.transpose(1, 2)  # Conv1d의 형태를 맞추기 위함 (batch_size, channels, length)\n",
    "        x = torch.relu(self.conv1(x))\n",
    "        x = torch.relu(self.conv2(x))\n",
    "        x = torch.relu(self.conv3(x))\n",
    "        x = x.view(x.size(0), -1)  # tensor flattening\n",
    "        x = torch.relu(self.fc1(x))\n",
    "        x = self.dropout(x)\n",
    "        x = torch.relu(self.fc2(x))\n",
    "        x = self.fc3(x)\n",
    "        return x"
   ]
  },
  {
   "cell_type": "code",
   "execution_count": 17,
   "id": "1acf6a40",
   "metadata": {},
   "outputs": [],
   "source": [
    "# 모델 준비\n",
    "def create_cnn_model_for_dataset(dataset):\n",
    "    if len(dataset) > 0:\n",
    "        sample_sequence, sample_label = dataset[0]\n",
    "        input_size = len(sample_sequence)  # CNN에서는 시퀀스 길이를 input size로 사용\n",
    "        return FallDetectionCNN(input_size=input_size).to(device)\n",
    "    else:\n",
    "        print(\"데이터 없음\")\n",
    "        exit()\n",
    "\n",
    "# 학습 및 검증 설정\n",
    "cnn_model_configs = [\n",
    "    ('normx_best_fall_detection_cnn_mediapipe_001.pt', 0.001),\n",
    "    ('normx_best_fall_detection_cnn_mediapipe_0001.pt', 0.0001)\n",
    "]\n",
    "\n",
    "# 학습 파라미터 설정\n",
    "num_epochs = 500\n",
    "patience = 20"
   ]
  },
  {
   "cell_type": "code",
   "execution_count": 18,
   "id": "8df25d7a",
   "metadata": {},
   "outputs": [
    {
     "name": "stdout",
     "output_type": "stream",
     "text": [
      "normx_best_fall_detection_cnn_mediapipe_001.pt 학습 시작 (lr=0.001)\n"
     ]
    },
    {
     "name": "stderr",
     "output_type": "stream",
     "text": [
      "Epoch 1/500 (lr=0.001): 100%|██████████| 1608/1608 [00:02<00:00, 549.71it/s]\n"
     ]
    },
    {
     "name": "stdout",
     "output_type": "stream",
     "text": [
      "Epoch [1/500], Train Loss (lr=0.001): 0.8085\n",
      "Epoch [1/500], Valid Loss (lr=0.001): 0.7941\n"
     ]
    },
    {
     "name": "stderr",
     "output_type": "stream",
     "text": [
      "Epoch 2/500 (lr=0.001): 100%|██████████| 1608/1608 [00:02<00:00, 576.45it/s]\n"
     ]
    },
    {
     "name": "stdout",
     "output_type": "stream",
     "text": [
      "Epoch [2/500], Train Loss (lr=0.001): 0.6647\n",
      "Epoch [2/500], Valid Loss (lr=0.001): 0.5359\n"
     ]
    },
    {
     "name": "stderr",
     "output_type": "stream",
     "text": [
      "Epoch 3/500 (lr=0.001): 100%|██████████| 1608/1608 [00:02<00:00, 584.17it/s]\n"
     ]
    },
    {
     "name": "stdout",
     "output_type": "stream",
     "text": [
      "Epoch [3/500], Train Loss (lr=0.001): 0.5856\n",
      "Epoch [3/500], Valid Loss (lr=0.001): 0.5257\n"
     ]
    },
    {
     "name": "stderr",
     "output_type": "stream",
     "text": [
      "Epoch 4/500 (lr=0.001): 100%|██████████| 1608/1608 [00:02<00:00, 585.60it/s]\n"
     ]
    },
    {
     "name": "stdout",
     "output_type": "stream",
     "text": [
      "Epoch [4/500], Train Loss (lr=0.001): 0.5635\n",
      "Epoch [4/500], Valid Loss (lr=0.001): 0.5089\n"
     ]
    },
    {
     "name": "stderr",
     "output_type": "stream",
     "text": [
      "Epoch 5/500 (lr=0.001): 100%|██████████| 1608/1608 [00:02<00:00, 590.94it/s]\n"
     ]
    },
    {
     "name": "stdout",
     "output_type": "stream",
     "text": [
      "Epoch [5/500], Train Loss (lr=0.001): 0.5451\n",
      "Epoch [5/500], Valid Loss (lr=0.001): 0.4901\n"
     ]
    },
    {
     "name": "stderr",
     "output_type": "stream",
     "text": [
      "Epoch 6/500 (lr=0.001): 100%|██████████| 1608/1608 [00:02<00:00, 588.79it/s]\n"
     ]
    },
    {
     "name": "stdout",
     "output_type": "stream",
     "text": [
      "Epoch [6/500], Train Loss (lr=0.001): 0.5296\n",
      "Epoch [6/500], Valid Loss (lr=0.001): 0.5131\n"
     ]
    },
    {
     "name": "stderr",
     "output_type": "stream",
     "text": [
      "Epoch 7/500 (lr=0.001): 100%|██████████| 1608/1608 [00:02<00:00, 592.03it/s]\n"
     ]
    },
    {
     "name": "stdout",
     "output_type": "stream",
     "text": [
      "Epoch [7/500], Train Loss (lr=0.001): 0.5306\n",
      "Epoch [7/500], Valid Loss (lr=0.001): 0.5617\n"
     ]
    },
    {
     "name": "stderr",
     "output_type": "stream",
     "text": [
      "Epoch 8/500 (lr=0.001): 100%|██████████| 1608/1608 [00:02<00:00, 589.18it/s]\n"
     ]
    },
    {
     "name": "stdout",
     "output_type": "stream",
     "text": [
      "Epoch [8/500], Train Loss (lr=0.001): 0.5178\n",
      "Epoch [8/500], Valid Loss (lr=0.001): 0.5036\n"
     ]
    },
    {
     "name": "stderr",
     "output_type": "stream",
     "text": [
      "Epoch 9/500 (lr=0.001): 100%|██████████| 1608/1608 [00:02<00:00, 582.11it/s]\n"
     ]
    },
    {
     "name": "stdout",
     "output_type": "stream",
     "text": [
      "Epoch [9/500], Train Loss (lr=0.001): 0.5138\n",
      "Epoch [9/500], Valid Loss (lr=0.001): 0.5249\n"
     ]
    },
    {
     "name": "stderr",
     "output_type": "stream",
     "text": [
      "Epoch 10/500 (lr=0.001): 100%|██████████| 1608/1608 [00:02<00:00, 592.64it/s]\n"
     ]
    },
    {
     "name": "stdout",
     "output_type": "stream",
     "text": [
      "Epoch [10/500], Train Loss (lr=0.001): 0.5129\n",
      "Epoch [10/500], Valid Loss (lr=0.001): 0.5086\n"
     ]
    },
    {
     "name": "stderr",
     "output_type": "stream",
     "text": [
      "Epoch 11/500 (lr=0.001): 100%|██████████| 1608/1608 [00:02<00:00, 585.88it/s]\n"
     ]
    },
    {
     "name": "stdout",
     "output_type": "stream",
     "text": [
      "Epoch [11/500], Train Loss (lr=0.001): 0.5068\n",
      "Epoch [11/500], Valid Loss (lr=0.001): 0.4691\n"
     ]
    },
    {
     "name": "stderr",
     "output_type": "stream",
     "text": [
      "Epoch 12/500 (lr=0.001): 100%|██████████| 1608/1608 [00:02<00:00, 583.66it/s]\n"
     ]
    },
    {
     "name": "stdout",
     "output_type": "stream",
     "text": [
      "Epoch [12/500], Train Loss (lr=0.001): 0.4988\n",
      "Epoch [12/500], Valid Loss (lr=0.001): 0.4869\n"
     ]
    },
    {
     "name": "stderr",
     "output_type": "stream",
     "text": [
      "Epoch 13/500 (lr=0.001): 100%|██████████| 1608/1608 [00:02<00:00, 587.07it/s]\n"
     ]
    },
    {
     "name": "stdout",
     "output_type": "stream",
     "text": [
      "Epoch [13/500], Train Loss (lr=0.001): 0.4974\n",
      "Epoch [13/500], Valid Loss (lr=0.001): 0.4703\n"
     ]
    },
    {
     "name": "stderr",
     "output_type": "stream",
     "text": [
      "Epoch 14/500 (lr=0.001): 100%|██████████| 1608/1608 [00:02<00:00, 592.26it/s]\n"
     ]
    },
    {
     "name": "stdout",
     "output_type": "stream",
     "text": [
      "Epoch [14/500], Train Loss (lr=0.001): 0.4975\n",
      "Epoch [14/500], Valid Loss (lr=0.001): 0.4831\n"
     ]
    },
    {
     "name": "stderr",
     "output_type": "stream",
     "text": [
      "Epoch 15/500 (lr=0.001): 100%|██████████| 1608/1608 [00:02<00:00, 585.54it/s]\n"
     ]
    },
    {
     "name": "stdout",
     "output_type": "stream",
     "text": [
      "Epoch [15/500], Train Loss (lr=0.001): 0.4962\n",
      "Epoch [15/500], Valid Loss (lr=0.001): 0.4555\n"
     ]
    },
    {
     "name": "stderr",
     "output_type": "stream",
     "text": [
      "Epoch 16/500 (lr=0.001): 100%|██████████| 1608/1608 [00:02<00:00, 588.58it/s]\n"
     ]
    },
    {
     "name": "stdout",
     "output_type": "stream",
     "text": [
      "Epoch [16/500], Train Loss (lr=0.001): 0.4861\n",
      "Epoch [16/500], Valid Loss (lr=0.001): 0.4579\n"
     ]
    },
    {
     "name": "stderr",
     "output_type": "stream",
     "text": [
      "Epoch 17/500 (lr=0.001): 100%|██████████| 1608/1608 [00:02<00:00, 591.39it/s]\n"
     ]
    },
    {
     "name": "stdout",
     "output_type": "stream",
     "text": [
      "Epoch [17/500], Train Loss (lr=0.001): 0.4902\n",
      "Epoch [17/500], Valid Loss (lr=0.001): 0.4585\n"
     ]
    },
    {
     "name": "stderr",
     "output_type": "stream",
     "text": [
      "Epoch 18/500 (lr=0.001): 100%|██████████| 1608/1608 [00:02<00:00, 588.79it/s]\n"
     ]
    },
    {
     "name": "stdout",
     "output_type": "stream",
     "text": [
      "Epoch [18/500], Train Loss (lr=0.001): 0.4851\n",
      "Epoch [18/500], Valid Loss (lr=0.001): 0.4937\n"
     ]
    },
    {
     "name": "stderr",
     "output_type": "stream",
     "text": [
      "Epoch 19/500 (lr=0.001): 100%|██████████| 1608/1608 [00:02<00:00, 592.04it/s]\n"
     ]
    },
    {
     "name": "stdout",
     "output_type": "stream",
     "text": [
      "Epoch [19/500], Train Loss (lr=0.001): 0.4866\n",
      "Epoch [19/500], Valid Loss (lr=0.001): 0.4763\n"
     ]
    },
    {
     "name": "stderr",
     "output_type": "stream",
     "text": [
      "Epoch 20/500 (lr=0.001): 100%|██████████| 1608/1608 [00:02<00:00, 591.98it/s]\n"
     ]
    },
    {
     "name": "stdout",
     "output_type": "stream",
     "text": [
      "Epoch [20/500], Train Loss (lr=0.001): 0.4801\n",
      "Epoch [20/500], Valid Loss (lr=0.001): 0.4859\n"
     ]
    },
    {
     "name": "stderr",
     "output_type": "stream",
     "text": [
      "Epoch 21/500 (lr=0.001): 100%|██████████| 1608/1608 [00:02<00:00, 591.18it/s]\n"
     ]
    },
    {
     "name": "stdout",
     "output_type": "stream",
     "text": [
      "Epoch [21/500], Train Loss (lr=0.001): 0.4833\n",
      "Epoch [21/500], Valid Loss (lr=0.001): 0.4798\n"
     ]
    },
    {
     "name": "stderr",
     "output_type": "stream",
     "text": [
      "Epoch 22/500 (lr=0.001): 100%|██████████| 1608/1608 [00:02<00:00, 590.52it/s]\n"
     ]
    },
    {
     "name": "stdout",
     "output_type": "stream",
     "text": [
      "Epoch [22/500], Train Loss (lr=0.001): 0.4445\n",
      "Epoch [22/500], Valid Loss (lr=0.001): 0.4378\n"
     ]
    },
    {
     "name": "stderr",
     "output_type": "stream",
     "text": [
      "Epoch 23/500 (lr=0.001): 100%|██████████| 1608/1608 [00:02<00:00, 584.94it/s]\n"
     ]
    },
    {
     "name": "stdout",
     "output_type": "stream",
     "text": [
      "Epoch [23/500], Train Loss (lr=0.001): 0.4405\n",
      "Epoch [23/500], Valid Loss (lr=0.001): 0.4336\n"
     ]
    },
    {
     "name": "stderr",
     "output_type": "stream",
     "text": [
      "Epoch 24/500 (lr=0.001): 100%|██████████| 1608/1608 [00:02<00:00, 584.09it/s]\n"
     ]
    },
    {
     "name": "stdout",
     "output_type": "stream",
     "text": [
      "Epoch [24/500], Train Loss (lr=0.001): 0.4374\n",
      "Epoch [24/500], Valid Loss (lr=0.001): 0.4362\n"
     ]
    },
    {
     "name": "stderr",
     "output_type": "stream",
     "text": [
      "Epoch 25/500 (lr=0.001): 100%|██████████| 1608/1608 [00:02<00:00, 581.97it/s]\n"
     ]
    },
    {
     "name": "stdout",
     "output_type": "stream",
     "text": [
      "Epoch [25/500], Train Loss (lr=0.001): 0.4354\n",
      "Epoch [25/500], Valid Loss (lr=0.001): 0.4304\n"
     ]
    },
    {
     "name": "stderr",
     "output_type": "stream",
     "text": [
      "Epoch 26/500 (lr=0.001): 100%|██████████| 1608/1608 [00:02<00:00, 583.88it/s]\n"
     ]
    },
    {
     "name": "stdout",
     "output_type": "stream",
     "text": [
      "Epoch [26/500], Train Loss (lr=0.001): 0.4355\n",
      "Epoch [26/500], Valid Loss (lr=0.001): 0.4334\n"
     ]
    },
    {
     "name": "stderr",
     "output_type": "stream",
     "text": [
      "Epoch 27/500 (lr=0.001): 100%|██████████| 1608/1608 [00:02<00:00, 582.12it/s]\n"
     ]
    },
    {
     "name": "stdout",
     "output_type": "stream",
     "text": [
      "Epoch [27/500], Train Loss (lr=0.001): 0.4340\n",
      "Epoch [27/500], Valid Loss (lr=0.001): 0.4325\n"
     ]
    },
    {
     "name": "stderr",
     "output_type": "stream",
     "text": [
      "Epoch 28/500 (lr=0.001): 100%|██████████| 1608/1608 [00:02<00:00, 587.07it/s]\n"
     ]
    },
    {
     "name": "stdout",
     "output_type": "stream",
     "text": [
      "Epoch [28/500], Train Loss (lr=0.001): 0.4312\n",
      "Epoch [28/500], Valid Loss (lr=0.001): 0.4396\n"
     ]
    },
    {
     "name": "stderr",
     "output_type": "stream",
     "text": [
      "Epoch 29/500 (lr=0.001): 100%|██████████| 1608/1608 [00:02<00:00, 586.53it/s]\n"
     ]
    },
    {
     "name": "stdout",
     "output_type": "stream",
     "text": [
      "Epoch [29/500], Train Loss (lr=0.001): 0.4306\n",
      "Epoch [29/500], Valid Loss (lr=0.001): 0.4329\n"
     ]
    },
    {
     "name": "stderr",
     "output_type": "stream",
     "text": [
      "Epoch 30/500 (lr=0.001): 100%|██████████| 1608/1608 [00:02<00:00, 580.60it/s]\n"
     ]
    },
    {
     "name": "stdout",
     "output_type": "stream",
     "text": [
      "Epoch [30/500], Train Loss (lr=0.001): 0.4295\n",
      "Epoch [30/500], Valid Loss (lr=0.001): 0.4324\n"
     ]
    },
    {
     "name": "stderr",
     "output_type": "stream",
     "text": [
      "Epoch 31/500 (lr=0.001): 100%|██████████| 1608/1608 [00:02<00:00, 583.24it/s]\n"
     ]
    },
    {
     "name": "stdout",
     "output_type": "stream",
     "text": [
      "Epoch [31/500], Train Loss (lr=0.001): 0.4290\n",
      "Epoch [31/500], Valid Loss (lr=0.001): 0.4312\n"
     ]
    },
    {
     "name": "stderr",
     "output_type": "stream",
     "text": [
      "Epoch 32/500 (lr=0.001): 100%|██████████| 1608/1608 [00:02<00:00, 583.66it/s]\n"
     ]
    },
    {
     "name": "stdout",
     "output_type": "stream",
     "text": [
      "Epoch [32/500], Train Loss (lr=0.001): 0.4236\n",
      "Epoch [32/500], Valid Loss (lr=0.001): 0.4294\n"
     ]
    },
    {
     "name": "stderr",
     "output_type": "stream",
     "text": [
      "Epoch 33/500 (lr=0.001): 100%|██████████| 1608/1608 [00:02<00:00, 587.18it/s]\n"
     ]
    },
    {
     "name": "stdout",
     "output_type": "stream",
     "text": [
      "Epoch [33/500], Train Loss (lr=0.001): 0.4223\n",
      "Epoch [33/500], Valid Loss (lr=0.001): 0.4301\n"
     ]
    },
    {
     "name": "stderr",
     "output_type": "stream",
     "text": [
      "Epoch 34/500 (lr=0.001): 100%|██████████| 1608/1608 [00:02<00:00, 587.93it/s]\n"
     ]
    },
    {
     "name": "stdout",
     "output_type": "stream",
     "text": [
      "Epoch [34/500], Train Loss (lr=0.001): 0.4228\n",
      "Epoch [34/500], Valid Loss (lr=0.001): 0.4298\n"
     ]
    },
    {
     "name": "stderr",
     "output_type": "stream",
     "text": [
      "Epoch 35/500 (lr=0.001): 100%|██████████| 1608/1608 [00:02<00:00, 581.68it/s]\n"
     ]
    },
    {
     "name": "stdout",
     "output_type": "stream",
     "text": [
      "Epoch [35/500], Train Loss (lr=0.001): 0.4218\n",
      "Epoch [35/500], Valid Loss (lr=0.001): 0.4294\n"
     ]
    },
    {
     "name": "stderr",
     "output_type": "stream",
     "text": [
      "Epoch 36/500 (lr=0.001): 100%|██████████| 1608/1608 [00:02<00:00, 587.07it/s]\n"
     ]
    },
    {
     "name": "stdout",
     "output_type": "stream",
     "text": [
      "Epoch [36/500], Train Loss (lr=0.001): 0.4230\n",
      "Epoch [36/500], Valid Loss (lr=0.001): 0.4294\n"
     ]
    },
    {
     "name": "stderr",
     "output_type": "stream",
     "text": [
      "Epoch 37/500 (lr=0.001): 100%|██████████| 1608/1608 [00:02<00:00, 574.49it/s]\n"
     ]
    },
    {
     "name": "stdout",
     "output_type": "stream",
     "text": [
      "Epoch [37/500], Train Loss (lr=0.001): 0.4221\n",
      "Epoch [37/500], Valid Loss (lr=0.001): 0.4294\n"
     ]
    },
    {
     "name": "stderr",
     "output_type": "stream",
     "text": [
      "Epoch 38/500 (lr=0.001): 100%|██████████| 1608/1608 [00:02<00:00, 583.66it/s]\n"
     ]
    },
    {
     "name": "stdout",
     "output_type": "stream",
     "text": [
      "Epoch [38/500], Train Loss (lr=0.001): 0.4210\n",
      "Epoch [38/500], Valid Loss (lr=0.001): 0.4297\n"
     ]
    },
    {
     "name": "stderr",
     "output_type": "stream",
     "text": [
      "Epoch 39/500 (lr=0.001): 100%|██████████| 1608/1608 [00:02<00:00, 587.65it/s]\n"
     ]
    },
    {
     "name": "stdout",
     "output_type": "stream",
     "text": [
      "Epoch [39/500], Train Loss (lr=0.001): 0.4223\n",
      "Epoch [39/500], Valid Loss (lr=0.001): 0.4297\n"
     ]
    },
    {
     "name": "stderr",
     "output_type": "stream",
     "text": [
      "Epoch 40/500 (lr=0.001): 100%|██████████| 1608/1608 [00:02<00:00, 589.23it/s]\n"
     ]
    },
    {
     "name": "stdout",
     "output_type": "stream",
     "text": [
      "Epoch [40/500], Train Loss (lr=0.001): 0.4202\n",
      "Epoch [40/500], Valid Loss (lr=0.001): 0.4297\n"
     ]
    },
    {
     "name": "stderr",
     "output_type": "stream",
     "text": [
      "Epoch 41/500 (lr=0.001): 100%|██████████| 1608/1608 [00:02<00:00, 590.72it/s]\n"
     ]
    },
    {
     "name": "stdout",
     "output_type": "stream",
     "text": [
      "Epoch [41/500], Train Loss (lr=0.001): 0.4233\n",
      "Epoch [41/500], Valid Loss (lr=0.001): 0.4296\n"
     ]
    },
    {
     "name": "stderr",
     "output_type": "stream",
     "text": [
      "Epoch 42/500 (lr=0.001): 100%|██████████| 1608/1608 [00:02<00:00, 588.43it/s]\n"
     ]
    },
    {
     "name": "stdout",
     "output_type": "stream",
     "text": [
      "Epoch [42/500], Train Loss (lr=0.001): 0.4193\n",
      "Epoch [42/500], Valid Loss (lr=0.001): 0.4298\n"
     ]
    },
    {
     "name": "stderr",
     "output_type": "stream",
     "text": [
      "Epoch 43/500 (lr=0.001): 100%|██████████| 1608/1608 [00:02<00:00, 584.65it/s]\n"
     ]
    },
    {
     "name": "stdout",
     "output_type": "stream",
     "text": [
      "Epoch [43/500], Train Loss (lr=0.001): 0.4219\n",
      "Epoch [43/500], Valid Loss (lr=0.001): 0.4297\n"
     ]
    },
    {
     "name": "stderr",
     "output_type": "stream",
     "text": [
      "Epoch 44/500 (lr=0.001): 100%|██████████| 1608/1608 [00:02<00:00, 583.02it/s]\n"
     ]
    },
    {
     "name": "stdout",
     "output_type": "stream",
     "text": [
      "Epoch [44/500], Train Loss (lr=0.001): 0.4227\n",
      "Epoch [44/500], Valid Loss (lr=0.001): 0.4296\n"
     ]
    },
    {
     "name": "stderr",
     "output_type": "stream",
     "text": [
      "Epoch 45/500 (lr=0.001): 100%|██████████| 1608/1608 [00:02<00:00, 583.85it/s]\n"
     ]
    },
    {
     "name": "stdout",
     "output_type": "stream",
     "text": [
      "Epoch [45/500], Train Loss (lr=0.001): 0.4217\n",
      "Epoch [45/500], Valid Loss (lr=0.001): 0.4296\n"
     ]
    },
    {
     "name": "stderr",
     "output_type": "stream",
     "text": [
      "Epoch 46/500 (lr=0.001): 100%|██████████| 1608/1608 [00:02<00:00, 585.27it/s]\n"
     ]
    },
    {
     "name": "stdout",
     "output_type": "stream",
     "text": [
      "Epoch [46/500], Train Loss (lr=0.001): 0.4210\n",
      "Epoch [46/500], Valid Loss (lr=0.001): 0.4296\n"
     ]
    },
    {
     "name": "stderr",
     "output_type": "stream",
     "text": [
      "Epoch 47/500 (lr=0.001): 100%|██████████| 1608/1608 [00:02<00:00, 580.00it/s]\n"
     ]
    },
    {
     "name": "stdout",
     "output_type": "stream",
     "text": [
      "Epoch [47/500], Train Loss (lr=0.001): 0.4215\n",
      "Epoch [47/500], Valid Loss (lr=0.001): 0.4296\n"
     ]
    },
    {
     "name": "stderr",
     "output_type": "stream",
     "text": [
      "Epoch 48/500 (lr=0.001): 100%|██████████| 1608/1608 [00:02<00:00, 581.66it/s]\n"
     ]
    },
    {
     "name": "stdout",
     "output_type": "stream",
     "text": [
      "Epoch [48/500], Train Loss (lr=0.001): 0.4210\n",
      "Epoch [48/500], Valid Loss (lr=0.001): 0.4296\n"
     ]
    },
    {
     "name": "stderr",
     "output_type": "stream",
     "text": [
      "Epoch 49/500 (lr=0.001): 100%|██████████| 1608/1608 [00:02<00:00, 582.52it/s]\n"
     ]
    },
    {
     "name": "stdout",
     "output_type": "stream",
     "text": [
      "Epoch [49/500], Train Loss (lr=0.001): 0.4200\n",
      "Epoch [49/500], Valid Loss (lr=0.001): 0.4296\n"
     ]
    },
    {
     "name": "stderr",
     "output_type": "stream",
     "text": [
      "Epoch 50/500 (lr=0.001): 100%|██████████| 1608/1608 [00:02<00:00, 582.76it/s]\n"
     ]
    },
    {
     "name": "stdout",
     "output_type": "stream",
     "text": [
      "Epoch [50/500], Train Loss (lr=0.001): 0.4199\n",
      "Epoch [50/500], Valid Loss (lr=0.001): 0.4296\n"
     ]
    },
    {
     "name": "stderr",
     "output_type": "stream",
     "text": [
      "Epoch 51/500 (lr=0.001): 100%|██████████| 1608/1608 [00:02<00:00, 586.29it/s]\n"
     ]
    },
    {
     "name": "stdout",
     "output_type": "stream",
     "text": [
      "Epoch [51/500], Train Loss (lr=0.001): 0.4208\n",
      "Epoch [51/500], Valid Loss (lr=0.001): 0.4296\n"
     ]
    },
    {
     "name": "stderr",
     "output_type": "stream",
     "text": [
      "Epoch 52/500 (lr=0.001): 100%|██████████| 1608/1608 [00:02<00:00, 586.91it/s]\n"
     ]
    },
    {
     "name": "stdout",
     "output_type": "stream",
     "text": [
      "Epoch [52/500], Train Loss (lr=0.001): 0.4205\n",
      "Epoch [52/500], Valid Loss (lr=0.001): 0.4296\n"
     ]
    },
    {
     "name": "stderr",
     "output_type": "stream",
     "text": [
      "Epoch 53/500 (lr=0.001): 100%|██████████| 1608/1608 [00:02<00:00, 587.14it/s]\n"
     ]
    },
    {
     "name": "stdout",
     "output_type": "stream",
     "text": [
      "Epoch [53/500], Train Loss (lr=0.001): 0.4211\n",
      "Epoch [53/500], Valid Loss (lr=0.001): 0.4296\n"
     ]
    },
    {
     "name": "stderr",
     "output_type": "stream",
     "text": [
      "Epoch 54/500 (lr=0.001): 100%|██████████| 1608/1608 [00:02<00:00, 585.78it/s]\n"
     ]
    },
    {
     "name": "stdout",
     "output_type": "stream",
     "text": [
      "Epoch [54/500], Train Loss (lr=0.001): 0.4215\n",
      "Epoch [54/500], Valid Loss (lr=0.001): 0.4296\n"
     ]
    },
    {
     "name": "stderr",
     "output_type": "stream",
     "text": [
      "Epoch 55/500 (lr=0.001): 100%|██████████| 1608/1608 [00:02<00:00, 584.48it/s]\n"
     ]
    },
    {
     "name": "stdout",
     "output_type": "stream",
     "text": [
      "Epoch [55/500], Train Loss (lr=0.001): 0.4199\n",
      "Epoch [55/500], Valid Loss (lr=0.001): 0.4296\n"
     ]
    },
    {
     "name": "stderr",
     "output_type": "stream",
     "text": [
      "Epoch 56/500 (lr=0.001): 100%|██████████| 1608/1608 [00:02<00:00, 588.80it/s]\n"
     ]
    },
    {
     "name": "stdout",
     "output_type": "stream",
     "text": [
      "Epoch [56/500], Train Loss (lr=0.001): 0.4202\n",
      "Epoch [56/500], Valid Loss (lr=0.001): 0.4296\n"
     ]
    },
    {
     "name": "stderr",
     "output_type": "stream",
     "text": [
      "Epoch 57/500 (lr=0.001): 100%|██████████| 1608/1608 [00:02<00:00, 589.49it/s]\n"
     ]
    },
    {
     "name": "stdout",
     "output_type": "stream",
     "text": [
      "Epoch [57/500], Train Loss (lr=0.001): 0.4207\n",
      "Epoch [57/500], Valid Loss (lr=0.001): 0.4296\n",
      "Early stopping\n",
      "normx_best_fall_detection_cnn_mediapipe_0001.pt 학습 시작 (lr=0.0001)\n"
     ]
    },
    {
     "name": "stderr",
     "output_type": "stream",
     "text": [
      "Epoch 1/500 (lr=0.0001): 100%|██████████| 1608/1608 [00:02<00:00, 609.42it/s]\n"
     ]
    },
    {
     "name": "stdout",
     "output_type": "stream",
     "text": [
      "Epoch [1/500], Train Loss (lr=0.0001): 0.8342\n",
      "Epoch [1/500], Valid Loss (lr=0.0001): 0.7788\n"
     ]
    },
    {
     "name": "stderr",
     "output_type": "stream",
     "text": [
      "Epoch 2/500 (lr=0.0001): 100%|██████████| 1608/1608 [00:02<00:00, 590.49it/s]\n"
     ]
    },
    {
     "name": "stdout",
     "output_type": "stream",
     "text": [
      "Epoch [2/500], Train Loss (lr=0.0001): 0.7737\n",
      "Epoch [2/500], Valid Loss (lr=0.0001): 0.7662\n"
     ]
    },
    {
     "name": "stderr",
     "output_type": "stream",
     "text": [
      "Epoch 3/500 (lr=0.0001): 100%|██████████| 1608/1608 [00:02<00:00, 592.92it/s]\n"
     ]
    },
    {
     "name": "stdout",
     "output_type": "stream",
     "text": [
      "Epoch [3/500], Train Loss (lr=0.0001): 0.7560\n",
      "Epoch [3/500], Valid Loss (lr=0.0001): 0.7323\n"
     ]
    },
    {
     "name": "stderr",
     "output_type": "stream",
     "text": [
      "Epoch 4/500 (lr=0.0001): 100%|██████████| 1608/1608 [00:02<00:00, 580.92it/s]\n"
     ]
    },
    {
     "name": "stdout",
     "output_type": "stream",
     "text": [
      "Epoch [4/500], Train Loss (lr=0.0001): 0.7256\n",
      "Epoch [4/500], Valid Loss (lr=0.0001): 0.6712\n"
     ]
    },
    {
     "name": "stderr",
     "output_type": "stream",
     "text": [
      "Epoch 5/500 (lr=0.0001): 100%|██████████| 1608/1608 [00:02<00:00, 589.44it/s]\n"
     ]
    },
    {
     "name": "stdout",
     "output_type": "stream",
     "text": [
      "Epoch [5/500], Train Loss (lr=0.0001): 0.6598\n",
      "Epoch [5/500], Valid Loss (lr=0.0001): 0.5981\n"
     ]
    },
    {
     "name": "stderr",
     "output_type": "stream",
     "text": [
      "Epoch 6/500 (lr=0.0001): 100%|██████████| 1608/1608 [00:02<00:00, 588.68it/s]\n"
     ]
    },
    {
     "name": "stdout",
     "output_type": "stream",
     "text": [
      "Epoch [6/500], Train Loss (lr=0.0001): 0.5853\n",
      "Epoch [6/500], Valid Loss (lr=0.0001): 0.5135\n"
     ]
    },
    {
     "name": "stderr",
     "output_type": "stream",
     "text": [
      "Epoch 7/500 (lr=0.0001): 100%|██████████| 1608/1608 [00:02<00:00, 587.50it/s]\n"
     ]
    },
    {
     "name": "stdout",
     "output_type": "stream",
     "text": [
      "Epoch [7/500], Train Loss (lr=0.0001): 0.5470\n",
      "Epoch [7/500], Valid Loss (lr=0.0001): 0.5003\n"
     ]
    },
    {
     "name": "stderr",
     "output_type": "stream",
     "text": [
      "Epoch 8/500 (lr=0.0001): 100%|██████████| 1608/1608 [00:02<00:00, 588.26it/s]\n"
     ]
    },
    {
     "name": "stdout",
     "output_type": "stream",
     "text": [
      "Epoch [8/500], Train Loss (lr=0.0001): 0.5355\n",
      "Epoch [8/500], Valid Loss (lr=0.0001): 0.5014\n"
     ]
    },
    {
     "name": "stderr",
     "output_type": "stream",
     "text": [
      "Epoch 9/500 (lr=0.0001): 100%|██████████| 1608/1608 [00:02<00:00, 592.89it/s]\n"
     ]
    },
    {
     "name": "stdout",
     "output_type": "stream",
     "text": [
      "Epoch [9/500], Train Loss (lr=0.0001): 0.5296\n",
      "Epoch [9/500], Valid Loss (lr=0.0001): 0.5178\n"
     ]
    },
    {
     "name": "stderr",
     "output_type": "stream",
     "text": [
      "Epoch 10/500 (lr=0.0001): 100%|██████████| 1608/1608 [00:02<00:00, 593.63it/s]\n"
     ]
    },
    {
     "name": "stdout",
     "output_type": "stream",
     "text": [
      "Epoch [10/500], Train Loss (lr=0.0001): 0.5127\n",
      "Epoch [10/500], Valid Loss (lr=0.0001): 0.4863\n"
     ]
    },
    {
     "name": "stderr",
     "output_type": "stream",
     "text": [
      "Epoch 11/500 (lr=0.0001): 100%|██████████| 1608/1608 [00:02<00:00, 593.57it/s]\n"
     ]
    },
    {
     "name": "stdout",
     "output_type": "stream",
     "text": [
      "Epoch [11/500], Train Loss (lr=0.0001): 0.5138\n",
      "Epoch [11/500], Valid Loss (lr=0.0001): 0.4697\n"
     ]
    },
    {
     "name": "stderr",
     "output_type": "stream",
     "text": [
      "Epoch 12/500 (lr=0.0001): 100%|██████████| 1608/1608 [00:02<00:00, 595.77it/s]\n"
     ]
    },
    {
     "name": "stdout",
     "output_type": "stream",
     "text": [
      "Epoch [12/500], Train Loss (lr=0.0001): 0.5026\n",
      "Epoch [12/500], Valid Loss (lr=0.0001): 0.4579\n"
     ]
    },
    {
     "name": "stderr",
     "output_type": "stream",
     "text": [
      "Epoch 13/500 (lr=0.0001): 100%|██████████| 1608/1608 [00:02<00:00, 593.17it/s]\n"
     ]
    },
    {
     "name": "stdout",
     "output_type": "stream",
     "text": [
      "Epoch [13/500], Train Loss (lr=0.0001): 0.5003\n",
      "Epoch [13/500], Valid Loss (lr=0.0001): 0.4620\n"
     ]
    },
    {
     "name": "stderr",
     "output_type": "stream",
     "text": [
      "Epoch 14/500 (lr=0.0001): 100%|██████████| 1608/1608 [00:02<00:00, 596.00it/s]\n"
     ]
    },
    {
     "name": "stdout",
     "output_type": "stream",
     "text": [
      "Epoch [14/500], Train Loss (lr=0.0001): 0.4949\n",
      "Epoch [14/500], Valid Loss (lr=0.0001): 0.4529\n"
     ]
    },
    {
     "name": "stderr",
     "output_type": "stream",
     "text": [
      "Epoch 15/500 (lr=0.0001): 100%|██████████| 1608/1608 [00:02<00:00, 589.23it/s]\n"
     ]
    },
    {
     "name": "stdout",
     "output_type": "stream",
     "text": [
      "Epoch [15/500], Train Loss (lr=0.0001): 0.4928\n",
      "Epoch [15/500], Valid Loss (lr=0.0001): 0.4450\n"
     ]
    },
    {
     "name": "stderr",
     "output_type": "stream",
     "text": [
      "Epoch 16/500 (lr=0.0001): 100%|██████████| 1608/1608 [00:02<00:00, 582.79it/s]\n"
     ]
    },
    {
     "name": "stdout",
     "output_type": "stream",
     "text": [
      "Epoch [16/500], Train Loss (lr=0.0001): 0.4823\n",
      "Epoch [16/500], Valid Loss (lr=0.0001): 0.4878\n"
     ]
    },
    {
     "name": "stderr",
     "output_type": "stream",
     "text": [
      "Epoch 17/500 (lr=0.0001): 100%|██████████| 1608/1608 [00:02<00:00, 582.18it/s]\n"
     ]
    },
    {
     "name": "stdout",
     "output_type": "stream",
     "text": [
      "Epoch [17/500], Train Loss (lr=0.0001): 0.4794\n",
      "Epoch [17/500], Valid Loss (lr=0.0001): 0.4448\n"
     ]
    },
    {
     "name": "stderr",
     "output_type": "stream",
     "text": [
      "Epoch 18/500 (lr=0.0001): 100%|██████████| 1608/1608 [00:02<00:00, 584.30it/s]\n"
     ]
    },
    {
     "name": "stdout",
     "output_type": "stream",
     "text": [
      "Epoch [18/500], Train Loss (lr=0.0001): 0.4825\n",
      "Epoch [18/500], Valid Loss (lr=0.0001): 0.5079\n"
     ]
    },
    {
     "name": "stderr",
     "output_type": "stream",
     "text": [
      "Epoch 19/500 (lr=0.0001): 100%|██████████| 1608/1608 [00:02<00:00, 589.44it/s]\n"
     ]
    },
    {
     "name": "stdout",
     "output_type": "stream",
     "text": [
      "Epoch [19/500], Train Loss (lr=0.0001): 0.4778\n",
      "Epoch [19/500], Valid Loss (lr=0.0001): 0.5023\n"
     ]
    },
    {
     "name": "stderr",
     "output_type": "stream",
     "text": [
      "Epoch 20/500 (lr=0.0001): 100%|██████████| 1608/1608 [00:02<00:00, 580.50it/s]\n"
     ]
    },
    {
     "name": "stdout",
     "output_type": "stream",
     "text": [
      "Epoch [20/500], Train Loss (lr=0.0001): 0.4728\n",
      "Epoch [20/500], Valid Loss (lr=0.0001): 0.4335\n"
     ]
    },
    {
     "name": "stderr",
     "output_type": "stream",
     "text": [
      "Epoch 21/500 (lr=0.0001): 100%|██████████| 1608/1608 [00:02<00:00, 581.76it/s]\n"
     ]
    },
    {
     "name": "stdout",
     "output_type": "stream",
     "text": [
      "Epoch [21/500], Train Loss (lr=0.0001): 0.4698\n",
      "Epoch [21/500], Valid Loss (lr=0.0001): 0.4259\n"
     ]
    },
    {
     "name": "stderr",
     "output_type": "stream",
     "text": [
      "Epoch 22/500 (lr=0.0001): 100%|██████████| 1608/1608 [00:02<00:00, 578.62it/s]\n"
     ]
    },
    {
     "name": "stdout",
     "output_type": "stream",
     "text": [
      "Epoch [22/500], Train Loss (lr=0.0001): 0.4655\n",
      "Epoch [22/500], Valid Loss (lr=0.0001): 0.4362\n"
     ]
    },
    {
     "name": "stderr",
     "output_type": "stream",
     "text": [
      "Epoch 23/500 (lr=0.0001): 100%|██████████| 1608/1608 [00:02<00:00, 583.98it/s]\n"
     ]
    },
    {
     "name": "stdout",
     "output_type": "stream",
     "text": [
      "Epoch [23/500], Train Loss (lr=0.0001): 0.4576\n",
      "Epoch [23/500], Valid Loss (lr=0.0001): 0.4434\n"
     ]
    },
    {
     "name": "stderr",
     "output_type": "stream",
     "text": [
      "Epoch 24/500 (lr=0.0001): 100%|██████████| 1608/1608 [00:02<00:00, 584.71it/s]\n"
     ]
    },
    {
     "name": "stdout",
     "output_type": "stream",
     "text": [
      "Epoch [24/500], Train Loss (lr=0.0001): 0.4579\n",
      "Epoch [24/500], Valid Loss (lr=0.0001): 0.4435\n"
     ]
    },
    {
     "name": "stderr",
     "output_type": "stream",
     "text": [
      "Epoch 25/500 (lr=0.0001): 100%|██████████| 1608/1608 [00:02<00:00, 588.80it/s]\n"
     ]
    },
    {
     "name": "stdout",
     "output_type": "stream",
     "text": [
      "Epoch [25/500], Train Loss (lr=0.0001): 0.4553\n",
      "Epoch [25/500], Valid Loss (lr=0.0001): 0.4452\n"
     ]
    },
    {
     "name": "stderr",
     "output_type": "stream",
     "text": [
      "Epoch 26/500 (lr=0.0001): 100%|██████████| 1608/1608 [00:02<00:00, 593.14it/s]\n"
     ]
    },
    {
     "name": "stdout",
     "output_type": "stream",
     "text": [
      "Epoch [26/500], Train Loss (lr=0.0001): 0.4509\n",
      "Epoch [26/500], Valid Loss (lr=0.0001): 0.4536\n"
     ]
    },
    {
     "name": "stderr",
     "output_type": "stream",
     "text": [
      "Epoch 27/500 (lr=0.0001): 100%|██████████| 1608/1608 [00:02<00:00, 580.92it/s]\n"
     ]
    },
    {
     "name": "stdout",
     "output_type": "stream",
     "text": [
      "Epoch [27/500], Train Loss (lr=0.0001): 0.4479\n",
      "Epoch [27/500], Valid Loss (lr=0.0001): 0.4260\n"
     ]
    },
    {
     "name": "stderr",
     "output_type": "stream",
     "text": [
      "Epoch 28/500 (lr=0.0001): 100%|██████████| 1608/1608 [00:02<00:00, 585.15it/s]\n"
     ]
    },
    {
     "name": "stdout",
     "output_type": "stream",
     "text": [
      "Epoch [28/500], Train Loss (lr=0.0001): 0.4136\n",
      "Epoch [28/500], Valid Loss (lr=0.0001): 0.4086\n"
     ]
    },
    {
     "name": "stderr",
     "output_type": "stream",
     "text": [
      "Epoch 29/500 (lr=0.0001): 100%|██████████| 1608/1608 [00:02<00:00, 591.36it/s]\n"
     ]
    },
    {
     "name": "stdout",
     "output_type": "stream",
     "text": [
      "Epoch [29/500], Train Loss (lr=0.0001): 0.4104\n",
      "Epoch [29/500], Valid Loss (lr=0.0001): 0.4027\n"
     ]
    },
    {
     "name": "stderr",
     "output_type": "stream",
     "text": [
      "Epoch 30/500 (lr=0.0001): 100%|██████████| 1608/1608 [00:02<00:00, 587.93it/s]\n"
     ]
    },
    {
     "name": "stdout",
     "output_type": "stream",
     "text": [
      "Epoch [30/500], Train Loss (lr=0.0001): 0.4094\n",
      "Epoch [30/500], Valid Loss (lr=0.0001): 0.4021\n"
     ]
    },
    {
     "name": "stderr",
     "output_type": "stream",
     "text": [
      "Epoch 31/500 (lr=0.0001): 100%|██████████| 1608/1608 [00:02<00:00, 586.21it/s]\n"
     ]
    },
    {
     "name": "stdout",
     "output_type": "stream",
     "text": [
      "Epoch [31/500], Train Loss (lr=0.0001): 0.4096\n",
      "Epoch [31/500], Valid Loss (lr=0.0001): 0.4019\n"
     ]
    },
    {
     "name": "stderr",
     "output_type": "stream",
     "text": [
      "Epoch 32/500 (lr=0.0001): 100%|██████████| 1608/1608 [00:02<00:00, 585.29it/s]\n"
     ]
    },
    {
     "name": "stdout",
     "output_type": "stream",
     "text": [
      "Epoch [32/500], Train Loss (lr=0.0001): 0.4073\n",
      "Epoch [32/500], Valid Loss (lr=0.0001): 0.3976\n"
     ]
    },
    {
     "name": "stderr",
     "output_type": "stream",
     "text": [
      "Epoch 33/500 (lr=0.0001): 100%|██████████| 1608/1608 [00:02<00:00, 588.36it/s]\n"
     ]
    },
    {
     "name": "stdout",
     "output_type": "stream",
     "text": [
      "Epoch [33/500], Train Loss (lr=0.0001): 0.4073\n",
      "Epoch [33/500], Valid Loss (lr=0.0001): 0.3991\n"
     ]
    },
    {
     "name": "stderr",
     "output_type": "stream",
     "text": [
      "Epoch 34/500 (lr=0.0001): 100%|██████████| 1608/1608 [00:02<00:00, 587.50it/s]\n"
     ]
    },
    {
     "name": "stdout",
     "output_type": "stream",
     "text": [
      "Epoch [34/500], Train Loss (lr=0.0001): 0.4078\n",
      "Epoch [34/500], Valid Loss (lr=0.0001): 0.3982\n"
     ]
    },
    {
     "name": "stderr",
     "output_type": "stream",
     "text": [
      "Epoch 35/500 (lr=0.0001): 100%|██████████| 1608/1608 [00:02<00:00, 585.36it/s]\n"
     ]
    },
    {
     "name": "stdout",
     "output_type": "stream",
     "text": [
      "Epoch [35/500], Train Loss (lr=0.0001): 0.4059\n",
      "Epoch [35/500], Valid Loss (lr=0.0001): 0.4018\n"
     ]
    },
    {
     "name": "stderr",
     "output_type": "stream",
     "text": [
      "Epoch 36/500 (lr=0.0001): 100%|██████████| 1608/1608 [00:02<00:00, 585.92it/s]\n"
     ]
    },
    {
     "name": "stdout",
     "output_type": "stream",
     "text": [
      "Epoch [36/500], Train Loss (lr=0.0001): 0.4052\n",
      "Epoch [36/500], Valid Loss (lr=0.0001): 0.3972\n"
     ]
    },
    {
     "name": "stderr",
     "output_type": "stream",
     "text": [
      "Epoch 37/500 (lr=0.0001): 100%|██████████| 1608/1608 [00:02<00:00, 588.69it/s]\n"
     ]
    },
    {
     "name": "stdout",
     "output_type": "stream",
     "text": [
      "Epoch [37/500], Train Loss (lr=0.0001): 0.4042\n",
      "Epoch [37/500], Valid Loss (lr=0.0001): 0.3965\n"
     ]
    },
    {
     "name": "stderr",
     "output_type": "stream",
     "text": [
      "Epoch 38/500 (lr=0.0001): 100%|██████████| 1608/1608 [00:02<00:00, 579.48it/s]\n"
     ]
    },
    {
     "name": "stdout",
     "output_type": "stream",
     "text": [
      "Epoch [38/500], Train Loss (lr=0.0001): 0.4044\n",
      "Epoch [38/500], Valid Loss (lr=0.0001): 0.3980\n"
     ]
    },
    {
     "name": "stderr",
     "output_type": "stream",
     "text": [
      "Epoch 39/500 (lr=0.0001): 100%|██████████| 1608/1608 [00:02<00:00, 585.74it/s]\n"
     ]
    },
    {
     "name": "stdout",
     "output_type": "stream",
     "text": [
      "Epoch [39/500], Train Loss (lr=0.0001): 0.4027\n",
      "Epoch [39/500], Valid Loss (lr=0.0001): 0.3988\n"
     ]
    },
    {
     "name": "stderr",
     "output_type": "stream",
     "text": [
      "Epoch 40/500 (lr=0.0001): 100%|██████████| 1608/1608 [00:02<00:00, 582.35it/s]\n"
     ]
    },
    {
     "name": "stdout",
     "output_type": "stream",
     "text": [
      "Epoch [40/500], Train Loss (lr=0.0001): 0.4007\n",
      "Epoch [40/500], Valid Loss (lr=0.0001): 0.3946\n"
     ]
    },
    {
     "name": "stderr",
     "output_type": "stream",
     "text": [
      "Epoch 41/500 (lr=0.0001): 100%|██████████| 1608/1608 [00:02<00:00, 587.07it/s]\n"
     ]
    },
    {
     "name": "stdout",
     "output_type": "stream",
     "text": [
      "Epoch [41/500], Train Loss (lr=0.0001): 0.4003\n",
      "Epoch [41/500], Valid Loss (lr=0.0001): 0.3976\n"
     ]
    },
    {
     "name": "stderr",
     "output_type": "stream",
     "text": [
      "Epoch 42/500 (lr=0.0001): 100%|██████████| 1608/1608 [00:02<00:00, 578.73it/s]\n"
     ]
    },
    {
     "name": "stdout",
     "output_type": "stream",
     "text": [
      "Epoch [42/500], Train Loss (lr=0.0001): 0.4018\n",
      "Epoch [42/500], Valid Loss (lr=0.0001): 0.3949\n"
     ]
    },
    {
     "name": "stderr",
     "output_type": "stream",
     "text": [
      "Epoch 43/500 (lr=0.0001): 100%|██████████| 1608/1608 [00:02<00:00, 587.92it/s]\n"
     ]
    },
    {
     "name": "stdout",
     "output_type": "stream",
     "text": [
      "Epoch [43/500], Train Loss (lr=0.0001): 0.4018\n",
      "Epoch [43/500], Valid Loss (lr=0.0001): 0.3940\n"
     ]
    },
    {
     "name": "stderr",
     "output_type": "stream",
     "text": [
      "Epoch 44/500 (lr=0.0001): 100%|██████████| 1608/1608 [00:02<00:00, 585.16it/s]\n"
     ]
    },
    {
     "name": "stdout",
     "output_type": "stream",
     "text": [
      "Epoch [44/500], Train Loss (lr=0.0001): 0.3989\n",
      "Epoch [44/500], Valid Loss (lr=0.0001): 0.3934\n"
     ]
    },
    {
     "name": "stderr",
     "output_type": "stream",
     "text": [
      "Epoch 45/500 (lr=0.0001): 100%|██████████| 1608/1608 [00:02<00:00, 591.85it/s]\n"
     ]
    },
    {
     "name": "stdout",
     "output_type": "stream",
     "text": [
      "Epoch [45/500], Train Loss (lr=0.0001): 0.3995\n",
      "Epoch [45/500], Valid Loss (lr=0.0001): 0.3935\n"
     ]
    },
    {
     "name": "stderr",
     "output_type": "stream",
     "text": [
      "Epoch 46/500 (lr=0.0001): 100%|██████████| 1608/1608 [00:02<00:00, 587.39it/s]\n"
     ]
    },
    {
     "name": "stdout",
     "output_type": "stream",
     "text": [
      "Epoch [46/500], Train Loss (lr=0.0001): 0.3984\n",
      "Epoch [46/500], Valid Loss (lr=0.0001): 0.3924\n"
     ]
    },
    {
     "name": "stderr",
     "output_type": "stream",
     "text": [
      "Epoch 47/500 (lr=0.0001): 100%|██████████| 1608/1608 [00:02<00:00, 589.33it/s]\n"
     ]
    },
    {
     "name": "stdout",
     "output_type": "stream",
     "text": [
      "Epoch [47/500], Train Loss (lr=0.0001): 0.3989\n",
      "Epoch [47/500], Valid Loss (lr=0.0001): 0.3925\n"
     ]
    },
    {
     "name": "stderr",
     "output_type": "stream",
     "text": [
      "Epoch 48/500 (lr=0.0001): 100%|██████████| 1608/1608 [00:02<00:00, 585.58it/s]\n"
     ]
    },
    {
     "name": "stdout",
     "output_type": "stream",
     "text": [
      "Epoch [48/500], Train Loss (lr=0.0001): 0.3962\n",
      "Epoch [48/500], Valid Loss (lr=0.0001): 0.3912\n"
     ]
    },
    {
     "name": "stderr",
     "output_type": "stream",
     "text": [
      "Epoch 49/500 (lr=0.0001): 100%|██████████| 1608/1608 [00:02<00:00, 579.56it/s]\n"
     ]
    },
    {
     "name": "stdout",
     "output_type": "stream",
     "text": [
      "Epoch [49/500], Train Loss (lr=0.0001): 0.3980\n",
      "Epoch [49/500], Valid Loss (lr=0.0001): 0.3924\n"
     ]
    },
    {
     "name": "stderr",
     "output_type": "stream",
     "text": [
      "Epoch 50/500 (lr=0.0001): 100%|██████████| 1608/1608 [00:02<00:00, 583.76it/s]\n"
     ]
    },
    {
     "name": "stdout",
     "output_type": "stream",
     "text": [
      "Epoch [50/500], Train Loss (lr=0.0001): 0.3948\n",
      "Epoch [50/500], Valid Loss (lr=0.0001): 0.3904\n"
     ]
    },
    {
     "name": "stderr",
     "output_type": "stream",
     "text": [
      "Epoch 51/500 (lr=0.0001): 100%|██████████| 1608/1608 [00:02<00:00, 585.57it/s]\n"
     ]
    },
    {
     "name": "stdout",
     "output_type": "stream",
     "text": [
      "Epoch [51/500], Train Loss (lr=0.0001): 0.3962\n",
      "Epoch [51/500], Valid Loss (lr=0.0001): 0.3900\n"
     ]
    },
    {
     "name": "stderr",
     "output_type": "stream",
     "text": [
      "Epoch 52/500 (lr=0.0001): 100%|██████████| 1608/1608 [00:02<00:00, 581.66it/s]\n"
     ]
    },
    {
     "name": "stdout",
     "output_type": "stream",
     "text": [
      "Epoch [52/500], Train Loss (lr=0.0001): 0.3961\n",
      "Epoch [52/500], Valid Loss (lr=0.0001): 0.3889\n"
     ]
    },
    {
     "name": "stderr",
     "output_type": "stream",
     "text": [
      "Epoch 53/500 (lr=0.0001): 100%|██████████| 1608/1608 [00:02<00:00, 581.76it/s]\n"
     ]
    },
    {
     "name": "stdout",
     "output_type": "stream",
     "text": [
      "Epoch [53/500], Train Loss (lr=0.0001): 0.3911\n",
      "Epoch [53/500], Valid Loss (lr=0.0001): 0.3913\n"
     ]
    },
    {
     "name": "stderr",
     "output_type": "stream",
     "text": [
      "Epoch 54/500 (lr=0.0001): 100%|██████████| 1608/1608 [00:02<00:00, 581.97it/s]\n"
     ]
    },
    {
     "name": "stdout",
     "output_type": "stream",
     "text": [
      "Epoch [54/500], Train Loss (lr=0.0001): 0.3958\n",
      "Epoch [54/500], Valid Loss (lr=0.0001): 0.3924\n"
     ]
    },
    {
     "name": "stderr",
     "output_type": "stream",
     "text": [
      "Epoch 55/500 (lr=0.0001): 100%|██████████| 1608/1608 [00:02<00:00, 579.46it/s]\n"
     ]
    },
    {
     "name": "stdout",
     "output_type": "stream",
     "text": [
      "Epoch [55/500], Train Loss (lr=0.0001): 0.3933\n",
      "Epoch [55/500], Valid Loss (lr=0.0001): 0.3909\n"
     ]
    },
    {
     "name": "stderr",
     "output_type": "stream",
     "text": [
      "Epoch 56/500 (lr=0.0001): 100%|██████████| 1608/1608 [00:02<00:00, 577.75it/s]\n"
     ]
    },
    {
     "name": "stdout",
     "output_type": "stream",
     "text": [
      "Epoch [56/500], Train Loss (lr=0.0001): 0.3930\n",
      "Epoch [56/500], Valid Loss (lr=0.0001): 0.3870\n"
     ]
    },
    {
     "name": "stderr",
     "output_type": "stream",
     "text": [
      "Epoch 57/500 (lr=0.0001): 100%|██████████| 1608/1608 [00:02<00:00, 583.45it/s]\n"
     ]
    },
    {
     "name": "stdout",
     "output_type": "stream",
     "text": [
      "Epoch [57/500], Train Loss (lr=0.0001): 0.3943\n",
      "Epoch [57/500], Valid Loss (lr=0.0001): 0.3886\n"
     ]
    },
    {
     "name": "stderr",
     "output_type": "stream",
     "text": [
      "Epoch 58/500 (lr=0.0001): 100%|██████████| 1608/1608 [00:02<00:00, 587.36it/s]\n"
     ]
    },
    {
     "name": "stdout",
     "output_type": "stream",
     "text": [
      "Epoch [58/500], Train Loss (lr=0.0001): 0.3903\n",
      "Epoch [58/500], Valid Loss (lr=0.0001): 0.3887\n"
     ]
    },
    {
     "name": "stderr",
     "output_type": "stream",
     "text": [
      "Epoch 59/500 (lr=0.0001): 100%|██████████| 1608/1608 [00:02<00:00, 582.32it/s]\n"
     ]
    },
    {
     "name": "stdout",
     "output_type": "stream",
     "text": [
      "Epoch [59/500], Train Loss (lr=0.0001): 0.3910\n",
      "Epoch [59/500], Valid Loss (lr=0.0001): 0.3880\n"
     ]
    },
    {
     "name": "stderr",
     "output_type": "stream",
     "text": [
      "Epoch 60/500 (lr=0.0001): 100%|██████████| 1608/1608 [00:02<00:00, 588.95it/s]\n"
     ]
    },
    {
     "name": "stdout",
     "output_type": "stream",
     "text": [
      "Epoch [60/500], Train Loss (lr=0.0001): 0.3917\n",
      "Epoch [60/500], Valid Loss (lr=0.0001): 0.3892\n"
     ]
    },
    {
     "name": "stderr",
     "output_type": "stream",
     "text": [
      "Epoch 61/500 (lr=0.0001): 100%|██████████| 1608/1608 [00:02<00:00, 584.13it/s]\n"
     ]
    },
    {
     "name": "stdout",
     "output_type": "stream",
     "text": [
      "Epoch [61/500], Train Loss (lr=0.0001): 0.3891\n",
      "Epoch [61/500], Valid Loss (lr=0.0001): 0.3871\n"
     ]
    },
    {
     "name": "stderr",
     "output_type": "stream",
     "text": [
      "Epoch 62/500 (lr=0.0001): 100%|██████████| 1608/1608 [00:02<00:00, 588.01it/s]\n"
     ]
    },
    {
     "name": "stdout",
     "output_type": "stream",
     "text": [
      "Epoch [62/500], Train Loss (lr=0.0001): 0.3903\n",
      "Epoch [62/500], Valid Loss (lr=0.0001): 0.3846\n"
     ]
    },
    {
     "name": "stderr",
     "output_type": "stream",
     "text": [
      "Epoch 63/500 (lr=0.0001): 100%|██████████| 1608/1608 [00:02<00:00, 577.20it/s]\n"
     ]
    },
    {
     "name": "stdout",
     "output_type": "stream",
     "text": [
      "Epoch [63/500], Train Loss (lr=0.0001): 0.3899\n",
      "Epoch [63/500], Valid Loss (lr=0.0001): 0.3921\n"
     ]
    },
    {
     "name": "stderr",
     "output_type": "stream",
     "text": [
      "Epoch 64/500 (lr=0.0001): 100%|██████████| 1608/1608 [00:02<00:00, 578.21it/s]\n"
     ]
    },
    {
     "name": "stdout",
     "output_type": "stream",
     "text": [
      "Epoch [64/500], Train Loss (lr=0.0001): 0.3881\n",
      "Epoch [64/500], Valid Loss (lr=0.0001): 0.3886\n"
     ]
    },
    {
     "name": "stderr",
     "output_type": "stream",
     "text": [
      "Epoch 65/500 (lr=0.0001): 100%|██████████| 1608/1608 [00:02<00:00, 579.46it/s]\n"
     ]
    },
    {
     "name": "stdout",
     "output_type": "stream",
     "text": [
      "Epoch [65/500], Train Loss (lr=0.0001): 0.3878\n",
      "Epoch [65/500], Valid Loss (lr=0.0001): 0.3862\n"
     ]
    },
    {
     "name": "stderr",
     "output_type": "stream",
     "text": [
      "Epoch 66/500 (lr=0.0001): 100%|██████████| 1608/1608 [00:02<00:00, 574.89it/s]\n"
     ]
    },
    {
     "name": "stdout",
     "output_type": "stream",
     "text": [
      "Epoch [66/500], Train Loss (lr=0.0001): 0.3877\n",
      "Epoch [66/500], Valid Loss (lr=0.0001): 0.3884\n"
     ]
    },
    {
     "name": "stderr",
     "output_type": "stream",
     "text": [
      "Epoch 67/500 (lr=0.0001): 100%|██████████| 1608/1608 [00:02<00:00, 582.61it/s]\n"
     ]
    },
    {
     "name": "stdout",
     "output_type": "stream",
     "text": [
      "Epoch [67/500], Train Loss (lr=0.0001): 0.3872\n",
      "Epoch [67/500], Valid Loss (lr=0.0001): 0.3885\n"
     ]
    },
    {
     "name": "stderr",
     "output_type": "stream",
     "text": [
      "Epoch 68/500 (lr=0.0001): 100%|██████████| 1608/1608 [00:02<00:00, 580.71it/s]\n"
     ]
    },
    {
     "name": "stdout",
     "output_type": "stream",
     "text": [
      "Epoch [68/500], Train Loss (lr=0.0001): 0.3863\n",
      "Epoch [68/500], Valid Loss (lr=0.0001): 0.3855\n"
     ]
    },
    {
     "name": "stderr",
     "output_type": "stream",
     "text": [
      "Epoch 69/500 (lr=0.0001): 100%|██████████| 1608/1608 [00:02<00:00, 582.94it/s]\n"
     ]
    },
    {
     "name": "stdout",
     "output_type": "stream",
     "text": [
      "Epoch [69/500], Train Loss (lr=0.0001): 0.3828\n",
      "Epoch [69/500], Valid Loss (lr=0.0001): 0.3836\n"
     ]
    },
    {
     "name": "stderr",
     "output_type": "stream",
     "text": [
      "Epoch 70/500 (lr=0.0001): 100%|██████████| 1608/1608 [00:02<00:00, 576.75it/s]\n"
     ]
    },
    {
     "name": "stdout",
     "output_type": "stream",
     "text": [
      "Epoch [70/500], Train Loss (lr=0.0001): 0.3804\n",
      "Epoch [70/500], Valid Loss (lr=0.0001): 0.3829\n"
     ]
    },
    {
     "name": "stderr",
     "output_type": "stream",
     "text": [
      "Epoch 71/500 (lr=0.0001): 100%|██████████| 1608/1608 [00:02<00:00, 578.48it/s]\n"
     ]
    },
    {
     "name": "stdout",
     "output_type": "stream",
     "text": [
      "Epoch [71/500], Train Loss (lr=0.0001): 0.3792\n",
      "Epoch [71/500], Valid Loss (lr=0.0001): 0.3835\n"
     ]
    },
    {
     "name": "stderr",
     "output_type": "stream",
     "text": [
      "Epoch 72/500 (lr=0.0001): 100%|██████████| 1608/1608 [00:02<00:00, 581.55it/s]\n"
     ]
    },
    {
     "name": "stdout",
     "output_type": "stream",
     "text": [
      "Epoch [72/500], Train Loss (lr=0.0001): 0.3829\n",
      "Epoch [72/500], Valid Loss (lr=0.0001): 0.3831\n"
     ]
    },
    {
     "name": "stderr",
     "output_type": "stream",
     "text": [
      "Epoch 73/500 (lr=0.0001): 100%|██████████| 1608/1608 [00:02<00:00, 583.00it/s]\n"
     ]
    },
    {
     "name": "stdout",
     "output_type": "stream",
     "text": [
      "Epoch [73/500], Train Loss (lr=0.0001): 0.3825\n",
      "Epoch [73/500], Valid Loss (lr=0.0001): 0.3827\n"
     ]
    },
    {
     "name": "stderr",
     "output_type": "stream",
     "text": [
      "Epoch 74/500 (lr=0.0001): 100%|██████████| 1608/1608 [00:02<00:00, 581.76it/s]\n"
     ]
    },
    {
     "name": "stdout",
     "output_type": "stream",
     "text": [
      "Epoch [74/500], Train Loss (lr=0.0001): 0.3798\n",
      "Epoch [74/500], Valid Loss (lr=0.0001): 0.3836\n"
     ]
    },
    {
     "name": "stderr",
     "output_type": "stream",
     "text": [
      "Epoch 75/500 (lr=0.0001): 100%|██████████| 1608/1608 [00:02<00:00, 583.03it/s]\n"
     ]
    },
    {
     "name": "stdout",
     "output_type": "stream",
     "text": [
      "Epoch [75/500], Train Loss (lr=0.0001): 0.3809\n",
      "Epoch [75/500], Valid Loss (lr=0.0001): 0.3828\n"
     ]
    },
    {
     "name": "stderr",
     "output_type": "stream",
     "text": [
      "Epoch 76/500 (lr=0.0001): 100%|██████████| 1608/1608 [00:02<00:00, 578.00it/s]\n"
     ]
    },
    {
     "name": "stdout",
     "output_type": "stream",
     "text": [
      "Epoch [76/500], Train Loss (lr=0.0001): 0.3812\n",
      "Epoch [76/500], Valid Loss (lr=0.0001): 0.3828\n"
     ]
    },
    {
     "name": "stderr",
     "output_type": "stream",
     "text": [
      "Epoch 77/500 (lr=0.0001): 100%|██████████| 1608/1608 [00:02<00:00, 579.87it/s]\n"
     ]
    },
    {
     "name": "stdout",
     "output_type": "stream",
     "text": [
      "Epoch [77/500], Train Loss (lr=0.0001): 0.3816\n",
      "Epoch [77/500], Valid Loss (lr=0.0001): 0.3826\n"
     ]
    },
    {
     "name": "stderr",
     "output_type": "stream",
     "text": [
      "Epoch 78/500 (lr=0.0001): 100%|██████████| 1608/1608 [00:02<00:00, 583.34it/s]\n"
     ]
    },
    {
     "name": "stdout",
     "output_type": "stream",
     "text": [
      "Epoch [78/500], Train Loss (lr=0.0001): 0.3821\n",
      "Epoch [78/500], Valid Loss (lr=0.0001): 0.3830\n"
     ]
    },
    {
     "name": "stderr",
     "output_type": "stream",
     "text": [
      "Epoch 79/500 (lr=0.0001): 100%|██████████| 1608/1608 [00:02<00:00, 586.65it/s]\n"
     ]
    },
    {
     "name": "stdout",
     "output_type": "stream",
     "text": [
      "Epoch [79/500], Train Loss (lr=0.0001): 0.3817\n",
      "Epoch [79/500], Valid Loss (lr=0.0001): 0.3834\n"
     ]
    },
    {
     "name": "stderr",
     "output_type": "stream",
     "text": [
      "Epoch 80/500 (lr=0.0001): 100%|██████████| 1608/1608 [00:02<00:00, 580.52it/s]\n"
     ]
    },
    {
     "name": "stdout",
     "output_type": "stream",
     "text": [
      "Epoch [80/500], Train Loss (lr=0.0001): 0.3815\n",
      "Epoch [80/500], Valid Loss (lr=0.0001): 0.3823\n"
     ]
    },
    {
     "name": "stderr",
     "output_type": "stream",
     "text": [
      "Epoch 81/500 (lr=0.0001): 100%|██████████| 1608/1608 [00:02<00:00, 580.50it/s]\n"
     ]
    },
    {
     "name": "stdout",
     "output_type": "stream",
     "text": [
      "Epoch [81/500], Train Loss (lr=0.0001): 0.3806\n",
      "Epoch [81/500], Valid Loss (lr=0.0001): 0.3821\n"
     ]
    },
    {
     "name": "stderr",
     "output_type": "stream",
     "text": [
      "Epoch 82/500 (lr=0.0001): 100%|██████████| 1608/1608 [00:02<00:00, 578.42it/s]\n"
     ]
    },
    {
     "name": "stdout",
     "output_type": "stream",
     "text": [
      "Epoch [82/500], Train Loss (lr=0.0001): 0.3813\n",
      "Epoch [82/500], Valid Loss (lr=0.0001): 0.3826\n"
     ]
    },
    {
     "name": "stderr",
     "output_type": "stream",
     "text": [
      "Epoch 83/500 (lr=0.0001): 100%|██████████| 1608/1608 [00:02<00:00, 578.20it/s]\n"
     ]
    },
    {
     "name": "stdout",
     "output_type": "stream",
     "text": [
      "Epoch [83/500], Train Loss (lr=0.0001): 0.3817\n",
      "Epoch [83/500], Valid Loss (lr=0.0001): 0.3824\n"
     ]
    },
    {
     "name": "stderr",
     "output_type": "stream",
     "text": [
      "Epoch 84/500 (lr=0.0001): 100%|██████████| 1608/1608 [00:02<00:00, 588.33it/s]\n"
     ]
    },
    {
     "name": "stdout",
     "output_type": "stream",
     "text": [
      "Epoch [84/500], Train Loss (lr=0.0001): 0.3819\n",
      "Epoch [84/500], Valid Loss (lr=0.0001): 0.3829\n"
     ]
    },
    {
     "name": "stderr",
     "output_type": "stream",
     "text": [
      "Epoch 85/500 (lr=0.0001): 100%|██████████| 1608/1608 [00:02<00:00, 587.44it/s]\n"
     ]
    },
    {
     "name": "stdout",
     "output_type": "stream",
     "text": [
      "Epoch [85/500], Train Loss (lr=0.0001): 0.3818\n",
      "Epoch [85/500], Valid Loss (lr=0.0001): 0.3827\n"
     ]
    },
    {
     "name": "stderr",
     "output_type": "stream",
     "text": [
      "Epoch 86/500 (lr=0.0001): 100%|██████████| 1608/1608 [00:02<00:00, 592.40it/s]\n"
     ]
    },
    {
     "name": "stdout",
     "output_type": "stream",
     "text": [
      "Epoch [86/500], Train Loss (lr=0.0001): 0.3812\n",
      "Epoch [86/500], Valid Loss (lr=0.0001): 0.3821\n"
     ]
    },
    {
     "name": "stderr",
     "output_type": "stream",
     "text": [
      "Epoch 87/500 (lr=0.0001): 100%|██████████| 1608/1608 [00:02<00:00, 586.42it/s]\n"
     ]
    },
    {
     "name": "stdout",
     "output_type": "stream",
     "text": [
      "Epoch [87/500], Train Loss (lr=0.0001): 0.3830\n",
      "Epoch [87/500], Valid Loss (lr=0.0001): 0.3822\n"
     ]
    },
    {
     "name": "stderr",
     "output_type": "stream",
     "text": [
      "Epoch 88/500 (lr=0.0001): 100%|██████████| 1608/1608 [00:02<00:00, 589.20it/s]\n"
     ]
    },
    {
     "name": "stdout",
     "output_type": "stream",
     "text": [
      "Epoch [88/500], Train Loss (lr=0.0001): 0.3808\n",
      "Epoch [88/500], Valid Loss (lr=0.0001): 0.3823\n"
     ]
    },
    {
     "name": "stderr",
     "output_type": "stream",
     "text": [
      "Epoch 89/500 (lr=0.0001): 100%|██████████| 1608/1608 [00:02<00:00, 592.51it/s]\n"
     ]
    },
    {
     "name": "stdout",
     "output_type": "stream",
     "text": [
      "Epoch [89/500], Train Loss (lr=0.0001): 0.3800\n",
      "Epoch [89/500], Valid Loss (lr=0.0001): 0.3823\n"
     ]
    },
    {
     "name": "stderr",
     "output_type": "stream",
     "text": [
      "Epoch 90/500 (lr=0.0001): 100%|██████████| 1608/1608 [00:02<00:00, 583.95it/s]\n"
     ]
    },
    {
     "name": "stdout",
     "output_type": "stream",
     "text": [
      "Epoch [90/500], Train Loss (lr=0.0001): 0.3806\n",
      "Epoch [90/500], Valid Loss (lr=0.0001): 0.3824\n"
     ]
    },
    {
     "name": "stderr",
     "output_type": "stream",
     "text": [
      "Epoch 91/500 (lr=0.0001): 100%|██████████| 1608/1608 [00:02<00:00, 588.96it/s]\n"
     ]
    },
    {
     "name": "stdout",
     "output_type": "stream",
     "text": [
      "Epoch [91/500], Train Loss (lr=0.0001): 0.3826\n",
      "Epoch [91/500], Valid Loss (lr=0.0001): 0.3823\n"
     ]
    },
    {
     "name": "stderr",
     "output_type": "stream",
     "text": [
      "Epoch 92/500 (lr=0.0001): 100%|██████████| 1608/1608 [00:02<00:00, 588.87it/s]\n"
     ]
    },
    {
     "name": "stdout",
     "output_type": "stream",
     "text": [
      "Epoch [92/500], Train Loss (lr=0.0001): 0.3804\n",
      "Epoch [92/500], Valid Loss (lr=0.0001): 0.3824\n"
     ]
    },
    {
     "name": "stderr",
     "output_type": "stream",
     "text": [
      "Epoch 93/500 (lr=0.0001): 100%|██████████| 1608/1608 [00:02<00:00, 586.86it/s]\n"
     ]
    },
    {
     "name": "stdout",
     "output_type": "stream",
     "text": [
      "Epoch [93/500], Train Loss (lr=0.0001): 0.3796\n",
      "Epoch [93/500], Valid Loss (lr=0.0001): 0.3824\n"
     ]
    },
    {
     "name": "stderr",
     "output_type": "stream",
     "text": [
      "Epoch 94/500 (lr=0.0001): 100%|██████████| 1608/1608 [00:02<00:00, 581.72it/s]\n"
     ]
    },
    {
     "name": "stdout",
     "output_type": "stream",
     "text": [
      "Epoch [94/500], Train Loss (lr=0.0001): 0.3796\n",
      "Epoch [94/500], Valid Loss (lr=0.0001): 0.3824\n"
     ]
    },
    {
     "name": "stderr",
     "output_type": "stream",
     "text": [
      "Epoch 95/500 (lr=0.0001): 100%|██████████| 1608/1608 [00:02<00:00, 593.14it/s]\n"
     ]
    },
    {
     "name": "stdout",
     "output_type": "stream",
     "text": [
      "Epoch [95/500], Train Loss (lr=0.0001): 0.3820\n",
      "Epoch [95/500], Valid Loss (lr=0.0001): 0.3823\n"
     ]
    },
    {
     "name": "stderr",
     "output_type": "stream",
     "text": [
      "Epoch 96/500 (lr=0.0001): 100%|██████████| 1608/1608 [00:02<00:00, 576.67it/s]\n"
     ]
    },
    {
     "name": "stdout",
     "output_type": "stream",
     "text": [
      "Epoch [96/500], Train Loss (lr=0.0001): 0.3806\n",
      "Epoch [96/500], Valid Loss (lr=0.0001): 0.3823\n"
     ]
    },
    {
     "name": "stderr",
     "output_type": "stream",
     "text": [
      "Epoch 97/500 (lr=0.0001): 100%|██████████| 1608/1608 [00:03<00:00, 525.25it/s]\n"
     ]
    },
    {
     "name": "stdout",
     "output_type": "stream",
     "text": [
      "Epoch [97/500], Train Loss (lr=0.0001): 0.3802\n",
      "Epoch [97/500], Valid Loss (lr=0.0001): 0.3823\n"
     ]
    },
    {
     "name": "stderr",
     "output_type": "stream",
     "text": [
      "Epoch 98/500 (lr=0.0001): 100%|██████████| 1608/1608 [00:03<00:00, 533.09it/s]\n"
     ]
    },
    {
     "name": "stdout",
     "output_type": "stream",
     "text": [
      "Epoch [98/500], Train Loss (lr=0.0001): 0.3803\n",
      "Epoch [98/500], Valid Loss (lr=0.0001): 0.3823\n"
     ]
    },
    {
     "name": "stderr",
     "output_type": "stream",
     "text": [
      "Epoch 99/500 (lr=0.0001): 100%|██████████| 1608/1608 [00:02<00:00, 543.98it/s]\n"
     ]
    },
    {
     "name": "stdout",
     "output_type": "stream",
     "text": [
      "Epoch [99/500], Train Loss (lr=0.0001): 0.3806\n",
      "Epoch [99/500], Valid Loss (lr=0.0001): 0.3823\n"
     ]
    },
    {
     "name": "stderr",
     "output_type": "stream",
     "text": [
      "Epoch 100/500 (lr=0.0001): 100%|██████████| 1608/1608 [00:02<00:00, 548.17it/s]\n"
     ]
    },
    {
     "name": "stdout",
     "output_type": "stream",
     "text": [
      "Epoch [100/500], Train Loss (lr=0.0001): 0.3800\n",
      "Epoch [100/500], Valid Loss (lr=0.0001): 0.3823\n"
     ]
    },
    {
     "name": "stderr",
     "output_type": "stream",
     "text": [
      "Epoch 101/500 (lr=0.0001): 100%|██████████| 1608/1608 [00:02<00:00, 543.26it/s]\n"
     ]
    },
    {
     "name": "stdout",
     "output_type": "stream",
     "text": [
      "Epoch [101/500], Train Loss (lr=0.0001): 0.3816\n",
      "Epoch [101/500], Valid Loss (lr=0.0001): 0.3823\n",
      "Early stopping\n"
     ]
    }
   ],
   "source": [
    "# 두 가지 학습률로 CNN 학습 진행\n",
    "for cnn_model_name, learning_rate in cnn_model_configs:\n",
    "    # 모델 생성\n",
    "    model = create_cnn_model_for_dataset(train_mediapipe_dataset)\n",
    "    model.to(device)\n",
    "\n",
    "    # 손실 함수와 옵티마이저 정의\n",
    "    criterion = nn.CrossEntropyLoss(weight=class_weights)\n",
    "    optimizer = torch.optim.Adam(model.parameters(), lr=learning_rate, weight_decay=1e-5)\n",
    "    scheduler = torch.optim.lr_scheduler.ReduceLROnPlateau(optimizer, mode='min', factor=0.1, patience=5)\n",
    "\n",
    "    # 각 학습 설정별 초기화\n",
    "    best_loss = float('inf')\n",
    "    no_improve = 0\n",
    "\n",
    "    print(f\"{cnn_model_name} 학습 시작 (lr={learning_rate})\", flush=True)\n",
    "\n",
    "    for epoch in range(num_epochs):\n",
    "        model.train() # Training\n",
    "        total_loss_train = 0\n",
    "\n",
    "        for sequences, labels in tqdm(train_loader_mediapipe, desc=f\"Epoch {epoch + 1}/{num_epochs} (lr={learning_rate})\"):\n",
    "            sequences, labels = sequences.to(device), labels.to(device)\n",
    "\n",
    "            optimizer.zero_grad()\n",
    "            outputs = model(sequences)\n",
    "            loss_train = criterion(outputs, labels.view(-1))\n",
    "            loss_train.backward()\n",
    "            optimizer.step()\n",
    "\n",
    "            total_loss_train += loss_train.item()\n",
    "\n",
    "        avg_loss_train = total_loss_train / len(train_loader_mediapipe)\n",
    "        print(f'Epoch [{epoch + 1}/{num_epochs}], Train Loss (lr={learning_rate}): {avg_loss_train:.4f}')\n",
    "\n",
    "        model.eval() # Validation\n",
    "        total_loss_valid = 0\n",
    "        with torch.no_grad():\n",
    "            for sequences, labels in valid_loader_mediapipe:\n",
    "                sequences, labels = sequences.to(device), labels.to(device)\n",
    "                outputs = model(sequences)\n",
    "                loss_valid = criterion(outputs, labels.view(-1))\n",
    "                total_loss_valid += loss_valid.item()\n",
    "\n",
    "        avg_loss_valid = total_loss_valid / len(valid_loader_mediapipe)\n",
    "        print(f'Epoch [{epoch + 1}/{num_epochs}], Valid Loss (lr={learning_rate}): {avg_loss_valid:.4f}')\n",
    "\n",
    "        # 학습률 조정 스케줄러 업데이트\n",
    "        scheduler.step(avg_loss_valid)\n",
    "\n",
    "        # 최상의 모델 저장\n",
    "        if avg_loss_valid < best_loss:\n",
    "            best_loss = avg_loss_valid\n",
    "            no_improve = 0\n",
    "            torch.save(model.state_dict(), f'{pt_path}\\\\{cnn_model_name}')\n",
    "        else:\n",
    "            no_improve += 1\n",
    "\n",
    "        if no_improve >= patience:\n",
    "            print(\"Early stopping\")\n",
    "            break"
   ]
  },
  {
   "cell_type": "code",
   "execution_count": 19,
   "id": "2ee68a5f",
   "metadata": {},
   "outputs": [
    {
     "name": "stdout",
     "output_type": "stream",
     "text": [
      "normx_best_fall_detection_cnn_mediapipe_001.pt (Train): F1 Score: 0.8690\n",
      "Confusion Matrix (Train):\n",
      "[[25413  2254  2374]\n",
      " [  502  2749   427]\n",
      " [  784   726 16198]]\n",
      "normx_best_fall_detection_cnn_mediapipe_001.pt (Validation): F1 Score: 0.8620\n",
      "Confusion Matrix (Validation):\n",
      "[[3083  298  319]\n",
      " [  57  389   50]\n",
      " [  98  109 2025]]\n",
      "normx_best_fall_detection_cnn_mediapipe_001.pt (Test): F1 Score: 0.8686\n",
      "Confusion Matrix (Test):\n",
      "[[3109  289  300]\n",
      " [  67  379   49]\n",
      " [  96   80 2060]]\n",
      "normx_best_fall_detection_cnn_mediapipe_0001.pt (Train): F1 Score: 0.8879\n",
      "Confusion Matrix (Train):\n",
      "[[26073  2121  1847]\n",
      " [  430  2842   406]\n",
      " [  551   724 16433]]\n",
      "normx_best_fall_detection_cnn_mediapipe_0001.pt (Validation): F1 Score: 0.8774\n",
      "Confusion Matrix (Validation):\n",
      "[[3163  286  251]\n",
      " [  54  391   51]\n",
      " [  77  113 2042]]\n",
      "normx_best_fall_detection_cnn_mediapipe_0001.pt (Test): F1 Score: 0.8850\n",
      "Confusion Matrix (Test):\n",
      "[[3198  271  229]\n",
      " [  65  383   47]\n",
      " [  78   85 2073]]\n"
     ]
    }
   ],
   "source": [
    "# 학습, 검증, 테스트 데이터셋 평가\n",
    "results_2 = []\n",
    "for cnn_model_name, _ in cnn_model_configs:\n",
    "    # 모델 생성 (각 모델의 input에 맞게 dataset 전달)\n",
    "    model = create_cnn_model_for_dataset(train_mediapipe_dataset)\n",
    "    model.load_state_dict(torch.load(f'{pt_path}\\\\{cnn_model_name}', weights_only=True))\n",
    "    model.to(device)\n",
    "\n",
    "    # 데이터셋별 평가\n",
    "    scores = {'Model': cnn_model_name}\n",
    "    for loader_name, data_loader in [('Train', train_loader_mediapipe), ('Validation', valid_loader_mediapipe), ('Test', test_loader_mediapipe)]:\n",
    "        f1, cm = calculate_metrics(model, data_loader)\n",
    "        print(f\"{cnn_model_name} ({loader_name}): F1 Score: {f1:.4f}\")\n",
    "        print(f\"Confusion Matrix ({loader_name}):\\n{cm}\")\n",
    "        scores[loader_name] = f1\n",
    "    results_2.append(scores)"
   ]
  },
  {
   "cell_type": "code",
   "execution_count": 20,
   "id": "c53a8a9c",
   "metadata": {},
   "outputs": [
    {
     "data": {
      "image/png": "[encoded data removed]",
      "text/plain": [
       "<Figure size 1200x800 with 1 Axes>"
      ]
     },
     "metadata": {},
     "output_type": "display_data"
    }
   ],
   "source": [
    "# 그래프용 데이터 변환\n",
    "model_names = [result['Model'] for result in results_2]\n",
    "train_scores = [result['Train'] for result in results_2]\n",
    "val_scores = [result['Validation'] for result in results_2]\n",
    "test_scores = [result['Test'] for result in results_2]\n",
    "\n",
    "# 그래프 생성\n",
    "plt.figure(figsize=(12, 8))\n",
    "bar_width = 0.25\n",
    "indices = range(len(model_names))\n",
    "\n",
    "# 막대 그래프\n",
    "plt.bar(indices, train_scores, bar_width, label=\"Train F1 Score\")\n",
    "plt.bar([i + bar_width for i in indices], val_scores, bar_width, label=\"Validation F1 Score\")\n",
    "plt.bar([i + 2 * bar_width for i in indices], test_scores, bar_width, label=\"Test F1 Score\")\n",
    "\n",
    "# 그래프 꾸미기\n",
    "plt.xlabel(\"Model\", fontsize=12)\n",
    "plt.ylabel(\"F1 Score\", fontsize=12)\n",
    "plt.title(\"F1 Scores by Model and Dataset\", fontsize=14)\n",
    "plt.xticks([i + bar_width for i in indices], model_names, rotation=45, fontsize=10)\n",
    "plt.ylim(0.7, 1.0)\n",
    "plt.legend()\n",
    "\n",
    "# 그래프 출력\n",
    "plt.tight_layout()\n",
    "plt.show()"
   ]
  },
  {
   "cell_type": "code",
   "execution_count": 2,
   "id": "87297aaf",
   "metadata": {},
   "outputs": [
    {
     "data": {
      "image/png": "[encoded data removed]",
      "text/plain": [
       "<Figure size 1000x600 with 1 Axes>"
      ]
     },
     "metadata": {},
     "output_type": "display_data"
    }
   ],
   "source": [
    "model_f1_scores = [\n",
    "    ('normx_best_fall_detection_gru_001_full.pt', 0.8905),\n",
    "    ('normx_best_fall_detection_gru_0001_simplified.pt', 0.8030),\n",
    "    ('normx_best_fall_detection_gru_001_mediapipe.pt', 0.8984),\n",
    "    ('normx_best_fall_detection_cnn_mediapipe_0001.pt', 0.8850)\n",
    "]\n",
    "\n",
    "# 모델명과 Test F1 Scores를 분리하여 리스트로 저장\n",
    "model_names = [name.split('best_fall_detection_')[1] for name, _ in model_f1_scores]\n",
    "train_f1_scores = [x[1] for x in model_f1_scores]\n",
    "\n",
    "# 그래프 생성\n",
    "plt.figure(figsize=(10, 6))\n",
    "plt.bar(model_names, train_f1_scores, color=['blue', 'orange', 'green', 'purple'])\n",
    "\n",
    "# 그래프 꾸미기\n",
    "plt.xlabel(\"Model\", fontsize=12)\n",
    "plt.ylabel(\"F1 Score\", fontsize=12)\n",
    "plt.title(\"Test dataset F1 Scores\", fontsize=14)\n",
    "plt.ylim(0.6, 1.0)\n",
    "\n",
    "# x축 라벨의 가독성을 위해 회전 추가\n",
    "plt.xticks(rotation=45, fontsize=10)\n",
    "\n",
    "# 그래프 출력\n",
    "plt.tight_layout()\n",
    "plt.show()"
   ]
  },
  {
   "cell_type": "code",
   "execution_count": null,
   "id": "0eb5fe18",
   "metadata": {},
   "outputs": [],
   "source": []
  }
 ],
 "metadata": {
  "jupytext": {
   "cell_metadata_filter": "-all",
   "main_language": "python",
   "notebook_metadata_filter": "-all"
  },
  "kernelspec": {
   "display_name": "Python 3",
   "language": "python",
   "name": "python3"
  },
  "language_info": {
   "codemirror_mode": {
    "name": "ipython",
    "version": 3
   },
   "file_extension": ".py",
   "mimetype": "text/x-python",
   "name": "python",
   "nbconvert_exporter": "python",
   "pygments_lexer": "ipython3",
   "version": "3.11.9"
  }
 },
 "nbformat": 4,
 "nbformat_minor": 5
}
