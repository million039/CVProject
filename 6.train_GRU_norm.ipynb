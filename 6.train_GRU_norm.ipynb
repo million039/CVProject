{
 "cells": [
  {
   "cell_type": "code",
   "execution_count": 1,
   "id": "beb6bb6f",
   "metadata": {},
   "outputs": [],
   "source": [
    "import os\n",
    "import json\n",
    "import torch\n",
    "import torch.nn as nn\n",
    "import numpy as np\n",
    "import matplotlib.pyplot as plt\n",
    "from torch.utils.data import Dataset, DataLoader, random_split\n",
    "from sklearn.preprocessing import StandardScaler\n",
    "from sklearn.utils.class_weight import compute_class_weight\n",
    "from sklearn.metrics import f1_score, confusion_matrix\n",
    "from scipy.interpolate import interp1d\n",
    "from scipy.spatial import distance\n",
    "from tqdm import tqdm\n",
    "from itertools import product, chain"
   ]
  },
  {
   "cell_type": "code",
   "execution_count": 2,
   "id": "d59ceb71",
   "metadata": {},
   "outputs": [
    {
     "name": "stdout",
     "output_type": "stream",
     "text": [
      "cuda\n"
     ]
    }
   ],
   "source": [
    "# GPU 설정\n",
    "device = torch.device('cuda' if torch.cuda.is_available() else 'cpu')\n",
    "print(device)"
   ]
  },
  {
   "cell_type": "code",
   "execution_count": 3,
   "id": "468036e1",
   "metadata": {
    "lines_to_next_cell": 1
   },
   "outputs": [],
   "source": [
    "# 랜드마크 인덱스 정의 # 11개\n",
    "LANDMARKS = [0, 11, 12, 15, 16, 23, 24, 25, 26, 27, 28]\n",
    "FRAME_INTERVAL = 6\n",
    "VID_LEN = 600\n",
    "FRAMES = list(range(0, VID_LEN, FRAME_INTERVAL))\n",
    "CLASS_LIST = ['Normal', 'Danger', 'Fall']\n",
    "DR = 'E'\n",
    "pt_path = DR + r':\\project\\CVProject\\results\\result_pt_JKH'\n",
    "train_size, valid_size, test_size = 0.8, 0.1, 0.1"
   ]
  },
  {
   "cell_type": "code",
   "execution_count": 7,
   "id": "0ec35a6a",
   "metadata": {
    "lines_to_next_cell": 1
   },
   "outputs": [],
   "source": [
    "def fill_missing_data(data):\n",
    "    frame_exist_list = [int(x.split('_')[-1]) for x in data['pose_data']]\n",
    "    key_list = list(map(lambda x: CLASS_LIST.index(x['class']), data['pose_data'].values()))\n",
    "    pose_list = list(map(lambda x: list(chain(*[list(v.values()) for k, v in x.items() if 'landmark' in k])), data['pose_data'].values()))\n",
    "    bbox_list = list(map(lambda x: list(chain(*[list(v.values()) for k, v in x.items() if k == 'bbox'])), data['pose_data'].values()))\n",
    "\n",
    "    key = list(interp1d(frame_exist_list, key_list, kind='nearest-up', fill_value='extrapolate')(FRAMES))\n",
    "    pose = list(interp1d(frame_exist_list, pose_list, kind='linear', fill_value='extrapolate', axis=0)(FRAMES))\n",
    "    bbox = list(interp1d(frame_exist_list, bbox_list, kind='linear', fill_value='extrapolate', axis=0)(FRAMES))\n",
    "\n",
    "    new_data = {\n",
    "        f'frame_{i}': {\n",
    "            f'landmark_{k}': {\n",
    "                'x': pose[idx_i][2*idx_k+0],\n",
    "                'y': pose[idx_i][2*idx_k+1],\n",
    "            } for idx_k, k in enumerate(LANDMARKS)\n",
    "        } for idx_i, i in enumerate(FRAMES)\n",
    "    }\n",
    "    for idx_i, i in enumerate(FRAMES):\n",
    "        new_data[f'frame_{i}'].update({'bbox':{'x1': bbox[idx_i][0], 'y1': bbox[idx_i][1], 'x2': bbox[idx_i][2], 'y2': bbox[idx_i][3]}, \n",
    "                                       'class': CLASS_LIST[int(key[idx_i])]})\n",
    "    return new_data"
   ]
  },
  {
   "cell_type": "code",
   "execution_count": 8,
   "id": "18debf6c",
   "metadata": {
    "lines_to_next_cell": 1
   },
   "outputs": [],
   "source": [
    "# 바운딩 박스 비율 클래스 정의 함수\n",
    "def bbox_ratio_class(ratio):\n",
    "    if ratio < 0.7:\n",
    "        return 0  # Normal 가능성 높은 class\n",
    "    else:\n",
    "        return 1  # Danger or Fall 가능성 높은 class\n",
    "\n",
    "# YOLO xy 비율 계산 함수\n",
    "def calculate_yolo_xy_ratio(frame):\n",
    "    bbox = frame.get('bbox', None)\n",
    "    if bbox and (bbox['x2'] - bbox['x1']) != 0:\n",
    "        yolo_xy_ratio = round((bbox['y2'] - bbox['y1']) / (bbox['x2'] - bbox['x1']), 3)\n",
    "    else:\n",
    "        yolo_xy_ratio = 0.0\n",
    "    return yolo_xy_ratio"
   ]
  },
  {
   "cell_type": "code",
   "execution_count": 9,
   "id": "ea132622",
   "metadata": {},
   "outputs": [],
   "source": [
    "# 머리 및 상체 속도 계산 함수 (시퀀스 평균값 사용)\n",
    "def calculate_head_upper_body_speed(sequence):\n",
    "    speeds = []\n",
    "    for j in range(1, len(sequence)):\n",
    "        keypoints = sequence[j]\n",
    "        prev_keypoints = sequence[j - 1]\n",
    "        h = np.array([keypoints.get(f'landmark_0', {}).get('x', 0.0), keypoints.get(f'landmark_0', {}).get('y', 0.0)])\n",
    "        l = np.array([keypoints.get(f'landmark_11', {}).get('x', 0.0), keypoints.get(f'landmark_11', {}).get('y', 0.0)])\n",
    "        r = np.array([keypoints.get(f'landmark_12', {}).get('x', 0.0), keypoints.get(f'landmark_12', {}).get('y', 0.0)])\n",
    "\n",
    "        # 이전 프레임의 좌표\n",
    "        prev_h = np.array([prev_keypoints.get(f'landmark_0', {}).get('x', 0.0), prev_keypoints.get(f'landmark_0', {}).get('y', 0.0)])\n",
    "        prev_l = np.array([prev_keypoints.get(f'landmark_11', {}).get('x', 0.0), prev_keypoints.get(f'landmark_11', {}).get('y', 0.0)])\n",
    "        prev_r = np.array([prev_keypoints.get(f'landmark_12', {}).get('x', 0.0), prev_keypoints.get(f'landmark_12', {}).get('y', 0.0)])\n",
    "\n",
    "        # 현재 프레임과 이전 프레임의 상체 중심\n",
    "        center_new = (h + l + r) / 3\n",
    "        center_prev = (prev_h + prev_l + prev_r) / 3\n",
    "\n",
    "        # 유클리드 거리 계산 (6프레임당 일정하므로 속력이라 봐도 무방함)\n",
    "        dist_new = distance.euclidean(center_new, center_prev)\n",
    "        speeds.append(dist_new)\n",
    "\n",
    "    # 평균 속력 계산\n",
    "    if speeds:\n",
    "        return sum(speeds) / len(speeds)\n",
    "    else:\n",
    "        return 0.0"
   ]
  },
  {
   "cell_type": "code",
   "execution_count": 10,
   "id": "594bd98f",
   "metadata": {
    "lines_to_next_cell": 1
   },
   "outputs": [],
   "source": [
    "# 데이터셋 클래스 정의\n",
    "# 현재 input은 mediapipe의 관절 좌표값 22개 + YOLO xy ratio + bbox_ratio_class + 머리/상체 속도 => 25개\n",
    "class FallSequenceDataset(Dataset):\n",
    "    def __init__(self, json_files, sequence_length=3, input_config='full'):\n",
    "        self.sequence_length = sequence_length\n",
    "        self.sequences = []\n",
    "        self.labels = []\n",
    "        self.scaler = StandardScaler()\n",
    "        self.input_config = input_config\n",
    "\n",
    "        all_landmarks = []\n",
    "\n",
    "        for json_file in tqdm(json_files, desc=\"Processing JSON files\"):\n",
    "            with open(json_file, 'r') as f:\n",
    "                data = json.load(f)\n",
    "\n",
    "            if len(data['pose_data']) < 90:\n",
    "                    continue\n",
    "            \n",
    "            data['pose_data'] = fill_missing_data(data)\n",
    "\n",
    "            frames = list(data['pose_data'].values())\n",
    "\n",
    "            for i in range(0, len(frames) - self.sequence_length + 1, self.sequence_length):\n",
    "                sequence = frames[i:i + self.sequence_length]\n",
    "                landmarks = []\n",
    "\n",
    "                # YOLO xy ratio 및 바운딩 박스 클래스는 시퀀스마다 1개씩만 추가\n",
    "                yolo_xy_ratio = calculate_yolo_xy_ratio(sequence[-1])  # 마지막 프레임 기준으로 계산\n",
    "                ratio_class = bbox_ratio_class(yolo_xy_ratio)\n",
    "                head_torso_speed = calculate_head_upper_body_speed(sequence)\n",
    "\n",
    "                for j, frame in enumerate(sequence):\n",
    "                    frame_landmarks = []\n",
    "                    if frame is not None:\n",
    "                        if self.input_config in ['full', 'mediapipe']:\n",
    "                            for landmark in LANDMARKS:\n",
    "                                landmark_data = frame.get(f'landmark_{landmark}', None)\n",
    "                                if landmark_data:\n",
    "                                    frame_landmarks.extend([\n",
    "                                        round(landmark_data['x'], 3),  # 소수점 세 자리로 반올림\n",
    "                                        round(landmark_data['y'], 3)\n",
    "                                    ])\n",
    "                                else:\n",
    "                                    frame_landmarks.extend([0.0, 0.0])\n",
    "\n",
    "                        if self.input_config in ['full', 'simplified']:\n",
    "                            # YOLO xy ratio, 바운딩 박스 클래스, 머리/상체 속도 추가 (시퀀스 단위로 동일 값 사용)\n",
    "                            frame_landmarks.append(yolo_xy_ratio)\n",
    "                            frame_landmarks.append(ratio_class)\n",
    "                            frame_landmarks.append(head_torso_speed)\n",
    "                    \n",
    "                    landmarks.append(frame_landmarks)\n",
    "\n",
    "                # 데이터 증강 없이 원래 데이터를 사용\n",
    "                all_landmarks.extend(landmarks)\n",
    "\n",
    "                # 레이블 재정의\n",
    "                if sequence[-1]['class'] == 'Normal':\n",
    "                    label = 0  # 비낙상\n",
    "                elif sequence[-1]['class'] == 'Danger':\n",
    "                    label = 1  # 낙상 위험\n",
    "                elif sequence[-1]['class'] == 'Fall':\n",
    "                    label = 2  # 완전 낙상\n",
    "\n",
    "                self.sequences.append(landmarks)\n",
    "                self.labels.append(label)\n",
    "\n",
    "        # 전체 데이터 정규화\n",
    "        all_landmarks = np.array(all_landmarks)\n",
    "        all_landmarks_scaled = self.scaler.fit_transform(all_landmarks)\n",
    "\n",
    "        # 정규화된 데이터를 다시 시퀀스로 재구성\n",
    "        for i in range(len(self.sequences)):\n",
    "            start = i * self.sequence_length\n",
    "            end = start + self.sequence_length\n",
    "            self.sequences[i] = all_landmarks_scaled[start:end]\n",
    "\n",
    "    def __len__(self):\n",
    "        return len(self.sequences)\n",
    "\n",
    "    def __getitem__(self, idx):\n",
    "        return torch.FloatTensor(self.sequences[idx]), torch.LongTensor([self.labels[idx]]).squeeze()"
   ]
  },
  {
   "cell_type": "code",
   "execution_count": 11,
   "id": "ddba071a",
   "metadata": {},
   "outputs": [],
   "source": [
    "# GRU 기반 낙상 감지 모델 정의\n",
    "class FallDetectionGRU(nn.Module):\n",
    "    def __init__(self, input_size, hidden_size=128, num_layers=2, num_classes=3):\n",
    "        super(FallDetectionGRU, self).__init__()\n",
    "        self.gru = nn.GRU(input_size, hidden_size, num_layers, batch_first=True)\n",
    "        self.fc = nn.Linear(hidden_size, num_classes)\n",
    "\n",
    "    def forward(self, x):\n",
    "        h_0 = torch.zeros(2, x.size(0), 128).to(x.device)  # 초기 은닉 상태 정의\n",
    "        out, _ = self.gru(x, h_0)\n",
    "        out = self.fc(out[:, -1, :])  # 마지막 time step의 출력을 사용\n",
    "        return out"
   ]
  },
  {
   "cell_type": "code",
   "execution_count": 12,
   "id": "c562b8d5",
   "metadata": {
    "lines_to_next_cell": 1
   },
   "outputs": [
    {
     "name": "stderr",
     "output_type": "stream",
     "text": [
      "Processing JSON files: 100%|██████████| 2024/2024 [00:29<00:00, 68.66it/s]\n",
      "Processing JSON files: 100%|██████████| 2024/2024 [00:05<00:00, 350.84it/s]\n",
      "Processing JSON files: 100%|██████████| 2024/2024 [00:15<00:00, 131.92it/s]\n"
     ]
    }
   ],
   "source": [
    "# 검증 및 테스트 데이터셋 로드 경로\n",
    "json_folder = r'E:\\json_6_tvt'\n",
    "\n",
    "# 각 데이터 폴더에서 JSON 파일 목록 생성\n",
    "json_files = [os.path.join(json_folder, f) for f in os.listdir(json_folder) if f.endswith('.json')]\n",
    "\n",
    "\n",
    "# 데이터셋 생성 (입력 데이터 설정에 따라)\n",
    "full_dataset = FallSequenceDataset(json_files, input_config='full')\n",
    "dataset_size = len(full_dataset)\n",
    "train_size = int(dataset_size*0.8)\n",
    "valid_size = int(dataset_size*0.1)\n",
    "test_size = dataset_size - train_size - valid_size\n",
    "simplified_dataset = FallSequenceDataset(json_files, input_config='simplified')\n",
    "mediapipe_dataset = FallSequenceDataset(json_files, input_config='mediapipe')\n",
    "\n",
    "train_full_dataset, valid_full_dataset, test_full_dataset = random_split(full_dataset, [train_size, valid_size, test_size])\n",
    "train_simplified_dataset, valid_simplified_dataset, test_simplified_dataset = random_split(simplified_dataset, [train_size, valid_size, test_size])\n",
    "train_mediapipe_dataset, valid_mediapipe_dataset, test_mediapipe_dataset = random_split(mediapipe_dataset, [train_size, valid_size, test_size])\n",
    "\n",
    "# 데이터 로더 생성\n",
    "train_loader_full = DataLoader(train_full_dataset, batch_size=32, shuffle=True)\n",
    "valid_loader_full = DataLoader(valid_full_dataset, batch_size=32, shuffle=False)\n",
    "test_loader_full = DataLoader(test_full_dataset, batch_size=32, shuffle=False)\n",
    "\n",
    "train_loader_simplified = DataLoader(train_simplified_dataset, batch_size=32, shuffle=True)\n",
    "valid_loader_simplified = DataLoader(valid_simplified_dataset, batch_size=32, shuffle=False)\n",
    "test_loader_simplified = DataLoader(test_simplified_dataset, batch_size=32, shuffle=False)\n",
    "\n",
    "train_loader_mediapipe = DataLoader(train_mediapipe_dataset, batch_size=32, shuffle=True)\n",
    "valid_loader_mediapipe = DataLoader(valid_mediapipe_dataset, batch_size=32, shuffle=False)\n",
    "test_loader_mediapipe = DataLoader(test_mediapipe_dataset, batch_size=32, shuffle=False)"
   ]
  },
  {
   "cell_type": "code",
   "execution_count": 28,
   "id": "c2fe890d",
   "metadata": {},
   "outputs": [],
   "source": [
    "# 클래스 가중치 계산 및 손실 함수 정의 (훈련 데이터셋 기준)\n",
    "class_weights = compute_class_weight('balanced', classes=np.unique(full_dataset.labels), y=full_dataset.labels)\n",
    "class_weights = torch.FloatTensor(class_weights).to(device)\n",
    "criterion = nn.CrossEntropyLoss(weight=class_weights)\n",
    "\n",
    "# 모델 준비\n",
    "def create_model_for_dataset(dataset):\n",
    "    if len(dataset) > 0:\n",
    "        sample_sequence, sample_label = dataset[0]\n",
    "        input_size = len(sample_sequence[0])  # 시퀀스 내의 각 프레임에서 입력의 길이를 가져옴\n",
    "        return FallDetectionGRU(input_size).to(device)\n",
    "    else:\n",
    "        print(\"데이터 없음\")\n",
    "        exit()\n",
    "\n",
    "# 학습 파라미터 설정\n",
    "num_epochs = 500\n",
    "best_loss = float('inf')\n",
    "patience = 50\n",
    "no_improve = 0"
   ]
  },
  {
   "cell_type": "code",
   "execution_count": null,
   "id": "9c39017e",
   "metadata": {},
   "outputs": [
    {
     "name": "stdout",
     "output_type": "stream",
     "text": [
      "best_fall_detection_gru_001_full.pt 학습 시작\n"
     ]
    },
    {
     "name": "stdout",
     "output_type": "stream",
     "text": [
      "\n",
      "==================== Training Configuration: GRU with input_config='full' and lr='0.001' ====================\n",
      "\n",
      "현재 입력 크기 (마지막 차원): 25\n",
      "예상 입력 크기: 25\n"
     ]
    },
    {
     "name": "stderr",
     "output_type": "stream",
     "text": [
      "Epoch 1/500: 100%|██████████| 1608/1608 [00:03<00:00, 494.33it/s]\n"
     ]
    },
    {
     "name": "stdout",
     "output_type": "stream",
     "text": [
      "Epoch [1/500], Train Loss: 0.4342\n",
      "Epoch [1/500], Valid Loss: 0.3920\n"
     ]
    },
    {
     "name": "stderr",
     "output_type": "stream",
     "text": [
      "Epoch 2/500: 100%|██████████| 1608/1608 [00:03<00:00, 529.80it/s]\n"
     ]
    },
    {
     "name": "stdout",
     "output_type": "stream",
     "text": [
      "Epoch [2/500], Train Loss: 0.3867\n",
      "Epoch [2/500], Valid Loss: 0.3856\n"
     ]
    },
    {
     "name": "stderr",
     "output_type": "stream",
     "text": [
      "Epoch 3/500: 100%|██████████| 1608/1608 [00:03<00:00, 520.06it/s]\n"
     ]
    },
    {
     "name": "stdout",
     "output_type": "stream",
     "text": [
      "Epoch [3/500], Train Loss: 0.3660\n",
      "Epoch [3/500], Valid Loss: 0.3701\n"
     ]
    },
    {
     "name": "stderr",
     "output_type": "stream",
     "text": [
      "Epoch 4/500: 100%|██████████| 1608/1608 [00:03<00:00, 515.02it/s]\n"
     ]
    },
    {
     "name": "stdout",
     "output_type": "stream",
     "text": [
      "Epoch [4/500], Train Loss: 0.3520\n",
      "Epoch [4/500], Valid Loss: 0.3566\n"
     ]
    },
    {
     "name": "stderr",
     "output_type": "stream",
     "text": [
      "Epoch 5/500: 100%|██████████| 1608/1608 [00:03<00:00, 529.10it/s]\n"
     ]
    },
    {
     "name": "stdout",
     "output_type": "stream",
     "text": [
      "Epoch [5/500], Train Loss: 0.3328\n",
      "Epoch [5/500], Valid Loss: 0.3376\n"
     ]
    },
    {
     "name": "stderr",
     "output_type": "stream",
     "text": [
      "Epoch 6/500: 100%|██████████| 1608/1608 [00:03<00:00, 524.08it/s]\n"
     ]
    },
    {
     "name": "stdout",
     "output_type": "stream",
     "text": [
      "Epoch [6/500], Train Loss: 0.3163\n",
      "Epoch [6/500], Valid Loss: 0.3311\n"
     ]
    },
    {
     "name": "stderr",
     "output_type": "stream",
     "text": [
      "Epoch 7/500: 100%|██████████| 1608/1608 [00:03<00:00, 513.08it/s]\n"
     ]
    },
    {
     "name": "stdout",
     "output_type": "stream",
     "text": [
      "Epoch [7/500], Train Loss: 0.3037\n",
      "Epoch [7/500], Valid Loss: 0.3245\n"
     ]
    },
    {
     "name": "stderr",
     "output_type": "stream",
     "text": [
      "Epoch 8/500: 100%|██████████| 1608/1608 [00:03<00:00, 516.55it/s]\n"
     ]
    },
    {
     "name": "stdout",
     "output_type": "stream",
     "text": [
      "Epoch [8/500], Train Loss: 0.2916\n",
      "Epoch [8/500], Valid Loss: 0.3080\n"
     ]
    },
    {
     "name": "stderr",
     "output_type": "stream",
     "text": [
      "Epoch 9/500: 100%|██████████| 1608/1608 [00:03<00:00, 522.56it/s]\n"
     ]
    },
    {
     "name": "stdout",
     "output_type": "stream",
     "text": [
      "Epoch [9/500], Train Loss: 0.2755\n",
      "Epoch [9/500], Valid Loss: 0.3043\n"
     ]
    },
    {
     "name": "stderr",
     "output_type": "stream",
     "text": [
      "Epoch 10/500: 100%|██████████| 1608/1608 [00:03<00:00, 513.74it/s]\n"
     ]
    },
    {
     "name": "stdout",
     "output_type": "stream",
     "text": [
      "Epoch [10/500], Train Loss: 0.2619\n",
      "Epoch [10/500], Valid Loss: 0.2934\n"
     ]
    },
    {
     "name": "stderr",
     "output_type": "stream",
     "text": [
      "Epoch 11/500: 100%|██████████| 1608/1608 [00:03<00:00, 518.86it/s]\n"
     ]
    },
    {
     "name": "stdout",
     "output_type": "stream",
     "text": [
      "Epoch [11/500], Train Loss: 0.2507\n",
      "Epoch [11/500], Valid Loss: 0.2936\n"
     ]
    },
    {
     "name": "stderr",
     "output_type": "stream",
     "text": [
      "Epoch 12/500: 100%|██████████| 1608/1608 [00:03<00:00, 512.25it/s]\n"
     ]
    },
    {
     "name": "stdout",
     "output_type": "stream",
     "text": [
      "Epoch [12/500], Train Loss: 0.2374\n",
      "Epoch [12/500], Valid Loss: 0.2991\n"
     ]
    },
    {
     "name": "stderr",
     "output_type": "stream",
     "text": [
      "Epoch 13/500: 100%|██████████| 1608/1608 [00:03<00:00, 503.63it/s]\n"
     ]
    },
    {
     "name": "stdout",
     "output_type": "stream",
     "text": [
      "Epoch [13/500], Train Loss: 0.2245\n",
      "Epoch [13/500], Valid Loss: 0.2980\n"
     ]
    },
    {
     "name": "stderr",
     "output_type": "stream",
     "text": [
      "Epoch 14/500: 100%|██████████| 1608/1608 [00:03<00:00, 500.96it/s]\n"
     ]
    },
    {
     "name": "stdout",
     "output_type": "stream",
     "text": [
      "Epoch [14/500], Train Loss: 0.2122\n",
      "Epoch [14/500], Valid Loss: 0.2993\n"
     ]
    },
    {
     "name": "stderr",
     "output_type": "stream",
     "text": [
      "Epoch 15/500: 100%|██████████| 1608/1608 [00:03<00:00, 496.47it/s]\n"
     ]
    },
    {
     "name": "stdout",
     "output_type": "stream",
     "text": [
      "Epoch [15/500], Train Loss: 0.1981\n",
      "Epoch [15/500], Valid Loss: 0.3043\n"
     ]
    },
    {
     "name": "stderr",
     "output_type": "stream",
     "text": [
      "Epoch 16/500: 100%|██████████| 1608/1608 [00:03<00:00, 507.54it/s]\n"
     ]
    },
    {
     "name": "stdout",
     "output_type": "stream",
     "text": [
      "Epoch [16/500], Train Loss: 0.1850\n",
      "Epoch [16/500], Valid Loss: 0.3208\n"
     ]
    },
    {
     "name": "stderr",
     "output_type": "stream",
     "text": [
      "Epoch 17/500: 100%|██████████| 1608/1608 [00:03<00:00, 502.41it/s]\n"
     ]
    },
    {
     "name": "stdout",
     "output_type": "stream",
     "text": [
      "Epoch [17/500], Train Loss: 0.1422\n",
      "Epoch [17/500], Valid Loss: 0.3043\n"
     ]
    },
    {
     "name": "stderr",
     "output_type": "stream",
     "text": [
      "Epoch 18/500: 100%|██████████| 1608/1608 [00:03<00:00, 499.75it/s]\n"
     ]
    },
    {
     "name": "stdout",
     "output_type": "stream",
     "text": [
      "Epoch [18/500], Train Loss: 0.1299\n",
      "Epoch [18/500], Valid Loss: 0.3140\n"
     ]
    },
    {
     "name": "stderr",
     "output_type": "stream",
     "text": [
      "Epoch 19/500: 100%|██████████| 1608/1608 [00:03<00:00, 507.43it/s]\n"
     ]
    },
    {
     "name": "stdout",
     "output_type": "stream",
     "text": [
      "Epoch [19/500], Train Loss: 0.1236\n",
      "Epoch [19/500], Valid Loss: 0.3248\n"
     ]
    },
    {
     "name": "stderr",
     "output_type": "stream",
     "text": [
      "Epoch 20/500: 100%|██████████| 1608/1608 [00:03<00:00, 519.00it/s]\n"
     ]
    },
    {
     "name": "stdout",
     "output_type": "stream",
     "text": [
      "Epoch [20/500], Train Loss: 0.1179\n",
      "Epoch [20/500], Valid Loss: 0.3290\n"
     ]
    },
    {
     "name": "stderr",
     "output_type": "stream",
     "text": [
      "Epoch 21/500: 100%|██████████| 1608/1608 [00:03<00:00, 524.56it/s]\n"
     ]
    },
    {
     "name": "stdout",
     "output_type": "stream",
     "text": [
      "Epoch [21/500], Train Loss: 0.1135\n",
      "Epoch [21/500], Valid Loss: 0.3334\n"
     ]
    },
    {
     "name": "stderr",
     "output_type": "stream",
     "text": [
      "Epoch 22/500: 100%|██████████| 1608/1608 [00:03<00:00, 518.91it/s]\n"
     ]
    },
    {
     "name": "stdout",
     "output_type": "stream",
     "text": [
      "Epoch [22/500], Train Loss: 0.1097\n",
      "Epoch [22/500], Valid Loss: 0.3438\n"
     ]
    },
    {
     "name": "stderr",
     "output_type": "stream",
     "text": [
      "Epoch 23/500: 100%|██████████| 1608/1608 [00:03<00:00, 494.85it/s]\n"
     ]
    },
    {
     "name": "stdout",
     "output_type": "stream",
     "text": [
      "Epoch [23/500], Train Loss: 0.1034\n",
      "Epoch [23/500], Valid Loss: 0.3435\n"
     ]
    },
    {
     "name": "stderr",
     "output_type": "stream",
     "text": [
      "Epoch 24/500: 100%|██████████| 1608/1608 [00:03<00:00, 518.38it/s]\n"
     ]
    },
    {
     "name": "stdout",
     "output_type": "stream",
     "text": [
      "Epoch [24/500], Train Loss: 0.1023\n",
      "Epoch [24/500], Valid Loss: 0.3446\n"
     ]
    },
    {
     "name": "stderr",
     "output_type": "stream",
     "text": [
      "Epoch 25/500: 100%|██████████| 1608/1608 [00:03<00:00, 500.37it/s]\n"
     ]
    },
    {
     "name": "stdout",
     "output_type": "stream",
     "text": [
      "Epoch [25/500], Train Loss: 0.1019\n",
      "Epoch [25/500], Valid Loss: 0.3460\n"
     ]
    },
    {
     "name": "stderr",
     "output_type": "stream",
     "text": [
      "Epoch 26/500: 100%|██████████| 1608/1608 [00:03<00:00, 502.29it/s]\n"
     ]
    },
    {
     "name": "stdout",
     "output_type": "stream",
     "text": [
      "Epoch [26/500], Train Loss: 0.1015\n",
      "Epoch [26/500], Valid Loss: 0.3458\n"
     ]
    },
    {
     "name": "stderr",
     "output_type": "stream",
     "text": [
      "Epoch 27/500: 100%|██████████| 1608/1608 [00:03<00:00, 500.49it/s]\n"
     ]
    },
    {
     "name": "stdout",
     "output_type": "stream",
     "text": [
      "Epoch [27/500], Train Loss: 0.1008\n",
      "Epoch [27/500], Valid Loss: 0.3470\n"
     ]
    },
    {
     "name": "stderr",
     "output_type": "stream",
     "text": [
      "Epoch 28/500: 100%|██████████| 1608/1608 [00:03<00:00, 503.86it/s]\n"
     ]
    },
    {
     "name": "stdout",
     "output_type": "stream",
     "text": [
      "Epoch [28/500], Train Loss: 0.1004\n",
      "Epoch [28/500], Valid Loss: 0.3474\n"
     ]
    },
    {
     "name": "stderr",
     "output_type": "stream",
     "text": [
      "Epoch 29/500: 100%|██████████| 1608/1608 [00:03<00:00, 504.86it/s]\n"
     ]
    },
    {
     "name": "stdout",
     "output_type": "stream",
     "text": [
      "Epoch [29/500], Train Loss: 0.0995\n",
      "Epoch [29/500], Valid Loss: 0.3476\n"
     ]
    },
    {
     "name": "stderr",
     "output_type": "stream",
     "text": [
      "Epoch 30/500: 100%|██████████| 1608/1608 [00:03<00:00, 522.01it/s]\n"
     ]
    },
    {
     "name": "stdout",
     "output_type": "stream",
     "text": [
      "Epoch [30/500], Train Loss: 0.0998\n",
      "Epoch [30/500], Valid Loss: 0.3478\n"
     ]
    },
    {
     "name": "stderr",
     "output_type": "stream",
     "text": [
      "Epoch 31/500: 100%|██████████| 1608/1608 [00:03<00:00, 525.24it/s]\n"
     ]
    },
    {
     "name": "stdout",
     "output_type": "stream",
     "text": [
      "Epoch [31/500], Train Loss: 0.0996\n",
      "Epoch [31/500], Valid Loss: 0.3480\n"
     ]
    },
    {
     "name": "stderr",
     "output_type": "stream",
     "text": [
      "Epoch 32/500: 100%|██████████| 1608/1608 [00:03<00:00, 496.12it/s]\n"
     ]
    },
    {
     "name": "stdout",
     "output_type": "stream",
     "text": [
      "Epoch [32/500], Train Loss: 0.0993\n",
      "Epoch [32/500], Valid Loss: 0.3482\n"
     ]
    },
    {
     "name": "stderr",
     "output_type": "stream",
     "text": [
      "Epoch 33/500: 100%|██████████| 1608/1608 [00:03<00:00, 509.66it/s]\n"
     ]
    },
    {
     "name": "stdout",
     "output_type": "stream",
     "text": [
      "Epoch [33/500], Train Loss: 0.0994\n",
      "Epoch [33/500], Valid Loss: 0.3484\n"
     ]
    },
    {
     "name": "stderr",
     "output_type": "stream",
     "text": [
      "Epoch 34/500: 100%|██████████| 1608/1608 [00:03<00:00, 513.05it/s]\n"
     ]
    },
    {
     "name": "stdout",
     "output_type": "stream",
     "text": [
      "Epoch [34/500], Train Loss: 0.0995\n",
      "Epoch [34/500], Valid Loss: 0.3486\n"
     ]
    },
    {
     "name": "stderr",
     "output_type": "stream",
     "text": [
      "Epoch 35/500: 100%|██████████| 1608/1608 [00:03<00:00, 492.14it/s]\n"
     ]
    },
    {
     "name": "stdout",
     "output_type": "stream",
     "text": [
      "Epoch [35/500], Train Loss: 0.0998\n",
      "Epoch [35/500], Valid Loss: 0.3486\n"
     ]
    },
    {
     "name": "stderr",
     "output_type": "stream",
     "text": [
      "Epoch 36/500: 100%|██████████| 1608/1608 [00:03<00:00, 507.50it/s]\n"
     ]
    },
    {
     "name": "stdout",
     "output_type": "stream",
     "text": [
      "Epoch [36/500], Train Loss: 0.0986\n",
      "Epoch [36/500], Valid Loss: 0.3486\n"
     ]
    },
    {
     "name": "stderr",
     "output_type": "stream",
     "text": [
      "Epoch 37/500: 100%|██████████| 1608/1608 [00:03<00:00, 522.81it/s]\n"
     ]
    },
    {
     "name": "stdout",
     "output_type": "stream",
     "text": [
      "Epoch [37/500], Train Loss: 0.0995\n",
      "Epoch [37/500], Valid Loss: 0.3486\n"
     ]
    },
    {
     "name": "stderr",
     "output_type": "stream",
     "text": [
      "Epoch 38/500: 100%|██████████| 1608/1608 [00:03<00:00, 505.34it/s]\n"
     ]
    },
    {
     "name": "stdout",
     "output_type": "stream",
     "text": [
      "Epoch [38/500], Train Loss: 0.0990\n",
      "Epoch [38/500], Valid Loss: 0.3486\n"
     ]
    },
    {
     "name": "stderr",
     "output_type": "stream",
     "text": [
      "Epoch 39/500: 100%|██████████| 1608/1608 [00:03<00:00, 497.79it/s]\n"
     ]
    },
    {
     "name": "stdout",
     "output_type": "stream",
     "text": [
      "Epoch [39/500], Train Loss: 0.0993\n",
      "Epoch [39/500], Valid Loss: 0.3487\n"
     ]
    },
    {
     "name": "stderr",
     "output_type": "stream",
     "text": [
      "Epoch 40/500: 100%|██████████| 1608/1608 [00:03<00:00, 504.75it/s]\n"
     ]
    },
    {
     "name": "stdout",
     "output_type": "stream",
     "text": [
      "Epoch [40/500], Train Loss: 0.0991\n",
      "Epoch [40/500], Valid Loss: 0.3487\n"
     ]
    },
    {
     "name": "stderr",
     "output_type": "stream",
     "text": [
      "Epoch 41/500: 100%|██████████| 1608/1608 [00:03<00:00, 506.91it/s]\n"
     ]
    },
    {
     "name": "stdout",
     "output_type": "stream",
     "text": [
      "Epoch [41/500], Train Loss: 0.0989\n",
      "Epoch [41/500], Valid Loss: 0.3487\n"
     ]
    },
    {
     "name": "stderr",
     "output_type": "stream",
     "text": [
      "Epoch 42/500: 100%|██████████| 1608/1608 [00:03<00:00, 499.62it/s]\n"
     ]
    },
    {
     "name": "stdout",
     "output_type": "stream",
     "text": [
      "Epoch [42/500], Train Loss: 0.0997\n",
      "Epoch [42/500], Valid Loss: 0.3487\n"
     ]
    },
    {
     "name": "stderr",
     "output_type": "stream",
     "text": [
      "Epoch 43/500: 100%|██████████| 1608/1608 [00:03<00:00, 509.54it/s]\n"
     ]
    },
    {
     "name": "stdout",
     "output_type": "stream",
     "text": [
      "Epoch [43/500], Train Loss: 0.0992\n",
      "Epoch [43/500], Valid Loss: 0.3487\n"
     ]
    },
    {
     "name": "stderr",
     "output_type": "stream",
     "text": [
      "Epoch 44/500: 100%|██████████| 1608/1608 [00:03<00:00, 507.52it/s]\n"
     ]
    },
    {
     "name": "stdout",
     "output_type": "stream",
     "text": [
      "Epoch [44/500], Train Loss: 0.0992\n",
      "Epoch [44/500], Valid Loss: 0.3487\n"
     ]
    },
    {
     "name": "stderr",
     "output_type": "stream",
     "text": [
      "Epoch 45/500: 100%|██████████| 1608/1608 [00:03<00:00, 517.78it/s]\n"
     ]
    },
    {
     "name": "stdout",
     "output_type": "stream",
     "text": [
      "Epoch [45/500], Train Loss: 0.0988\n",
      "Epoch [45/500], Valid Loss: 0.3487\n"
     ]
    },
    {
     "name": "stderr",
     "output_type": "stream",
     "text": [
      "Epoch 46/500: 100%|██████████| 1608/1608 [00:03<00:00, 491.56it/s]\n"
     ]
    },
    {
     "name": "stdout",
     "output_type": "stream",
     "text": [
      "Epoch [46/500], Train Loss: 0.0986\n",
      "Epoch [46/500], Valid Loss: 0.3487\n"
     ]
    },
    {
     "name": "stderr",
     "output_type": "stream",
     "text": [
      "Epoch 47/500: 100%|██████████| 1608/1608 [00:03<00:00, 513.29it/s]\n"
     ]
    },
    {
     "name": "stdout",
     "output_type": "stream",
     "text": [
      "Epoch [47/500], Train Loss: 0.0995\n",
      "Epoch [47/500], Valid Loss: 0.3487\n"
     ]
    },
    {
     "name": "stderr",
     "output_type": "stream",
     "text": [
      "Epoch 48/500: 100%|██████████| 1608/1608 [00:03<00:00, 505.82it/s]\n"
     ]
    },
    {
     "name": "stdout",
     "output_type": "stream",
     "text": [
      "Epoch [48/500], Train Loss: 0.0992\n",
      "Epoch [48/500], Valid Loss: 0.3487\n"
     ]
    },
    {
     "name": "stderr",
     "output_type": "stream",
     "text": [
      "Epoch 49/500: 100%|██████████| 1608/1608 [00:03<00:00, 489.56it/s]\n"
     ]
    },
    {
     "name": "stdout",
     "output_type": "stream",
     "text": [
      "Epoch [49/500], Train Loss: 0.0995\n",
      "Epoch [49/500], Valid Loss: 0.3487\n"
     ]
    },
    {
     "name": "stderr",
     "output_type": "stream",
     "text": [
      "Epoch 50/500: 100%|██████████| 1608/1608 [00:03<00:00, 499.14it/s]\n"
     ]
    },
    {
     "name": "stdout",
     "output_type": "stream",
     "text": [
      "Epoch [50/500], Train Loss: 0.0991\n",
      "Epoch [50/500], Valid Loss: 0.3487\n"
     ]
    },
    {
     "name": "stderr",
     "output_type": "stream",
     "text": [
      "Epoch 51/500: 100%|██████████| 1608/1608 [00:03<00:00, 494.31it/s]\n"
     ]
    },
    {
     "name": "stdout",
     "output_type": "stream",
     "text": [
      "Epoch [51/500], Train Loss: 0.0994\n",
      "Epoch [51/500], Valid Loss: 0.3487\n"
     ]
    },
    {
     "name": "stderr",
     "output_type": "stream",
     "text": [
      "Epoch 52/500: 100%|██████████| 1608/1608 [00:03<00:00, 504.37it/s]\n"
     ]
    },
    {
     "name": "stdout",
     "output_type": "stream",
     "text": [
      "Epoch [52/500], Train Loss: 0.0996\n",
      "Epoch [52/500], Valid Loss: 0.3487\n"
     ]
    },
    {
     "name": "stderr",
     "output_type": "stream",
     "text": [
      "Epoch 53/500: 100%|██████████| 1608/1608 [00:03<00:00, 502.31it/s]\n"
     ]
    },
    {
     "name": "stdout",
     "output_type": "stream",
     "text": [
      "Epoch [53/500], Train Loss: 0.0990\n",
      "Epoch [53/500], Valid Loss: 0.3487\n"
     ]
    },
    {
     "name": "stderr",
     "output_type": "stream",
     "text": [
      "Epoch 54/500: 100%|██████████| 1608/1608 [00:03<00:00, 495.53it/s]\n"
     ]
    },
    {
     "name": "stdout",
     "output_type": "stream",
     "text": [
      "Epoch [54/500], Train Loss: 0.0989\n",
      "Epoch [54/500], Valid Loss: 0.3487\n"
     ]
    },
    {
     "name": "stderr",
     "output_type": "stream",
     "text": [
      "Epoch 55/500: 100%|██████████| 1608/1608 [00:03<00:00, 521.42it/s]\n"
     ]
    },
    {
     "name": "stdout",
     "output_type": "stream",
     "text": [
      "Epoch [55/500], Train Loss: 0.0990\n",
      "Epoch [55/500], Valid Loss: 0.3487\n"
     ]
    },
    {
     "name": "stderr",
     "output_type": "stream",
     "text": [
      "Epoch 56/500: 100%|██████████| 1608/1608 [00:03<00:00, 516.36it/s]\n"
     ]
    },
    {
     "name": "stdout",
     "output_type": "stream",
     "text": [
      "Epoch [56/500], Train Loss: 0.0989\n",
      "Epoch [56/500], Valid Loss: 0.3487\n"
     ]
    },
    {
     "name": "stderr",
     "output_type": "stream",
     "text": [
      "Epoch 57/500: 100%|██████████| 1608/1608 [00:03<00:00, 522.73it/s]\n"
     ]
    },
    {
     "name": "stdout",
     "output_type": "stream",
     "text": [
      "Epoch [57/500], Train Loss: 0.0996\n",
      "Epoch [57/500], Valid Loss: 0.3487\n"
     ]
    },
    {
     "name": "stderr",
     "output_type": "stream",
     "text": [
      "Epoch 58/500: 100%|██████████| 1608/1608 [00:03<00:00, 527.48it/s]\n"
     ]
    },
    {
     "name": "stdout",
     "output_type": "stream",
     "text": [
      "Epoch [58/500], Train Loss: 0.0988\n",
      "Epoch [58/500], Valid Loss: 0.3487\n"
     ]
    },
    {
     "name": "stderr",
     "output_type": "stream",
     "text": [
      "Epoch 59/500: 100%|██████████| 1608/1608 [00:03<00:00, 525.05it/s]\n"
     ]
    },
    {
     "name": "stdout",
     "output_type": "stream",
     "text": [
      "Epoch [59/500], Train Loss: 0.0987\n",
      "Epoch [59/500], Valid Loss: 0.3487\n"
     ]
    },
    {
     "name": "stderr",
     "output_type": "stream",
     "text": [
      "Epoch 60/500: 100%|██████████| 1608/1608 [00:03<00:00, 518.90it/s]\n"
     ]
    },
    {
     "name": "stdout",
     "output_type": "stream",
     "text": [
      "Epoch [60/500], Train Loss: 0.0990\n",
      "Epoch [60/500], Valid Loss: 0.3487\n",
      "Early stopping\n",
      "best_fall_detection_gru_0001_full.pt 학습 시작\n",
      "\n",
      "==================== Training Configuration: GRU with input_config='full' and lr='0.0001' ====================\n",
      "\n",
      "현재 입력 크기 (마지막 차원): 25\n",
      "예상 입력 크기: 25\n"
     ]
    },
    {
     "name": "stderr",
     "output_type": "stream",
     "text": [
      "Epoch 1/500: 100%|██████████| 1608/1608 [00:03<00:00, 511.63it/s]\n"
     ]
    },
    {
     "name": "stdout",
     "output_type": "stream",
     "text": [
      "Epoch [1/500], Train Loss: 0.5086\n",
      "Epoch [1/500], Valid Loss: 0.4251\n"
     ]
    },
    {
     "name": "stderr",
     "output_type": "stream",
     "text": [
      "Epoch 2/500: 100%|██████████| 1608/1608 [00:03<00:00, 503.08it/s]\n"
     ]
    },
    {
     "name": "stdout",
     "output_type": "stream",
     "text": [
      "Epoch [2/500], Train Loss: 0.4115\n",
      "Epoch [2/500], Valid Loss: 0.4131\n"
     ]
    },
    {
     "name": "stderr",
     "output_type": "stream",
     "text": [
      "Epoch 3/500: 100%|██████████| 1608/1608 [00:03<00:00, 495.89it/s]\n"
     ]
    },
    {
     "name": "stdout",
     "output_type": "stream",
     "text": [
      "Epoch [3/500], Train Loss: 0.4007\n",
      "Epoch [3/500], Valid Loss: 0.4011\n"
     ]
    },
    {
     "name": "stderr",
     "output_type": "stream",
     "text": [
      "Epoch 4/500: 100%|██████████| 1608/1608 [00:03<00:00, 512.76it/s]\n"
     ]
    },
    {
     "name": "stdout",
     "output_type": "stream",
     "text": [
      "Epoch [4/500], Train Loss: 0.3939\n",
      "Epoch [4/500], Valid Loss: 0.3984\n"
     ]
    },
    {
     "name": "stderr",
     "output_type": "stream",
     "text": [
      "Epoch 5/500: 100%|██████████| 1608/1608 [00:03<00:00, 528.71it/s]\n"
     ]
    },
    {
     "name": "stdout",
     "output_type": "stream",
     "text": [
      "Epoch [5/500], Train Loss: 0.3877\n",
      "Epoch [5/500], Valid Loss: 0.3927\n"
     ]
    },
    {
     "name": "stderr",
     "output_type": "stream",
     "text": [
      "Epoch 6/500: 100%|██████████| 1608/1608 [00:03<00:00, 526.20it/s]\n"
     ]
    },
    {
     "name": "stdout",
     "output_type": "stream",
     "text": [
      "Epoch [6/500], Train Loss: 0.3853\n",
      "Epoch [6/500], Valid Loss: 0.3876\n"
     ]
    },
    {
     "name": "stderr",
     "output_type": "stream",
     "text": [
      "Epoch 7/500: 100%|██████████| 1608/1608 [00:03<00:00, 514.26it/s]\n"
     ]
    },
    {
     "name": "stdout",
     "output_type": "stream",
     "text": [
      "Epoch [7/500], Train Loss: 0.3811\n",
      "Epoch [7/500], Valid Loss: 0.3955\n"
     ]
    },
    {
     "name": "stderr",
     "output_type": "stream",
     "text": [
      "Epoch 8/500: 100%|██████████| 1608/1608 [00:03<00:00, 527.48it/s]\n"
     ]
    },
    {
     "name": "stdout",
     "output_type": "stream",
     "text": [
      "Epoch [8/500], Train Loss: 0.3758\n",
      "Epoch [8/500], Valid Loss: 0.3820\n"
     ]
    },
    {
     "name": "stderr",
     "output_type": "stream",
     "text": [
      "Epoch 9/500: 100%|██████████| 1608/1608 [00:03<00:00, 523.05it/s]\n"
     ]
    },
    {
     "name": "stdout",
     "output_type": "stream",
     "text": [
      "Epoch [9/500], Train Loss: 0.3732\n",
      "Epoch [9/500], Valid Loss: 0.3799\n"
     ]
    },
    {
     "name": "stderr",
     "output_type": "stream",
     "text": [
      "Epoch 10/500: 100%|██████████| 1608/1608 [00:03<00:00, 514.43it/s]\n"
     ]
    },
    {
     "name": "stdout",
     "output_type": "stream",
     "text": [
      "Epoch [10/500], Train Loss: 0.3708\n",
      "Epoch [10/500], Valid Loss: 0.3728\n"
     ]
    },
    {
     "name": "stderr",
     "output_type": "stream",
     "text": [
      "Epoch 11/500: 100%|██████████| 1608/1608 [00:03<00:00, 518.82it/s]\n"
     ]
    },
    {
     "name": "stdout",
     "output_type": "stream",
     "text": [
      "Epoch [11/500], Train Loss: 0.3663\n",
      "Epoch [11/500], Valid Loss: 0.3683\n"
     ]
    },
    {
     "name": "stderr",
     "output_type": "stream",
     "text": [
      "Epoch 12/500: 100%|██████████| 1608/1608 [00:03<00:00, 507.08it/s]\n"
     ]
    },
    {
     "name": "stdout",
     "output_type": "stream",
     "text": [
      "Epoch [12/500], Train Loss: 0.3627\n",
      "Epoch [12/500], Valid Loss: 0.3661\n"
     ]
    },
    {
     "name": "stderr",
     "output_type": "stream",
     "text": [
      "Epoch 13/500: 100%|██████████| 1608/1608 [00:03<00:00, 511.65it/s]\n"
     ]
    },
    {
     "name": "stdout",
     "output_type": "stream",
     "text": [
      "Epoch [13/500], Train Loss: 0.3618\n",
      "Epoch [13/500], Valid Loss: 0.3603\n"
     ]
    },
    {
     "name": "stderr",
     "output_type": "stream",
     "text": [
      "Epoch 14/500: 100%|██████████| 1608/1608 [00:03<00:00, 512.10it/s]\n"
     ]
    },
    {
     "name": "stdout",
     "output_type": "stream",
     "text": [
      "Epoch [14/500], Train Loss: 0.3584\n",
      "Epoch [14/500], Valid Loss: 0.3740\n"
     ]
    },
    {
     "name": "stderr",
     "output_type": "stream",
     "text": [
      "Epoch 15/500: 100%|██████████| 1608/1608 [00:03<00:00, 485.32it/s]\n"
     ]
    },
    {
     "name": "stdout",
     "output_type": "stream",
     "text": [
      "Epoch [15/500], Train Loss: 0.3547\n",
      "Epoch [15/500], Valid Loss: 0.3643\n"
     ]
    },
    {
     "name": "stderr",
     "output_type": "stream",
     "text": [
      "Epoch 16/500: 100%|██████████| 1608/1608 [00:03<00:00, 505.02it/s]\n"
     ]
    },
    {
     "name": "stdout",
     "output_type": "stream",
     "text": [
      "Epoch [16/500], Train Loss: 0.3512\n",
      "Epoch [16/500], Valid Loss: 0.3590\n"
     ]
    },
    {
     "name": "stderr",
     "output_type": "stream",
     "text": [
      "Epoch 17/500: 100%|██████████| 1608/1608 [00:03<00:00, 501.92it/s]\n"
     ]
    },
    {
     "name": "stdout",
     "output_type": "stream",
     "text": [
      "Epoch [17/500], Train Loss: 0.3506\n",
      "Epoch [17/500], Valid Loss: 0.3535\n"
     ]
    },
    {
     "name": "stderr",
     "output_type": "stream",
     "text": [
      "Epoch 18/500: 100%|██████████| 1608/1608 [00:03<00:00, 512.02it/s]\n"
     ]
    },
    {
     "name": "stdout",
     "output_type": "stream",
     "text": [
      "Epoch [18/500], Train Loss: 0.3479\n",
      "Epoch [18/500], Valid Loss: 0.3539\n"
     ]
    },
    {
     "name": "stderr",
     "output_type": "stream",
     "text": [
      "Epoch 19/500: 100%|██████████| 1608/1608 [00:03<00:00, 512.75it/s]\n"
     ]
    },
    {
     "name": "stdout",
     "output_type": "stream",
     "text": [
      "Epoch [19/500], Train Loss: 0.3457\n",
      "Epoch [19/500], Valid Loss: 0.3511\n"
     ]
    },
    {
     "name": "stderr",
     "output_type": "stream",
     "text": [
      "Epoch 20/500: 100%|██████████| 1608/1608 [00:03<00:00, 530.69it/s]\n"
     ]
    },
    {
     "name": "stdout",
     "output_type": "stream",
     "text": [
      "Epoch [20/500], Train Loss: 0.3423\n",
      "Epoch [20/500], Valid Loss: 0.3508\n"
     ]
    },
    {
     "name": "stderr",
     "output_type": "stream",
     "text": [
      "Epoch 21/500: 100%|██████████| 1608/1608 [00:03<00:00, 519.04it/s]\n"
     ]
    },
    {
     "name": "stdout",
     "output_type": "stream",
     "text": [
      "Epoch [21/500], Train Loss: 0.3401\n",
      "Epoch [21/500], Valid Loss: 0.3540\n"
     ]
    },
    {
     "name": "stderr",
     "output_type": "stream",
     "text": [
      "Epoch 22/500: 100%|██████████| 1608/1608 [00:03<00:00, 479.14it/s]\n"
     ]
    },
    {
     "name": "stdout",
     "output_type": "stream",
     "text": [
      "Epoch [22/500], Train Loss: 0.3361\n",
      "Epoch [22/500], Valid Loss: 0.3455\n"
     ]
    },
    {
     "name": "stderr",
     "output_type": "stream",
     "text": [
      "Epoch 23/500: 100%|██████████| 1608/1608 [00:03<00:00, 516.54it/s]\n"
     ]
    },
    {
     "name": "stdout",
     "output_type": "stream",
     "text": [
      "Epoch [23/500], Train Loss: 0.3348\n",
      "Epoch [23/500], Valid Loss: 0.3461\n"
     ]
    },
    {
     "name": "stderr",
     "output_type": "stream",
     "text": [
      "Epoch 24/500: 100%|██████████| 1608/1608 [00:03<00:00, 515.72it/s]\n"
     ]
    },
    {
     "name": "stdout",
     "output_type": "stream",
     "text": [
      "Epoch [24/500], Train Loss: 0.3326\n",
      "Epoch [24/500], Valid Loss: 0.3461\n"
     ]
    },
    {
     "name": "stderr",
     "output_type": "stream",
     "text": [
      "Epoch 25/500: 100%|██████████| 1608/1608 [00:03<00:00, 503.13it/s]\n"
     ]
    },
    {
     "name": "stdout",
     "output_type": "stream",
     "text": [
      "Epoch [25/500], Train Loss: 0.3298\n",
      "Epoch [25/500], Valid Loss: 0.3456\n"
     ]
    },
    {
     "name": "stderr",
     "output_type": "stream",
     "text": [
      "Epoch 26/500: 100%|██████████| 1608/1608 [00:03<00:00, 523.95it/s]\n"
     ]
    },
    {
     "name": "stdout",
     "output_type": "stream",
     "text": [
      "Epoch [26/500], Train Loss: 0.3301\n",
      "Epoch [26/500], Valid Loss: 0.3379\n"
     ]
    },
    {
     "name": "stderr",
     "output_type": "stream",
     "text": [
      "Epoch 27/500: 100%|██████████| 1608/1608 [00:03<00:00, 524.09it/s]\n"
     ]
    },
    {
     "name": "stdout",
     "output_type": "stream",
     "text": [
      "Epoch [27/500], Train Loss: 0.3258\n",
      "Epoch [27/500], Valid Loss: 0.3385\n"
     ]
    },
    {
     "name": "stderr",
     "output_type": "stream",
     "text": [
      "Epoch 28/500: 100%|██████████| 1608/1608 [00:03<00:00, 507.07it/s]\n"
     ]
    },
    {
     "name": "stdout",
     "output_type": "stream",
     "text": [
      "Epoch [28/500], Train Loss: 0.3252\n",
      "Epoch [28/500], Valid Loss: 0.3358\n"
     ]
    },
    {
     "name": "stderr",
     "output_type": "stream",
     "text": [
      "Epoch 29/500: 100%|██████████| 1608/1608 [00:03<00:00, 525.71it/s]\n"
     ]
    },
    {
     "name": "stdout",
     "output_type": "stream",
     "text": [
      "Epoch [29/500], Train Loss: 0.3228\n",
      "Epoch [29/500], Valid Loss: 0.3349\n"
     ]
    },
    {
     "name": "stderr",
     "output_type": "stream",
     "text": [
      "Epoch 30/500: 100%|██████████| 1608/1608 [00:03<00:00, 515.91it/s]\n"
     ]
    },
    {
     "name": "stdout",
     "output_type": "stream",
     "text": [
      "Epoch [30/500], Train Loss: 0.3186\n",
      "Epoch [30/500], Valid Loss: 0.3347\n"
     ]
    },
    {
     "name": "stderr",
     "output_type": "stream",
     "text": [
      "Epoch 31/500: 100%|██████████| 1608/1608 [00:03<00:00, 519.38it/s]\n"
     ]
    },
    {
     "name": "stdout",
     "output_type": "stream",
     "text": [
      "Epoch [31/500], Train Loss: 0.3185\n",
      "Epoch [31/500], Valid Loss: 0.3411\n"
     ]
    },
    {
     "name": "stderr",
     "output_type": "stream",
     "text": [
      "Epoch 32/500: 100%|██████████| 1608/1608 [00:03<00:00, 513.65it/s]\n"
     ]
    },
    {
     "name": "stdout",
     "output_type": "stream",
     "text": [
      "Epoch [32/500], Train Loss: 0.3163\n",
      "Epoch [32/500], Valid Loss: 0.3422\n"
     ]
    },
    {
     "name": "stderr",
     "output_type": "stream",
     "text": [
      "Epoch 33/500: 100%|██████████| 1608/1608 [00:03<00:00, 524.12it/s]\n"
     ]
    },
    {
     "name": "stdout",
     "output_type": "stream",
     "text": [
      "Epoch [33/500], Train Loss: 0.3135\n",
      "Epoch [33/500], Valid Loss: 0.3352\n"
     ]
    },
    {
     "name": "stderr",
     "output_type": "stream",
     "text": [
      "Epoch 34/500: 100%|██████████| 1608/1608 [00:03<00:00, 532.09it/s]\n"
     ]
    },
    {
     "name": "stdout",
     "output_type": "stream",
     "text": [
      "Epoch [34/500], Train Loss: 0.3127\n",
      "Epoch [34/500], Valid Loss: 0.3340\n"
     ]
    },
    {
     "name": "stderr",
     "output_type": "stream",
     "text": [
      "Epoch 35/500: 100%|██████████| 1608/1608 [00:03<00:00, 532.77it/s]\n"
     ]
    },
    {
     "name": "stdout",
     "output_type": "stream",
     "text": [
      "Epoch [35/500], Train Loss: 0.3105\n",
      "Epoch [35/500], Valid Loss: 0.3330\n"
     ]
    },
    {
     "name": "stderr",
     "output_type": "stream",
     "text": [
      "Epoch 36/500: 100%|██████████| 1608/1608 [00:03<00:00, 532.80it/s]\n"
     ]
    },
    {
     "name": "stdout",
     "output_type": "stream",
     "text": [
      "Epoch [36/500], Train Loss: 0.3105\n",
      "Epoch [36/500], Valid Loss: 0.3284\n"
     ]
    },
    {
     "name": "stderr",
     "output_type": "stream",
     "text": [
      "Epoch 37/500: 100%|██████████| 1608/1608 [00:03<00:00, 531.92it/s]\n"
     ]
    },
    {
     "name": "stdout",
     "output_type": "stream",
     "text": [
      "Epoch [37/500], Train Loss: 0.3076\n",
      "Epoch [37/500], Valid Loss: 0.3353\n"
     ]
    },
    {
     "name": "stderr",
     "output_type": "stream",
     "text": [
      "Epoch 38/500: 100%|██████████| 1608/1608 [00:03<00:00, 524.97it/s]\n"
     ]
    },
    {
     "name": "stdout",
     "output_type": "stream",
     "text": [
      "Epoch [38/500], Train Loss: 0.3066\n",
      "Epoch [38/500], Valid Loss: 0.3277\n"
     ]
    },
    {
     "name": "stderr",
     "output_type": "stream",
     "text": [
      "Epoch 39/500: 100%|██████████| 1608/1608 [00:02<00:00, 536.71it/s]\n"
     ]
    },
    {
     "name": "stdout",
     "output_type": "stream",
     "text": [
      "Epoch [39/500], Train Loss: 0.3058\n",
      "Epoch [39/500], Valid Loss: 0.3305\n"
     ]
    },
    {
     "name": "stderr",
     "output_type": "stream",
     "text": [
      "Epoch 40/500: 100%|██████████| 1608/1608 [00:03<00:00, 531.90it/s]\n"
     ]
    },
    {
     "name": "stdout",
     "output_type": "stream",
     "text": [
      "Epoch [40/500], Train Loss: 0.3012\n",
      "Epoch [40/500], Valid Loss: 0.3332\n"
     ]
    },
    {
     "name": "stderr",
     "output_type": "stream",
     "text": [
      "Epoch 41/500: 100%|██████████| 1608/1608 [00:03<00:00, 524.88it/s]\n"
     ]
    },
    {
     "name": "stdout",
     "output_type": "stream",
     "text": [
      "Epoch [41/500], Train Loss: 0.3001\n",
      "Epoch [41/500], Valid Loss: 0.3268\n"
     ]
    },
    {
     "name": "stderr",
     "output_type": "stream",
     "text": [
      "Epoch 42/500: 100%|██████████| 1608/1608 [00:03<00:00, 522.65it/s]\n"
     ]
    },
    {
     "name": "stdout",
     "output_type": "stream",
     "text": [
      "Epoch [42/500], Train Loss: 0.2984\n",
      "Epoch [42/500], Valid Loss: 0.3255\n"
     ]
    },
    {
     "name": "stderr",
     "output_type": "stream",
     "text": [
      "Epoch 43/500: 100%|██████████| 1608/1608 [00:02<00:00, 536.57it/s]\n"
     ]
    },
    {
     "name": "stdout",
     "output_type": "stream",
     "text": [
      "Epoch [43/500], Train Loss: 0.2985\n",
      "Epoch [43/500], Valid Loss: 0.3207\n"
     ]
    },
    {
     "name": "stderr",
     "output_type": "stream",
     "text": [
      "Epoch 44/500: 100%|██████████| 1608/1608 [00:03<00:00, 530.73it/s]\n"
     ]
    },
    {
     "name": "stdout",
     "output_type": "stream",
     "text": [
      "Epoch [44/500], Train Loss: 0.2968\n",
      "Epoch [44/500], Valid Loss: 0.3169\n"
     ]
    },
    {
     "name": "stderr",
     "output_type": "stream",
     "text": [
      "Epoch 45/500: 100%|██████████| 1608/1608 [00:03<00:00, 530.17it/s]\n"
     ]
    },
    {
     "name": "stdout",
     "output_type": "stream",
     "text": [
      "Epoch [45/500], Train Loss: 0.2934\n",
      "Epoch [45/500], Valid Loss: 0.3231\n"
     ]
    },
    {
     "name": "stderr",
     "output_type": "stream",
     "text": [
      "Epoch 46/500: 100%|██████████| 1608/1608 [00:03<00:00, 524.07it/s]\n"
     ]
    },
    {
     "name": "stdout",
     "output_type": "stream",
     "text": [
      "Epoch [46/500], Train Loss: 0.2914\n",
      "Epoch [46/500], Valid Loss: 0.3244\n"
     ]
    },
    {
     "name": "stderr",
     "output_type": "stream",
     "text": [
      "Epoch 47/500: 100%|██████████| 1608/1608 [00:03<00:00, 514.89it/s]\n"
     ]
    },
    {
     "name": "stdout",
     "output_type": "stream",
     "text": [
      "Epoch [47/500], Train Loss: 0.2912\n",
      "Epoch [47/500], Valid Loss: 0.3186\n"
     ]
    },
    {
     "name": "stderr",
     "output_type": "stream",
     "text": [
      "Epoch 48/500: 100%|██████████| 1608/1608 [00:02<00:00, 548.05it/s]\n"
     ]
    },
    {
     "name": "stdout",
     "output_type": "stream",
     "text": [
      "Epoch [48/500], Train Loss: 0.2882\n",
      "Epoch [48/500], Valid Loss: 0.3168\n"
     ]
    },
    {
     "name": "stderr",
     "output_type": "stream",
     "text": [
      "Epoch 49/500: 100%|██████████| 1608/1608 [00:03<00:00, 530.69it/s]\n"
     ]
    },
    {
     "name": "stdout",
     "output_type": "stream",
     "text": [
      "Epoch [49/500], Train Loss: 0.2854\n",
      "Epoch [49/500], Valid Loss: 0.3189\n"
     ]
    },
    {
     "name": "stderr",
     "output_type": "stream",
     "text": [
      "Epoch 50/500: 100%|██████████| 1608/1608 [00:03<00:00, 520.70it/s]\n"
     ]
    },
    {
     "name": "stdout",
     "output_type": "stream",
     "text": [
      "Epoch [50/500], Train Loss: 0.2856\n",
      "Epoch [50/500], Valid Loss: 0.3071\n"
     ]
    },
    {
     "name": "stderr",
     "output_type": "stream",
     "text": [
      "Epoch 51/500: 100%|██████████| 1608/1608 [00:03<00:00, 529.29it/s]\n"
     ]
    },
    {
     "name": "stdout",
     "output_type": "stream",
     "text": [
      "Epoch [51/500], Train Loss: 0.2824\n",
      "Epoch [51/500], Valid Loss: 0.3109\n"
     ]
    },
    {
     "name": "stderr",
     "output_type": "stream",
     "text": [
      "Epoch 52/500: 100%|██████████| 1608/1608 [00:03<00:00, 526.24it/s]\n"
     ]
    },
    {
     "name": "stdout",
     "output_type": "stream",
     "text": [
      "Epoch [52/500], Train Loss: 0.2820\n",
      "Epoch [52/500], Valid Loss: 0.3089\n"
     ]
    },
    {
     "name": "stderr",
     "output_type": "stream",
     "text": [
      "Epoch 53/500: 100%|██████████| 1608/1608 [00:03<00:00, 527.66it/s]\n"
     ]
    },
    {
     "name": "stdout",
     "output_type": "stream",
     "text": [
      "Epoch [53/500], Train Loss: 0.2794\n",
      "Epoch [53/500], Valid Loss: 0.3116\n"
     ]
    },
    {
     "name": "stderr",
     "output_type": "stream",
     "text": [
      "Epoch 54/500: 100%|██████████| 1608/1608 [00:03<00:00, 516.61it/s]\n"
     ]
    },
    {
     "name": "stdout",
     "output_type": "stream",
     "text": [
      "Epoch [54/500], Train Loss: 0.2772\n",
      "Epoch [54/500], Valid Loss: 0.3099\n"
     ]
    },
    {
     "name": "stderr",
     "output_type": "stream",
     "text": [
      "Epoch 55/500: 100%|██████████| 1608/1608 [00:03<00:00, 523.43it/s]\n"
     ]
    },
    {
     "name": "stdout",
     "output_type": "stream",
     "text": [
      "Epoch [55/500], Train Loss: 0.2764\n",
      "Epoch [55/500], Valid Loss: 0.3082\n"
     ]
    },
    {
     "name": "stderr",
     "output_type": "stream",
     "text": [
      "Epoch 56/500: 100%|██████████| 1608/1608 [00:03<00:00, 515.55it/s]\n"
     ]
    },
    {
     "name": "stdout",
     "output_type": "stream",
     "text": [
      "Epoch [56/500], Train Loss: 0.2746\n",
      "Epoch [56/500], Valid Loss: 0.3095\n"
     ]
    },
    {
     "name": "stderr",
     "output_type": "stream",
     "text": [
      "Epoch 57/500: 100%|██████████| 1608/1608 [00:03<00:00, 526.52it/s]\n"
     ]
    },
    {
     "name": "stdout",
     "output_type": "stream",
     "text": [
      "Epoch [57/500], Train Loss: 0.2661\n",
      "Epoch [57/500], Valid Loss: 0.2999\n"
     ]
    },
    {
     "name": "stderr",
     "output_type": "stream",
     "text": [
      "Epoch 58/500: 100%|██████████| 1608/1608 [00:03<00:00, 525.26it/s]\n"
     ]
    },
    {
     "name": "stdout",
     "output_type": "stream",
     "text": [
      "Epoch [58/500], Train Loss: 0.2636\n",
      "Epoch [58/500], Valid Loss: 0.3004\n"
     ]
    },
    {
     "name": "stderr",
     "output_type": "stream",
     "text": [
      "Epoch 59/500: 100%|██████████| 1608/1608 [00:03<00:00, 519.10it/s]\n"
     ]
    },
    {
     "name": "stdout",
     "output_type": "stream",
     "text": [
      "Epoch [59/500], Train Loss: 0.2631\n",
      "Epoch [59/500], Valid Loss: 0.3005\n"
     ]
    },
    {
     "name": "stderr",
     "output_type": "stream",
     "text": [
      "Epoch 60/500: 100%|██████████| 1608/1608 [00:03<00:00, 528.48it/s]\n"
     ]
    },
    {
     "name": "stdout",
     "output_type": "stream",
     "text": [
      "Epoch [60/500], Train Loss: 0.2627\n",
      "Epoch [60/500], Valid Loss: 0.2995\n"
     ]
    },
    {
     "name": "stderr",
     "output_type": "stream",
     "text": [
      "Epoch 61/500: 100%|██████████| 1608/1608 [00:03<00:00, 522.50it/s]\n"
     ]
    },
    {
     "name": "stdout",
     "output_type": "stream",
     "text": [
      "Epoch [61/500], Train Loss: 0.2630\n",
      "Epoch [61/500], Valid Loss: 0.2999\n"
     ]
    },
    {
     "name": "stderr",
     "output_type": "stream",
     "text": [
      "Epoch 62/500: 100%|██████████| 1608/1608 [00:03<00:00, 519.21it/s]\n"
     ]
    },
    {
     "name": "stdout",
     "output_type": "stream",
     "text": [
      "Epoch [62/500], Train Loss: 0.2625\n",
      "Epoch [62/500], Valid Loss: 0.3001\n"
     ]
    },
    {
     "name": "stderr",
     "output_type": "stream",
     "text": [
      "Epoch 63/500: 100%|██████████| 1608/1608 [00:03<00:00, 529.64it/s]\n"
     ]
    },
    {
     "name": "stdout",
     "output_type": "stream",
     "text": [
      "Epoch [63/500], Train Loss: 0.2614\n",
      "Epoch [63/500], Valid Loss: 0.2993\n"
     ]
    },
    {
     "name": "stderr",
     "output_type": "stream",
     "text": [
      "Epoch 64/500: 100%|██████████| 1608/1608 [00:03<00:00, 524.54it/s]\n"
     ]
    },
    {
     "name": "stdout",
     "output_type": "stream",
     "text": [
      "Epoch [64/500], Train Loss: 0.2625\n",
      "Epoch [64/500], Valid Loss: 0.3011\n"
     ]
    },
    {
     "name": "stderr",
     "output_type": "stream",
     "text": [
      "Epoch 65/500: 100%|██████████| 1608/1608 [00:03<00:00, 528.60it/s]\n"
     ]
    },
    {
     "name": "stdout",
     "output_type": "stream",
     "text": [
      "Epoch [65/500], Train Loss: 0.2607\n",
      "Epoch [65/500], Valid Loss: 0.3011\n"
     ]
    },
    {
     "name": "stderr",
     "output_type": "stream",
     "text": [
      "Epoch 66/500: 100%|██████████| 1608/1608 [00:03<00:00, 522.58it/s]\n"
     ]
    },
    {
     "name": "stdout",
     "output_type": "stream",
     "text": [
      "Epoch [66/500], Train Loss: 0.2596\n",
      "Epoch [66/500], Valid Loss: 0.2996\n"
     ]
    },
    {
     "name": "stderr",
     "output_type": "stream",
     "text": [
      "Epoch 67/500: 100%|██████████| 1608/1608 [00:03<00:00, 524.90it/s]\n"
     ]
    },
    {
     "name": "stdout",
     "output_type": "stream",
     "text": [
      "Epoch [67/500], Train Loss: 0.2612\n",
      "Epoch [67/500], Valid Loss: 0.3005\n"
     ]
    },
    {
     "name": "stderr",
     "output_type": "stream",
     "text": [
      "Epoch 68/500: 100%|██████████| 1608/1608 [00:03<00:00, 524.12it/s]\n"
     ]
    },
    {
     "name": "stdout",
     "output_type": "stream",
     "text": [
      "Epoch [68/500], Train Loss: 0.2612\n",
      "Epoch [68/500], Valid Loss: 0.2998\n"
     ]
    },
    {
     "name": "stderr",
     "output_type": "stream",
     "text": [
      "Epoch 69/500: 100%|██████████| 1608/1608 [00:03<00:00, 525.49it/s]\n"
     ]
    },
    {
     "name": "stdout",
     "output_type": "stream",
     "text": [
      "Epoch [69/500], Train Loss: 0.2600\n",
      "Epoch [69/500], Valid Loss: 0.3004\n"
     ]
    },
    {
     "name": "stderr",
     "output_type": "stream",
     "text": [
      "Epoch 70/500: 100%|██████████| 1608/1608 [00:03<00:00, 516.87it/s]\n"
     ]
    },
    {
     "name": "stdout",
     "output_type": "stream",
     "text": [
      "Epoch [70/500], Train Loss: 0.2593\n",
      "Epoch [70/500], Valid Loss: 0.2996\n"
     ]
    },
    {
     "name": "stderr",
     "output_type": "stream",
     "text": [
      "Epoch 71/500: 100%|██████████| 1608/1608 [00:03<00:00, 518.96it/s]\n"
     ]
    },
    {
     "name": "stdout",
     "output_type": "stream",
     "text": [
      "Epoch [71/500], Train Loss: 0.2592\n",
      "Epoch [71/500], Valid Loss: 0.2994\n"
     ]
    },
    {
     "name": "stderr",
     "output_type": "stream",
     "text": [
      "Epoch 72/500: 100%|██████████| 1608/1608 [00:03<00:00, 517.11it/s]\n"
     ]
    },
    {
     "name": "stdout",
     "output_type": "stream",
     "text": [
      "Epoch [72/500], Train Loss: 0.2589\n",
      "Epoch [72/500], Valid Loss: 0.2993\n"
     ]
    },
    {
     "name": "stderr",
     "output_type": "stream",
     "text": [
      "Epoch 73/500: 100%|██████████| 1608/1608 [00:03<00:00, 525.30it/s]\n"
     ]
    },
    {
     "name": "stdout",
     "output_type": "stream",
     "text": [
      "Epoch [73/500], Train Loss: 0.2590\n",
      "Epoch [73/500], Valid Loss: 0.2992\n"
     ]
    },
    {
     "name": "stderr",
     "output_type": "stream",
     "text": [
      "Epoch 74/500: 100%|██████████| 1608/1608 [00:03<00:00, 525.14it/s]\n"
     ]
    },
    {
     "name": "stdout",
     "output_type": "stream",
     "text": [
      "Epoch [74/500], Train Loss: 0.2586\n",
      "Epoch [74/500], Valid Loss: 0.2994\n"
     ]
    },
    {
     "name": "stderr",
     "output_type": "stream",
     "text": [
      "Epoch 75/500: 100%|██████████| 1608/1608 [00:03<00:00, 526.09it/s]\n"
     ]
    },
    {
     "name": "stdout",
     "output_type": "stream",
     "text": [
      "Epoch [75/500], Train Loss: 0.2587\n",
      "Epoch [75/500], Valid Loss: 0.2992\n"
     ]
    },
    {
     "name": "stderr",
     "output_type": "stream",
     "text": [
      "Epoch 76/500: 100%|██████████| 1608/1608 [00:03<00:00, 528.77it/s]\n"
     ]
    },
    {
     "name": "stdout",
     "output_type": "stream",
     "text": [
      "Epoch [76/500], Train Loss: 0.2583\n",
      "Epoch [76/500], Valid Loss: 0.2992\n"
     ]
    },
    {
     "name": "stderr",
     "output_type": "stream",
     "text": [
      "Epoch 77/500: 100%|██████████| 1608/1608 [00:03<00:00, 531.22it/s]\n"
     ]
    },
    {
     "name": "stdout",
     "output_type": "stream",
     "text": [
      "Epoch [77/500], Train Loss: 0.2591\n",
      "Epoch [77/500], Valid Loss: 0.2992\n"
     ]
    },
    {
     "name": "stderr",
     "output_type": "stream",
     "text": [
      "Epoch 78/500: 100%|██████████| 1608/1608 [00:03<00:00, 520.12it/s]\n"
     ]
    },
    {
     "name": "stdout",
     "output_type": "stream",
     "text": [
      "Epoch [78/500], Train Loss: 0.2581\n",
      "Epoch [78/500], Valid Loss: 0.2992\n"
     ]
    },
    {
     "name": "stderr",
     "output_type": "stream",
     "text": [
      "Epoch 79/500: 100%|██████████| 1608/1608 [00:03<00:00, 524.29it/s]\n"
     ]
    },
    {
     "name": "stdout",
     "output_type": "stream",
     "text": [
      "Epoch [79/500], Train Loss: 0.2583\n",
      "Epoch [79/500], Valid Loss: 0.2990\n"
     ]
    },
    {
     "name": "stderr",
     "output_type": "stream",
     "text": [
      "Epoch 80/500: 100%|██████████| 1608/1608 [00:03<00:00, 529.38it/s]\n"
     ]
    },
    {
     "name": "stdout",
     "output_type": "stream",
     "text": [
      "Epoch [80/500], Train Loss: 0.2595\n",
      "Epoch [80/500], Valid Loss: 0.2991\n"
     ]
    },
    {
     "name": "stderr",
     "output_type": "stream",
     "text": [
      "Epoch 81/500: 100%|██████████| 1608/1608 [00:03<00:00, 518.77it/s]\n"
     ]
    },
    {
     "name": "stdout",
     "output_type": "stream",
     "text": [
      "Epoch [81/500], Train Loss: 0.2573\n",
      "Epoch [81/500], Valid Loss: 0.2991\n"
     ]
    },
    {
     "name": "stderr",
     "output_type": "stream",
     "text": [
      "Epoch 82/500: 100%|██████████| 1608/1608 [00:03<00:00, 519.41it/s]\n"
     ]
    },
    {
     "name": "stdout",
     "output_type": "stream",
     "text": [
      "Epoch [82/500], Train Loss: 0.2593\n",
      "Epoch [82/500], Valid Loss: 0.2992\n"
     ]
    },
    {
     "name": "stderr",
     "output_type": "stream",
     "text": [
      "Epoch 83/500: 100%|██████████| 1608/1608 [00:03<00:00, 523.08it/s]\n"
     ]
    },
    {
     "name": "stdout",
     "output_type": "stream",
     "text": [
      "Epoch [83/500], Train Loss: 0.2581\n",
      "Epoch [83/500], Valid Loss: 0.2992\n"
     ]
    },
    {
     "name": "stderr",
     "output_type": "stream",
     "text": [
      "Epoch 84/500: 100%|██████████| 1608/1608 [00:03<00:00, 522.82it/s]\n"
     ]
    },
    {
     "name": "stdout",
     "output_type": "stream",
     "text": [
      "Epoch [84/500], Train Loss: 0.2586\n",
      "Epoch [84/500], Valid Loss: 0.2991\n"
     ]
    },
    {
     "name": "stderr",
     "output_type": "stream",
     "text": [
      "Epoch 85/500: 100%|██████████| 1608/1608 [00:03<00:00, 517.33it/s]\n"
     ]
    },
    {
     "name": "stdout",
     "output_type": "stream",
     "text": [
      "Epoch [85/500], Train Loss: 0.2584\n",
      "Epoch [85/500], Valid Loss: 0.2990\n"
     ]
    },
    {
     "name": "stderr",
     "output_type": "stream",
     "text": [
      "Epoch 86/500: 100%|██████████| 1608/1608 [00:03<00:00, 522.23it/s]\n"
     ]
    },
    {
     "name": "stdout",
     "output_type": "stream",
     "text": [
      "Epoch [86/500], Train Loss: 0.2582\n",
      "Epoch [86/500], Valid Loss: 0.2990\n"
     ]
    },
    {
     "name": "stderr",
     "output_type": "stream",
     "text": [
      "Epoch 87/500: 100%|██████████| 1608/1608 [00:03<00:00, 515.71it/s]\n"
     ]
    },
    {
     "name": "stdout",
     "output_type": "stream",
     "text": [
      "Epoch [87/500], Train Loss: 0.2588\n",
      "Epoch [87/500], Valid Loss: 0.2990\n"
     ]
    },
    {
     "name": "stderr",
     "output_type": "stream",
     "text": [
      "Epoch 88/500: 100%|██████████| 1608/1608 [00:03<00:00, 522.41it/s]\n"
     ]
    },
    {
     "name": "stdout",
     "output_type": "stream",
     "text": [
      "Epoch [88/500], Train Loss: 0.2584\n",
      "Epoch [88/500], Valid Loss: 0.2990\n"
     ]
    },
    {
     "name": "stderr",
     "output_type": "stream",
     "text": [
      "Epoch 89/500: 100%|██████████| 1608/1608 [00:03<00:00, 519.21it/s]\n"
     ]
    },
    {
     "name": "stdout",
     "output_type": "stream",
     "text": [
      "Epoch [89/500], Train Loss: 0.2587\n",
      "Epoch [89/500], Valid Loss: 0.2990\n"
     ]
    },
    {
     "name": "stderr",
     "output_type": "stream",
     "text": [
      "Epoch 90/500: 100%|██████████| 1608/1608 [00:03<00:00, 525.32it/s]\n"
     ]
    },
    {
     "name": "stdout",
     "output_type": "stream",
     "text": [
      "Epoch [90/500], Train Loss: 0.2586\n",
      "Epoch [90/500], Valid Loss: 0.2990\n"
     ]
    },
    {
     "name": "stderr",
     "output_type": "stream",
     "text": [
      "Epoch 91/500: 100%|██████████| 1608/1608 [00:03<00:00, 516.54it/s]\n"
     ]
    },
    {
     "name": "stdout",
     "output_type": "stream",
     "text": [
      "Epoch [91/500], Train Loss: 0.2587\n",
      "Epoch [91/500], Valid Loss: 0.2991\n"
     ]
    },
    {
     "name": "stderr",
     "output_type": "stream",
     "text": [
      "Epoch 92/500: 100%|██████████| 1608/1608 [00:03<00:00, 518.71it/s]\n"
     ]
    },
    {
     "name": "stdout",
     "output_type": "stream",
     "text": [
      "Epoch [92/500], Train Loss: 0.2585\n",
      "Epoch [92/500], Valid Loss: 0.2991\n"
     ]
    },
    {
     "name": "stderr",
     "output_type": "stream",
     "text": [
      "Epoch 93/500: 100%|██████████| 1608/1608 [00:03<00:00, 520.05it/s]\n"
     ]
    },
    {
     "name": "stdout",
     "output_type": "stream",
     "text": [
      "Epoch [93/500], Train Loss: 0.2573\n",
      "Epoch [93/500], Valid Loss: 0.2991\n"
     ]
    },
    {
     "name": "stderr",
     "output_type": "stream",
     "text": [
      "Epoch 94/500: 100%|██████████| 1608/1608 [00:03<00:00, 524.45it/s]\n"
     ]
    },
    {
     "name": "stdout",
     "output_type": "stream",
     "text": [
      "Epoch [94/500], Train Loss: 0.2576\n",
      "Epoch [94/500], Valid Loss: 0.2991\n"
     ]
    },
    {
     "name": "stderr",
     "output_type": "stream",
     "text": [
      "Epoch 95/500: 100%|██████████| 1608/1608 [00:03<00:00, 524.42it/s]\n"
     ]
    },
    {
     "name": "stdout",
     "output_type": "stream",
     "text": [
      "Epoch [95/500], Train Loss: 0.2592\n",
      "Epoch [95/500], Valid Loss: 0.2991\n"
     ]
    },
    {
     "name": "stderr",
     "output_type": "stream",
     "text": [
      "Epoch 96/500: 100%|██████████| 1608/1608 [00:03<00:00, 532.16it/s]\n"
     ]
    },
    {
     "name": "stdout",
     "output_type": "stream",
     "text": [
      "Epoch [96/500], Train Loss: 0.2596\n",
      "Epoch [96/500], Valid Loss: 0.2991\n"
     ]
    },
    {
     "name": "stderr",
     "output_type": "stream",
     "text": [
      "Epoch 97/500: 100%|██████████| 1608/1608 [00:03<00:00, 534.86it/s]\n"
     ]
    },
    {
     "name": "stdout",
     "output_type": "stream",
     "text": [
      "Epoch [97/500], Train Loss: 0.2587\n",
      "Epoch [97/500], Valid Loss: 0.2990\n"
     ]
    },
    {
     "name": "stderr",
     "output_type": "stream",
     "text": [
      "Epoch 98/500: 100%|██████████| 1608/1608 [00:03<00:00, 528.55it/s]\n"
     ]
    },
    {
     "name": "stdout",
     "output_type": "stream",
     "text": [
      "Epoch [98/500], Train Loss: 0.2576\n",
      "Epoch [98/500], Valid Loss: 0.2990\n"
     ]
    },
    {
     "name": "stderr",
     "output_type": "stream",
     "text": [
      "Epoch 99/500: 100%|██████████| 1608/1608 [00:03<00:00, 528.47it/s]\n"
     ]
    },
    {
     "name": "stdout",
     "output_type": "stream",
     "text": [
      "Epoch [99/500], Train Loss: 0.2584\n",
      "Epoch [99/500], Valid Loss: 0.2990\n"
     ]
    },
    {
     "name": "stderr",
     "output_type": "stream",
     "text": [
      "Epoch 100/500: 100%|██████████| 1608/1608 [00:03<00:00, 518.01it/s]\n"
     ]
    },
    {
     "name": "stdout",
     "output_type": "stream",
     "text": [
      "Epoch [100/500], Train Loss: 0.2579\n",
      "Epoch [100/500], Valid Loss: 0.2990\n"
     ]
    },
    {
     "name": "stderr",
     "output_type": "stream",
     "text": [
      "Epoch 101/500: 100%|██████████| 1608/1608 [00:03<00:00, 498.41it/s]\n"
     ]
    },
    {
     "name": "stdout",
     "output_type": "stream",
     "text": [
      "Epoch [101/500], Train Loss: 0.2578\n",
      "Epoch [101/500], Valid Loss: 0.2990\n"
     ]
    },
    {
     "name": "stderr",
     "output_type": "stream",
     "text": [
      "Epoch 102/500: 100%|██████████| 1608/1608 [00:03<00:00, 523.35it/s]\n"
     ]
    },
    {
     "name": "stdout",
     "output_type": "stream",
     "text": [
      "Epoch [102/500], Train Loss: 0.2584\n",
      "Epoch [102/500], Valid Loss: 0.2990\n"
     ]
    },
    {
     "name": "stderr",
     "output_type": "stream",
     "text": [
      "Epoch 103/500: 100%|██████████| 1608/1608 [00:03<00:00, 526.59it/s]\n"
     ]
    },
    {
     "name": "stdout",
     "output_type": "stream",
     "text": [
      "Epoch [103/500], Train Loss: 0.2585\n",
      "Epoch [103/500], Valid Loss: 0.2990\n"
     ]
    },
    {
     "name": "stderr",
     "output_type": "stream",
     "text": [
      "Epoch 104/500: 100%|██████████| 1608/1608 [00:03<00:00, 519.41it/s]\n"
     ]
    },
    {
     "name": "stdout",
     "output_type": "stream",
     "text": [
      "Epoch [104/500], Train Loss: 0.2583\n",
      "Epoch [104/500], Valid Loss: 0.2990\n"
     ]
    },
    {
     "name": "stderr",
     "output_type": "stream",
     "text": [
      "Epoch 105/500: 100%|██████████| 1608/1608 [00:03<00:00, 522.87it/s]\n"
     ]
    },
    {
     "name": "stdout",
     "output_type": "stream",
     "text": [
      "Epoch [105/500], Train Loss: 0.2585\n",
      "Epoch [105/500], Valid Loss: 0.2990\n"
     ]
    },
    {
     "name": "stderr",
     "output_type": "stream",
     "text": [
      "Epoch 106/500: 100%|██████████| 1608/1608 [00:03<00:00, 525.69it/s]\n"
     ]
    },
    {
     "name": "stdout",
     "output_type": "stream",
     "text": [
      "Epoch [106/500], Train Loss: 0.2588\n",
      "Epoch [106/500], Valid Loss: 0.2990\n"
     ]
    },
    {
     "name": "stderr",
     "output_type": "stream",
     "text": [
      "Epoch 107/500: 100%|██████████| 1608/1608 [00:03<00:00, 514.02it/s]\n"
     ]
    },
    {
     "name": "stdout",
     "output_type": "stream",
     "text": [
      "Epoch [107/500], Train Loss: 0.2579\n",
      "Epoch [107/500], Valid Loss: 0.2990\n"
     ]
    },
    {
     "name": "stderr",
     "output_type": "stream",
     "text": [
      "Epoch 108/500: 100%|██████████| 1608/1608 [00:03<00:00, 507.58it/s]\n"
     ]
    },
    {
     "name": "stdout",
     "output_type": "stream",
     "text": [
      "Epoch [108/500], Train Loss: 0.2579\n",
      "Epoch [108/500], Valid Loss: 0.2990\n"
     ]
    },
    {
     "name": "stderr",
     "output_type": "stream",
     "text": [
      "Epoch 109/500: 100%|██████████| 1608/1608 [00:03<00:00, 506.57it/s]\n"
     ]
    },
    {
     "name": "stdout",
     "output_type": "stream",
     "text": [
      "Epoch [109/500], Train Loss: 0.2589\n",
      "Epoch [109/500], Valid Loss: 0.2990\n"
     ]
    },
    {
     "name": "stderr",
     "output_type": "stream",
     "text": [
      "Epoch 110/500: 100%|██████████| 1608/1608 [00:03<00:00, 513.97it/s]\n"
     ]
    },
    {
     "name": "stdout",
     "output_type": "stream",
     "text": [
      "Epoch [110/500], Train Loss: 0.2576\n",
      "Epoch [110/500], Valid Loss: 0.2990\n"
     ]
    },
    {
     "name": "stderr",
     "output_type": "stream",
     "text": [
      "Epoch 111/500: 100%|██████████| 1608/1608 [00:03<00:00, 523.71it/s]\n"
     ]
    },
    {
     "name": "stdout",
     "output_type": "stream",
     "text": [
      "Epoch [111/500], Train Loss: 0.2585\n",
      "Epoch [111/500], Valid Loss: 0.2990\n"
     ]
    },
    {
     "name": "stderr",
     "output_type": "stream",
     "text": [
      "Epoch 112/500: 100%|██████████| 1608/1608 [00:03<00:00, 516.39it/s]\n"
     ]
    },
    {
     "name": "stdout",
     "output_type": "stream",
     "text": [
      "Epoch [112/500], Train Loss: 0.2584\n",
      "Epoch [112/500], Valid Loss: 0.2990\n"
     ]
    },
    {
     "name": "stderr",
     "output_type": "stream",
     "text": [
      "Epoch 113/500: 100%|██████████| 1608/1608 [00:03<00:00, 527.42it/s]\n"
     ]
    },
    {
     "name": "stdout",
     "output_type": "stream",
     "text": [
      "Epoch [113/500], Train Loss: 0.2581\n",
      "Epoch [113/500], Valid Loss: 0.2990\n"
     ]
    },
    {
     "name": "stderr",
     "output_type": "stream",
     "text": [
      "Epoch 114/500: 100%|██████████| 1608/1608 [00:03<00:00, 525.17it/s]\n"
     ]
    },
    {
     "name": "stdout",
     "output_type": "stream",
     "text": [
      "Epoch [114/500], Train Loss: 0.2581\n",
      "Epoch [114/500], Valid Loss: 0.2990\n"
     ]
    },
    {
     "name": "stderr",
     "output_type": "stream",
     "text": [
      "Epoch 115/500: 100%|██████████| 1608/1608 [00:03<00:00, 501.00it/s]\n"
     ]
    },
    {
     "name": "stdout",
     "output_type": "stream",
     "text": [
      "Epoch [115/500], Train Loss: 0.2579\n",
      "Epoch [115/500], Valid Loss: 0.2990\n"
     ]
    },
    {
     "name": "stderr",
     "output_type": "stream",
     "text": [
      "Epoch 116/500: 100%|██████████| 1608/1608 [00:03<00:00, 496.94it/s]\n"
     ]
    },
    {
     "name": "stdout",
     "output_type": "stream",
     "text": [
      "Epoch [116/500], Train Loss: 0.2596\n",
      "Epoch [116/500], Valid Loss: 0.2990\n"
     ]
    },
    {
     "name": "stderr",
     "output_type": "stream",
     "text": [
      "Epoch 117/500: 100%|██████████| 1608/1608 [00:03<00:00, 511.95it/s]\n"
     ]
    },
    {
     "name": "stdout",
     "output_type": "stream",
     "text": [
      "Epoch [117/500], Train Loss: 0.2584\n",
      "Epoch [117/500], Valid Loss: 0.2990\n"
     ]
    },
    {
     "name": "stderr",
     "output_type": "stream",
     "text": [
      "Epoch 118/500: 100%|██████████| 1608/1608 [00:03<00:00, 517.71it/s]\n"
     ]
    },
    {
     "name": "stdout",
     "output_type": "stream",
     "text": [
      "Epoch [118/500], Train Loss: 0.2596\n",
      "Epoch [118/500], Valid Loss: 0.2990\n"
     ]
    },
    {
     "name": "stderr",
     "output_type": "stream",
     "text": [
      "Epoch 119/500: 100%|██████████| 1608/1608 [00:03<00:00, 514.53it/s]\n"
     ]
    },
    {
     "name": "stdout",
     "output_type": "stream",
     "text": [
      "Epoch [119/500], Train Loss: 0.2587\n",
      "Epoch [119/500], Valid Loss: 0.2990\n"
     ]
    },
    {
     "name": "stderr",
     "output_type": "stream",
     "text": [
      "Epoch 120/500: 100%|██████████| 1608/1608 [00:03<00:00, 529.89it/s]\n"
     ]
    },
    {
     "name": "stdout",
     "output_type": "stream",
     "text": [
      "Epoch [120/500], Train Loss: 0.2583\n",
      "Epoch [120/500], Valid Loss: 0.2990\n"
     ]
    },
    {
     "name": "stderr",
     "output_type": "stream",
     "text": [
      "Epoch 121/500: 100%|██████████| 1608/1608 [00:03<00:00, 531.22it/s]\n"
     ]
    },
    {
     "name": "stdout",
     "output_type": "stream",
     "text": [
      "Epoch [121/500], Train Loss: 0.2589\n",
      "Epoch [121/500], Valid Loss: 0.2990\n"
     ]
    },
    {
     "name": "stderr",
     "output_type": "stream",
     "text": [
      "Epoch 122/500: 100%|██████████| 1608/1608 [00:03<00:00, 528.13it/s]\n"
     ]
    },
    {
     "name": "stdout",
     "output_type": "stream",
     "text": [
      "Epoch [122/500], Train Loss: 0.2578\n",
      "Epoch [122/500], Valid Loss: 0.2990\n"
     ]
    },
    {
     "name": "stderr",
     "output_type": "stream",
     "text": [
      "Epoch 123/500: 100%|██████████| 1608/1608 [00:03<00:00, 529.37it/s]\n"
     ]
    },
    {
     "name": "stdout",
     "output_type": "stream",
     "text": [
      "Epoch [123/500], Train Loss: 0.2586\n",
      "Epoch [123/500], Valid Loss: 0.2990\n"
     ]
    },
    {
     "name": "stderr",
     "output_type": "stream",
     "text": [
      "Epoch 124/500: 100%|██████████| 1608/1608 [00:03<00:00, 529.43it/s]\n"
     ]
    },
    {
     "name": "stdout",
     "output_type": "stream",
     "text": [
      "Epoch [124/500], Train Loss: 0.2590\n",
      "Epoch [124/500], Valid Loss: 0.2990\n"
     ]
    },
    {
     "name": "stderr",
     "output_type": "stream",
     "text": [
      "Epoch 125/500: 100%|██████████| 1608/1608 [00:03<00:00, 531.92it/s]\n"
     ]
    },
    {
     "name": "stdout",
     "output_type": "stream",
     "text": [
      "Epoch [125/500], Train Loss: 0.2583\n",
      "Epoch [125/500], Valid Loss: 0.2990\n"
     ]
    },
    {
     "name": "stderr",
     "output_type": "stream",
     "text": [
      "Epoch 126/500: 100%|██████████| 1608/1608 [00:03<00:00, 530.57it/s]\n"
     ]
    },
    {
     "name": "stdout",
     "output_type": "stream",
     "text": [
      "Epoch [126/500], Train Loss: 0.2579\n",
      "Epoch [126/500], Valid Loss: 0.2990\n"
     ]
    },
    {
     "name": "stderr",
     "output_type": "stream",
     "text": [
      "Epoch 127/500: 100%|██████████| 1608/1608 [00:03<00:00, 527.78it/s]\n"
     ]
    },
    {
     "name": "stdout",
     "output_type": "stream",
     "text": [
      "Epoch [127/500], Train Loss: 0.2591\n",
      "Epoch [127/500], Valid Loss: 0.2990\n"
     ]
    },
    {
     "name": "stderr",
     "output_type": "stream",
     "text": [
      "Epoch 128/500: 100%|██████████| 1608/1608 [00:03<00:00, 526.27it/s]\n"
     ]
    },
    {
     "name": "stdout",
     "output_type": "stream",
     "text": [
      "Epoch [128/500], Train Loss: 0.2584\n",
      "Epoch [128/500], Valid Loss: 0.2990\n"
     ]
    },
    {
     "name": "stderr",
     "output_type": "stream",
     "text": [
      "Epoch 129/500: 100%|██████████| 1608/1608 [00:03<00:00, 527.55it/s]\n"
     ]
    },
    {
     "name": "stdout",
     "output_type": "stream",
     "text": [
      "Epoch [129/500], Train Loss: 0.2582\n",
      "Epoch [129/500], Valid Loss: 0.2990\n"
     ]
    },
    {
     "name": "stderr",
     "output_type": "stream",
     "text": [
      "Epoch 130/500: 100%|██████████| 1608/1608 [00:03<00:00, 517.39it/s]\n"
     ]
    },
    {
     "name": "stdout",
     "output_type": "stream",
     "text": [
      "Epoch [130/500], Train Loss: 0.2579\n",
      "Epoch [130/500], Valid Loss: 0.2990\n"
     ]
    },
    {
     "name": "stderr",
     "output_type": "stream",
     "text": [
      "Epoch 131/500: 100%|██████████| 1608/1608 [00:03<00:00, 534.60it/s]\n"
     ]
    },
    {
     "name": "stdout",
     "output_type": "stream",
     "text": [
      "Epoch [131/500], Train Loss: 0.2585\n",
      "Epoch [131/500], Valid Loss: 0.2990\n"
     ]
    },
    {
     "name": "stderr",
     "output_type": "stream",
     "text": [
      "Epoch 132/500: 100%|██████████| 1608/1608 [00:03<00:00, 530.93it/s]\n"
     ]
    },
    {
     "name": "stdout",
     "output_type": "stream",
     "text": [
      "Epoch [132/500], Train Loss: 0.2586\n",
      "Epoch [132/500], Valid Loss: 0.2990\n"
     ]
    },
    {
     "name": "stderr",
     "output_type": "stream",
     "text": [
      "Epoch 133/500: 100%|██████████| 1608/1608 [00:03<00:00, 529.98it/s]\n"
     ]
    },
    {
     "name": "stdout",
     "output_type": "stream",
     "text": [
      "Epoch [133/500], Train Loss: 0.2586\n",
      "Epoch [133/500], Valid Loss: 0.2990\n"
     ]
    },
    {
     "name": "stderr",
     "output_type": "stream",
     "text": [
      "Epoch 134/500: 100%|██████████| 1608/1608 [00:03<00:00, 533.83it/s]\n"
     ]
    },
    {
     "name": "stdout",
     "output_type": "stream",
     "text": [
      "Epoch [134/500], Train Loss: 0.2575\n",
      "Epoch [134/500], Valid Loss: 0.2990\n"
     ]
    },
    {
     "name": "stderr",
     "output_type": "stream",
     "text": [
      "Epoch 135/500: 100%|██████████| 1608/1608 [00:03<00:00, 525.72it/s]\n"
     ]
    },
    {
     "name": "stdout",
     "output_type": "stream",
     "text": [
      "Epoch [135/500], Train Loss: 0.2586\n",
      "Epoch [135/500], Valid Loss: 0.2990\n",
      "Early stopping\n",
      "best_fall_detection_gru_0001_simplified.pt 학습 시작\n",
      "\n",
      "==================== Training Configuration: GRU with input_config='simplified' and lr='0.0001' ====================\n",
      "\n",
      "현재 입력 크기 (마지막 차원): 3\n",
      "예상 입력 크기: 3\n"
     ]
    },
    {
     "name": "stderr",
     "output_type": "stream",
     "text": [
      "Epoch 1/500: 100%|██████████| 1608/1608 [00:02<00:00, 536.35it/s]\n"
     ]
    },
    {
     "name": "stdout",
     "output_type": "stream",
     "text": [
      "Epoch [1/500], Train Loss: 0.5651\n",
      "Epoch [1/500], Valid Loss: 0.5179\n"
     ]
    },
    {
     "name": "stderr",
     "output_type": "stream",
     "text": [
      "Epoch 2/500: 100%|██████████| 1608/1608 [00:03<00:00, 528.25it/s]\n"
     ]
    },
    {
     "name": "stdout",
     "output_type": "stream",
     "text": [
      "Epoch [2/500], Train Loss: 0.5056\n",
      "Epoch [2/500], Valid Loss: 0.5164\n"
     ]
    },
    {
     "name": "stderr",
     "output_type": "stream",
     "text": [
      "Epoch 3/500: 100%|██████████| 1608/1608 [00:03<00:00, 524.63it/s]\n"
     ]
    },
    {
     "name": "stdout",
     "output_type": "stream",
     "text": [
      "Epoch [3/500], Train Loss: 0.5053\n",
      "Epoch [3/500], Valid Loss: 0.5130\n"
     ]
    },
    {
     "name": "stderr",
     "output_type": "stream",
     "text": [
      "Epoch 4/500: 100%|██████████| 1608/1608 [00:03<00:00, 529.29it/s]\n"
     ]
    },
    {
     "name": "stdout",
     "output_type": "stream",
     "text": [
      "Epoch [4/500], Train Loss: 0.5017\n",
      "Epoch [4/500], Valid Loss: 0.5117\n"
     ]
    },
    {
     "name": "stderr",
     "output_type": "stream",
     "text": [
      "Epoch 5/500: 100%|██████████| 1608/1608 [00:03<00:00, 534.04it/s]\n"
     ]
    },
    {
     "name": "stdout",
     "output_type": "stream",
     "text": [
      "Epoch [5/500], Train Loss: 0.5024\n",
      "Epoch [5/500], Valid Loss: 0.5122\n"
     ]
    },
    {
     "name": "stderr",
     "output_type": "stream",
     "text": [
      "Epoch 6/500: 100%|██████████| 1608/1608 [00:03<00:00, 531.39it/s]\n"
     ]
    },
    {
     "name": "stdout",
     "output_type": "stream",
     "text": [
      "Epoch [6/500], Train Loss: 0.5029\n",
      "Epoch [6/500], Valid Loss: 0.5142\n"
     ]
    },
    {
     "name": "stderr",
     "output_type": "stream",
     "text": [
      "Epoch 7/500: 100%|██████████| 1608/1608 [00:03<00:00, 530.87it/s]\n"
     ]
    },
    {
     "name": "stdout",
     "output_type": "stream",
     "text": [
      "Epoch [7/500], Train Loss: 0.5017\n",
      "Epoch [7/500], Valid Loss: 0.5106\n"
     ]
    },
    {
     "name": "stderr",
     "output_type": "stream",
     "text": [
      "Epoch 8/500: 100%|██████████| 1608/1608 [00:03<00:00, 534.75it/s]\n"
     ]
    },
    {
     "name": "stdout",
     "output_type": "stream",
     "text": [
      "Epoch [8/500], Train Loss: 0.5027\n",
      "Epoch [8/500], Valid Loss: 0.5118\n"
     ]
    },
    {
     "name": "stderr",
     "output_type": "stream",
     "text": [
      "Epoch 9/500: 100%|██████████| 1608/1608 [00:03<00:00, 532.18it/s]\n"
     ]
    },
    {
     "name": "stdout",
     "output_type": "stream",
     "text": [
      "Epoch [9/500], Train Loss: 0.5020\n",
      "Epoch [9/500], Valid Loss: 0.5126\n"
     ]
    },
    {
     "name": "stderr",
     "output_type": "stream",
     "text": [
      "Epoch 10/500: 100%|██████████| 1608/1608 [00:03<00:00, 532.26it/s]\n"
     ]
    },
    {
     "name": "stdout",
     "output_type": "stream",
     "text": [
      "Epoch [10/500], Train Loss: 0.5009\n",
      "Epoch [10/500], Valid Loss: 0.5140\n"
     ]
    },
    {
     "name": "stderr",
     "output_type": "stream",
     "text": [
      "Epoch 11/500: 100%|██████████| 1608/1608 [00:03<00:00, 526.80it/s]\n"
     ]
    },
    {
     "name": "stdout",
     "output_type": "stream",
     "text": [
      "Epoch [11/500], Train Loss: 0.5007\n",
      "Epoch [11/500], Valid Loss: 0.5122\n"
     ]
    },
    {
     "name": "stderr",
     "output_type": "stream",
     "text": [
      "Epoch 12/500: 100%|██████████| 1608/1608 [00:03<00:00, 526.26it/s]\n"
     ]
    },
    {
     "name": "stdout",
     "output_type": "stream",
     "text": [
      "Epoch [12/500], Train Loss: 0.5024\n",
      "Epoch [12/500], Valid Loss: 0.5163\n"
     ]
    },
    {
     "name": "stderr",
     "output_type": "stream",
     "text": [
      "Epoch 13/500: 100%|██████████| 1608/1608 [00:03<00:00, 528.83it/s]\n"
     ]
    },
    {
     "name": "stdout",
     "output_type": "stream",
     "text": [
      "Epoch [13/500], Train Loss: 0.5002\n",
      "Epoch [13/500], Valid Loss: 0.5137\n"
     ]
    },
    {
     "name": "stderr",
     "output_type": "stream",
     "text": [
      "Epoch 14/500: 100%|██████████| 1608/1608 [00:03<00:00, 524.49it/s]\n"
     ]
    },
    {
     "name": "stdout",
     "output_type": "stream",
     "text": [
      "Epoch [14/500], Train Loss: 0.4999\n",
      "Epoch [14/500], Valid Loss: 0.5111\n"
     ]
    },
    {
     "name": "stderr",
     "output_type": "stream",
     "text": [
      "Epoch 15/500: 100%|██████████| 1608/1608 [00:03<00:00, 529.41it/s]\n"
     ]
    },
    {
     "name": "stdout",
     "output_type": "stream",
     "text": [
      "Epoch [15/500], Train Loss: 0.4995\n",
      "Epoch [15/500], Valid Loss: 0.5108\n"
     ]
    },
    {
     "name": "stderr",
     "output_type": "stream",
     "text": [
      "Epoch 16/500: 100%|██████████| 1608/1608 [00:03<00:00, 529.00it/s]\n"
     ]
    },
    {
     "name": "stdout",
     "output_type": "stream",
     "text": [
      "Epoch [16/500], Train Loss: 0.5000\n",
      "Epoch [16/500], Valid Loss: 0.5109\n"
     ]
    },
    {
     "name": "stderr",
     "output_type": "stream",
     "text": [
      "Epoch 17/500: 100%|██████████| 1608/1608 [00:03<00:00, 524.94it/s]\n"
     ]
    },
    {
     "name": "stdout",
     "output_type": "stream",
     "text": [
      "Epoch [17/500], Train Loss: 0.4985\n",
      "Epoch [17/500], Valid Loss: 0.5103\n"
     ]
    },
    {
     "name": "stderr",
     "output_type": "stream",
     "text": [
      "Epoch 18/500: 100%|██████████| 1608/1608 [00:03<00:00, 523.88it/s]\n"
     ]
    },
    {
     "name": "stdout",
     "output_type": "stream",
     "text": [
      "Epoch [18/500], Train Loss: 0.4993\n",
      "Epoch [18/500], Valid Loss: 0.5112\n"
     ]
    },
    {
     "name": "stderr",
     "output_type": "stream",
     "text": [
      "Epoch 19/500: 100%|██████████| 1608/1608 [00:03<00:00, 533.09it/s]\n"
     ]
    },
    {
     "name": "stdout",
     "output_type": "stream",
     "text": [
      "Epoch [19/500], Train Loss: 0.4997\n",
      "Epoch [19/500], Valid Loss: 0.5105\n"
     ]
    },
    {
     "name": "stderr",
     "output_type": "stream",
     "text": [
      "Epoch 20/500: 100%|██████████| 1608/1608 [00:03<00:00, 531.39it/s]\n"
     ]
    },
    {
     "name": "stdout",
     "output_type": "stream",
     "text": [
      "Epoch [20/500], Train Loss: 0.4988\n",
      "Epoch [20/500], Valid Loss: 0.5109\n"
     ]
    },
    {
     "name": "stderr",
     "output_type": "stream",
     "text": [
      "Epoch 21/500: 100%|██████████| 1608/1608 [00:03<00:00, 535.99it/s]\n"
     ]
    },
    {
     "name": "stdout",
     "output_type": "stream",
     "text": [
      "Epoch [21/500], Train Loss: 0.5006\n",
      "Epoch [21/500], Valid Loss: 0.5109\n"
     ]
    },
    {
     "name": "stderr",
     "output_type": "stream",
     "text": [
      "Epoch 22/500: 100%|██████████| 1608/1608 [00:03<00:00, 527.98it/s]\n"
     ]
    },
    {
     "name": "stdout",
     "output_type": "stream",
     "text": [
      "Epoch [22/500], Train Loss: 0.4993\n",
      "Epoch [22/500], Valid Loss: 0.5114\n"
     ]
    },
    {
     "name": "stderr",
     "output_type": "stream",
     "text": [
      "Epoch 23/500: 100%|██████████| 1608/1608 [00:03<00:00, 529.47it/s]\n"
     ]
    },
    {
     "name": "stdout",
     "output_type": "stream",
     "text": [
      "Epoch [23/500], Train Loss: 0.4999\n",
      "Epoch [23/500], Valid Loss: 0.5104\n"
     ]
    },
    {
     "name": "stderr",
     "output_type": "stream",
     "text": [
      "Epoch 24/500: 100%|██████████| 1608/1608 [00:03<00:00, 529.57it/s]\n"
     ]
    },
    {
     "name": "stdout",
     "output_type": "stream",
     "text": [
      "Epoch [24/500], Train Loss: 0.4988\n",
      "Epoch [24/500], Valid Loss: 0.5105\n"
     ]
    },
    {
     "name": "stderr",
     "output_type": "stream",
     "text": [
      "Epoch 25/500: 100%|██████████| 1608/1608 [00:03<00:00, 525.25it/s]\n"
     ]
    },
    {
     "name": "stdout",
     "output_type": "stream",
     "text": [
      "Epoch [25/500], Train Loss: 0.4998\n",
      "Epoch [25/500], Valid Loss: 0.5105\n"
     ]
    },
    {
     "name": "stderr",
     "output_type": "stream",
     "text": [
      "Epoch 26/500: 100%|██████████| 1608/1608 [00:03<00:00, 524.94it/s]\n"
     ]
    },
    {
     "name": "stdout",
     "output_type": "stream",
     "text": [
      "Epoch [26/500], Train Loss: 0.4996\n",
      "Epoch [26/500], Valid Loss: 0.5105\n"
     ]
    },
    {
     "name": "stderr",
     "output_type": "stream",
     "text": [
      "Epoch 27/500: 100%|██████████| 1608/1608 [00:03<00:00, 525.12it/s]\n"
     ]
    },
    {
     "name": "stdout",
     "output_type": "stream",
     "text": [
      "Epoch [27/500], Train Loss: 0.4988\n",
      "Epoch [27/500], Valid Loss: 0.5105\n"
     ]
    },
    {
     "name": "stderr",
     "output_type": "stream",
     "text": [
      "Epoch 28/500: 100%|██████████| 1608/1608 [00:03<00:00, 531.72it/s]\n"
     ]
    },
    {
     "name": "stdout",
     "output_type": "stream",
     "text": [
      "Epoch [28/500], Train Loss: 0.4991\n",
      "Epoch [28/500], Valid Loss: 0.5105\n"
     ]
    },
    {
     "name": "stderr",
     "output_type": "stream",
     "text": [
      "Epoch 29/500: 100%|██████████| 1608/1608 [00:03<00:00, 526.93it/s]\n"
     ]
    },
    {
     "name": "stdout",
     "output_type": "stream",
     "text": [
      "Epoch [29/500], Train Loss: 0.4999\n",
      "Epoch [29/500], Valid Loss: 0.5106\n"
     ]
    },
    {
     "name": "stderr",
     "output_type": "stream",
     "text": [
      "Epoch 30/500: 100%|██████████| 1608/1608 [00:03<00:00, 523.55it/s]\n"
     ]
    },
    {
     "name": "stdout",
     "output_type": "stream",
     "text": [
      "Epoch [30/500], Train Loss: 0.4987\n",
      "Epoch [30/500], Valid Loss: 0.5106\n"
     ]
    },
    {
     "name": "stderr",
     "output_type": "stream",
     "text": [
      "Epoch 31/500: 100%|██████████| 1608/1608 [00:03<00:00, 526.61it/s]\n"
     ]
    },
    {
     "name": "stdout",
     "output_type": "stream",
     "text": [
      "Epoch [31/500], Train Loss: 0.4989\n",
      "Epoch [31/500], Valid Loss: 0.5106\n"
     ]
    },
    {
     "name": "stderr",
     "output_type": "stream",
     "text": [
      "Epoch 32/500: 100%|██████████| 1608/1608 [00:03<00:00, 530.63it/s]\n"
     ]
    },
    {
     "name": "stdout",
     "output_type": "stream",
     "text": [
      "Epoch [32/500], Train Loss: 0.4982\n",
      "Epoch [32/500], Valid Loss: 0.5106\n"
     ]
    },
    {
     "name": "stderr",
     "output_type": "stream",
     "text": [
      "Epoch 33/500: 100%|██████████| 1608/1608 [00:03<00:00, 527.88it/s]\n"
     ]
    },
    {
     "name": "stdout",
     "output_type": "stream",
     "text": [
      "Epoch [33/500], Train Loss: 0.4985\n",
      "Epoch [33/500], Valid Loss: 0.5106\n"
     ]
    },
    {
     "name": "stderr",
     "output_type": "stream",
     "text": [
      "Epoch 34/500: 100%|██████████| 1608/1608 [00:03<00:00, 528.37it/s]\n"
     ]
    },
    {
     "name": "stdout",
     "output_type": "stream",
     "text": [
      "Epoch [34/500], Train Loss: 0.4982\n",
      "Epoch [34/500], Valid Loss: 0.5106\n"
     ]
    },
    {
     "name": "stderr",
     "output_type": "stream",
     "text": [
      "Epoch 35/500: 100%|██████████| 1608/1608 [00:03<00:00, 532.03it/s]\n"
     ]
    },
    {
     "name": "stdout",
     "output_type": "stream",
     "text": [
      "Epoch [35/500], Train Loss: 0.4995\n",
      "Epoch [35/500], Valid Loss: 0.5106\n"
     ]
    },
    {
     "name": "stderr",
     "output_type": "stream",
     "text": [
      "Epoch 36/500: 100%|██████████| 1608/1608 [00:02<00:00, 536.33it/s]\n"
     ]
    },
    {
     "name": "stdout",
     "output_type": "stream",
     "text": [
      "Epoch [36/500], Train Loss: 0.4988\n",
      "Epoch [36/500], Valid Loss: 0.5106\n"
     ]
    },
    {
     "name": "stderr",
     "output_type": "stream",
     "text": [
      "Epoch 37/500: 100%|██████████| 1608/1608 [00:03<00:00, 533.84it/s]\n"
     ]
    },
    {
     "name": "stdout",
     "output_type": "stream",
     "text": [
      "Epoch [37/500], Train Loss: 0.4991\n",
      "Epoch [37/500], Valid Loss: 0.5106\n"
     ]
    },
    {
     "name": "stderr",
     "output_type": "stream",
     "text": [
      "Epoch 38/500: 100%|██████████| 1608/1608 [00:03<00:00, 533.07it/s]\n"
     ]
    },
    {
     "name": "stdout",
     "output_type": "stream",
     "text": [
      "Epoch [38/500], Train Loss: 0.4992\n",
      "Epoch [38/500], Valid Loss: 0.5106\n"
     ]
    },
    {
     "name": "stderr",
     "output_type": "stream",
     "text": [
      "Epoch 39/500: 100%|██████████| 1608/1608 [00:03<00:00, 527.86it/s]\n"
     ]
    },
    {
     "name": "stdout",
     "output_type": "stream",
     "text": [
      "Epoch [39/500], Train Loss: 0.4997\n",
      "Epoch [39/500], Valid Loss: 0.5106\n"
     ]
    },
    {
     "name": "stderr",
     "output_type": "stream",
     "text": [
      "Epoch 40/500: 100%|██████████| 1608/1608 [00:03<00:00, 529.56it/s]\n"
     ]
    },
    {
     "name": "stdout",
     "output_type": "stream",
     "text": [
      "Epoch [40/500], Train Loss: 0.4989\n",
      "Epoch [40/500], Valid Loss: 0.5106\n"
     ]
    },
    {
     "name": "stderr",
     "output_type": "stream",
     "text": [
      "Epoch 41/500: 100%|██████████| 1608/1608 [00:03<00:00, 530.88it/s]\n"
     ]
    },
    {
     "name": "stdout",
     "output_type": "stream",
     "text": [
      "Epoch [41/500], Train Loss: 0.4984\n",
      "Epoch [41/500], Valid Loss: 0.5106\n"
     ]
    },
    {
     "name": "stderr",
     "output_type": "stream",
     "text": [
      "Epoch 42/500: 100%|██████████| 1608/1608 [00:03<00:00, 527.19it/s]\n"
     ]
    },
    {
     "name": "stdout",
     "output_type": "stream",
     "text": [
      "Epoch [42/500], Train Loss: 0.4995\n",
      "Epoch [42/500], Valid Loss: 0.5106\n"
     ]
    },
    {
     "name": "stderr",
     "output_type": "stream",
     "text": [
      "Epoch 43/500: 100%|██████████| 1608/1608 [00:03<00:00, 519.14it/s]\n"
     ]
    },
    {
     "name": "stdout",
     "output_type": "stream",
     "text": [
      "Epoch [43/500], Train Loss: 0.4991\n",
      "Epoch [43/500], Valid Loss: 0.5106\n"
     ]
    },
    {
     "name": "stderr",
     "output_type": "stream",
     "text": [
      "Epoch 44/500: 100%|██████████| 1608/1608 [00:03<00:00, 524.64it/s]\n"
     ]
    },
    {
     "name": "stdout",
     "output_type": "stream",
     "text": [
      "Epoch [44/500], Train Loss: 0.4993\n",
      "Epoch [44/500], Valid Loss: 0.5106\n"
     ]
    },
    {
     "name": "stderr",
     "output_type": "stream",
     "text": [
      "Epoch 45/500: 100%|██████████| 1608/1608 [00:03<00:00, 518.11it/s]\n"
     ]
    },
    {
     "name": "stdout",
     "output_type": "stream",
     "text": [
      "Epoch [45/500], Train Loss: 0.4991\n",
      "Epoch [45/500], Valid Loss: 0.5106\n"
     ]
    },
    {
     "name": "stderr",
     "output_type": "stream",
     "text": [
      "Epoch 46/500: 100%|██████████| 1608/1608 [00:03<00:00, 496.45it/s]\n"
     ]
    },
    {
     "name": "stdout",
     "output_type": "stream",
     "text": [
      "Epoch [46/500], Train Loss: 0.4989\n",
      "Epoch [46/500], Valid Loss: 0.5106\n"
     ]
    },
    {
     "name": "stderr",
     "output_type": "stream",
     "text": [
      "Epoch 47/500: 100%|██████████| 1608/1608 [00:03<00:00, 505.01it/s]\n"
     ]
    },
    {
     "name": "stdout",
     "output_type": "stream",
     "text": [
      "Epoch [47/500], Train Loss: 0.4998\n",
      "Epoch [47/500], Valid Loss: 0.5106\n"
     ]
    },
    {
     "name": "stderr",
     "output_type": "stream",
     "text": [
      "Epoch 48/500: 100%|██████████| 1608/1608 [00:03<00:00, 493.66it/s]\n"
     ]
    },
    {
     "name": "stdout",
     "output_type": "stream",
     "text": [
      "Epoch [48/500], Train Loss: 0.4993\n",
      "Epoch [48/500], Valid Loss: 0.5106\n"
     ]
    },
    {
     "name": "stderr",
     "output_type": "stream",
     "text": [
      "Epoch 49/500: 100%|██████████| 1608/1608 [00:03<00:00, 511.50it/s]\n"
     ]
    },
    {
     "name": "stdout",
     "output_type": "stream",
     "text": [
      "Epoch [49/500], Train Loss: 0.4998\n",
      "Epoch [49/500], Valid Loss: 0.5106\n"
     ]
    },
    {
     "name": "stderr",
     "output_type": "stream",
     "text": [
      "Epoch 50/500: 100%|██████████| 1608/1608 [00:03<00:00, 502.56it/s]\n"
     ]
    },
    {
     "name": "stdout",
     "output_type": "stream",
     "text": [
      "Epoch [50/500], Train Loss: 0.4983\n",
      "Epoch [50/500], Valid Loss: 0.5106\n"
     ]
    },
    {
     "name": "stderr",
     "output_type": "stream",
     "text": [
      "Epoch 51/500: 100%|██████████| 1608/1608 [00:03<00:00, 516.66it/s]\n"
     ]
    },
    {
     "name": "stdout",
     "output_type": "stream",
     "text": [
      "Epoch [51/500], Train Loss: 0.4982\n",
      "Epoch [51/500], Valid Loss: 0.5106\n"
     ]
    },
    {
     "name": "stderr",
     "output_type": "stream",
     "text": [
      "Epoch 52/500: 100%|██████████| 1608/1608 [00:03<00:00, 526.39it/s]\n"
     ]
    },
    {
     "name": "stdout",
     "output_type": "stream",
     "text": [
      "Epoch [52/500], Train Loss: 0.4990\n",
      "Epoch [52/500], Valid Loss: 0.5106\n"
     ]
    },
    {
     "name": "stderr",
     "output_type": "stream",
     "text": [
      "Epoch 53/500: 100%|██████████| 1608/1608 [00:03<00:00, 519.79it/s]\n"
     ]
    },
    {
     "name": "stdout",
     "output_type": "stream",
     "text": [
      "Epoch [53/500], Train Loss: 0.5001\n",
      "Epoch [53/500], Valid Loss: 0.5106\n"
     ]
    },
    {
     "name": "stderr",
     "output_type": "stream",
     "text": [
      "Epoch 54/500: 100%|██████████| 1608/1608 [00:03<00:00, 531.88it/s]\n"
     ]
    },
    {
     "name": "stdout",
     "output_type": "stream",
     "text": [
      "Epoch [54/500], Train Loss: 0.4986\n",
      "Epoch [54/500], Valid Loss: 0.5106\n"
     ]
    },
    {
     "name": "stderr",
     "output_type": "stream",
     "text": [
      "Epoch 55/500: 100%|██████████| 1608/1608 [00:03<00:00, 529.68it/s]\n"
     ]
    },
    {
     "name": "stdout",
     "output_type": "stream",
     "text": [
      "Epoch [55/500], Train Loss: 0.4982\n",
      "Epoch [55/500], Valid Loss: 0.5106\n"
     ]
    },
    {
     "name": "stderr",
     "output_type": "stream",
     "text": [
      "Epoch 56/500: 100%|██████████| 1608/1608 [00:03<00:00, 530.27it/s]\n"
     ]
    },
    {
     "name": "stdout",
     "output_type": "stream",
     "text": [
      "Epoch [56/500], Train Loss: 0.5002\n",
      "Epoch [56/500], Valid Loss: 0.5106\n"
     ]
    },
    {
     "name": "stderr",
     "output_type": "stream",
     "text": [
      "Epoch 57/500: 100%|██████████| 1608/1608 [00:02<00:00, 536.20it/s]\n"
     ]
    },
    {
     "name": "stdout",
     "output_type": "stream",
     "text": [
      "Epoch [57/500], Train Loss: 0.4994\n",
      "Epoch [57/500], Valid Loss: 0.5106\n"
     ]
    },
    {
     "name": "stderr",
     "output_type": "stream",
     "text": [
      "Epoch 58/500: 100%|██████████| 1608/1608 [00:03<00:00, 532.00it/s]\n"
     ]
    },
    {
     "name": "stdout",
     "output_type": "stream",
     "text": [
      "Epoch [58/500], Train Loss: 0.4997\n",
      "Epoch [58/500], Valid Loss: 0.5106\n"
     ]
    },
    {
     "name": "stderr",
     "output_type": "stream",
     "text": [
      "Epoch 59/500: 100%|██████████| 1608/1608 [00:03<00:00, 527.57it/s]\n"
     ]
    },
    {
     "name": "stdout",
     "output_type": "stream",
     "text": [
      "Epoch [59/500], Train Loss: 0.4997\n",
      "Epoch [59/500], Valid Loss: 0.5106\n"
     ]
    },
    {
     "name": "stderr",
     "output_type": "stream",
     "text": [
      "Epoch 60/500: 100%|██████████| 1608/1608 [00:03<00:00, 531.65it/s]\n"
     ]
    },
    {
     "name": "stdout",
     "output_type": "stream",
     "text": [
      "Epoch [60/500], Train Loss: 0.4976\n",
      "Epoch [60/500], Valid Loss: 0.5106\n"
     ]
    },
    {
     "name": "stderr",
     "output_type": "stream",
     "text": [
      "Epoch 61/500: 100%|██████████| 1608/1608 [00:03<00:00, 531.16it/s]\n"
     ]
    },
    {
     "name": "stdout",
     "output_type": "stream",
     "text": [
      "Epoch [61/500], Train Loss: 0.4996\n",
      "Epoch [61/500], Valid Loss: 0.5106\n"
     ]
    },
    {
     "name": "stderr",
     "output_type": "stream",
     "text": [
      "Epoch 62/500: 100%|██████████| 1608/1608 [00:03<00:00, 532.01it/s]\n"
     ]
    },
    {
     "name": "stdout",
     "output_type": "stream",
     "text": [
      "Epoch [62/500], Train Loss: 0.4984\n",
      "Epoch [62/500], Valid Loss: 0.5106\n"
     ]
    },
    {
     "name": "stderr",
     "output_type": "stream",
     "text": [
      "Epoch 63/500: 100%|██████████| 1608/1608 [00:03<00:00, 530.20it/s]\n"
     ]
    },
    {
     "name": "stdout",
     "output_type": "stream",
     "text": [
      "Epoch [63/500], Train Loss: 0.4994\n",
      "Epoch [63/500], Valid Loss: 0.5106\n"
     ]
    },
    {
     "name": "stderr",
     "output_type": "stream",
     "text": [
      "Epoch 64/500: 100%|██████████| 1608/1608 [00:03<00:00, 530.91it/s]\n"
     ]
    },
    {
     "name": "stdout",
     "output_type": "stream",
     "text": [
      "Epoch [64/500], Train Loss: 0.4995\n",
      "Epoch [64/500], Valid Loss: 0.5106\n"
     ]
    },
    {
     "name": "stderr",
     "output_type": "stream",
     "text": [
      "Epoch 65/500: 100%|██████████| 1608/1608 [00:03<00:00, 533.09it/s]\n"
     ]
    },
    {
     "name": "stdout",
     "output_type": "stream",
     "text": [
      "Epoch [65/500], Train Loss: 0.4991\n",
      "Epoch [65/500], Valid Loss: 0.5106\n"
     ]
    },
    {
     "name": "stderr",
     "output_type": "stream",
     "text": [
      "Epoch 66/500: 100%|██████████| 1608/1608 [00:03<00:00, 528.33it/s]\n"
     ]
    },
    {
     "name": "stdout",
     "output_type": "stream",
     "text": [
      "Epoch [66/500], Train Loss: 0.4989\n",
      "Epoch [66/500], Valid Loss: 0.5106\n"
     ]
    },
    {
     "name": "stderr",
     "output_type": "stream",
     "text": [
      "Epoch 67/500: 100%|██████████| 1608/1608 [00:03<00:00, 525.00it/s]\n"
     ]
    },
    {
     "name": "stdout",
     "output_type": "stream",
     "text": [
      "Epoch [67/500], Train Loss: 0.4988\n",
      "Epoch [67/500], Valid Loss: 0.5106\n",
      "Early stopping\n",
      "best_fall_detection_gru_0001_mediapipe.pt 학습 시작\n",
      "\n",
      "==================== Training Configuration: GRU with input_config='mediapipe' and lr='0.0001' ====================\n",
      "\n",
      "현재 입력 크기 (마지막 차원): 22\n",
      "예상 입력 크기: 22\n"
     ]
    },
    {
     "name": "stderr",
     "output_type": "stream",
     "text": [
      "Epoch 1/500: 100%|██████████| 1608/1608 [00:03<00:00, 533.27it/s]\n"
     ]
    },
    {
     "name": "stdout",
     "output_type": "stream",
     "text": [
      "Epoch [1/500], Train Loss: 0.7495\n",
      "Epoch [1/500], Valid Loss: 0.6579\n"
     ]
    },
    {
     "name": "stderr",
     "output_type": "stream",
     "text": [
      "Epoch 2/500: 100%|██████████| 1608/1608 [00:03<00:00, 532.99it/s]\n"
     ]
    },
    {
     "name": "stdout",
     "output_type": "stream",
     "text": [
      "Epoch [2/500], Train Loss: 0.6320\n",
      "Epoch [2/500], Valid Loss: 0.5911\n"
     ]
    },
    {
     "name": "stderr",
     "output_type": "stream",
     "text": [
      "Epoch 3/500: 100%|██████████| 1608/1608 [00:03<00:00, 529.29it/s]\n"
     ]
    },
    {
     "name": "stdout",
     "output_type": "stream",
     "text": [
      "Epoch [3/500], Train Loss: 0.5783\n",
      "Epoch [3/500], Valid Loss: 0.5605\n"
     ]
    },
    {
     "name": "stderr",
     "output_type": "stream",
     "text": [
      "Epoch 4/500: 100%|██████████| 1608/1608 [00:03<00:00, 531.39it/s]\n"
     ]
    },
    {
     "name": "stdout",
     "output_type": "stream",
     "text": [
      "Epoch [4/500], Train Loss: 0.5456\n",
      "Epoch [4/500], Valid Loss: 0.5296\n"
     ]
    },
    {
     "name": "stderr",
     "output_type": "stream",
     "text": [
      "Epoch 5/500: 100%|██████████| 1608/1608 [00:03<00:00, 526.85it/s]\n"
     ]
    },
    {
     "name": "stdout",
     "output_type": "stream",
     "text": [
      "Epoch [5/500], Train Loss: 0.5243\n",
      "Epoch [5/500], Valid Loss: 0.5187\n"
     ]
    },
    {
     "name": "stderr",
     "output_type": "stream",
     "text": [
      "Epoch 6/500: 100%|██████████| 1608/1608 [00:03<00:00, 523.27it/s]\n"
     ]
    },
    {
     "name": "stdout",
     "output_type": "stream",
     "text": [
      "Epoch [6/500], Train Loss: 0.5085\n",
      "Epoch [6/500], Valid Loss: 0.5095\n"
     ]
    },
    {
     "name": "stderr",
     "output_type": "stream",
     "text": [
      "Epoch 7/500: 100%|██████████| 1608/1608 [00:03<00:00, 521.74it/s]\n"
     ]
    },
    {
     "name": "stdout",
     "output_type": "stream",
     "text": [
      "Epoch [7/500], Train Loss: 0.4998\n",
      "Epoch [7/500], Valid Loss: 0.4947\n"
     ]
    },
    {
     "name": "stderr",
     "output_type": "stream",
     "text": [
      "Epoch 8/500: 100%|██████████| 1608/1608 [00:03<00:00, 523.43it/s]\n"
     ]
    },
    {
     "name": "stdout",
     "output_type": "stream",
     "text": [
      "Epoch [8/500], Train Loss: 0.4907\n",
      "Epoch [8/500], Valid Loss: 0.4901\n"
     ]
    },
    {
     "name": "stderr",
     "output_type": "stream",
     "text": [
      "Epoch 9/500: 100%|██████████| 1608/1608 [00:03<00:00, 525.40it/s]\n"
     ]
    },
    {
     "name": "stdout",
     "output_type": "stream",
     "text": [
      "Epoch [9/500], Train Loss: 0.4852\n",
      "Epoch [9/500], Valid Loss: 0.4853\n"
     ]
    },
    {
     "name": "stderr",
     "output_type": "stream",
     "text": [
      "Epoch 10/500: 100%|██████████| 1608/1608 [00:03<00:00, 533.51it/s]\n"
     ]
    },
    {
     "name": "stdout",
     "output_type": "stream",
     "text": [
      "Epoch [10/500], Train Loss: 0.4802\n",
      "Epoch [10/500], Valid Loss: 0.4809\n"
     ]
    },
    {
     "name": "stderr",
     "output_type": "stream",
     "text": [
      "Epoch 11/500: 100%|██████████| 1608/1608 [00:03<00:00, 516.53it/s]\n"
     ]
    },
    {
     "name": "stdout",
     "output_type": "stream",
     "text": [
      "Epoch [11/500], Train Loss: 0.4744\n",
      "Epoch [11/500], Valid Loss: 0.4712\n"
     ]
    },
    {
     "name": "stderr",
     "output_type": "stream",
     "text": [
      "Epoch 12/500: 100%|██████████| 1608/1608 [00:03<00:00, 527.33it/s]\n"
     ]
    },
    {
     "name": "stdout",
     "output_type": "stream",
     "text": [
      "Epoch [12/500], Train Loss: 0.4703\n",
      "Epoch [12/500], Valid Loss: 0.4684\n"
     ]
    },
    {
     "name": "stderr",
     "output_type": "stream",
     "text": [
      "Epoch 13/500: 100%|██████████| 1608/1608 [00:03<00:00, 526.95it/s]\n"
     ]
    },
    {
     "name": "stdout",
     "output_type": "stream",
     "text": [
      "Epoch [13/500], Train Loss: 0.4670\n",
      "Epoch [13/500], Valid Loss: 0.4641\n"
     ]
    },
    {
     "name": "stderr",
     "output_type": "stream",
     "text": [
      "Epoch 14/500: 100%|██████████| 1608/1608 [00:03<00:00, 527.15it/s]\n"
     ]
    },
    {
     "name": "stdout",
     "output_type": "stream",
     "text": [
      "Epoch [14/500], Train Loss: 0.4597\n",
      "Epoch [14/500], Valid Loss: 0.4662\n"
     ]
    },
    {
     "name": "stderr",
     "output_type": "stream",
     "text": [
      "Epoch 15/500: 100%|██████████| 1608/1608 [00:03<00:00, 530.87it/s]\n"
     ]
    },
    {
     "name": "stdout",
     "output_type": "stream",
     "text": [
      "Epoch [15/500], Train Loss: 0.4570\n",
      "Epoch [15/500], Valid Loss: 0.4583\n"
     ]
    },
    {
     "name": "stderr",
     "output_type": "stream",
     "text": [
      "Epoch 16/500: 100%|██████████| 1608/1608 [00:03<00:00, 528.24it/s]\n"
     ]
    },
    {
     "name": "stdout",
     "output_type": "stream",
     "text": [
      "Epoch [16/500], Train Loss: 0.4519\n",
      "Epoch [16/500], Valid Loss: 0.4637\n"
     ]
    },
    {
     "name": "stderr",
     "output_type": "stream",
     "text": [
      "Epoch 17/500: 100%|██████████| 1608/1608 [00:03<00:00, 532.45it/s]\n"
     ]
    },
    {
     "name": "stdout",
     "output_type": "stream",
     "text": [
      "Epoch [17/500], Train Loss: 0.4479\n",
      "Epoch [17/500], Valid Loss: 0.4470\n"
     ]
    },
    {
     "name": "stderr",
     "output_type": "stream",
     "text": [
      "Epoch 18/500: 100%|██████████| 1608/1608 [00:03<00:00, 527.38it/s]\n"
     ]
    },
    {
     "name": "stdout",
     "output_type": "stream",
     "text": [
      "Epoch [18/500], Train Loss: 0.4405\n",
      "Epoch [18/500], Valid Loss: 0.4486\n"
     ]
    },
    {
     "name": "stderr",
     "output_type": "stream",
     "text": [
      "Epoch 19/500: 100%|██████████| 1608/1608 [00:03<00:00, 530.52it/s]\n"
     ]
    },
    {
     "name": "stdout",
     "output_type": "stream",
     "text": [
      "Epoch [19/500], Train Loss: 0.4401\n",
      "Epoch [19/500], Valid Loss: 0.4553\n"
     ]
    },
    {
     "name": "stderr",
     "output_type": "stream",
     "text": [
      "Epoch 20/500: 100%|██████████| 1608/1608 [00:03<00:00, 536.00it/s]\n"
     ]
    },
    {
     "name": "stdout",
     "output_type": "stream",
     "text": [
      "Epoch [20/500], Train Loss: 0.4363\n",
      "Epoch [20/500], Valid Loss: 0.4388\n"
     ]
    },
    {
     "name": "stderr",
     "output_type": "stream",
     "text": [
      "Epoch 21/500: 100%|██████████| 1608/1608 [00:03<00:00, 527.04it/s]\n"
     ]
    },
    {
     "name": "stdout",
     "output_type": "stream",
     "text": [
      "Epoch [21/500], Train Loss: 0.4319\n",
      "Epoch [21/500], Valid Loss: 0.4474\n"
     ]
    },
    {
     "name": "stderr",
     "output_type": "stream",
     "text": [
      "Epoch 22/500: 100%|██████████| 1608/1608 [00:03<00:00, 528.13it/s]\n"
     ]
    },
    {
     "name": "stdout",
     "output_type": "stream",
     "text": [
      "Epoch [22/500], Train Loss: 0.4301\n",
      "Epoch [22/500], Valid Loss: 0.4370\n"
     ]
    },
    {
     "name": "stderr",
     "output_type": "stream",
     "text": [
      "Epoch 23/500: 100%|██████████| 1608/1608 [00:03<00:00, 524.80it/s]\n"
     ]
    },
    {
     "name": "stdout",
     "output_type": "stream",
     "text": [
      "Epoch [23/500], Train Loss: 0.4247\n",
      "Epoch [23/500], Valid Loss: 0.4357\n"
     ]
    },
    {
     "name": "stderr",
     "output_type": "stream",
     "text": [
      "Epoch 24/500: 100%|██████████| 1608/1608 [00:03<00:00, 524.75it/s]\n"
     ]
    },
    {
     "name": "stdout",
     "output_type": "stream",
     "text": [
      "Epoch [24/500], Train Loss: 0.4221\n",
      "Epoch [24/500], Valid Loss: 0.4301\n"
     ]
    },
    {
     "name": "stderr",
     "output_type": "stream",
     "text": [
      "Epoch 25/500: 100%|██████████| 1608/1608 [00:03<00:00, 527.80it/s]\n"
     ]
    },
    {
     "name": "stdout",
     "output_type": "stream",
     "text": [
      "Epoch [25/500], Train Loss: 0.4190\n",
      "Epoch [25/500], Valid Loss: 0.4427\n"
     ]
    },
    {
     "name": "stderr",
     "output_type": "stream",
     "text": [
      "Epoch 26/500: 100%|██████████| 1608/1608 [00:03<00:00, 529.67it/s]\n"
     ]
    },
    {
     "name": "stdout",
     "output_type": "stream",
     "text": [
      "Epoch [26/500], Train Loss: 0.4178\n",
      "Epoch [26/500], Valid Loss: 0.4342\n"
     ]
    },
    {
     "name": "stderr",
     "output_type": "stream",
     "text": [
      "Epoch 27/500: 100%|██████████| 1608/1608 [00:03<00:00, 530.05it/s]\n"
     ]
    },
    {
     "name": "stdout",
     "output_type": "stream",
     "text": [
      "Epoch [27/500], Train Loss: 0.4157\n",
      "Epoch [27/500], Valid Loss: 0.4264\n"
     ]
    },
    {
     "name": "stderr",
     "output_type": "stream",
     "text": [
      "Epoch 28/500: 100%|██████████| 1608/1608 [00:03<00:00, 522.06it/s]\n"
     ]
    },
    {
     "name": "stdout",
     "output_type": "stream",
     "text": [
      "Epoch [28/500], Train Loss: 0.4114\n",
      "Epoch [28/500], Valid Loss: 0.4216\n"
     ]
    },
    {
     "name": "stderr",
     "output_type": "stream",
     "text": [
      "Epoch 29/500: 100%|██████████| 1608/1608 [00:03<00:00, 523.27it/s]\n"
     ]
    },
    {
     "name": "stdout",
     "output_type": "stream",
     "text": [
      "Epoch [29/500], Train Loss: 0.4102\n",
      "Epoch [29/500], Valid Loss: 0.4368\n"
     ]
    },
    {
     "name": "stderr",
     "output_type": "stream",
     "text": [
      "Epoch 30/500: 100%|██████████| 1608/1608 [00:03<00:00, 524.46it/s]\n"
     ]
    },
    {
     "name": "stdout",
     "output_type": "stream",
     "text": [
      "Epoch [30/500], Train Loss: 0.4064\n",
      "Epoch [30/500], Valid Loss: 0.4210\n"
     ]
    },
    {
     "name": "stderr",
     "output_type": "stream",
     "text": [
      "Epoch 31/500: 100%|██████████| 1608/1608 [00:03<00:00, 522.00it/s]\n"
     ]
    },
    {
     "name": "stdout",
     "output_type": "stream",
     "text": [
      "Epoch [31/500], Train Loss: 0.4026\n",
      "Epoch [31/500], Valid Loss: 0.4107\n"
     ]
    },
    {
     "name": "stderr",
     "output_type": "stream",
     "text": [
      "Epoch 32/500: 100%|██████████| 1608/1608 [00:03<00:00, 514.15it/s]\n"
     ]
    },
    {
     "name": "stdout",
     "output_type": "stream",
     "text": [
      "Epoch [32/500], Train Loss: 0.4012\n",
      "Epoch [32/500], Valid Loss: 0.4132\n"
     ]
    },
    {
     "name": "stderr",
     "output_type": "stream",
     "text": [
      "Epoch 33/500: 100%|██████████| 1608/1608 [00:03<00:00, 524.81it/s]\n"
     ]
    },
    {
     "name": "stdout",
     "output_type": "stream",
     "text": [
      "Epoch [33/500], Train Loss: 0.3985\n",
      "Epoch [33/500], Valid Loss: 0.4079\n"
     ]
    },
    {
     "name": "stderr",
     "output_type": "stream",
     "text": [
      "Epoch 34/500: 100%|██████████| 1608/1608 [00:03<00:00, 529.47it/s]\n"
     ]
    },
    {
     "name": "stdout",
     "output_type": "stream",
     "text": [
      "Epoch [34/500], Train Loss: 0.3963\n",
      "Epoch [34/500], Valid Loss: 0.4113\n"
     ]
    },
    {
     "name": "stderr",
     "output_type": "stream",
     "text": [
      "Epoch 35/500: 100%|██████████| 1608/1608 [00:03<00:00, 533.88it/s]\n"
     ]
    },
    {
     "name": "stdout",
     "output_type": "stream",
     "text": [
      "Epoch [35/500], Train Loss: 0.3948\n",
      "Epoch [35/500], Valid Loss: 0.4039\n"
     ]
    },
    {
     "name": "stderr",
     "output_type": "stream",
     "text": [
      "Epoch 36/500: 100%|██████████| 1608/1608 [00:03<00:00, 532.09it/s]\n"
     ]
    },
    {
     "name": "stdout",
     "output_type": "stream",
     "text": [
      "Epoch [36/500], Train Loss: 0.3899\n",
      "Epoch [36/500], Valid Loss: 0.4093\n"
     ]
    },
    {
     "name": "stderr",
     "output_type": "stream",
     "text": [
      "Epoch 37/500: 100%|██████████| 1608/1608 [00:03<00:00, 529.64it/s]\n"
     ]
    },
    {
     "name": "stdout",
     "output_type": "stream",
     "text": [
      "Epoch [37/500], Train Loss: 0.3877\n",
      "Epoch [37/500], Valid Loss: 0.3978\n"
     ]
    },
    {
     "name": "stderr",
     "output_type": "stream",
     "text": [
      "Epoch 38/500: 100%|██████████| 1608/1608 [00:03<00:00, 530.87it/s]\n"
     ]
    },
    {
     "name": "stdout",
     "output_type": "stream",
     "text": [
      "Epoch [38/500], Train Loss: 0.3856\n",
      "Epoch [38/500], Valid Loss: 0.3985\n"
     ]
    },
    {
     "name": "stderr",
     "output_type": "stream",
     "text": [
      "Epoch 39/500: 100%|██████████| 1608/1608 [00:03<00:00, 530.17it/s]\n"
     ]
    },
    {
     "name": "stdout",
     "output_type": "stream",
     "text": [
      "Epoch [39/500], Train Loss: 0.3832\n",
      "Epoch [39/500], Valid Loss: 0.4029\n"
     ]
    },
    {
     "name": "stderr",
     "output_type": "stream",
     "text": [
      "Epoch 40/500: 100%|██████████| 1608/1608 [00:03<00:00, 527.73it/s]\n"
     ]
    },
    {
     "name": "stdout",
     "output_type": "stream",
     "text": [
      "Epoch [40/500], Train Loss: 0.3802\n",
      "Epoch [40/500], Valid Loss: 0.4129\n"
     ]
    },
    {
     "name": "stderr",
     "output_type": "stream",
     "text": [
      "Epoch 41/500: 100%|██████████| 1608/1608 [00:03<00:00, 526.00it/s]\n"
     ]
    },
    {
     "name": "stdout",
     "output_type": "stream",
     "text": [
      "Epoch [41/500], Train Loss: 0.3779\n",
      "Epoch [41/500], Valid Loss: 0.3949\n"
     ]
    },
    {
     "name": "stderr",
     "output_type": "stream",
     "text": [
      "Epoch 42/500: 100%|██████████| 1608/1608 [00:03<00:00, 522.58it/s]\n"
     ]
    },
    {
     "name": "stdout",
     "output_type": "stream",
     "text": [
      "Epoch [42/500], Train Loss: 0.3738\n",
      "Epoch [42/500], Valid Loss: 0.3925\n"
     ]
    },
    {
     "name": "stderr",
     "output_type": "stream",
     "text": [
      "Epoch 43/500: 100%|██████████| 1608/1608 [00:03<00:00, 527.56it/s]\n"
     ]
    },
    {
     "name": "stdout",
     "output_type": "stream",
     "text": [
      "Epoch [43/500], Train Loss: 0.3737\n",
      "Epoch [43/500], Valid Loss: 0.3967\n"
     ]
    },
    {
     "name": "stderr",
     "output_type": "stream",
     "text": [
      "Epoch 44/500: 100%|██████████| 1608/1608 [00:03<00:00, 527.56it/s]\n"
     ]
    },
    {
     "name": "stdout",
     "output_type": "stream",
     "text": [
      "Epoch [44/500], Train Loss: 0.3697\n",
      "Epoch [44/500], Valid Loss: 0.3893\n"
     ]
    },
    {
     "name": "stderr",
     "output_type": "stream",
     "text": [
      "Epoch 45/500: 100%|██████████| 1608/1608 [00:03<00:00, 532.98it/s]\n"
     ]
    },
    {
     "name": "stdout",
     "output_type": "stream",
     "text": [
      "Epoch [45/500], Train Loss: 0.3680\n",
      "Epoch [45/500], Valid Loss: 0.3989\n"
     ]
    },
    {
     "name": "stderr",
     "output_type": "stream",
     "text": [
      "Epoch 46/500: 100%|██████████| 1608/1608 [00:03<00:00, 527.74it/s]\n"
     ]
    },
    {
     "name": "stdout",
     "output_type": "stream",
     "text": [
      "Epoch [46/500], Train Loss: 0.3647\n",
      "Epoch [46/500], Valid Loss: 0.3880\n"
     ]
    },
    {
     "name": "stderr",
     "output_type": "stream",
     "text": [
      "Epoch 47/500: 100%|██████████| 1608/1608 [00:03<00:00, 526.35it/s]\n"
     ]
    },
    {
     "name": "stdout",
     "output_type": "stream",
     "text": [
      "Epoch [47/500], Train Loss: 0.3642\n",
      "Epoch [47/500], Valid Loss: 0.3863\n"
     ]
    },
    {
     "name": "stderr",
     "output_type": "stream",
     "text": [
      "Epoch 48/500: 100%|██████████| 1608/1608 [00:03<00:00, 529.64it/s]\n"
     ]
    },
    {
     "name": "stdout",
     "output_type": "stream",
     "text": [
      "Epoch [48/500], Train Loss: 0.3612\n",
      "Epoch [48/500], Valid Loss: 0.3765\n"
     ]
    },
    {
     "name": "stderr",
     "output_type": "stream",
     "text": [
      "Epoch 49/500: 100%|██████████| 1608/1608 [00:03<00:00, 530.85it/s]\n"
     ]
    },
    {
     "name": "stdout",
     "output_type": "stream",
     "text": [
      "Epoch [49/500], Train Loss: 0.3566\n",
      "Epoch [49/500], Valid Loss: 0.3777\n"
     ]
    },
    {
     "name": "stderr",
     "output_type": "stream",
     "text": [
      "Epoch 50/500: 100%|██████████| 1608/1608 [00:03<00:00, 528.08it/s]\n"
     ]
    },
    {
     "name": "stdout",
     "output_type": "stream",
     "text": [
      "Epoch [50/500], Train Loss: 0.3546\n",
      "Epoch [50/500], Valid Loss: 0.3753\n"
     ]
    },
    {
     "name": "stderr",
     "output_type": "stream",
     "text": [
      "Epoch 51/500: 100%|██████████| 1608/1608 [00:03<00:00, 527.90it/s]\n"
     ]
    },
    {
     "name": "stdout",
     "output_type": "stream",
     "text": [
      "Epoch [51/500], Train Loss: 0.3526\n",
      "Epoch [51/500], Valid Loss: 0.3758\n"
     ]
    },
    {
     "name": "stderr",
     "output_type": "stream",
     "text": [
      "Epoch 52/500: 100%|██████████| 1608/1608 [00:03<00:00, 527.13it/s]\n"
     ]
    },
    {
     "name": "stdout",
     "output_type": "stream",
     "text": [
      "Epoch [52/500], Train Loss: 0.3511\n",
      "Epoch [52/500], Valid Loss: 0.3708\n"
     ]
    },
    {
     "name": "stderr",
     "output_type": "stream",
     "text": [
      "Epoch 53/500: 100%|██████████| 1608/1608 [00:03<00:00, 525.14it/s]\n"
     ]
    },
    {
     "name": "stdout",
     "output_type": "stream",
     "text": [
      "Epoch [53/500], Train Loss: 0.3479\n",
      "Epoch [53/500], Valid Loss: 0.3757\n"
     ]
    },
    {
     "name": "stderr",
     "output_type": "stream",
     "text": [
      "Epoch 54/500: 100%|██████████| 1608/1608 [00:03<00:00, 529.99it/s]\n"
     ]
    },
    {
     "name": "stdout",
     "output_type": "stream",
     "text": [
      "Epoch [54/500], Train Loss: 0.3456\n",
      "Epoch [54/500], Valid Loss: 0.3700\n"
     ]
    },
    {
     "name": "stderr",
     "output_type": "stream",
     "text": [
      "Epoch 55/500: 100%|██████████| 1608/1608 [00:03<00:00, 527.56it/s]\n"
     ]
    },
    {
     "name": "stdout",
     "output_type": "stream",
     "text": [
      "Epoch [55/500], Train Loss: 0.3449\n",
      "Epoch [55/500], Valid Loss: 0.3722\n"
     ]
    },
    {
     "name": "stderr",
     "output_type": "stream",
     "text": [
      "Epoch 56/500: 100%|██████████| 1608/1608 [00:03<00:00, 525.16it/s]\n"
     ]
    },
    {
     "name": "stdout",
     "output_type": "stream",
     "text": [
      "Epoch [56/500], Train Loss: 0.3412\n",
      "Epoch [56/500], Valid Loss: 0.3601\n"
     ]
    },
    {
     "name": "stderr",
     "output_type": "stream",
     "text": [
      "Epoch 57/500: 100%|██████████| 1608/1608 [00:03<00:00, 525.32it/s]\n"
     ]
    },
    {
     "name": "stdout",
     "output_type": "stream",
     "text": [
      "Epoch [57/500], Train Loss: 0.3412\n",
      "Epoch [57/500], Valid Loss: 0.3615\n"
     ]
    },
    {
     "name": "stderr",
     "output_type": "stream",
     "text": [
      "Epoch 58/500: 100%|██████████| 1608/1608 [00:03<00:00, 527.56it/s]\n"
     ]
    },
    {
     "name": "stdout",
     "output_type": "stream",
     "text": [
      "Epoch [58/500], Train Loss: 0.3365\n",
      "Epoch [58/500], Valid Loss: 0.3662\n"
     ]
    },
    {
     "name": "stderr",
     "output_type": "stream",
     "text": [
      "Epoch 59/500: 100%|██████████| 1608/1608 [00:03<00:00, 517.94it/s]\n"
     ]
    },
    {
     "name": "stdout",
     "output_type": "stream",
     "text": [
      "Epoch [59/500], Train Loss: 0.3338\n",
      "Epoch [59/500], Valid Loss: 0.3681\n"
     ]
    },
    {
     "name": "stderr",
     "output_type": "stream",
     "text": [
      "Epoch 60/500: 100%|██████████| 1608/1608 [00:03<00:00, 524.07it/s]\n"
     ]
    },
    {
     "name": "stdout",
     "output_type": "stream",
     "text": [
      "Epoch [60/500], Train Loss: 0.3313\n",
      "Epoch [60/500], Valid Loss: 0.3667\n"
     ]
    },
    {
     "name": "stderr",
     "output_type": "stream",
     "text": [
      "Epoch 61/500: 100%|██████████| 1608/1608 [00:03<00:00, 523.09it/s]\n"
     ]
    },
    {
     "name": "stdout",
     "output_type": "stream",
     "text": [
      "Epoch [61/500], Train Loss: 0.3310\n",
      "Epoch [61/500], Valid Loss: 0.3607\n"
     ]
    },
    {
     "name": "stderr",
     "output_type": "stream",
     "text": [
      "Epoch 62/500: 100%|██████████| 1608/1608 [00:03<00:00, 527.07it/s]\n"
     ]
    },
    {
     "name": "stdout",
     "output_type": "stream",
     "text": [
      "Epoch [62/500], Train Loss: 0.3278\n",
      "Epoch [62/500], Valid Loss: 0.3584\n"
     ]
    },
    {
     "name": "stderr",
     "output_type": "stream",
     "text": [
      "Epoch 63/500: 100%|██████████| 1608/1608 [00:03<00:00, 514.72it/s]\n"
     ]
    },
    {
     "name": "stdout",
     "output_type": "stream",
     "text": [
      "Epoch [63/500], Train Loss: 0.3262\n",
      "Epoch [63/500], Valid Loss: 0.3545\n"
     ]
    },
    {
     "name": "stderr",
     "output_type": "stream",
     "text": [
      "Epoch 64/500: 100%|██████████| 1608/1608 [00:03<00:00, 530.89it/s]\n"
     ]
    },
    {
     "name": "stdout",
     "output_type": "stream",
     "text": [
      "Epoch [64/500], Train Loss: 0.3241\n",
      "Epoch [64/500], Valid Loss: 0.3576\n"
     ]
    },
    {
     "name": "stderr",
     "output_type": "stream",
     "text": [
      "Epoch 65/500: 100%|██████████| 1608/1608 [00:03<00:00, 528.29it/s]\n"
     ]
    },
    {
     "name": "stdout",
     "output_type": "stream",
     "text": [
      "Epoch [65/500], Train Loss: 0.3227\n",
      "Epoch [65/500], Valid Loss: 0.3452\n"
     ]
    },
    {
     "name": "stderr",
     "output_type": "stream",
     "text": [
      "Epoch 66/500: 100%|██████████| 1608/1608 [00:03<00:00, 528.65it/s]\n"
     ]
    },
    {
     "name": "stdout",
     "output_type": "stream",
     "text": [
      "Epoch [66/500], Train Loss: 0.3194\n",
      "Epoch [66/500], Valid Loss: 0.3499\n"
     ]
    },
    {
     "name": "stderr",
     "output_type": "stream",
     "text": [
      "Epoch 67/500: 100%|██████████| 1608/1608 [00:03<00:00, 533.82it/s]\n"
     ]
    },
    {
     "name": "stdout",
     "output_type": "stream",
     "text": [
      "Epoch [67/500], Train Loss: 0.3170\n",
      "Epoch [67/500], Valid Loss: 0.3532\n"
     ]
    },
    {
     "name": "stderr",
     "output_type": "stream",
     "text": [
      "Epoch 68/500: 100%|██████████| 1608/1608 [00:03<00:00, 527.04it/s]\n"
     ]
    },
    {
     "name": "stdout",
     "output_type": "stream",
     "text": [
      "Epoch [68/500], Train Loss: 0.3157\n",
      "Epoch [68/500], Valid Loss: 0.3557\n"
     ]
    },
    {
     "name": "stderr",
     "output_type": "stream",
     "text": [
      "Epoch 69/500: 100%|██████████| 1608/1608 [00:03<00:00, 531.47it/s]\n"
     ]
    },
    {
     "name": "stdout",
     "output_type": "stream",
     "text": [
      "Epoch [69/500], Train Loss: 0.3130\n",
      "Epoch [69/500], Valid Loss: 0.3507\n"
     ]
    },
    {
     "name": "stderr",
     "output_type": "stream",
     "text": [
      "Epoch 70/500: 100%|██████████| 1608/1608 [00:03<00:00, 530.96it/s]\n"
     ]
    },
    {
     "name": "stdout",
     "output_type": "stream",
     "text": [
      "Epoch [70/500], Train Loss: 0.3129\n",
      "Epoch [70/500], Valid Loss: 0.3488\n"
     ]
    },
    {
     "name": "stderr",
     "output_type": "stream",
     "text": [
      "Epoch 71/500: 100%|██████████| 1608/1608 [00:03<00:00, 530.43it/s]\n"
     ]
    },
    {
     "name": "stdout",
     "output_type": "stream",
     "text": [
      "Epoch [71/500], Train Loss: 0.3080\n",
      "Epoch [71/500], Valid Loss: 0.3625\n"
     ]
    },
    {
     "name": "stderr",
     "output_type": "stream",
     "text": [
      "Epoch 72/500: 100%|██████████| 1608/1608 [00:03<00:00, 531.55it/s]\n"
     ]
    },
    {
     "name": "stdout",
     "output_type": "stream",
     "text": [
      "Epoch [72/500], Train Loss: 0.2963\n",
      "Epoch [72/500], Valid Loss: 0.3410\n"
     ]
    },
    {
     "name": "stderr",
     "output_type": "stream",
     "text": [
      "Epoch 73/500: 100%|██████████| 1608/1608 [00:03<00:00, 525.34it/s]\n"
     ]
    },
    {
     "name": "stdout",
     "output_type": "stream",
     "text": [
      "Epoch [73/500], Train Loss: 0.2928\n",
      "Epoch [73/500], Valid Loss: 0.3384\n"
     ]
    },
    {
     "name": "stderr",
     "output_type": "stream",
     "text": [
      "Epoch 74/500: 100%|██████████| 1608/1608 [00:03<00:00, 518.46it/s]\n"
     ]
    },
    {
     "name": "stdout",
     "output_type": "stream",
     "text": [
      "Epoch [74/500], Train Loss: 0.2923\n",
      "Epoch [74/500], Valid Loss: 0.3380\n"
     ]
    },
    {
     "name": "stderr",
     "output_type": "stream",
     "text": [
      "Epoch 75/500: 100%|██████████| 1608/1608 [00:03<00:00, 527.38it/s]\n"
     ]
    },
    {
     "name": "stdout",
     "output_type": "stream",
     "text": [
      "Epoch [75/500], Train Loss: 0.2912\n",
      "Epoch [75/500], Valid Loss: 0.3411\n"
     ]
    },
    {
     "name": "stderr",
     "output_type": "stream",
     "text": [
      "Epoch 76/500: 100%|██████████| 1608/1608 [00:03<00:00, 528.08it/s]\n"
     ]
    },
    {
     "name": "stdout",
     "output_type": "stream",
     "text": [
      "Epoch [76/500], Train Loss: 0.2929\n",
      "Epoch [76/500], Valid Loss: 0.3396\n"
     ]
    },
    {
     "name": "stderr",
     "output_type": "stream",
     "text": [
      "Epoch 77/500: 100%|██████████| 1608/1608 [00:03<00:00, 526.24it/s]\n"
     ]
    },
    {
     "name": "stdout",
     "output_type": "stream",
     "text": [
      "Epoch [77/500], Train Loss: 0.2911\n",
      "Epoch [77/500], Valid Loss: 0.3384\n"
     ]
    },
    {
     "name": "stderr",
     "output_type": "stream",
     "text": [
      "Epoch 78/500: 100%|██████████| 1608/1608 [00:03<00:00, 532.47it/s]\n"
     ]
    },
    {
     "name": "stdout",
     "output_type": "stream",
     "text": [
      "Epoch [78/500], Train Loss: 0.2915\n",
      "Epoch [78/500], Valid Loss: 0.3390\n"
     ]
    },
    {
     "name": "stderr",
     "output_type": "stream",
     "text": [
      "Epoch 79/500: 100%|██████████| 1608/1608 [00:03<00:00, 528.77it/s]\n"
     ]
    },
    {
     "name": "stdout",
     "output_type": "stream",
     "text": [
      "Epoch [79/500], Train Loss: 0.2906\n",
      "Epoch [79/500], Valid Loss: 0.3390\n"
     ]
    },
    {
     "name": "stderr",
     "output_type": "stream",
     "text": [
      "Epoch 80/500: 100%|██████████| 1608/1608 [00:03<00:00, 533.69it/s]\n"
     ]
    },
    {
     "name": "stdout",
     "output_type": "stream",
     "text": [
      "Epoch [80/500], Train Loss: 0.2914\n",
      "Epoch [80/500], Valid Loss: 0.3368\n"
     ]
    },
    {
     "name": "stderr",
     "output_type": "stream",
     "text": [
      "Epoch 81/500: 100%|██████████| 1608/1608 [00:03<00:00, 533.86it/s]\n"
     ]
    },
    {
     "name": "stdout",
     "output_type": "stream",
     "text": [
      "Epoch [81/500], Train Loss: 0.2902\n",
      "Epoch [81/500], Valid Loss: 0.3375\n"
     ]
    },
    {
     "name": "stderr",
     "output_type": "stream",
     "text": [
      "Epoch 82/500: 100%|██████████| 1608/1608 [00:03<00:00, 526.09it/s]\n"
     ]
    },
    {
     "name": "stdout",
     "output_type": "stream",
     "text": [
      "Epoch [82/500], Train Loss: 0.2902\n",
      "Epoch [82/500], Valid Loss: 0.3376\n"
     ]
    },
    {
     "name": "stderr",
     "output_type": "stream",
     "text": [
      "Epoch 83/500: 100%|██████████| 1608/1608 [00:03<00:00, 529.44it/s]\n"
     ]
    },
    {
     "name": "stdout",
     "output_type": "stream",
     "text": [
      "Epoch [83/500], Train Loss: 0.2894\n",
      "Epoch [83/500], Valid Loss: 0.3418\n"
     ]
    },
    {
     "name": "stderr",
     "output_type": "stream",
     "text": [
      "Epoch 84/500: 100%|██████████| 1608/1608 [00:03<00:00, 521.21it/s]\n"
     ]
    },
    {
     "name": "stdout",
     "output_type": "stream",
     "text": [
      "Epoch [84/500], Train Loss: 0.2910\n",
      "Epoch [84/500], Valid Loss: 0.3380\n"
     ]
    },
    {
     "name": "stderr",
     "output_type": "stream",
     "text": [
      "Epoch 85/500: 100%|██████████| 1608/1608 [00:03<00:00, 508.70it/s]\n"
     ]
    },
    {
     "name": "stdout",
     "output_type": "stream",
     "text": [
      "Epoch [85/500], Train Loss: 0.2894\n",
      "Epoch [85/500], Valid Loss: 0.3410\n"
     ]
    },
    {
     "name": "stderr",
     "output_type": "stream",
     "text": [
      "Epoch 86/500: 100%|██████████| 1608/1608 [00:03<00:00, 513.33it/s]\n"
     ]
    },
    {
     "name": "stdout",
     "output_type": "stream",
     "text": [
      "Epoch [86/500], Train Loss: 0.2883\n",
      "Epoch [86/500], Valid Loss: 0.3373\n"
     ]
    },
    {
     "name": "stderr",
     "output_type": "stream",
     "text": [
      "Epoch 87/500: 100%|██████████| 1608/1608 [00:03<00:00, 520.32it/s]\n"
     ]
    },
    {
     "name": "stdout",
     "output_type": "stream",
     "text": [
      "Epoch [87/500], Train Loss: 0.2870\n",
      "Epoch [87/500], Valid Loss: 0.3384\n"
     ]
    },
    {
     "name": "stderr",
     "output_type": "stream",
     "text": [
      "Epoch 88/500: 100%|██████████| 1608/1608 [00:03<00:00, 512.43it/s]\n"
     ]
    },
    {
     "name": "stdout",
     "output_type": "stream",
     "text": [
      "Epoch [88/500], Train Loss: 0.2870\n",
      "Epoch [88/500], Valid Loss: 0.3378\n"
     ]
    },
    {
     "name": "stderr",
     "output_type": "stream",
     "text": [
      "Epoch 89/500: 100%|██████████| 1608/1608 [00:03<00:00, 504.62it/s]\n"
     ]
    },
    {
     "name": "stdout",
     "output_type": "stream",
     "text": [
      "Epoch [89/500], Train Loss: 0.2877\n",
      "Epoch [89/500], Valid Loss: 0.3381\n"
     ]
    },
    {
     "name": "stderr",
     "output_type": "stream",
     "text": [
      "Epoch 90/500: 100%|██████████| 1608/1608 [00:03<00:00, 524.29it/s]\n"
     ]
    },
    {
     "name": "stdout",
     "output_type": "stream",
     "text": [
      "Epoch [90/500], Train Loss: 0.2871\n",
      "Epoch [90/500], Valid Loss: 0.3383\n"
     ]
    },
    {
     "name": "stderr",
     "output_type": "stream",
     "text": [
      "Epoch 91/500: 100%|██████████| 1608/1608 [00:03<00:00, 533.67it/s]\n"
     ]
    },
    {
     "name": "stdout",
     "output_type": "stream",
     "text": [
      "Epoch [91/500], Train Loss: 0.2867\n",
      "Epoch [91/500], Valid Loss: 0.3384\n"
     ]
    },
    {
     "name": "stderr",
     "output_type": "stream",
     "text": [
      "Epoch 92/500: 100%|██████████| 1608/1608 [00:02<00:00, 538.44it/s]\n"
     ]
    },
    {
     "name": "stdout",
     "output_type": "stream",
     "text": [
      "Epoch [92/500], Train Loss: 0.2869\n",
      "Epoch [92/500], Valid Loss: 0.3380\n"
     ]
    },
    {
     "name": "stderr",
     "output_type": "stream",
     "text": [
      "Epoch 93/500: 100%|██████████| 1608/1608 [00:03<00:00, 500.54it/s]\n"
     ]
    },
    {
     "name": "stdout",
     "output_type": "stream",
     "text": [
      "Epoch [93/500], Train Loss: 0.2870\n",
      "Epoch [93/500], Valid Loss: 0.3381\n"
     ]
    },
    {
     "name": "stderr",
     "output_type": "stream",
     "text": [
      "Epoch 94/500: 100%|██████████| 1608/1608 [00:03<00:00, 515.40it/s]\n"
     ]
    },
    {
     "name": "stdout",
     "output_type": "stream",
     "text": [
      "Epoch [94/500], Train Loss: 0.2864\n",
      "Epoch [94/500], Valid Loss: 0.3381\n"
     ]
    },
    {
     "name": "stderr",
     "output_type": "stream",
     "text": [
      "Epoch 95/500: 100%|██████████| 1608/1608 [00:03<00:00, 516.38it/s]\n"
     ]
    },
    {
     "name": "stdout",
     "output_type": "stream",
     "text": [
      "Epoch [95/500], Train Loss: 0.2865\n",
      "Epoch [95/500], Valid Loss: 0.3381\n"
     ]
    },
    {
     "name": "stderr",
     "output_type": "stream",
     "text": [
      "Epoch 96/500: 100%|██████████| 1608/1608 [00:03<00:00, 488.02it/s]\n"
     ]
    },
    {
     "name": "stdout",
     "output_type": "stream",
     "text": [
      "Epoch [96/500], Train Loss: 0.2868\n",
      "Epoch [96/500], Valid Loss: 0.3381\n"
     ]
    },
    {
     "name": "stderr",
     "output_type": "stream",
     "text": [
      "Epoch 97/500: 100%|██████████| 1608/1608 [00:03<00:00, 501.85it/s]\n"
     ]
    },
    {
     "name": "stdout",
     "output_type": "stream",
     "text": [
      "Epoch [97/500], Train Loss: 0.2857\n",
      "Epoch [97/500], Valid Loss: 0.3381\n"
     ]
    },
    {
     "name": "stderr",
     "output_type": "stream",
     "text": [
      "Epoch 98/500: 100%|██████████| 1608/1608 [00:03<00:00, 511.86it/s]\n"
     ]
    },
    {
     "name": "stdout",
     "output_type": "stream",
     "text": [
      "Epoch [98/500], Train Loss: 0.2868\n",
      "Epoch [98/500], Valid Loss: 0.3381\n"
     ]
    },
    {
     "name": "stderr",
     "output_type": "stream",
     "text": [
      "Epoch 99/500: 100%|██████████| 1608/1608 [00:03<00:00, 496.89it/s]\n"
     ]
    },
    {
     "name": "stdout",
     "output_type": "stream",
     "text": [
      "Epoch [99/500], Train Loss: 0.2861\n",
      "Epoch [99/500], Valid Loss: 0.3381\n"
     ]
    },
    {
     "name": "stderr",
     "output_type": "stream",
     "text": [
      "Epoch 100/500: 100%|██████████| 1608/1608 [00:03<00:00, 509.00it/s]\n"
     ]
    },
    {
     "name": "stdout",
     "output_type": "stream",
     "text": [
      "Epoch [100/500], Train Loss: 0.2873\n",
      "Epoch [100/500], Valid Loss: 0.3381\n"
     ]
    },
    {
     "name": "stderr",
     "output_type": "stream",
     "text": [
      "Epoch 101/500: 100%|██████████| 1608/1608 [00:03<00:00, 523.73it/s]\n"
     ]
    },
    {
     "name": "stdout",
     "output_type": "stream",
     "text": [
      "Epoch [101/500], Train Loss: 0.2873\n",
      "Epoch [101/500], Valid Loss: 0.3381\n"
     ]
    },
    {
     "name": "stderr",
     "output_type": "stream",
     "text": [
      "Epoch 102/500: 100%|██████████| 1608/1608 [00:03<00:00, 509.25it/s]\n"
     ]
    },
    {
     "name": "stdout",
     "output_type": "stream",
     "text": [
      "Epoch [102/500], Train Loss: 0.2877\n",
      "Epoch [102/500], Valid Loss: 0.3381\n"
     ]
    },
    {
     "name": "stderr",
     "output_type": "stream",
     "text": [
      "Epoch 103/500: 100%|██████████| 1608/1608 [00:03<00:00, 499.95it/s]\n"
     ]
    },
    {
     "name": "stdout",
     "output_type": "stream",
     "text": [
      "Epoch [103/500], Train Loss: 0.2871\n",
      "Epoch [103/500], Valid Loss: 0.3381\n"
     ]
    },
    {
     "name": "stderr",
     "output_type": "stream",
     "text": [
      "Epoch 104/500: 100%|██████████| 1608/1608 [00:03<00:00, 491.52it/s]\n"
     ]
    },
    {
     "name": "stdout",
     "output_type": "stream",
     "text": [
      "Epoch [104/500], Train Loss: 0.2865\n",
      "Epoch [104/500], Valid Loss: 0.3381\n"
     ]
    },
    {
     "name": "stderr",
     "output_type": "stream",
     "text": [
      "Epoch 105/500: 100%|██████████| 1608/1608 [00:03<00:00, 506.33it/s]\n"
     ]
    },
    {
     "name": "stdout",
     "output_type": "stream",
     "text": [
      "Epoch [105/500], Train Loss: 0.2878\n",
      "Epoch [105/500], Valid Loss: 0.3381\n"
     ]
    },
    {
     "name": "stderr",
     "output_type": "stream",
     "text": [
      "Epoch 106/500: 100%|██████████| 1608/1608 [00:03<00:00, 510.18it/s]\n"
     ]
    },
    {
     "name": "stdout",
     "output_type": "stream",
     "text": [
      "Epoch [106/500], Train Loss: 0.2872\n",
      "Epoch [106/500], Valid Loss: 0.3381\n"
     ]
    },
    {
     "name": "stderr",
     "output_type": "stream",
     "text": [
      "Epoch 107/500: 100%|██████████| 1608/1608 [00:03<00:00, 511.61it/s]\n"
     ]
    },
    {
     "name": "stdout",
     "output_type": "stream",
     "text": [
      "Epoch [107/500], Train Loss: 0.2864\n",
      "Epoch [107/500], Valid Loss: 0.3381\n"
     ]
    },
    {
     "name": "stderr",
     "output_type": "stream",
     "text": [
      "Epoch 108/500: 100%|██████████| 1608/1608 [00:03<00:00, 492.68it/s]\n"
     ]
    },
    {
     "name": "stdout",
     "output_type": "stream",
     "text": [
      "Epoch [108/500], Train Loss: 0.2872\n",
      "Epoch [108/500], Valid Loss: 0.3381\n"
     ]
    },
    {
     "name": "stderr",
     "output_type": "stream",
     "text": [
      "Epoch 109/500: 100%|██████████| 1608/1608 [00:03<00:00, 513.18it/s]\n"
     ]
    },
    {
     "name": "stdout",
     "output_type": "stream",
     "text": [
      "Epoch [109/500], Train Loss: 0.2861\n",
      "Epoch [109/500], Valid Loss: 0.3381\n"
     ]
    },
    {
     "name": "stderr",
     "output_type": "stream",
     "text": [
      "Epoch 110/500: 100%|██████████| 1608/1608 [00:03<00:00, 523.06it/s]\n"
     ]
    },
    {
     "name": "stdout",
     "output_type": "stream",
     "text": [
      "Epoch [110/500], Train Loss: 0.2863\n",
      "Epoch [110/500], Valid Loss: 0.3381\n"
     ]
    },
    {
     "name": "stderr",
     "output_type": "stream",
     "text": [
      "Epoch 111/500: 100%|██████████| 1608/1608 [00:03<00:00, 531.82it/s]\n"
     ]
    },
    {
     "name": "stdout",
     "output_type": "stream",
     "text": [
      "Epoch [111/500], Train Loss: 0.2868\n",
      "Epoch [111/500], Valid Loss: 0.3381\n"
     ]
    },
    {
     "name": "stderr",
     "output_type": "stream",
     "text": [
      "Epoch 112/500: 100%|██████████| 1608/1608 [00:02<00:00, 538.33it/s]\n"
     ]
    },
    {
     "name": "stdout",
     "output_type": "stream",
     "text": [
      "Epoch [112/500], Train Loss: 0.2874\n",
      "Epoch [112/500], Valid Loss: 0.3381\n"
     ]
    },
    {
     "name": "stderr",
     "output_type": "stream",
     "text": [
      "Epoch 113/500: 100%|██████████| 1608/1608 [00:03<00:00, 532.66it/s]\n"
     ]
    },
    {
     "name": "stdout",
     "output_type": "stream",
     "text": [
      "Epoch [113/500], Train Loss: 0.2857\n",
      "Epoch [113/500], Valid Loss: 0.3381\n"
     ]
    },
    {
     "name": "stderr",
     "output_type": "stream",
     "text": [
      "Epoch 114/500: 100%|██████████| 1608/1608 [00:03<00:00, 533.01it/s]\n"
     ]
    },
    {
     "name": "stdout",
     "output_type": "stream",
     "text": [
      "Epoch [114/500], Train Loss: 0.2862\n",
      "Epoch [114/500], Valid Loss: 0.3380\n"
     ]
    },
    {
     "name": "stderr",
     "output_type": "stream",
     "text": [
      "Epoch 115/500: 100%|██████████| 1608/1608 [00:02<00:00, 537.71it/s]\n"
     ]
    },
    {
     "name": "stdout",
     "output_type": "stream",
     "text": [
      "Epoch [115/500], Train Loss: 0.2875\n",
      "Epoch [115/500], Valid Loss: 0.3380\n"
     ]
    },
    {
     "name": "stderr",
     "output_type": "stream",
     "text": [
      "Epoch 116/500: 100%|██████████| 1608/1608 [00:03<00:00, 529.80it/s]\n"
     ]
    },
    {
     "name": "stdout",
     "output_type": "stream",
     "text": [
      "Epoch [116/500], Train Loss: 0.2873\n",
      "Epoch [116/500], Valid Loss: 0.3380\n"
     ]
    },
    {
     "name": "stderr",
     "output_type": "stream",
     "text": [
      "Epoch 117/500: 100%|██████████| 1608/1608 [00:02<00:00, 537.61it/s]\n"
     ]
    },
    {
     "name": "stdout",
     "output_type": "stream",
     "text": [
      "Epoch [117/500], Train Loss: 0.2855\n",
      "Epoch [117/500], Valid Loss: 0.3380\n"
     ]
    },
    {
     "name": "stderr",
     "output_type": "stream",
     "text": [
      "Epoch 118/500: 100%|██████████| 1608/1608 [00:03<00:00, 533.74it/s]\n"
     ]
    },
    {
     "name": "stdout",
     "output_type": "stream",
     "text": [
      "Epoch [118/500], Train Loss: 0.2863\n",
      "Epoch [118/500], Valid Loss: 0.3380\n"
     ]
    },
    {
     "name": "stderr",
     "output_type": "stream",
     "text": [
      "Epoch 119/500: 100%|██████████| 1608/1608 [00:03<00:00, 532.59it/s]\n"
     ]
    },
    {
     "name": "stdout",
     "output_type": "stream",
     "text": [
      "Epoch [119/500], Train Loss: 0.2856\n",
      "Epoch [119/500], Valid Loss: 0.3380\n"
     ]
    },
    {
     "name": "stderr",
     "output_type": "stream",
     "text": [
      "Epoch 120/500: 100%|██████████| 1608/1608 [00:03<00:00, 535.09it/s]\n"
     ]
    },
    {
     "name": "stdout",
     "output_type": "stream",
     "text": [
      "Epoch [120/500], Train Loss: 0.2866\n",
      "Epoch [120/500], Valid Loss: 0.3380\n"
     ]
    },
    {
     "name": "stderr",
     "output_type": "stream",
     "text": [
      "Epoch 121/500: 100%|██████████| 1608/1608 [00:03<00:00, 523.98it/s]\n"
     ]
    },
    {
     "name": "stdout",
     "output_type": "stream",
     "text": [
      "Epoch [121/500], Train Loss: 0.2872\n",
      "Epoch [121/500], Valid Loss: 0.3380\n"
     ]
    },
    {
     "name": "stderr",
     "output_type": "stream",
     "text": [
      "Epoch 122/500: 100%|██████████| 1608/1608 [00:03<00:00, 534.72it/s]\n"
     ]
    },
    {
     "name": "stdout",
     "output_type": "stream",
     "text": [
      "Epoch [122/500], Train Loss: 0.2861\n",
      "Epoch [122/500], Valid Loss: 0.3380\n"
     ]
    },
    {
     "name": "stderr",
     "output_type": "stream",
     "text": [
      "Epoch 123/500: 100%|██████████| 1608/1608 [00:03<00:00, 534.52it/s]\n"
     ]
    },
    {
     "name": "stdout",
     "output_type": "stream",
     "text": [
      "Epoch [123/500], Train Loss: 0.2859\n",
      "Epoch [123/500], Valid Loss: 0.3380\n"
     ]
    },
    {
     "name": "stderr",
     "output_type": "stream",
     "text": [
      "Epoch 124/500: 100%|██████████| 1608/1608 [00:03<00:00, 529.64it/s]\n"
     ]
    },
    {
     "name": "stdout",
     "output_type": "stream",
     "text": [
      "Epoch [124/500], Train Loss: 0.2856\n",
      "Epoch [124/500], Valid Loss: 0.3380\n"
     ]
    },
    {
     "name": "stderr",
     "output_type": "stream",
     "text": [
      "Epoch 125/500: 100%|██████████| 1608/1608 [00:03<00:00, 535.67it/s]\n"
     ]
    },
    {
     "name": "stdout",
     "output_type": "stream",
     "text": [
      "Epoch [125/500], Train Loss: 0.2876\n",
      "Epoch [125/500], Valid Loss: 0.3380\n"
     ]
    },
    {
     "name": "stderr",
     "output_type": "stream",
     "text": [
      "Epoch 126/500: 100%|██████████| 1608/1608 [00:03<00:00, 530.84it/s]\n"
     ]
    },
    {
     "name": "stdout",
     "output_type": "stream",
     "text": [
      "Epoch [126/500], Train Loss: 0.2864\n",
      "Epoch [126/500], Valid Loss: 0.3380\n"
     ]
    },
    {
     "name": "stderr",
     "output_type": "stream",
     "text": [
      "Epoch 127/500: 100%|██████████| 1608/1608 [00:03<00:00, 527.66it/s]\n"
     ]
    },
    {
     "name": "stdout",
     "output_type": "stream",
     "text": [
      "Epoch [127/500], Train Loss: 0.2865\n",
      "Epoch [127/500], Valid Loss: 0.3380\n"
     ]
    },
    {
     "name": "stderr",
     "output_type": "stream",
     "text": [
      "Epoch 128/500: 100%|██████████| 1608/1608 [00:03<00:00, 529.22it/s]\n"
     ]
    },
    {
     "name": "stdout",
     "output_type": "stream",
     "text": [
      "Epoch [128/500], Train Loss: 0.2866\n",
      "Epoch [128/500], Valid Loss: 0.3380\n"
     ]
    },
    {
     "name": "stderr",
     "output_type": "stream",
     "text": [
      "Epoch 129/500: 100%|██████████| 1608/1608 [00:03<00:00, 524.80it/s]\n"
     ]
    },
    {
     "name": "stdout",
     "output_type": "stream",
     "text": [
      "Epoch [129/500], Train Loss: 0.2876\n",
      "Epoch [129/500], Valid Loss: 0.3380\n"
     ]
    },
    {
     "name": "stderr",
     "output_type": "stream",
     "text": [
      "Epoch 130/500: 100%|██████████| 1608/1608 [00:03<00:00, 526.28it/s]\n"
     ]
    },
    {
     "name": "stdout",
     "output_type": "stream",
     "text": [
      "Epoch [130/500], Train Loss: 0.2854\n",
      "Epoch [130/500], Valid Loss: 0.3380\n",
      "Early stopping\n"
     ]
    }
   ],
   "source": [
    "# 학습 루프\n",
    "for train_loader, valid_loader, model_name, dataset, lr in [\n",
    "    (train_loader_full, valid_loader_full, 'best_fall_detection_gru_001_full.pt', train_full_dataset, 0.001),\n",
    "    (train_loader_full, valid_loader_full, 'best_fall_detection_gru_0001_full.pt', train_full_dataset, 0.0001),\n",
    "    (train_loader_simplified, valid_loader_simplified, 'best_fall_detection_gru_0001_simplified.pt', train_simplified_dataset, 0.0001),\n",
    "    (train_loader_mediapipe, valid_loader_mediapipe, 'best_fall_detection_gru_0001_mediapipe.pt', train_mediapipe_dataset, 0.0001)\n",
    "]:\n",
    "    # 모델을 새로 생성\n",
    "    model = create_model_for_dataset(dataset)\n",
    "    model.to(device)\n",
    "\n",
    "    # 옵티마이저와 스케줄러 설정\n",
    "    optimizer = torch.optim.Adam(model.parameters(), lr=lr, weight_decay=1e-5)\n",
    "    scheduler = torch.optim.lr_scheduler.ReduceLROnPlateau(optimizer, mode='min', factor=0.1, patience=5)\n",
    "\n",
    "    # 각 학습 설정별 초기화\n",
    "    best_loss = float('inf')\n",
    "    no_improve = 0\n",
    "    \n",
    "    print(f\"{model_name} 학습 시작\", flush=True)\n",
    "    print(\"\\n\" + \"=\" * 20 + f\" Training Configuration: GRU with input_config='{model_name[:-3].split('_')[-1]}' and lr='{optimizer.param_groups[0]['lr']}' \" + \"=\" * 20 + \"\\n\")\n",
    "\n",
    "    # 입력 크기 체크 (훈련 시작 시 1회만 출력)\n",
    "    sequences, labels = next(iter(train_loader))\n",
    "    print(f'현재 입력 크기 (마지막 차원): {sequences.size(-1)}')\n",
    "    print(f'예상 입력 크기: {model.gru.input_size}')\n",
    "\n",
    "    for epoch in range(num_epochs):\n",
    "        model.train()\n",
    "        total_loss_train = 0\n",
    "\n",
    "        for sequences, labels in tqdm(train_loader, desc=f\"Epoch {epoch + 1}/{num_epochs}\"):\n",
    "            sequences, labels = sequences.to(device), labels.to(device)\n",
    "\n",
    "            optimizer.zero_grad()\n",
    "            outputs = model(sequences)\n",
    "            loss_train = criterion(outputs, labels.view(-1))\n",
    "            loss_train.backward()\n",
    "            optimizer.step()\n",
    "            \n",
    "            total_loss_train += loss_train.item()\n",
    "\n",
    "        avg_loss_train = total_loss_train / len(train_loader)\n",
    "        print(f'Epoch [{epoch + 1}/{num_epochs}], Train Loss: {avg_loss_train:.4f}')\n",
    "\n",
    "        # 검증 데이터셋 평가\n",
    "        model.eval()\n",
    "        total_loss_valid = 0\n",
    "        with torch.no_grad():\n",
    "            for sequences, labels in valid_loader:\n",
    "                sequences, labels = sequences.to(device), labels.to(device)\n",
    "                outputs = model(sequences)\n",
    "                loss_valid = criterion(outputs, labels.view(-1))\n",
    "                total_loss_valid += loss_valid.item()\n",
    "\n",
    "        avg_loss_valid = total_loss_valid / len(valid_loader)\n",
    "        print(f'Epoch [{epoch + 1}/{num_epochs}], Valid Loss: {avg_loss_valid:.4f}')\n",
    "\n",
    "        # 학습률 조정 스케줄러 업데이트\n",
    "        scheduler.step(avg_loss_valid)\n",
    "\n",
    "        # 최상의 모델 저장\n",
    "        if avg_loss_valid < best_loss:\n",
    "            best_loss = avg_loss_valid\n",
    "            no_improve = 0\n",
    "            torch.save(model.state_dict(), f'{pt_path}\\\\{model_name}')\n",
    "        else:\n",
    "            no_improve += 1\n",
    "\n",
    "        if no_improve >= patience:\n",
    "            print(\"Early stopping\")\n",
    "            break"
   ]
  },
  {
   "cell_type": "code",
   "execution_count": 31,
   "id": "ddab0d9a",
   "metadata": {},
   "outputs": [
    {
     "name": "stdout",
     "output_type": "stream",
     "text": [
      "best_fall_detection_gru_001_simplified.pt 학습 시작\n",
      "\n",
      "==================== Training Configuration: GRU with input_config='simplified' and lr='0.001' ====================\n",
      "\n",
      "현재 입력 크기 (마지막 차원): 3\n",
      "예상 입력 크기: 3\n"
     ]
    },
    {
     "name": "stderr",
     "output_type": "stream",
     "text": [
      "Epoch 1/500: 100%|██████████| 1608/1608 [00:02<00:00, 545.05it/s]\n"
     ]
    },
    {
     "name": "stdout",
     "output_type": "stream",
     "text": [
      "Epoch [1/500], Train Loss: 0.5247\n",
      "Epoch [1/500], Valid Loss: 0.5185\n"
     ]
    },
    {
     "name": "stderr",
     "output_type": "stream",
     "text": [
      "Epoch 2/500: 100%|██████████| 1608/1608 [00:03<00:00, 530.56it/s]\n"
     ]
    },
    {
     "name": "stdout",
     "output_type": "stream",
     "text": [
      "Epoch [2/500], Train Loss: 0.5109\n",
      "Epoch [2/500], Valid Loss: 0.5199\n"
     ]
    },
    {
     "name": "stderr",
     "output_type": "stream",
     "text": [
      "Epoch 3/500: 100%|██████████| 1608/1608 [00:03<00:00, 529.16it/s]\n"
     ]
    },
    {
     "name": "stdout",
     "output_type": "stream",
     "text": [
      "Epoch [3/500], Train Loss: 0.5085\n",
      "Epoch [3/500], Valid Loss: 0.5109\n"
     ]
    },
    {
     "name": "stderr",
     "output_type": "stream",
     "text": [
      "Epoch 4/500: 100%|██████████| 1608/1608 [00:03<00:00, 511.34it/s]\n"
     ]
    },
    {
     "name": "stdout",
     "output_type": "stream",
     "text": [
      "Epoch [4/500], Train Loss: 0.5069\n",
      "Epoch [4/500], Valid Loss: 0.5408\n"
     ]
    },
    {
     "name": "stderr",
     "output_type": "stream",
     "text": [
      "Epoch 5/500: 100%|██████████| 1608/1608 [00:03<00:00, 523.91it/s]\n"
     ]
    },
    {
     "name": "stdout",
     "output_type": "stream",
     "text": [
      "Epoch [5/500], Train Loss: 0.5059\n",
      "Epoch [5/500], Valid Loss: 0.5230\n"
     ]
    },
    {
     "name": "stderr",
     "output_type": "stream",
     "text": [
      "Epoch 6/500: 100%|██████████| 1608/1608 [00:03<00:00, 524.40it/s]\n"
     ]
    },
    {
     "name": "stdout",
     "output_type": "stream",
     "text": [
      "Epoch [6/500], Train Loss: 0.5075\n",
      "Epoch [6/500], Valid Loss: 0.5165\n"
     ]
    },
    {
     "name": "stderr",
     "output_type": "stream",
     "text": [
      "Epoch 7/500: 100%|██████████| 1608/1608 [00:03<00:00, 517.37it/s]\n"
     ]
    },
    {
     "name": "stdout",
     "output_type": "stream",
     "text": [
      "Epoch [7/500], Train Loss: 0.5040\n",
      "Epoch [7/500], Valid Loss: 0.5168\n"
     ]
    },
    {
     "name": "stderr",
     "output_type": "stream",
     "text": [
      "Epoch 8/500: 100%|██████████| 1608/1608 [00:03<00:00, 516.78it/s]\n"
     ]
    },
    {
     "name": "stdout",
     "output_type": "stream",
     "text": [
      "Epoch [8/500], Train Loss: 0.5036\n",
      "Epoch [8/500], Valid Loss: 0.5104\n"
     ]
    },
    {
     "name": "stderr",
     "output_type": "stream",
     "text": [
      "Epoch 9/500: 100%|██████████| 1608/1608 [00:03<00:00, 535.74it/s]\n"
     ]
    },
    {
     "name": "stdout",
     "output_type": "stream",
     "text": [
      "Epoch [9/500], Train Loss: 0.5032\n",
      "Epoch [9/500], Valid Loss: 0.5182\n"
     ]
    },
    {
     "name": "stderr",
     "output_type": "stream",
     "text": [
      "Epoch 10/500: 100%|██████████| 1608/1608 [00:03<00:00, 535.46it/s]\n"
     ]
    },
    {
     "name": "stdout",
     "output_type": "stream",
     "text": [
      "Epoch [10/500], Train Loss: 0.5047\n",
      "Epoch [10/500], Valid Loss: 0.5120\n"
     ]
    },
    {
     "name": "stderr",
     "output_type": "stream",
     "text": [
      "Epoch 11/500: 100%|██████████| 1608/1608 [00:03<00:00, 523.90it/s]\n"
     ]
    },
    {
     "name": "stdout",
     "output_type": "stream",
     "text": [
      "Epoch [11/500], Train Loss: 0.5028\n",
      "Epoch [11/500], Valid Loss: 0.5145\n"
     ]
    },
    {
     "name": "stderr",
     "output_type": "stream",
     "text": [
      "Epoch 12/500: 100%|██████████| 1608/1608 [00:03<00:00, 532.04it/s]\n"
     ]
    },
    {
     "name": "stdout",
     "output_type": "stream",
     "text": [
      "Epoch [12/500], Train Loss: 0.5027\n",
      "Epoch [12/500], Valid Loss: 0.5165\n"
     ]
    },
    {
     "name": "stderr",
     "output_type": "stream",
     "text": [
      "Epoch 13/500: 100%|██████████| 1608/1608 [00:03<00:00, 533.09it/s]\n"
     ]
    },
    {
     "name": "stdout",
     "output_type": "stream",
     "text": [
      "Epoch [13/500], Train Loss: 0.5029\n",
      "Epoch [13/500], Valid Loss: 0.5113\n"
     ]
    },
    {
     "name": "stderr",
     "output_type": "stream",
     "text": [
      "Epoch 14/500: 100%|██████████| 1608/1608 [00:03<00:00, 519.98it/s]\n"
     ]
    },
    {
     "name": "stdout",
     "output_type": "stream",
     "text": [
      "Epoch [14/500], Train Loss: 0.5015\n",
      "Epoch [14/500], Valid Loss: 0.5074\n"
     ]
    },
    {
     "name": "stderr",
     "output_type": "stream",
     "text": [
      "Epoch 15/500: 100%|██████████| 1608/1608 [00:03<00:00, 532.38it/s]\n"
     ]
    },
    {
     "name": "stdout",
     "output_type": "stream",
     "text": [
      "Epoch [15/500], Train Loss: 0.5021\n",
      "Epoch [15/500], Valid Loss: 0.5150\n"
     ]
    },
    {
     "name": "stderr",
     "output_type": "stream",
     "text": [
      "Epoch 16/500: 100%|██████████| 1608/1608 [00:03<00:00, 528.36it/s]\n"
     ]
    },
    {
     "name": "stdout",
     "output_type": "stream",
     "text": [
      "Epoch [16/500], Train Loss: 0.5020\n",
      "Epoch [16/500], Valid Loss: 0.5134\n"
     ]
    },
    {
     "name": "stderr",
     "output_type": "stream",
     "text": [
      "Epoch 17/500: 100%|██████████| 1608/1608 [00:03<00:00, 528.64it/s]\n"
     ]
    },
    {
     "name": "stdout",
     "output_type": "stream",
     "text": [
      "Epoch [17/500], Train Loss: 0.5011\n",
      "Epoch [17/500], Valid Loss: 0.5105\n"
     ]
    },
    {
     "name": "stderr",
     "output_type": "stream",
     "text": [
      "Epoch 18/500: 100%|██████████| 1608/1608 [00:03<00:00, 533.25it/s]\n"
     ]
    },
    {
     "name": "stdout",
     "output_type": "stream",
     "text": [
      "Epoch [18/500], Train Loss: 0.5013\n",
      "Epoch [18/500], Valid Loss: 0.5126\n"
     ]
    },
    {
     "name": "stderr",
     "output_type": "stream",
     "text": [
      "Epoch 19/500: 100%|██████████| 1608/1608 [00:03<00:00, 530.92it/s]\n"
     ]
    },
    {
     "name": "stdout",
     "output_type": "stream",
     "text": [
      "Epoch [19/500], Train Loss: 0.5001\n",
      "Epoch [19/500], Valid Loss: 0.5092\n"
     ]
    },
    {
     "name": "stderr",
     "output_type": "stream",
     "text": [
      "Epoch 20/500: 100%|██████████| 1608/1608 [00:03<00:00, 531.27it/s]\n"
     ]
    },
    {
     "name": "stdout",
     "output_type": "stream",
     "text": [
      "Epoch [20/500], Train Loss: 0.5025\n",
      "Epoch [20/500], Valid Loss: 0.5088\n"
     ]
    },
    {
     "name": "stderr",
     "output_type": "stream",
     "text": [
      "Epoch 21/500: 100%|██████████| 1608/1608 [00:03<00:00, 521.04it/s]\n"
     ]
    },
    {
     "name": "stdout",
     "output_type": "stream",
     "text": [
      "Epoch [21/500], Train Loss: 0.4958\n",
      "Epoch [21/500], Valid Loss: 0.5069\n"
     ]
    },
    {
     "name": "stderr",
     "output_type": "stream",
     "text": [
      "Epoch 22/500: 100%|██████████| 1608/1608 [00:03<00:00, 502.50it/s]\n"
     ]
    },
    {
     "name": "stdout",
     "output_type": "stream",
     "text": [
      "Epoch [22/500], Train Loss: 0.4956\n",
      "Epoch [22/500], Valid Loss: 0.5098\n"
     ]
    },
    {
     "name": "stderr",
     "output_type": "stream",
     "text": [
      "Epoch 23/500: 100%|██████████| 1608/1608 [00:03<00:00, 505.94it/s]\n"
     ]
    },
    {
     "name": "stdout",
     "output_type": "stream",
     "text": [
      "Epoch [23/500], Train Loss: 0.4971\n",
      "Epoch [23/500], Valid Loss: 0.5079\n"
     ]
    },
    {
     "name": "stderr",
     "output_type": "stream",
     "text": [
      "Epoch 24/500: 100%|██████████| 1608/1608 [00:03<00:00, 504.70it/s]\n"
     ]
    },
    {
     "name": "stdout",
     "output_type": "stream",
     "text": [
      "Epoch [24/500], Train Loss: 0.4967\n",
      "Epoch [24/500], Valid Loss: 0.5062\n"
     ]
    },
    {
     "name": "stderr",
     "output_type": "stream",
     "text": [
      "Epoch 25/500: 100%|██████████| 1608/1608 [00:03<00:00, 531.74it/s]\n"
     ]
    },
    {
     "name": "stdout",
     "output_type": "stream",
     "text": [
      "Epoch [25/500], Train Loss: 0.4959\n",
      "Epoch [25/500], Valid Loss: 0.5059\n"
     ]
    },
    {
     "name": "stderr",
     "output_type": "stream",
     "text": [
      "Epoch 26/500: 100%|██████████| 1608/1608 [00:03<00:00, 521.74it/s]\n"
     ]
    },
    {
     "name": "stdout",
     "output_type": "stream",
     "text": [
      "Epoch [26/500], Train Loss: 0.4954\n",
      "Epoch [26/500], Valid Loss: 0.5063\n"
     ]
    },
    {
     "name": "stderr",
     "output_type": "stream",
     "text": [
      "Epoch 27/500: 100%|██████████| 1608/1608 [00:03<00:00, 487.28it/s]\n"
     ]
    },
    {
     "name": "stdout",
     "output_type": "stream",
     "text": [
      "Epoch [27/500], Train Loss: 0.4960\n",
      "Epoch [27/500], Valid Loss: 0.5072\n"
     ]
    },
    {
     "name": "stderr",
     "output_type": "stream",
     "text": [
      "Epoch 28/500: 100%|██████████| 1608/1608 [00:03<00:00, 513.70it/s]\n"
     ]
    },
    {
     "name": "stdout",
     "output_type": "stream",
     "text": [
      "Epoch [28/500], Train Loss: 0.4962\n",
      "Epoch [28/500], Valid Loss: 0.5069\n"
     ]
    },
    {
     "name": "stderr",
     "output_type": "stream",
     "text": [
      "Epoch 29/500: 100%|██████████| 1608/1608 [00:03<00:00, 504.39it/s]\n"
     ]
    },
    {
     "name": "stdout",
     "output_type": "stream",
     "text": [
      "Epoch [29/500], Train Loss: 0.4957\n",
      "Epoch [29/500], Valid Loss: 0.5070\n"
     ]
    },
    {
     "name": "stderr",
     "output_type": "stream",
     "text": [
      "Epoch 30/500: 100%|██████████| 1608/1608 [00:03<00:00, 522.57it/s]\n"
     ]
    },
    {
     "name": "stdout",
     "output_type": "stream",
     "text": [
      "Epoch [30/500], Train Loss: 0.4955\n",
      "Epoch [30/500], Valid Loss: 0.5064\n"
     ]
    },
    {
     "name": "stderr",
     "output_type": "stream",
     "text": [
      "Epoch 31/500: 100%|██████████| 1608/1608 [00:03<00:00, 525.14it/s]\n"
     ]
    },
    {
     "name": "stdout",
     "output_type": "stream",
     "text": [
      "Epoch [31/500], Train Loss: 0.4955\n",
      "Epoch [31/500], Valid Loss: 0.5071\n"
     ]
    },
    {
     "name": "stderr",
     "output_type": "stream",
     "text": [
      "Epoch 32/500: 100%|██████████| 1608/1608 [00:03<00:00, 518.88it/s]\n"
     ]
    },
    {
     "name": "stdout",
     "output_type": "stream",
     "text": [
      "Epoch [32/500], Train Loss: 0.4956\n",
      "Epoch [32/500], Valid Loss: 0.5067\n"
     ]
    },
    {
     "name": "stderr",
     "output_type": "stream",
     "text": [
      "Epoch 33/500: 100%|██████████| 1608/1608 [00:03<00:00, 529.99it/s]\n"
     ]
    },
    {
     "name": "stdout",
     "output_type": "stream",
     "text": [
      "Epoch [33/500], Train Loss: 0.4957\n",
      "Epoch [33/500], Valid Loss: 0.5067\n"
     ]
    },
    {
     "name": "stderr",
     "output_type": "stream",
     "text": [
      "Epoch 34/500: 100%|██████████| 1608/1608 [00:03<00:00, 534.04it/s]\n"
     ]
    },
    {
     "name": "stdout",
     "output_type": "stream",
     "text": [
      "Epoch [34/500], Train Loss: 0.4944\n",
      "Epoch [34/500], Valid Loss: 0.5067\n"
     ]
    },
    {
     "name": "stderr",
     "output_type": "stream",
     "text": [
      "Epoch 35/500: 100%|██████████| 1608/1608 [00:03<00:00, 535.64it/s]\n"
     ]
    },
    {
     "name": "stdout",
     "output_type": "stream",
     "text": [
      "Epoch [35/500], Train Loss: 0.4950\n",
      "Epoch [35/500], Valid Loss: 0.5067\n"
     ]
    },
    {
     "name": "stderr",
     "output_type": "stream",
     "text": [
      "Epoch 36/500: 100%|██████████| 1608/1608 [00:03<00:00, 528.42it/s]\n"
     ]
    },
    {
     "name": "stdout",
     "output_type": "stream",
     "text": [
      "Epoch [36/500], Train Loss: 0.4961\n",
      "Epoch [36/500], Valid Loss: 0.5067\n"
     ]
    },
    {
     "name": "stderr",
     "output_type": "stream",
     "text": [
      "Epoch 37/500: 100%|██████████| 1608/1608 [00:03<00:00, 530.34it/s]\n"
     ]
    },
    {
     "name": "stdout",
     "output_type": "stream",
     "text": [
      "Epoch [37/500], Train Loss: 0.4968\n",
      "Epoch [37/500], Valid Loss: 0.5066\n"
     ]
    },
    {
     "name": "stderr",
     "output_type": "stream",
     "text": [
      "Epoch 38/500: 100%|██████████| 1608/1608 [00:03<00:00, 529.99it/s]\n"
     ]
    },
    {
     "name": "stdout",
     "output_type": "stream",
     "text": [
      "Epoch [38/500], Train Loss: 0.4961\n",
      "Epoch [38/500], Valid Loss: 0.5066\n"
     ]
    },
    {
     "name": "stderr",
     "output_type": "stream",
     "text": [
      "Epoch 39/500: 100%|██████████| 1608/1608 [00:03<00:00, 524.46it/s]\n"
     ]
    },
    {
     "name": "stdout",
     "output_type": "stream",
     "text": [
      "Epoch [39/500], Train Loss: 0.4961\n",
      "Epoch [39/500], Valid Loss: 0.5066\n"
     ]
    },
    {
     "name": "stderr",
     "output_type": "stream",
     "text": [
      "Epoch 40/500: 100%|██████████| 1608/1608 [00:03<00:00, 521.37it/s]\n"
     ]
    },
    {
     "name": "stdout",
     "output_type": "stream",
     "text": [
      "Epoch [40/500], Train Loss: 0.4952\n",
      "Epoch [40/500], Valid Loss: 0.5066\n"
     ]
    },
    {
     "name": "stderr",
     "output_type": "stream",
     "text": [
      "Epoch 41/500: 100%|██████████| 1608/1608 [00:03<00:00, 524.63it/s]\n"
     ]
    },
    {
     "name": "stdout",
     "output_type": "stream",
     "text": [
      "Epoch [41/500], Train Loss: 0.4960\n",
      "Epoch [41/500], Valid Loss: 0.5066\n"
     ]
    },
    {
     "name": "stderr",
     "output_type": "stream",
     "text": [
      "Epoch 42/500: 100%|██████████| 1608/1608 [00:03<00:00, 525.83it/s]\n"
     ]
    },
    {
     "name": "stdout",
     "output_type": "stream",
     "text": [
      "Epoch [42/500], Train Loss: 0.4950\n",
      "Epoch [42/500], Valid Loss: 0.5066\n"
     ]
    },
    {
     "name": "stderr",
     "output_type": "stream",
     "text": [
      "Epoch 43/500: 100%|██████████| 1608/1608 [00:03<00:00, 534.75it/s]\n"
     ]
    },
    {
     "name": "stdout",
     "output_type": "stream",
     "text": [
      "Epoch [43/500], Train Loss: 0.4956\n",
      "Epoch [43/500], Valid Loss: 0.5067\n"
     ]
    },
    {
     "name": "stderr",
     "output_type": "stream",
     "text": [
      "Epoch 44/500: 100%|██████████| 1608/1608 [00:03<00:00, 529.99it/s]\n"
     ]
    },
    {
     "name": "stdout",
     "output_type": "stream",
     "text": [
      "Epoch [44/500], Train Loss: 0.4966\n",
      "Epoch [44/500], Valid Loss: 0.5067\n"
     ]
    },
    {
     "name": "stderr",
     "output_type": "stream",
     "text": [
      "Epoch 45/500: 100%|██████████| 1608/1608 [00:03<00:00, 529.38it/s]\n"
     ]
    },
    {
     "name": "stdout",
     "output_type": "stream",
     "text": [
      "Epoch [45/500], Train Loss: 0.4950\n",
      "Epoch [45/500], Valid Loss: 0.5067\n"
     ]
    },
    {
     "name": "stderr",
     "output_type": "stream",
     "text": [
      "Epoch 46/500: 100%|██████████| 1608/1608 [00:03<00:00, 534.57it/s]\n"
     ]
    },
    {
     "name": "stdout",
     "output_type": "stream",
     "text": [
      "Epoch [46/500], Train Loss: 0.4952\n",
      "Epoch [46/500], Valid Loss: 0.5067\n"
     ]
    },
    {
     "name": "stderr",
     "output_type": "stream",
     "text": [
      "Epoch 47/500: 100%|██████████| 1608/1608 [00:03<00:00, 530.69it/s]\n"
     ]
    },
    {
     "name": "stdout",
     "output_type": "stream",
     "text": [
      "Epoch [47/500], Train Loss: 0.4955\n",
      "Epoch [47/500], Valid Loss: 0.5067\n"
     ]
    },
    {
     "name": "stderr",
     "output_type": "stream",
     "text": [
      "Epoch 48/500: 100%|██████████| 1608/1608 [00:03<00:00, 531.04it/s]\n"
     ]
    },
    {
     "name": "stdout",
     "output_type": "stream",
     "text": [
      "Epoch [48/500], Train Loss: 0.4943\n",
      "Epoch [48/500], Valid Loss: 0.5067\n"
     ]
    },
    {
     "name": "stderr",
     "output_type": "stream",
     "text": [
      "Epoch 49/500: 100%|██████████| 1608/1608 [00:03<00:00, 531.04it/s]\n"
     ]
    },
    {
     "name": "stdout",
     "output_type": "stream",
     "text": [
      "Epoch [49/500], Train Loss: 0.4949\n",
      "Epoch [49/500], Valid Loss: 0.5067\n"
     ]
    },
    {
     "name": "stderr",
     "output_type": "stream",
     "text": [
      "Epoch 50/500: 100%|██████████| 1608/1608 [00:03<00:00, 525.66it/s]\n"
     ]
    },
    {
     "name": "stdout",
     "output_type": "stream",
     "text": [
      "Epoch [50/500], Train Loss: 0.4958\n",
      "Epoch [50/500], Valid Loss: 0.5067\n"
     ]
    },
    {
     "name": "stderr",
     "output_type": "stream",
     "text": [
      "Epoch 51/500: 100%|██████████| 1608/1608 [00:03<00:00, 527.90it/s]\n"
     ]
    },
    {
     "name": "stdout",
     "output_type": "stream",
     "text": [
      "Epoch [51/500], Train Loss: 0.4952\n",
      "Epoch [51/500], Valid Loss: 0.5067\n"
     ]
    },
    {
     "name": "stderr",
     "output_type": "stream",
     "text": [
      "Epoch 52/500: 100%|██████████| 1608/1608 [00:03<00:00, 517.71it/s]\n"
     ]
    },
    {
     "name": "stdout",
     "output_type": "stream",
     "text": [
      "Epoch [52/500], Train Loss: 0.4964\n",
      "Epoch [52/500], Valid Loss: 0.5067\n"
     ]
    },
    {
     "name": "stderr",
     "output_type": "stream",
     "text": [
      "Epoch 53/500: 100%|██████████| 1608/1608 [00:03<00:00, 530.34it/s]\n"
     ]
    },
    {
     "name": "stdout",
     "output_type": "stream",
     "text": [
      "Epoch [53/500], Train Loss: 0.4950\n",
      "Epoch [53/500], Valid Loss: 0.5067\n"
     ]
    },
    {
     "name": "stderr",
     "output_type": "stream",
     "text": [
      "Epoch 54/500: 100%|██████████| 1608/1608 [00:03<00:00, 529.82it/s]\n"
     ]
    },
    {
     "name": "stdout",
     "output_type": "stream",
     "text": [
      "Epoch [54/500], Train Loss: 0.4947\n",
      "Epoch [54/500], Valid Loss: 0.5067\n"
     ]
    },
    {
     "name": "stderr",
     "output_type": "stream",
     "text": [
      "Epoch 55/500: 100%|██████████| 1608/1608 [00:03<00:00, 524.74it/s]\n"
     ]
    },
    {
     "name": "stdout",
     "output_type": "stream",
     "text": [
      "Epoch [55/500], Train Loss: 0.4966\n",
      "Epoch [55/500], Valid Loss: 0.5067\n"
     ]
    },
    {
     "name": "stderr",
     "output_type": "stream",
     "text": [
      "Epoch 56/500: 100%|██████████| 1608/1608 [00:03<00:00, 528.86it/s]\n"
     ]
    },
    {
     "name": "stdout",
     "output_type": "stream",
     "text": [
      "Epoch [56/500], Train Loss: 0.4955\n",
      "Epoch [56/500], Valid Loss: 0.5067\n"
     ]
    },
    {
     "name": "stderr",
     "output_type": "stream",
     "text": [
      "Epoch 57/500: 100%|██████████| 1608/1608 [00:03<00:00, 525.49it/s]\n"
     ]
    },
    {
     "name": "stdout",
     "output_type": "stream",
     "text": [
      "Epoch [57/500], Train Loss: 0.4949\n",
      "Epoch [57/500], Valid Loss: 0.5067\n"
     ]
    },
    {
     "name": "stderr",
     "output_type": "stream",
     "text": [
      "Epoch 58/500: 100%|██████████| 1608/1608 [00:03<00:00, 522.78it/s]\n"
     ]
    },
    {
     "name": "stdout",
     "output_type": "stream",
     "text": [
      "Epoch [58/500], Train Loss: 0.4982\n",
      "Epoch [58/500], Valid Loss: 0.5067\n"
     ]
    },
    {
     "name": "stderr",
     "output_type": "stream",
     "text": [
      "Epoch 59/500: 100%|██████████| 1608/1608 [00:03<00:00, 523.10it/s]\n"
     ]
    },
    {
     "name": "stdout",
     "output_type": "stream",
     "text": [
      "Epoch [59/500], Train Loss: 0.4948\n",
      "Epoch [59/500], Valid Loss: 0.5067\n"
     ]
    },
    {
     "name": "stderr",
     "output_type": "stream",
     "text": [
      "Epoch 60/500: 100%|██████████| 1608/1608 [00:03<00:00, 529.47it/s]\n"
     ]
    },
    {
     "name": "stdout",
     "output_type": "stream",
     "text": [
      "Epoch [60/500], Train Loss: 0.4947\n",
      "Epoch [60/500], Valid Loss: 0.5067\n"
     ]
    },
    {
     "name": "stderr",
     "output_type": "stream",
     "text": [
      "Epoch 61/500: 100%|██████████| 1608/1608 [00:03<00:00, 521.57it/s]\n"
     ]
    },
    {
     "name": "stdout",
     "output_type": "stream",
     "text": [
      "Epoch [61/500], Train Loss: 0.4960\n",
      "Epoch [61/500], Valid Loss: 0.5067\n"
     ]
    },
    {
     "name": "stderr",
     "output_type": "stream",
     "text": [
      "Epoch 62/500: 100%|██████████| 1608/1608 [00:03<00:00, 515.05it/s]\n"
     ]
    },
    {
     "name": "stdout",
     "output_type": "stream",
     "text": [
      "Epoch [62/500], Train Loss: 0.4944\n",
      "Epoch [62/500], Valid Loss: 0.5067\n"
     ]
    },
    {
     "name": "stderr",
     "output_type": "stream",
     "text": [
      "Epoch 63/500: 100%|██████████| 1608/1608 [00:03<00:00, 529.64it/s]\n"
     ]
    },
    {
     "name": "stdout",
     "output_type": "stream",
     "text": [
      "Epoch [63/500], Train Loss: 0.4953\n",
      "Epoch [63/500], Valid Loss: 0.5067\n"
     ]
    },
    {
     "name": "stderr",
     "output_type": "stream",
     "text": [
      "Epoch 64/500: 100%|██████████| 1608/1608 [00:03<00:00, 520.89it/s]\n"
     ]
    },
    {
     "name": "stdout",
     "output_type": "stream",
     "text": [
      "Epoch [64/500], Train Loss: 0.4962\n",
      "Epoch [64/500], Valid Loss: 0.5067\n"
     ]
    },
    {
     "name": "stderr",
     "output_type": "stream",
     "text": [
      "Epoch 65/500: 100%|██████████| 1608/1608 [00:03<00:00, 529.47it/s]\n"
     ]
    },
    {
     "name": "stdout",
     "output_type": "stream",
     "text": [
      "Epoch [65/500], Train Loss: 0.4959\n",
      "Epoch [65/500], Valid Loss: 0.5067\n"
     ]
    },
    {
     "name": "stderr",
     "output_type": "stream",
     "text": [
      "Epoch 66/500: 100%|██████████| 1608/1608 [00:03<00:00, 525.29it/s]\n"
     ]
    },
    {
     "name": "stdout",
     "output_type": "stream",
     "text": [
      "Epoch [66/500], Train Loss: 0.4948\n",
      "Epoch [66/500], Valid Loss: 0.5067\n"
     ]
    },
    {
     "name": "stderr",
     "output_type": "stream",
     "text": [
      "Epoch 67/500: 100%|██████████| 1608/1608 [00:03<00:00, 532.98it/s]\n"
     ]
    },
    {
     "name": "stdout",
     "output_type": "stream",
     "text": [
      "Epoch [67/500], Train Loss: 0.4951\n",
      "Epoch [67/500], Valid Loss: 0.5067\n"
     ]
    },
    {
     "name": "stderr",
     "output_type": "stream",
     "text": [
      "Epoch 68/500: 100%|██████████| 1608/1608 [00:03<00:00, 532.18it/s]\n"
     ]
    },
    {
     "name": "stdout",
     "output_type": "stream",
     "text": [
      "Epoch [68/500], Train Loss: 0.4953\n",
      "Epoch [68/500], Valid Loss: 0.5067\n"
     ]
    },
    {
     "name": "stderr",
     "output_type": "stream",
     "text": [
      "Epoch 69/500: 100%|██████████| 1608/1608 [00:03<00:00, 522.41it/s]\n"
     ]
    },
    {
     "name": "stdout",
     "output_type": "stream",
     "text": [
      "Epoch [69/500], Train Loss: 0.4967\n",
      "Epoch [69/500], Valid Loss: 0.5067\n"
     ]
    },
    {
     "name": "stderr",
     "output_type": "stream",
     "text": [
      "Epoch 70/500: 100%|██████████| 1608/1608 [00:03<00:00, 526.09it/s]\n"
     ]
    },
    {
     "name": "stdout",
     "output_type": "stream",
     "text": [
      "Epoch [70/500], Train Loss: 0.4955\n",
      "Epoch [70/500], Valid Loss: 0.5067\n"
     ]
    },
    {
     "name": "stderr",
     "output_type": "stream",
     "text": [
      "Epoch 71/500: 100%|██████████| 1608/1608 [00:03<00:00, 525.49it/s]\n"
     ]
    },
    {
     "name": "stdout",
     "output_type": "stream",
     "text": [
      "Epoch [71/500], Train Loss: 0.4958\n",
      "Epoch [71/500], Valid Loss: 0.5067\n"
     ]
    },
    {
     "name": "stderr",
     "output_type": "stream",
     "text": [
      "Epoch 72/500: 100%|██████████| 1608/1608 [00:03<00:00, 519.38it/s]\n"
     ]
    },
    {
     "name": "stdout",
     "output_type": "stream",
     "text": [
      "Epoch [72/500], Train Loss: 0.4947\n",
      "Epoch [72/500], Valid Loss: 0.5067\n"
     ]
    },
    {
     "name": "stderr",
     "output_type": "stream",
     "text": [
      "Epoch 73/500: 100%|██████████| 1608/1608 [00:03<00:00, 528.60it/s]\n"
     ]
    },
    {
     "name": "stdout",
     "output_type": "stream",
     "text": [
      "Epoch [73/500], Train Loss: 0.4948\n",
      "Epoch [73/500], Valid Loss: 0.5067\n"
     ]
    },
    {
     "name": "stderr",
     "output_type": "stream",
     "text": [
      "Epoch 74/500: 100%|██████████| 1608/1608 [00:03<00:00, 525.32it/s]\n"
     ]
    },
    {
     "name": "stdout",
     "output_type": "stream",
     "text": [
      "Epoch [74/500], Train Loss: 0.4949\n",
      "Epoch [74/500], Valid Loss: 0.5067\n"
     ]
    },
    {
     "name": "stderr",
     "output_type": "stream",
     "text": [
      "Epoch 75/500: 100%|██████████| 1608/1608 [00:03<00:00, 525.74it/s]\n"
     ]
    },
    {
     "name": "stdout",
     "output_type": "stream",
     "text": [
      "Epoch [75/500], Train Loss: 0.4951\n",
      "Epoch [75/500], Valid Loss: 0.5067\n",
      "Early stopping\n",
      "best_fall_detection_gru_001_mediapipe.pt 학습 시작\n",
      "\n",
      "==================== Training Configuration: GRU with input_config='mediapipe' and lr='0.001' ====================\n",
      "\n",
      "현재 입력 크기 (마지막 차원): 22\n",
      "예상 입력 크기: 22\n"
     ]
    },
    {
     "name": "stderr",
     "output_type": "stream",
     "text": [
      "Epoch 1/500: 100%|██████████| 1608/1608 [00:03<00:00, 524.63it/s]\n"
     ]
    },
    {
     "name": "stdout",
     "output_type": "stream",
     "text": [
      "Epoch [1/500], Train Loss: 0.6142\n",
      "Epoch [1/500], Valid Loss: 0.5153\n"
     ]
    },
    {
     "name": "stderr",
     "output_type": "stream",
     "text": [
      "Epoch 2/500: 100%|██████████| 1608/1608 [00:03<00:00, 524.97it/s]\n"
     ]
    },
    {
     "name": "stdout",
     "output_type": "stream",
     "text": [
      "Epoch [2/500], Train Loss: 0.4898\n",
      "Epoch [2/500], Valid Loss: 0.4534\n"
     ]
    },
    {
     "name": "stderr",
     "output_type": "stream",
     "text": [
      "Epoch 3/500: 100%|██████████| 1608/1608 [00:03<00:00, 523.78it/s]\n"
     ]
    },
    {
     "name": "stdout",
     "output_type": "stream",
     "text": [
      "Epoch [3/500], Train Loss: 0.4517\n",
      "Epoch [3/500], Valid Loss: 0.4379\n"
     ]
    },
    {
     "name": "stderr",
     "output_type": "stream",
     "text": [
      "Epoch 4/500: 100%|██████████| 1608/1608 [00:03<00:00, 527.73it/s]\n"
     ]
    },
    {
     "name": "stdout",
     "output_type": "stream",
     "text": [
      "Epoch [4/500], Train Loss: 0.4249\n",
      "Epoch [4/500], Valid Loss: 0.4282\n"
     ]
    },
    {
     "name": "stderr",
     "output_type": "stream",
     "text": [
      "Epoch 5/500: 100%|██████████| 1608/1608 [00:03<00:00, 524.12it/s]\n"
     ]
    },
    {
     "name": "stdout",
     "output_type": "stream",
     "text": [
      "Epoch [5/500], Train Loss: 0.3982\n",
      "Epoch [5/500], Valid Loss: 0.3914\n"
     ]
    },
    {
     "name": "stderr",
     "output_type": "stream",
     "text": [
      "Epoch 6/500: 100%|██████████| 1608/1608 [00:03<00:00, 528.68it/s]\n"
     ]
    },
    {
     "name": "stdout",
     "output_type": "stream",
     "text": [
      "Epoch [6/500], Train Loss: 0.3799\n",
      "Epoch [6/500], Valid Loss: 0.3959\n"
     ]
    },
    {
     "name": "stderr",
     "output_type": "stream",
     "text": [
      "Epoch 7/500: 100%|██████████| 1608/1608 [00:03<00:00, 510.56it/s]\n"
     ]
    },
    {
     "name": "stdout",
     "output_type": "stream",
     "text": [
      "Epoch [7/500], Train Loss: 0.3719\n",
      "Epoch [7/500], Valid Loss: 0.3625\n"
     ]
    },
    {
     "name": "stderr",
     "output_type": "stream",
     "text": [
      "Epoch 8/500: 100%|██████████| 1608/1608 [00:03<00:00, 527.64it/s]\n"
     ]
    },
    {
     "name": "stdout",
     "output_type": "stream",
     "text": [
      "Epoch [8/500], Train Loss: 0.3539\n",
      "Epoch [8/500], Valid Loss: 0.3764\n"
     ]
    },
    {
     "name": "stderr",
     "output_type": "stream",
     "text": [
      "Epoch 9/500: 100%|██████████| 1608/1608 [00:03<00:00, 526.35it/s]\n"
     ]
    },
    {
     "name": "stdout",
     "output_type": "stream",
     "text": [
      "Epoch [9/500], Train Loss: 0.3392\n",
      "Epoch [9/500], Valid Loss: 0.3731\n"
     ]
    },
    {
     "name": "stderr",
     "output_type": "stream",
     "text": [
      "Epoch 10/500: 100%|██████████| 1608/1608 [00:03<00:00, 529.64it/s]\n"
     ]
    },
    {
     "name": "stdout",
     "output_type": "stream",
     "text": [
      "Epoch [10/500], Train Loss: 0.3241\n",
      "Epoch [10/500], Valid Loss: 0.3484\n"
     ]
    },
    {
     "name": "stderr",
     "output_type": "stream",
     "text": [
      "Epoch 11/500: 100%|██████████| 1608/1608 [00:03<00:00, 523.10it/s]\n"
     ]
    },
    {
     "name": "stdout",
     "output_type": "stream",
     "text": [
      "Epoch [11/500], Train Loss: 0.3136\n",
      "Epoch [11/500], Valid Loss: 0.3541\n"
     ]
    },
    {
     "name": "stderr",
     "output_type": "stream",
     "text": [
      "Epoch 12/500: 100%|██████████| 1608/1608 [00:03<00:00, 531.22it/s]\n"
     ]
    },
    {
     "name": "stdout",
     "output_type": "stream",
     "text": [
      "Epoch [12/500], Train Loss: 0.2991\n",
      "Epoch [12/500], Valid Loss: 0.3327\n"
     ]
    },
    {
     "name": "stderr",
     "output_type": "stream",
     "text": [
      "Epoch 13/500: 100%|██████████| 1608/1608 [00:03<00:00, 525.14it/s]\n"
     ]
    },
    {
     "name": "stdout",
     "output_type": "stream",
     "text": [
      "Epoch [13/500], Train Loss: 0.2824\n",
      "Epoch [13/500], Valid Loss: 0.3595\n"
     ]
    },
    {
     "name": "stderr",
     "output_type": "stream",
     "text": [
      "Epoch 14/500: 100%|██████████| 1608/1608 [00:03<00:00, 523.27it/s]\n"
     ]
    },
    {
     "name": "stdout",
     "output_type": "stream",
     "text": [
      "Epoch [14/500], Train Loss: 0.2707\n",
      "Epoch [14/500], Valid Loss: 0.3527\n"
     ]
    },
    {
     "name": "stderr",
     "output_type": "stream",
     "text": [
      "Epoch 15/500: 100%|██████████| 1608/1608 [00:03<00:00, 518.86it/s]\n"
     ]
    },
    {
     "name": "stdout",
     "output_type": "stream",
     "text": [
      "Epoch [15/500], Train Loss: 0.2518\n",
      "Epoch [15/500], Valid Loss: 0.3661\n"
     ]
    },
    {
     "name": "stderr",
     "output_type": "stream",
     "text": [
      "Epoch 16/500: 100%|██████████| 1608/1608 [00:03<00:00, 523.43it/s]\n"
     ]
    },
    {
     "name": "stdout",
     "output_type": "stream",
     "text": [
      "Epoch [16/500], Train Loss: 0.2422\n",
      "Epoch [16/500], Valid Loss: 0.3473\n"
     ]
    },
    {
     "name": "stderr",
     "output_type": "stream",
     "text": [
      "Epoch 17/500: 100%|██████████| 1608/1608 [00:03<00:00, 509.97it/s]\n"
     ]
    },
    {
     "name": "stdout",
     "output_type": "stream",
     "text": [
      "Epoch [17/500], Train Loss: 0.2222\n",
      "Epoch [17/500], Valid Loss: 0.3691\n"
     ]
    },
    {
     "name": "stderr",
     "output_type": "stream",
     "text": [
      "Epoch 18/500: 100%|██████████| 1608/1608 [00:03<00:00, 523.32it/s]\n"
     ]
    },
    {
     "name": "stdout",
     "output_type": "stream",
     "text": [
      "Epoch [18/500], Train Loss: 0.2101\n",
      "Epoch [18/500], Valid Loss: 0.3557\n"
     ]
    },
    {
     "name": "stderr",
     "output_type": "stream",
     "text": [
      "Epoch 19/500: 100%|██████████| 1608/1608 [00:03<00:00, 517.06it/s]\n"
     ]
    },
    {
     "name": "stdout",
     "output_type": "stream",
     "text": [
      "Epoch [19/500], Train Loss: 0.1499\n",
      "Epoch [19/500], Valid Loss: 0.3400\n"
     ]
    },
    {
     "name": "stderr",
     "output_type": "stream",
     "text": [
      "Epoch 20/500: 100%|██████████| 1608/1608 [00:03<00:00, 507.63it/s]\n"
     ]
    },
    {
     "name": "stdout",
     "output_type": "stream",
     "text": [
      "Epoch [20/500], Train Loss: 0.1358\n",
      "Epoch [20/500], Valid Loss: 0.3541\n"
     ]
    },
    {
     "name": "stderr",
     "output_type": "stream",
     "text": [
      "Epoch 21/500: 100%|██████████| 1608/1608 [00:03<00:00, 516.33it/s]\n"
     ]
    },
    {
     "name": "stdout",
     "output_type": "stream",
     "text": [
      "Epoch [21/500], Train Loss: 0.1291\n",
      "Epoch [21/500], Valid Loss: 0.3563\n"
     ]
    },
    {
     "name": "stderr",
     "output_type": "stream",
     "text": [
      "Epoch 22/500: 100%|██████████| 1608/1608 [00:03<00:00, 520.53it/s]\n"
     ]
    },
    {
     "name": "stdout",
     "output_type": "stream",
     "text": [
      "Epoch [22/500], Train Loss: 0.1236\n",
      "Epoch [22/500], Valid Loss: 0.3620\n"
     ]
    },
    {
     "name": "stderr",
     "output_type": "stream",
     "text": [
      "Epoch 23/500: 100%|██████████| 1608/1608 [00:03<00:00, 517.50it/s]\n"
     ]
    },
    {
     "name": "stdout",
     "output_type": "stream",
     "text": [
      "Epoch [23/500], Train Loss: 0.1186\n",
      "Epoch [23/500], Valid Loss: 0.3703\n"
     ]
    },
    {
     "name": "stderr",
     "output_type": "stream",
     "text": [
      "Epoch 24/500: 100%|██████████| 1608/1608 [00:03<00:00, 514.67it/s]\n"
     ]
    },
    {
     "name": "stdout",
     "output_type": "stream",
     "text": [
      "Epoch [24/500], Train Loss: 0.1133\n",
      "Epoch [24/500], Valid Loss: 0.3682\n"
     ]
    },
    {
     "name": "stderr",
     "output_type": "stream",
     "text": [
      "Epoch 25/500: 100%|██████████| 1608/1608 [00:03<00:00, 528.03it/s]\n"
     ]
    },
    {
     "name": "stdout",
     "output_type": "stream",
     "text": [
      "Epoch [25/500], Train Loss: 0.1060\n",
      "Epoch [25/500], Valid Loss: 0.3801\n"
     ]
    },
    {
     "name": "stderr",
     "output_type": "stream",
     "text": [
      "Epoch 26/500: 100%|██████████| 1608/1608 [00:03<00:00, 516.71it/s]\n"
     ]
    },
    {
     "name": "stdout",
     "output_type": "stream",
     "text": [
      "Epoch [26/500], Train Loss: 0.1045\n",
      "Epoch [26/500], Valid Loss: 0.3797\n"
     ]
    },
    {
     "name": "stderr",
     "output_type": "stream",
     "text": [
      "Epoch 27/500: 100%|██████████| 1608/1608 [00:03<00:00, 524.89it/s]\n"
     ]
    },
    {
     "name": "stdout",
     "output_type": "stream",
     "text": [
      "Epoch [27/500], Train Loss: 0.1040\n",
      "Epoch [27/500], Valid Loss: 0.3793\n"
     ]
    },
    {
     "name": "stderr",
     "output_type": "stream",
     "text": [
      "Epoch 28/500: 100%|██████████| 1608/1608 [00:03<00:00, 520.30it/s]\n"
     ]
    },
    {
     "name": "stdout",
     "output_type": "stream",
     "text": [
      "Epoch [28/500], Train Loss: 0.1038\n",
      "Epoch [28/500], Valid Loss: 0.3813\n"
     ]
    },
    {
     "name": "stderr",
     "output_type": "stream",
     "text": [
      "Epoch 29/500: 100%|██████████| 1608/1608 [00:03<00:00, 524.36it/s]\n"
     ]
    },
    {
     "name": "stdout",
     "output_type": "stream",
     "text": [
      "Epoch [29/500], Train Loss: 0.1030\n",
      "Epoch [29/500], Valid Loss: 0.3820\n"
     ]
    },
    {
     "name": "stderr",
     "output_type": "stream",
     "text": [
      "Epoch 30/500: 100%|██████████| 1608/1608 [00:03<00:00, 524.42it/s]\n"
     ]
    },
    {
     "name": "stdout",
     "output_type": "stream",
     "text": [
      "Epoch [30/500], Train Loss: 0.1028\n",
      "Epoch [30/500], Valid Loss: 0.3822\n"
     ]
    },
    {
     "name": "stderr",
     "output_type": "stream",
     "text": [
      "Epoch 31/500: 100%|██████████| 1608/1608 [00:03<00:00, 524.65it/s]\n"
     ]
    },
    {
     "name": "stdout",
     "output_type": "stream",
     "text": [
      "Epoch [31/500], Train Loss: 0.1016\n",
      "Epoch [31/500], Valid Loss: 0.3822\n"
     ]
    },
    {
     "name": "stderr",
     "output_type": "stream",
     "text": [
      "Epoch 32/500: 100%|██████████| 1608/1608 [00:03<00:00, 522.93it/s]\n"
     ]
    },
    {
     "name": "stdout",
     "output_type": "stream",
     "text": [
      "Epoch [32/500], Train Loss: 0.1012\n",
      "Epoch [32/500], Valid Loss: 0.3824\n"
     ]
    },
    {
     "name": "stderr",
     "output_type": "stream",
     "text": [
      "Epoch 33/500: 100%|██████████| 1608/1608 [00:03<00:00, 526.97it/s]\n"
     ]
    },
    {
     "name": "stdout",
     "output_type": "stream",
     "text": [
      "Epoch [33/500], Train Loss: 0.1013\n",
      "Epoch [33/500], Valid Loss: 0.3824\n"
     ]
    },
    {
     "name": "stderr",
     "output_type": "stream",
     "text": [
      "Epoch 34/500: 100%|██████████| 1608/1608 [00:03<00:00, 522.54it/s]\n"
     ]
    },
    {
     "name": "stdout",
     "output_type": "stream",
     "text": [
      "Epoch [34/500], Train Loss: 0.1012\n",
      "Epoch [34/500], Valid Loss: 0.3825\n"
     ]
    },
    {
     "name": "stderr",
     "output_type": "stream",
     "text": [
      "Epoch 35/500: 100%|██████████| 1608/1608 [00:03<00:00, 526.82it/s]\n"
     ]
    },
    {
     "name": "stdout",
     "output_type": "stream",
     "text": [
      "Epoch [35/500], Train Loss: 0.1016\n",
      "Epoch [35/500], Valid Loss: 0.3827\n"
     ]
    },
    {
     "name": "stderr",
     "output_type": "stream",
     "text": [
      "Epoch 36/500: 100%|██████████| 1608/1608 [00:03<00:00, 524.26it/s]\n"
     ]
    },
    {
     "name": "stdout",
     "output_type": "stream",
     "text": [
      "Epoch [36/500], Train Loss: 0.1014\n",
      "Epoch [36/500], Valid Loss: 0.3828\n"
     ]
    },
    {
     "name": "stderr",
     "output_type": "stream",
     "text": [
      "Epoch 37/500: 100%|██████████| 1608/1608 [00:03<00:00, 530.20it/s]\n"
     ]
    },
    {
     "name": "stdout",
     "output_type": "stream",
     "text": [
      "Epoch [37/500], Train Loss: 0.1013\n",
      "Epoch [37/500], Valid Loss: 0.3828\n"
     ]
    },
    {
     "name": "stderr",
     "output_type": "stream",
     "text": [
      "Epoch 38/500: 100%|██████████| 1608/1608 [00:03<00:00, 533.57it/s]\n"
     ]
    },
    {
     "name": "stdout",
     "output_type": "stream",
     "text": [
      "Epoch [38/500], Train Loss: 0.1012\n",
      "Epoch [38/500], Valid Loss: 0.3828\n"
     ]
    },
    {
     "name": "stderr",
     "output_type": "stream",
     "text": [
      "Epoch 39/500: 100%|██████████| 1608/1608 [00:03<00:00, 530.65it/s]\n"
     ]
    },
    {
     "name": "stdout",
     "output_type": "stream",
     "text": [
      "Epoch [39/500], Train Loss: 0.1009\n",
      "Epoch [39/500], Valid Loss: 0.3828\n"
     ]
    },
    {
     "name": "stderr",
     "output_type": "stream",
     "text": [
      "Epoch 40/500: 100%|██████████| 1608/1608 [00:03<00:00, 528.34it/s]\n"
     ]
    },
    {
     "name": "stdout",
     "output_type": "stream",
     "text": [
      "Epoch [40/500], Train Loss: 0.1009\n",
      "Epoch [40/500], Valid Loss: 0.3828\n"
     ]
    },
    {
     "name": "stderr",
     "output_type": "stream",
     "text": [
      "Epoch 41/500: 100%|██████████| 1608/1608 [00:03<00:00, 529.10it/s]\n"
     ]
    },
    {
     "name": "stdout",
     "output_type": "stream",
     "text": [
      "Epoch [41/500], Train Loss: 0.1013\n",
      "Epoch [41/500], Valid Loss: 0.3828\n"
     ]
    },
    {
     "name": "stderr",
     "output_type": "stream",
     "text": [
      "Epoch 42/500: 100%|██████████| 1608/1608 [00:03<00:00, 527.52it/s]\n"
     ]
    },
    {
     "name": "stdout",
     "output_type": "stream",
     "text": [
      "Epoch [42/500], Train Loss: 0.1004\n",
      "Epoch [42/500], Valid Loss: 0.3828\n"
     ]
    },
    {
     "name": "stderr",
     "output_type": "stream",
     "text": [
      "Epoch 43/500: 100%|██████████| 1608/1608 [00:03<00:00, 530.86it/s]\n"
     ]
    },
    {
     "name": "stdout",
     "output_type": "stream",
     "text": [
      "Epoch [43/500], Train Loss: 0.1009\n",
      "Epoch [43/500], Valid Loss: 0.3828\n"
     ]
    },
    {
     "name": "stderr",
     "output_type": "stream",
     "text": [
      "Epoch 44/500: 100%|██████████| 1608/1608 [00:03<00:00, 529.62it/s]\n"
     ]
    },
    {
     "name": "stdout",
     "output_type": "stream",
     "text": [
      "Epoch [44/500], Train Loss: 0.1011\n",
      "Epoch [44/500], Valid Loss: 0.3828\n"
     ]
    },
    {
     "name": "stderr",
     "output_type": "stream",
     "text": [
      "Epoch 45/500: 100%|██████████| 1608/1608 [00:03<00:00, 527.73it/s]\n"
     ]
    },
    {
     "name": "stdout",
     "output_type": "stream",
     "text": [
      "Epoch [45/500], Train Loss: 0.1016\n",
      "Epoch [45/500], Valid Loss: 0.3828\n"
     ]
    },
    {
     "name": "stderr",
     "output_type": "stream",
     "text": [
      "Epoch 46/500: 100%|██████████| 1608/1608 [00:03<00:00, 524.98it/s]\n"
     ]
    },
    {
     "name": "stdout",
     "output_type": "stream",
     "text": [
      "Epoch [46/500], Train Loss: 0.1009\n",
      "Epoch [46/500], Valid Loss: 0.3828\n"
     ]
    },
    {
     "name": "stderr",
     "output_type": "stream",
     "text": [
      "Epoch 47/500: 100%|██████████| 1608/1608 [00:03<00:00, 528.06it/s]\n"
     ]
    },
    {
     "name": "stdout",
     "output_type": "stream",
     "text": [
      "Epoch [47/500], Train Loss: 0.1011\n",
      "Epoch [47/500], Valid Loss: 0.3828\n"
     ]
    },
    {
     "name": "stderr",
     "output_type": "stream",
     "text": [
      "Epoch 48/500: 100%|██████████| 1608/1608 [00:03<00:00, 519.33it/s]\n"
     ]
    },
    {
     "name": "stdout",
     "output_type": "stream",
     "text": [
      "Epoch [48/500], Train Loss: 0.1011\n",
      "Epoch [48/500], Valid Loss: 0.3828\n"
     ]
    },
    {
     "name": "stderr",
     "output_type": "stream",
     "text": [
      "Epoch 49/500: 100%|██████████| 1608/1608 [00:03<00:00, 522.74it/s]\n"
     ]
    },
    {
     "name": "stdout",
     "output_type": "stream",
     "text": [
      "Epoch [49/500], Train Loss: 0.1009\n",
      "Epoch [49/500], Valid Loss: 0.3828\n"
     ]
    },
    {
     "name": "stderr",
     "output_type": "stream",
     "text": [
      "Epoch 50/500: 100%|██████████| 1608/1608 [00:03<00:00, 528.92it/s]\n"
     ]
    },
    {
     "name": "stdout",
     "output_type": "stream",
     "text": [
      "Epoch [50/500], Train Loss: 0.1011\n",
      "Epoch [50/500], Valid Loss: 0.3828\n"
     ]
    },
    {
     "name": "stderr",
     "output_type": "stream",
     "text": [
      "Epoch 51/500: 100%|██████████| 1608/1608 [00:03<00:00, 522.17it/s]\n"
     ]
    },
    {
     "name": "stdout",
     "output_type": "stream",
     "text": [
      "Epoch [51/500], Train Loss: 0.1016\n",
      "Epoch [51/500], Valid Loss: 0.3828\n"
     ]
    },
    {
     "name": "stderr",
     "output_type": "stream",
     "text": [
      "Epoch 52/500: 100%|██████████| 1608/1608 [00:03<00:00, 531.21it/s]\n"
     ]
    },
    {
     "name": "stdout",
     "output_type": "stream",
     "text": [
      "Epoch [52/500], Train Loss: 0.1013\n",
      "Epoch [52/500], Valid Loss: 0.3828\n"
     ]
    },
    {
     "name": "stderr",
     "output_type": "stream",
     "text": [
      "Epoch 53/500: 100%|██████████| 1608/1608 [00:03<00:00, 527.06it/s]\n"
     ]
    },
    {
     "name": "stdout",
     "output_type": "stream",
     "text": [
      "Epoch [53/500], Train Loss: 0.1017\n",
      "Epoch [53/500], Valid Loss: 0.3828\n"
     ]
    },
    {
     "name": "stderr",
     "output_type": "stream",
     "text": [
      "Epoch 54/500: 100%|██████████| 1608/1608 [00:03<00:00, 528.70it/s]\n"
     ]
    },
    {
     "name": "stdout",
     "output_type": "stream",
     "text": [
      "Epoch [54/500], Train Loss: 0.1019\n",
      "Epoch [54/500], Valid Loss: 0.3828\n"
     ]
    },
    {
     "name": "stderr",
     "output_type": "stream",
     "text": [
      "Epoch 55/500: 100%|██████████| 1608/1608 [00:03<00:00, 529.15it/s]\n"
     ]
    },
    {
     "name": "stdout",
     "output_type": "stream",
     "text": [
      "Epoch [55/500], Train Loss: 0.1014\n",
      "Epoch [55/500], Valid Loss: 0.3828\n"
     ]
    },
    {
     "name": "stderr",
     "output_type": "stream",
     "text": [
      "Epoch 56/500: 100%|██████████| 1608/1608 [00:03<00:00, 527.05it/s]\n"
     ]
    },
    {
     "name": "stdout",
     "output_type": "stream",
     "text": [
      "Epoch [56/500], Train Loss: 0.1015\n",
      "Epoch [56/500], Valid Loss: 0.3828\n"
     ]
    },
    {
     "name": "stderr",
     "output_type": "stream",
     "text": [
      "Epoch 57/500: 100%|██████████| 1608/1608 [00:03<00:00, 526.12it/s]\n"
     ]
    },
    {
     "name": "stdout",
     "output_type": "stream",
     "text": [
      "Epoch [57/500], Train Loss: 0.1016\n",
      "Epoch [57/500], Valid Loss: 0.3828\n"
     ]
    },
    {
     "name": "stderr",
     "output_type": "stream",
     "text": [
      "Epoch 58/500: 100%|██████████| 1608/1608 [00:03<00:00, 521.22it/s]\n"
     ]
    },
    {
     "name": "stdout",
     "output_type": "stream",
     "text": [
      "Epoch [58/500], Train Loss: 0.1007\n",
      "Epoch [58/500], Valid Loss: 0.3828\n"
     ]
    },
    {
     "name": "stderr",
     "output_type": "stream",
     "text": [
      "Epoch 59/500: 100%|██████████| 1608/1608 [00:03<00:00, 522.18it/s]\n"
     ]
    },
    {
     "name": "stdout",
     "output_type": "stream",
     "text": [
      "Epoch [59/500], Train Loss: 0.1016\n",
      "Epoch [59/500], Valid Loss: 0.3828\n"
     ]
    },
    {
     "name": "stderr",
     "output_type": "stream",
     "text": [
      "Epoch 60/500: 100%|██████████| 1608/1608 [00:03<00:00, 523.90it/s]\n"
     ]
    },
    {
     "name": "stdout",
     "output_type": "stream",
     "text": [
      "Epoch [60/500], Train Loss: 0.1017\n",
      "Epoch [60/500], Valid Loss: 0.3828\n"
     ]
    },
    {
     "name": "stderr",
     "output_type": "stream",
     "text": [
      "Epoch 61/500: 100%|██████████| 1608/1608 [00:03<00:00, 523.87it/s]\n"
     ]
    },
    {
     "name": "stdout",
     "output_type": "stream",
     "text": [
      "Epoch [61/500], Train Loss: 0.1006\n",
      "Epoch [61/500], Valid Loss: 0.3828\n"
     ]
    },
    {
     "name": "stderr",
     "output_type": "stream",
     "text": [
      "Epoch 62/500: 100%|██████████| 1608/1608 [00:03<00:00, 523.27it/s]\n"
     ]
    },
    {
     "name": "stdout",
     "output_type": "stream",
     "text": [
      "Epoch [62/500], Train Loss: 0.1016\n",
      "Epoch [62/500], Valid Loss: 0.3828\n",
      "Early stopping\n"
     ]
    }
   ],
   "source": [
    "# 학습 루프 (lr = 0.001에 대해 새로 학습)\n",
    "for train_loader, valid_loader, model_name, dataset, lr in [\n",
    "    (train_loader_simplified, valid_loader_simplified, 'best_fall_detection_gru_001_simplified.pt', train_simplified_dataset, 0.001),\n",
    "    (train_loader_mediapipe, valid_loader_mediapipe, 'best_fall_detection_gru_001_mediapipe.pt', train_mediapipe_dataset, 0.001)\n",
    "]:\n",
    "    # 모델을 새로 생성\n",
    "    model = create_model_for_dataset(dataset)\n",
    "    model.to(device)\n",
    "\n",
    "    # 옵티마이저와 스케줄러 설정\n",
    "    optimizer = torch.optim.Adam(model.parameters(), lr=lr, weight_decay=1e-5)\n",
    "    scheduler = torch.optim.lr_scheduler.ReduceLROnPlateau(optimizer, mode='min', factor=0.1, patience=5)\n",
    "\n",
    "    # 각 학습 설정별 초기화\n",
    "    best_loss = float('inf')\n",
    "    no_improve = 0\n",
    "    \n",
    "    print(f\"{model_name} 학습 시작\", flush=True)\n",
    "    print(\"\\n\" + \"=\" * 20 + f\" Training Configuration: GRU with input_config='{model_name[:-3].split('_')[-1]}' and lr='{optimizer.param_groups[0]['lr']}' \" + \"=\" * 20 + \"\\n\")\n",
    "\n",
    "    # 입력 크기 체크 (훈련 시작 시 1회만 출력)\n",
    "    sequences, labels = next(iter(train_loader))\n",
    "    print(f'현재 입력 크기 (마지막 차원): {sequences.size(-1)}')\n",
    "    print(f'예상 입력 크기: {model.gru.input_size}')\n",
    "\n",
    "    for epoch in range(num_epochs):\n",
    "        model.train()\n",
    "        total_loss_train = 0\n",
    "\n",
    "        for sequences, labels in tqdm(train_loader, desc=f\"Epoch {epoch + 1}/{num_epochs}\"):\n",
    "            sequences, labels = sequences.to(device), labels.to(device)\n",
    "\n",
    "            optimizer.zero_grad()\n",
    "            outputs = model(sequences)\n",
    "            loss_train = criterion(outputs, labels.view(-1))\n",
    "            loss_train.backward()\n",
    "            optimizer.step()\n",
    "            \n",
    "            total_loss_train += loss_train.item()\n",
    "\n",
    "        avg_loss_train = total_loss_train / len(train_loader)\n",
    "        print(f'Epoch [{epoch + 1}/{num_epochs}], Train Loss: {avg_loss_train:.4f}')\n",
    "\n",
    "        # 검증 데이터셋 평가\n",
    "        model.eval()\n",
    "        total_loss_valid = 0\n",
    "        with torch.no_grad():\n",
    "            for sequences, labels in valid_loader:\n",
    "                sequences, labels = sequences.to(device), labels.to(device)\n",
    "                outputs = model(sequences)\n",
    "                loss_valid = criterion(outputs, labels.view(-1))\n",
    "                total_loss_valid += loss_valid.item()\n",
    "\n",
    "        avg_loss_valid = total_loss_valid / len(valid_loader)\n",
    "        print(f'Epoch [{epoch + 1}/{num_epochs}], Valid Loss: {avg_loss_valid:.4f}')\n",
    "\n",
    "        # 학습률 조정 스케줄러 업데이트\n",
    "        scheduler.step(avg_loss_valid)\n",
    "\n",
    "        # 최상의 모델 저장\n",
    "        if avg_loss_valid < best_loss:\n",
    "            best_loss = avg_loss_valid\n",
    "            no_improve = 0\n",
    "            torch.save(model.state_dict(), f'{pt_path}\\\\{model_name}')\n",
    "        else:\n",
    "            no_improve += 1\n",
    "\n",
    "        if no_improve >= patience:\n",
    "            print(\"Early stopping\")\n",
    "            break"
   ]
  },
  {
   "cell_type": "code",
   "execution_count": 32,
   "id": "ba2a4044",
   "metadata": {},
   "outputs": [],
   "source": [
    "# 성능 지표 계산 함수 정의\n",
    "def calculate_metrics(model, data_loader):\n",
    "    model.eval()\n",
    "    all_preds = []\n",
    "    all_labels = []\n",
    "    with torch.no_grad():\n",
    "        for sequences, labels in data_loader:\n",
    "            sequences, labels = sequences.to(device), labels.to(device)\n",
    "            outputs = model(sequences)\n",
    "            _, preds = torch.max(outputs, 1)\n",
    "            all_preds.extend(preds.cpu().numpy())\n",
    "            all_labels.extend(labels.cpu().numpy())\n",
    "\n",
    "    f1 = f1_score(all_labels, all_preds, average='weighted')\n",
    "    cm = confusion_matrix(all_labels, all_preds)\n",
    "    return f1, cm"
   ]
  },
  {
   "cell_type": "code",
   "execution_count": 45,
   "id": "60c64456",
   "metadata": {},
   "outputs": [
    {
     "name": "stdout",
     "output_type": "stream",
     "text": [
      "best_fall_detection_gru_001_full.pt (Train): F1 Score: 0.9182\n",
      "Confusion Matrix (Train):\n",
      "[[26827  2280   884]\n",
      " [  191  3288   207]\n",
      " [  282   724 16744]]\n",
      "best_fall_detection_gru_001_full.pt (Validation): F1 Score: 0.9080\n",
      "Confusion Matrix (Validation):\n",
      "[[3302  309  113]\n",
      " [  35  410   37]\n",
      " [  45  104 2073]]\n",
      "best_fall_detection_gru_001_full.pt (Test): F1 Score: 0.9059\n",
      "Confusion Matrix (Test):\n",
      "[[3310  313  101]\n",
      " [  47  422   32]\n",
      " [  52  112 2040]]\n",
      "best_fall_detection_gru_0001_full.pt (Train): F1 Score: 0.9116\n",
      "Confusion Matrix (Train):\n",
      "[[26675  2070  1246]\n",
      " [  266  3192   228]\n",
      " [  329   721 16700]]\n",
      "best_fall_detection_gru_0001_full.pt (Validation): F1 Score: 0.9015\n",
      "Confusion Matrix (Validation):\n",
      "[[3266  303  155]\n",
      " [  34  415   33]\n",
      " [  56  100 2066]]\n",
      "best_fall_detection_gru_0001_full.pt (Test): F1 Score: 0.9045\n",
      "Confusion Matrix (Test):\n",
      "[[3311  274  139]\n",
      " [  55  408   38]\n",
      " [  49  100 2055]]\n",
      "best_fall_detection_gru_001_simplified.pt (Train): F1 Score: 0.8039\n",
      "Confusion Matrix (Train):\n",
      "[[22627  3654  3591]\n",
      " [  570  2892   307]\n",
      " [ 1378  1259 15149]]\n",
      "best_fall_detection_gru_001_simplified.pt (Validation): F1 Score: 0.8036\n",
      "Confusion Matrix (Validation):\n",
      "[[2885  473  445]\n",
      " [  74  315   35]\n",
      " [ 185  144 1872]]\n",
      "best_fall_detection_gru_001_simplified.pt (Test): F1 Score: 0.8033\n",
      "Confusion Matrix (Test):\n",
      "[[2826  483  455]\n",
      " [  79  367   30]\n",
      " [ 157  146 1886]]\n",
      "best_fall_detection_gru_0001_simplified.pt (Train): F1 Score: 0.8000\n",
      "Confusion Matrix (Train):\n",
      "[[22262  3868  3742]\n",
      " [  522  2917   330]\n",
      " [ 1320  1199 15267]]\n",
      "best_fall_detection_gru_0001_simplified.pt (Validation): F1 Score: 0.7993\n",
      "Confusion Matrix (Validation):\n",
      "[[2833  511  459]\n",
      " [  68  318   38]\n",
      " [ 175  139 1887]]\n",
      "best_fall_detection_gru_0001_simplified.pt (Test): F1 Score: 0.8020\n",
      "Confusion Matrix (Test):\n",
      "[[2801  497  466]\n",
      " [  72  372   32]\n",
      " [ 150  143 1896]]\n",
      "best_fall_detection_gru_001_mediapipe.pt (Train): F1 Score: 0.9178\n",
      "Confusion Matrix (Train):\n",
      "[[27156  1701  1068]\n",
      " [  301  3193   226]\n",
      " [  283   940 16559]]\n",
      "best_fall_detection_gru_001_mediapipe.pt (Validation): F1 Score: 0.9044\n",
      "Confusion Matrix (Validation):\n",
      "[[3357  236  139]\n",
      " [  49  377   51]\n",
      " [  48  135 2036]]\n",
      "best_fall_detection_gru_001_mediapipe.pt (Test): F1 Score: 0.9061\n",
      "Confusion Matrix (Test):\n",
      "[[3397  235  150]\n",
      " [  52  367   53]\n",
      " [  37  116 2022]]\n",
      "best_fall_detection_gru_0001_mediapipe.pt (Train): F1 Score: 0.9162\n",
      "Confusion Matrix (Train):\n",
      "[[27101  1575  1249]\n",
      " [  389  3052   279]\n",
      " [  369   652 16761]]\n",
      "best_fall_detection_gru_0001_mediapipe.pt (Validation): F1 Score: 0.9064\n",
      "Confusion Matrix (Validation):\n",
      "[[3344  233  155]\n",
      " [  43  380   54]\n",
      " [  59   91 2069]]\n",
      "best_fall_detection_gru_0001_mediapipe.pt (Test): F1 Score: 0.9084\n",
      "Confusion Matrix (Test):\n",
      "[[3401  217  164]\n",
      " [  56  363   53]\n",
      " [  50   76 2049]]\n"
     ]
    }
   ],
   "source": [
    "# 학습, 검증, 테스트 데이터셋 평가\n",
    "results = []\n",
    "for model_name, train_loader, val_loader, test_loader in [\n",
    "    ('best_fall_detection_gru_001_full.pt', train_loader_full, valid_loader_full, test_loader_full),\n",
    "    ('best_fall_detection_gru_0001_full.pt', train_loader_full, valid_loader_full, test_loader_full),\n",
    "    ('best_fall_detection_gru_001_simplified.pt', train_loader_simplified, valid_loader_simplified, test_loader_simplified),\n",
    "    ('best_fall_detection_gru_0001_simplified.pt', train_loader_simplified, valid_loader_simplified, test_loader_simplified),\n",
    "    ('best_fall_detection_gru_001_mediapipe.pt', train_loader_mediapipe, valid_loader_mediapipe, test_loader_mediapipe),\n",
    "    ('best_fall_detection_gru_0001_mediapipe.pt', train_loader_mediapipe, valid_loader_mediapipe, test_loader_mediapipe)\n",
    "]:\n",
    "    # 모델 생성 (각 모델의 input에 맞게 dataset 전달)\n",
    "    model = create_model_for_dataset(test_loader.dataset)\n",
    "    model.load_state_dict(torch.load(f'{pt_path}\\\\{model_name}', weights_only=True))\n",
    "    model.to(device)\n",
    "\n",
    "    # 데이터셋별 평가\n",
    "    scores = {'Model': model_name}\n",
    "    for loader_name, data_loader in [('Train', train_loader), ('Validation', val_loader), ('Test', test_loader)]:\n",
    "        f1, cm = calculate_metrics(model, data_loader)\n",
    "        print(f\"{model_name} ({loader_name}): F1 Score: {f1:.4f}\")\n",
    "        print(f\"Confusion Matrix ({loader_name}):\\n{cm}\")\n",
    "        scores[loader_name] = f1\n",
    "    results.append(scores)"
   ]
  },
  {
   "cell_type": "code",
   "execution_count": 46,
   "id": "dfa8cfc9",
   "metadata": {},
   "outputs": [
    {
     "data": {
      "image/png": "[encoded data removed]",
      "text/plain": [
       "<Figure size 1200x800 with 1 Axes>"
      ]
     },
     "metadata": {},
     "output_type": "display_data"
    }
   ],
   "source": [
    "# 그래프용 데이터 변환\n",
    "model_names = [result['Model'] for result in results]\n",
    "train_scores = [result['Train'] for result in results]\n",
    "val_scores = [result['Validation'] for result in results]\n",
    "test_scores = [result['Test'] for result in results]\n",
    "\n",
    "# 그래프 생성\n",
    "plt.figure(figsize=(12, 8))\n",
    "bar_width = 0.25\n",
    "indices = range(len(model_names))\n",
    "\n",
    "# 막대 그래프\n",
    "plt.bar(indices, train_scores, bar_width, label=\"Train F1 Score\")\n",
    "plt.bar([i + bar_width for i in indices], val_scores, bar_width, label=\"Validation F1 Score\")\n",
    "plt.bar([i + 2 * bar_width for i in indices], test_scores, bar_width, label=\"Test F1 Score\")\n",
    "\n",
    "# 그래프 꾸미기\n",
    "plt.xlabel(\"Model\", fontsize=12)\n",
    "plt.ylabel(\"F1 Score\", fontsize=12)\n",
    "plt.title(\"F1 Scores by Model and Dataset\", fontsize=14)\n",
    "plt.xticks([i + bar_width for i in indices], model_names, rotation=45, fontsize=10)\n",
    "plt.ylim(0.7, 1.0)\n",
    "plt.legend()\n",
    "\n",
    "# 그래프 출력\n",
    "plt.tight_layout()\n",
    "plt.show()"
   ]
  },
  {
   "cell_type": "code",
   "execution_count": 4,
   "id": "f2f59933",
   "metadata": {},
   "outputs": [],
   "source": [
    "# CNN 기반 낙상 감지 모델 정의\n",
    "class FallDetectionCNN(nn.Module):\n",
    "    def __init__(self, input_size, num_classes=3):\n",
    "        super(FallDetectionCNN, self).__init__()\n",
    "        self.conv1 = nn.Conv1d(in_channels=22, out_channels=64, kernel_size=3, padding=1)  # mediapipe dataset을 공유하므로 in_channels은 22\n",
    "        self.conv2 = nn.Conv1d(in_channels=64, out_channels=64, kernel_size=3, padding=1)\n",
    "        self.conv3 = nn.Conv1d(in_channels=64, out_channels=128, kernel_size=3, padding=1)\n",
    "        self.fc1 = nn.Linear(128 * input_size, 256)\n",
    "        self.fc2 = nn.Linear(256, 128)\n",
    "        self.fc3 = nn.Linear(128, num_classes)\n",
    "        self.dropout = nn.Dropout(0.5)\n",
    "\n",
    "    def forward(self, x):\n",
    "        x = x.transpose(1, 2)  # Conv1d의 형태를 맞추기 위함 (batch_size, channels, length)\n",
    "        x = torch.relu(self.conv1(x))\n",
    "        x = torch.relu(self.conv2(x))\n",
    "        x = torch.relu(self.conv3(x))\n",
    "        x = x.view(x.size(0), -1)  # tensor flattening\n",
    "        x = torch.relu(self.fc1(x))\n",
    "        x = self.dropout(x)\n",
    "        x = torch.relu(self.fc2(x))\n",
    "        x = self.fc3(x)\n",
    "        return x"
   ]
  },
  {
   "cell_type": "code",
   "execution_count": 5,
   "id": "1acf6a40",
   "metadata": {},
   "outputs": [],
   "source": [
    "# 모델 준비\n",
    "def create_cnn_model_for_dataset(dataset):\n",
    "    if len(dataset) > 0:\n",
    "        sample_sequence, sample_label = dataset[0]\n",
    "        input_size = len(sample_sequence)\n",
    "        print(input_size)  # CNN에서는 시퀀스 길이를 input size로 사용\n",
    "        return FallDetectionCNN(input_size=input_size).to(device)\n",
    "    else:\n",
    "        print(\"데이터 없음\")\n",
    "        exit()\n",
    "\n",
    "# 학습 및 검증 설정\n",
    "cnn_model_configs = [\n",
    "    ('best_fall_detection_cnn_mediapipe_001.pt', 0.001),\n",
    "    ('best_fall_detection_cnn_mediapipe_0001.pt', 0.0001)\n",
    "]\n",
    "\n",
    "# 학습 파라미터 설정\n",
    "num_epochs = 500\n",
    "patience = 20"
   ]
  },
  {
   "cell_type": "code",
   "execution_count": 13,
   "id": "af1c43e7",
   "metadata": {},
   "outputs": [
    {
     "name": "stdout",
     "output_type": "stream",
     "text": [
      "3\n",
      "3\n"
     ]
    }
   ],
   "source": [
    "for cnn_model_name, learning_rate in cnn_model_configs:\n",
    "    # 모델 생성\n",
    "    model = create_cnn_model_for_dataset(train_mediapipe_dataset)\n",
    "    continue"
   ]
  },
  {
   "cell_type": "code",
   "execution_count": null,
   "id": "8df25d7a",
   "metadata": {},
   "outputs": [
    {
     "name": "stdout",
     "output_type": "stream",
     "text": [
      "best_fall_detection_cnn_mediapipe_001.pt 학습 시작 (lr=0.001)\n"
     ]
    },
    {
     "name": "stderr",
     "output_type": "stream",
     "text": [
      "Epoch 1/500 (lr=0.001): 100%|██████████| 1608/1608 [00:03<00:00, 473.73it/s]\n"
     ]
    },
    {
     "name": "stdout",
     "output_type": "stream",
     "text": [
      "Epoch [1/500], Train Loss (lr=0.001): 0.5911\n",
      "Epoch [1/500], Valid Loss (lr=0.001): 0.4900\n"
     ]
    },
    {
     "name": "stderr",
     "output_type": "stream",
     "text": [
      "Epoch 2/500 (lr=0.001): 100%|██████████| 1608/1608 [00:02<00:00, 548.24it/s]\n"
     ]
    },
    {
     "name": "stdout",
     "output_type": "stream",
     "text": [
      "Epoch [2/500], Train Loss (lr=0.001): 0.4688\n",
      "Epoch [2/500], Valid Loss (lr=0.001): 0.4677\n"
     ]
    },
    {
     "name": "stderr",
     "output_type": "stream",
     "text": [
      "Epoch 3/500 (lr=0.001): 100%|██████████| 1608/1608 [00:02<00:00, 560.67it/s]\n"
     ]
    },
    {
     "name": "stdout",
     "output_type": "stream",
     "text": [
      "Epoch [3/500], Train Loss (lr=0.001): 0.4379\n",
      "Epoch [3/500], Valid Loss (lr=0.001): 0.4270\n"
     ]
    },
    {
     "name": "stderr",
     "output_type": "stream",
     "text": [
      "Epoch 4/500 (lr=0.001): 100%|██████████| 1608/1608 [00:02<00:00, 568.80it/s]\n"
     ]
    },
    {
     "name": "stdout",
     "output_type": "stream",
     "text": [
      "Epoch [4/500], Train Loss (lr=0.001): 0.4120\n",
      "Epoch [4/500], Valid Loss (lr=0.001): 0.4183\n"
     ]
    },
    {
     "name": "stderr",
     "output_type": "stream",
     "text": [
      "Epoch 5/500 (lr=0.001): 100%|██████████| 1608/1608 [00:02<00:00, 578.83it/s]\n"
     ]
    },
    {
     "name": "stdout",
     "output_type": "stream",
     "text": [
      "Epoch [5/500], Train Loss (lr=0.001): 0.3996\n",
      "Epoch [5/500], Valid Loss (lr=0.001): 0.4089\n"
     ]
    },
    {
     "name": "stderr",
     "output_type": "stream",
     "text": [
      "Epoch 6/500 (lr=0.001): 100%|██████████| 1608/1608 [00:02<00:00, 574.08it/s]\n"
     ]
    },
    {
     "name": "stdout",
     "output_type": "stream",
     "text": [
      "Epoch [6/500], Train Loss (lr=0.001): 0.3837\n",
      "Epoch [6/500], Valid Loss (lr=0.001): 0.4139\n"
     ]
    },
    {
     "name": "stderr",
     "output_type": "stream",
     "text": [
      "Epoch 7/500 (lr=0.001): 100%|██████████| 1608/1608 [00:02<00:00, 571.45it/s]\n"
     ]
    },
    {
     "name": "stdout",
     "output_type": "stream",
     "text": [
      "Epoch [7/500], Train Loss (lr=0.001): 0.3745\n",
      "Epoch [7/500], Valid Loss (lr=0.001): 0.3896\n"
     ]
    },
    {
     "name": "stderr",
     "output_type": "stream",
     "text": [
      "Epoch 8/500 (lr=0.001): 100%|██████████| 1608/1608 [00:02<00:00, 573.26it/s]\n"
     ]
    },
    {
     "name": "stdout",
     "output_type": "stream",
     "text": [
      "Epoch [8/500], Train Loss (lr=0.001): 0.3650\n",
      "Epoch [8/500], Valid Loss (lr=0.001): 0.3934\n"
     ]
    },
    {
     "name": "stderr",
     "output_type": "stream",
     "text": [
      "Epoch 9/500 (lr=0.001): 100%|██████████| 1608/1608 [00:02<00:00, 569.36it/s]\n"
     ]
    },
    {
     "name": "stdout",
     "output_type": "stream",
     "text": [
      "Epoch [9/500], Train Loss (lr=0.001): 0.3531\n",
      "Epoch [9/500], Valid Loss (lr=0.001): 0.3670\n"
     ]
    },
    {
     "name": "stderr",
     "output_type": "stream",
     "text": [
      "Epoch 10/500 (lr=0.001): 100%|██████████| 1608/1608 [00:02<00:00, 569.97it/s]\n"
     ]
    },
    {
     "name": "stdout",
     "output_type": "stream",
     "text": [
      "Epoch [10/500], Train Loss (lr=0.001): 0.3446\n",
      "Epoch [10/500], Valid Loss (lr=0.001): 0.3561\n"
     ]
    },
    {
     "name": "stderr",
     "output_type": "stream",
     "text": [
      "Epoch 11/500 (lr=0.001): 100%|██████████| 1608/1608 [00:02<00:00, 573.99it/s]\n"
     ]
    },
    {
     "name": "stdout",
     "output_type": "stream",
     "text": [
      "Epoch [11/500], Train Loss (lr=0.001): 0.3373\n",
      "Epoch [11/500], Valid Loss (lr=0.001): 0.3936\n"
     ]
    },
    {
     "name": "stderr",
     "output_type": "stream",
     "text": [
      "Epoch 12/500 (lr=0.001): 100%|██████████| 1608/1608 [00:02<00:00, 574.05it/s]\n"
     ]
    },
    {
     "name": "stdout",
     "output_type": "stream",
     "text": [
      "Epoch [12/500], Train Loss (lr=0.001): 0.3253\n",
      "Epoch [12/500], Valid Loss (lr=0.001): 0.3767\n"
     ]
    },
    {
     "name": "stderr",
     "output_type": "stream",
     "text": [
      "Epoch 13/500 (lr=0.001): 100%|██████████| 1608/1608 [00:02<00:00, 573.26it/s]\n"
     ]
    },
    {
     "name": "stdout",
     "output_type": "stream",
     "text": [
      "Epoch [13/500], Train Loss (lr=0.001): 0.3213\n",
      "Epoch [13/500], Valid Loss (lr=0.001): 0.3672\n"
     ]
    },
    {
     "name": "stderr",
     "output_type": "stream",
     "text": [
      "Epoch 14/500 (lr=0.001): 100%|██████████| 1608/1608 [00:02<00:00, 570.35it/s]\n"
     ]
    },
    {
     "name": "stdout",
     "output_type": "stream",
     "text": [
      "Epoch [14/500], Train Loss (lr=0.001): 0.3113\n",
      "Epoch [14/500], Valid Loss (lr=0.001): 0.3544\n"
     ]
    },
    {
     "name": "stderr",
     "output_type": "stream",
     "text": [
      "Epoch 15/500 (lr=0.001): 100%|██████████| 1608/1608 [00:02<00:00, 575.42it/s]\n"
     ]
    },
    {
     "name": "stdout",
     "output_type": "stream",
     "text": [
      "Epoch [15/500], Train Loss (lr=0.001): 0.3049\n",
      "Epoch [15/500], Valid Loss (lr=0.001): 0.3779\n"
     ]
    },
    {
     "name": "stderr",
     "output_type": "stream",
     "text": [
      "Epoch 16/500 (lr=0.001): 100%|██████████| 1608/1608 [00:02<00:00, 574.80it/s]\n"
     ]
    },
    {
     "name": "stdout",
     "output_type": "stream",
     "text": [
      "Epoch [16/500], Train Loss (lr=0.001): 0.2996\n",
      "Epoch [16/500], Valid Loss (lr=0.001): 0.3698\n"
     ]
    },
    {
     "name": "stderr",
     "output_type": "stream",
     "text": [
      "Epoch 17/500 (lr=0.001): 100%|██████████| 1608/1608 [00:02<00:00, 573.16it/s]\n"
     ]
    },
    {
     "name": "stdout",
     "output_type": "stream",
     "text": [
      "Epoch [17/500], Train Loss (lr=0.001): 0.2911\n",
      "Epoch [17/500], Valid Loss (lr=0.001): 0.4018\n"
     ]
    },
    {
     "name": "stderr",
     "output_type": "stream",
     "text": [
      "Epoch 18/500 (lr=0.001): 100%|██████████| 1608/1608 [00:02<00:00, 570.29it/s]\n"
     ]
    },
    {
     "name": "stdout",
     "output_type": "stream",
     "text": [
      "Epoch [18/500], Train Loss (lr=0.001): 0.2896\n",
      "Epoch [18/500], Valid Loss (lr=0.001): 0.3467\n"
     ]
    },
    {
     "name": "stderr",
     "output_type": "stream",
     "text": [
      "Epoch 19/500 (lr=0.001): 100%|██████████| 1608/1608 [00:02<00:00, 566.99it/s]\n"
     ]
    },
    {
     "name": "stdout",
     "output_type": "stream",
     "text": [
      "Epoch [19/500], Train Loss (lr=0.001): 0.2821\n",
      "Epoch [19/500], Valid Loss (lr=0.001): 0.3580\n"
     ]
    },
    {
     "name": "stderr",
     "output_type": "stream",
     "text": [
      "Epoch 20/500 (lr=0.001): 100%|██████████| 1608/1608 [00:02<00:00, 569.20it/s]\n"
     ]
    },
    {
     "name": "stdout",
     "output_type": "stream",
     "text": [
      "Epoch [20/500], Train Loss (lr=0.001): 0.2752\n",
      "Epoch [20/500], Valid Loss (lr=0.001): 0.3621\n"
     ]
    },
    {
     "name": "stderr",
     "output_type": "stream",
     "text": [
      "Epoch 21/500 (lr=0.001): 100%|██████████| 1608/1608 [00:02<00:00, 571.02it/s]\n"
     ]
    },
    {
     "name": "stdout",
     "output_type": "stream",
     "text": [
      "Epoch [21/500], Train Loss (lr=0.001): 0.2671\n",
      "Epoch [21/500], Valid Loss (lr=0.001): 0.3609\n"
     ]
    },
    {
     "name": "stderr",
     "output_type": "stream",
     "text": [
      "Epoch 22/500 (lr=0.001): 100%|██████████| 1608/1608 [00:02<00:00, 577.79it/s]\n"
     ]
    },
    {
     "name": "stdout",
     "output_type": "stream",
     "text": [
      "Epoch [22/500], Train Loss (lr=0.001): 0.2617\n",
      "Epoch [22/500], Valid Loss (lr=0.001): 0.3756\n"
     ]
    },
    {
     "name": "stderr",
     "output_type": "stream",
     "text": [
      "Epoch 23/500 (lr=0.001): 100%|██████████| 1608/1608 [00:02<00:00, 572.65it/s]\n"
     ]
    },
    {
     "name": "stdout",
     "output_type": "stream",
     "text": [
      "Epoch [23/500], Train Loss (lr=0.001): 0.2554\n",
      "Epoch [23/500], Valid Loss (lr=0.001): 0.3878\n"
     ]
    },
    {
     "name": "stderr",
     "output_type": "stream",
     "text": [
      "Epoch 24/500 (lr=0.001): 100%|██████████| 1608/1608 [00:02<00:00, 578.83it/s]\n"
     ]
    },
    {
     "name": "stdout",
     "output_type": "stream",
     "text": [
      "Epoch [24/500], Train Loss (lr=0.001): 0.2532\n",
      "Epoch [24/500], Valid Loss (lr=0.001): 0.3729\n"
     ]
    },
    {
     "name": "stderr",
     "output_type": "stream",
     "text": [
      "Epoch 25/500 (lr=0.001): 100%|██████████| 1608/1608 [00:02<00:00, 581.34it/s]\n"
     ]
    },
    {
     "name": "stdout",
     "output_type": "stream",
     "text": [
      "Epoch [25/500], Train Loss (lr=0.001): 0.1976\n",
      "Epoch [25/500], Valid Loss (lr=0.001): 0.3755\n"
     ]
    },
    {
     "name": "stderr",
     "output_type": "stream",
     "text": [
      "Epoch 26/500 (lr=0.001): 100%|██████████| 1608/1608 [00:02<00:00, 575.73it/s]\n"
     ]
    },
    {
     "name": "stdout",
     "output_type": "stream",
     "text": [
      "Epoch [26/500], Train Loss (lr=0.001): 0.1680\n",
      "Epoch [26/500], Valid Loss (lr=0.001): 0.4227\n"
     ]
    },
    {
     "name": "stderr",
     "output_type": "stream",
     "text": [
      "Epoch 27/500 (lr=0.001): 100%|██████████| 1608/1608 [00:02<00:00, 574.69it/s]\n"
     ]
    },
    {
     "name": "stdout",
     "output_type": "stream",
     "text": [
      "Epoch [27/500], Train Loss (lr=0.001): 0.1570\n",
      "Epoch [27/500], Valid Loss (lr=0.001): 0.4367\n"
     ]
    },
    {
     "name": "stderr",
     "output_type": "stream",
     "text": [
      "Epoch 28/500 (lr=0.001): 100%|██████████| 1608/1608 [00:02<00:00, 567.39it/s]\n"
     ]
    },
    {
     "name": "stdout",
     "output_type": "stream",
     "text": [
      "Epoch [28/500], Train Loss (lr=0.001): 0.1499\n",
      "Epoch [28/500], Valid Loss (lr=0.001): 0.4401\n"
     ]
    },
    {
     "name": "stderr",
     "output_type": "stream",
     "text": [
      "Epoch 29/500 (lr=0.001): 100%|██████████| 1608/1608 [00:02<00:00, 570.54it/s]\n"
     ]
    },
    {
     "name": "stdout",
     "output_type": "stream",
     "text": [
      "Epoch [29/500], Train Loss (lr=0.001): 0.1445\n",
      "Epoch [29/500], Valid Loss (lr=0.001): 0.4807\n"
     ]
    },
    {
     "name": "stderr",
     "output_type": "stream",
     "text": [
      "Epoch 30/500 (lr=0.001): 100%|██████████| 1608/1608 [00:02<00:00, 569.00it/s]\n"
     ]
    },
    {
     "name": "stdout",
     "output_type": "stream",
     "text": [
      "Epoch [30/500], Train Loss (lr=0.001): 0.1375\n",
      "Epoch [30/500], Valid Loss (lr=0.001): 0.4998\n"
     ]
    },
    {
     "name": "stderr",
     "output_type": "stream",
     "text": [
      "Epoch 31/500 (lr=0.001): 100%|██████████| 1608/1608 [00:02<00:00, 570.61it/s]\n"
     ]
    },
    {
     "name": "stdout",
     "output_type": "stream",
     "text": [
      "Epoch [31/500], Train Loss (lr=0.001): 0.1269\n",
      "Epoch [31/500], Valid Loss (lr=0.001): 0.5136\n"
     ]
    },
    {
     "name": "stderr",
     "output_type": "stream",
     "text": [
      "Epoch 32/500 (lr=0.001): 100%|██████████| 1608/1608 [00:02<00:00, 577.63it/s]\n"
     ]
    },
    {
     "name": "stdout",
     "output_type": "stream",
     "text": [
      "Epoch [32/500], Train Loss (lr=0.001): 0.1244\n",
      "Epoch [32/500], Valid Loss (lr=0.001): 0.5261\n"
     ]
    },
    {
     "name": "stderr",
     "output_type": "stream",
     "text": [
      "Epoch 33/500 (lr=0.001): 100%|██████████| 1608/1608 [00:02<00:00, 576.69it/s]\n"
     ]
    },
    {
     "name": "stdout",
     "output_type": "stream",
     "text": [
      "Epoch [33/500], Train Loss (lr=0.001): 0.1229\n",
      "Epoch [33/500], Valid Loss (lr=0.001): 0.5294\n"
     ]
    },
    {
     "name": "stderr",
     "output_type": "stream",
     "text": [
      "Epoch 34/500 (lr=0.001): 100%|██████████| 1608/1608 [00:02<00:00, 557.87it/s]\n"
     ]
    },
    {
     "name": "stdout",
     "output_type": "stream",
     "text": [
      "Epoch [34/500], Train Loss (lr=0.001): 0.1218\n",
      "Epoch [34/500], Valid Loss (lr=0.001): 0.5400\n"
     ]
    },
    {
     "name": "stderr",
     "output_type": "stream",
     "text": [
      "Epoch 35/500 (lr=0.001): 100%|██████████| 1608/1608 [00:02<00:00, 567.91it/s]\n"
     ]
    },
    {
     "name": "stdout",
     "output_type": "stream",
     "text": [
      "Epoch [35/500], Train Loss (lr=0.001): 0.1218\n",
      "Epoch [35/500], Valid Loss (lr=0.001): 0.5411\n"
     ]
    },
    {
     "name": "stderr",
     "output_type": "stream",
     "text": [
      "Epoch 36/500 (lr=0.001): 100%|██████████| 1608/1608 [00:02<00:00, 565.14it/s]\n"
     ]
    },
    {
     "name": "stdout",
     "output_type": "stream",
     "text": [
      "Epoch [36/500], Train Loss (lr=0.001): 0.1203\n",
      "Epoch [36/500], Valid Loss (lr=0.001): 0.5485\n"
     ]
    },
    {
     "name": "stderr",
     "output_type": "stream",
     "text": [
      "Epoch 37/500 (lr=0.001): 100%|██████████| 1608/1608 [00:02<00:00, 560.16it/s]\n"
     ]
    },
    {
     "name": "stdout",
     "output_type": "stream",
     "text": [
      "Epoch [37/500], Train Loss (lr=0.001): 0.1197\n",
      "Epoch [37/500], Valid Loss (lr=0.001): 0.5497\n"
     ]
    },
    {
     "name": "stderr",
     "output_type": "stream",
     "text": [
      "Epoch 38/500 (lr=0.001): 100%|██████████| 1608/1608 [00:02<00:00, 559.50it/s]\n"
     ]
    },
    {
     "name": "stdout",
     "output_type": "stream",
     "text": [
      "Epoch [38/500], Train Loss (lr=0.001): 0.1193\n",
      "Epoch [38/500], Valid Loss (lr=0.001): 0.5504\n",
      "Early stopping\n",
      "best_fall_detection_cnn_mediapipe_0001.pt 학습 시작 (lr=0.0001)\n"
     ]
    },
    {
     "name": "stderr",
     "output_type": "stream",
     "text": [
      "Epoch 1/500 (lr=0.0001): 100%|██████████| 1608/1608 [00:02<00:00, 568.62it/s]\n"
     ]
    },
    {
     "name": "stdout",
     "output_type": "stream",
     "text": [
      "Epoch [1/500], Train Loss (lr=0.0001): 0.7369\n",
      "Epoch [1/500], Valid Loss (lr=0.0001): 0.5648\n"
     ]
    },
    {
     "name": "stderr",
     "output_type": "stream",
     "text": [
      "Epoch 2/500 (lr=0.0001): 100%|██████████| 1608/1608 [00:02<00:00, 563.82it/s]\n"
     ]
    },
    {
     "name": "stdout",
     "output_type": "stream",
     "text": [
      "Epoch [2/500], Train Loss (lr=0.0001): 0.5279\n",
      "Epoch [2/500], Valid Loss (lr=0.0001): 0.4879\n"
     ]
    },
    {
     "name": "stderr",
     "output_type": "stream",
     "text": [
      "Epoch 3/500 (lr=0.0001): 100%|██████████| 1608/1608 [00:02<00:00, 564.44it/s]\n"
     ]
    },
    {
     "name": "stdout",
     "output_type": "stream",
     "text": [
      "Epoch [3/500], Train Loss (lr=0.0001): 0.4754\n",
      "Epoch [3/500], Valid Loss (lr=0.0001): 0.4604\n"
     ]
    },
    {
     "name": "stderr",
     "output_type": "stream",
     "text": [
      "Epoch 4/500 (lr=0.0001): 100%|██████████| 1608/1608 [00:02<00:00, 567.00it/s]\n"
     ]
    },
    {
     "name": "stdout",
     "output_type": "stream",
     "text": [
      "Epoch [4/500], Train Loss (lr=0.0001): 0.4535\n",
      "Epoch [4/500], Valid Loss (lr=0.0001): 0.4564\n"
     ]
    },
    {
     "name": "stderr",
     "output_type": "stream",
     "text": [
      "Epoch 5/500 (lr=0.0001): 100%|██████████| 1608/1608 [00:02<00:00, 565.00it/s]\n"
     ]
    },
    {
     "name": "stdout",
     "output_type": "stream",
     "text": [
      "Epoch [5/500], Train Loss (lr=0.0001): 0.4377\n",
      "Epoch [5/500], Valid Loss (lr=0.0001): 0.4475\n"
     ]
    },
    {
     "name": "stderr",
     "output_type": "stream",
     "text": [
      "Epoch 6/500 (lr=0.0001): 100%|██████████| 1608/1608 [00:02<00:00, 566.60it/s]\n"
     ]
    },
    {
     "name": "stdout",
     "output_type": "stream",
     "text": [
      "Epoch [6/500], Train Loss (lr=0.0001): 0.4269\n",
      "Epoch [6/500], Valid Loss (lr=0.0001): 0.4338\n"
     ]
    },
    {
     "name": "stderr",
     "output_type": "stream",
     "text": [
      "Epoch 7/500 (lr=0.0001): 100%|██████████| 1608/1608 [00:02<00:00, 571.43it/s]\n"
     ]
    },
    {
     "name": "stdout",
     "output_type": "stream",
     "text": [
      "Epoch [7/500], Train Loss (lr=0.0001): 0.4113\n",
      "Epoch [7/500], Valid Loss (lr=0.0001): 0.4202\n"
     ]
    },
    {
     "name": "stderr",
     "output_type": "stream",
     "text": [
      "Epoch 8/500 (lr=0.0001): 100%|██████████| 1608/1608 [00:02<00:00, 576.55it/s]\n"
     ]
    },
    {
     "name": "stdout",
     "output_type": "stream",
     "text": [
      "Epoch [8/500], Train Loss (lr=0.0001): 0.3984\n",
      "Epoch [8/500], Valid Loss (lr=0.0001): 0.4222\n"
     ]
    },
    {
     "name": "stderr",
     "output_type": "stream",
     "text": [
      "Epoch 9/500 (lr=0.0001): 100%|██████████| 1608/1608 [00:02<00:00, 568.97it/s]\n"
     ]
    },
    {
     "name": "stdout",
     "output_type": "stream",
     "text": [
      "Epoch [9/500], Train Loss (lr=0.0001): 0.3910\n",
      "Epoch [9/500], Valid Loss (lr=0.0001): 0.4025\n"
     ]
    },
    {
     "name": "stderr",
     "output_type": "stream",
     "text": [
      "Epoch 10/500 (lr=0.0001): 100%|██████████| 1608/1608 [00:02<00:00, 572.79it/s]\n"
     ]
    },
    {
     "name": "stdout",
     "output_type": "stream",
     "text": [
      "Epoch [10/500], Train Loss (lr=0.0001): 0.3833\n",
      "Epoch [10/500], Valid Loss (lr=0.0001): 0.4096\n"
     ]
    },
    {
     "name": "stderr",
     "output_type": "stream",
     "text": [
      "Epoch 11/500 (lr=0.0001): 100%|██████████| 1608/1608 [00:02<00:00, 569.82it/s]\n"
     ]
    },
    {
     "name": "stdout",
     "output_type": "stream",
     "text": [
      "Epoch [11/500], Train Loss (lr=0.0001): 0.3700\n",
      "Epoch [11/500], Valid Loss (lr=0.0001): 0.4007\n"
     ]
    },
    {
     "name": "stderr",
     "output_type": "stream",
     "text": [
      "Epoch 12/500 (lr=0.0001): 100%|██████████| 1608/1608 [00:02<00:00, 569.33it/s]\n"
     ]
    },
    {
     "name": "stdout",
     "output_type": "stream",
     "text": [
      "Epoch [12/500], Train Loss (lr=0.0001): 0.3646\n",
      "Epoch [12/500], Valid Loss (lr=0.0001): 0.3769\n"
     ]
    },
    {
     "name": "stderr",
     "output_type": "stream",
     "text": [
      "Epoch 13/500 (lr=0.0001): 100%|██████████| 1608/1608 [00:02<00:00, 572.14it/s]\n"
     ]
    },
    {
     "name": "stdout",
     "output_type": "stream",
     "text": [
      "Epoch [13/500], Train Loss (lr=0.0001): 0.3580\n",
      "Epoch [13/500], Valid Loss (lr=0.0001): 0.3765\n"
     ]
    },
    {
     "name": "stderr",
     "output_type": "stream",
     "text": [
      "Epoch 14/500 (lr=0.0001): 100%|██████████| 1608/1608 [00:02<00:00, 573.87it/s]\n"
     ]
    },
    {
     "name": "stdout",
     "output_type": "stream",
     "text": [
      "Epoch [14/500], Train Loss (lr=0.0001): 0.3509\n",
      "Epoch [14/500], Valid Loss (lr=0.0001): 0.3723\n"
     ]
    },
    {
     "name": "stderr",
     "output_type": "stream",
     "text": [
      "Epoch 15/500 (lr=0.0001): 100%|██████████| 1608/1608 [00:02<00:00, 546.36it/s]\n"
     ]
    },
    {
     "name": "stdout",
     "output_type": "stream",
     "text": [
      "Epoch [15/500], Train Loss (lr=0.0001): 0.3454\n",
      "Epoch [15/500], Valid Loss (lr=0.0001): 0.3839\n"
     ]
    },
    {
     "name": "stderr",
     "output_type": "stream",
     "text": [
      "Epoch 16/500 (lr=0.0001): 100%|██████████| 1608/1608 [00:02<00:00, 561.74it/s]\n"
     ]
    },
    {
     "name": "stdout",
     "output_type": "stream",
     "text": [
      "Epoch [16/500], Train Loss (lr=0.0001): 0.3390\n",
      "Epoch [16/500], Valid Loss (lr=0.0001): 0.3673\n"
     ]
    },
    {
     "name": "stderr",
     "output_type": "stream",
     "text": [
      "Epoch 17/500 (lr=0.0001): 100%|██████████| 1608/1608 [00:02<00:00, 568.93it/s]\n"
     ]
    },
    {
     "name": "stdout",
     "output_type": "stream",
     "text": [
      "Epoch [17/500], Train Loss (lr=0.0001): 0.3321\n",
      "Epoch [17/500], Valid Loss (lr=0.0001): 0.4140\n"
     ]
    },
    {
     "name": "stderr",
     "output_type": "stream",
     "text": [
      "Epoch 18/500 (lr=0.0001): 100%|██████████| 1608/1608 [00:02<00:00, 564.31it/s]\n"
     ]
    },
    {
     "name": "stdout",
     "output_type": "stream",
     "text": [
      "Epoch [18/500], Train Loss (lr=0.0001): 0.3231\n",
      "Epoch [18/500], Valid Loss (lr=0.0001): 0.3901\n"
     ]
    },
    {
     "name": "stderr",
     "output_type": "stream",
     "text": [
      "Epoch 19/500 (lr=0.0001): 100%|██████████| 1608/1608 [00:02<00:00, 568.90it/s]\n"
     ]
    },
    {
     "name": "stdout",
     "output_type": "stream",
     "text": [
      "Epoch [19/500], Train Loss (lr=0.0001): 0.3166\n",
      "Epoch [19/500], Valid Loss (lr=0.0001): 0.3668\n"
     ]
    },
    {
     "name": "stderr",
     "output_type": "stream",
     "text": [
      "Epoch 20/500 (lr=0.0001): 100%|██████████| 1608/1608 [00:02<00:00, 571.93it/s]\n"
     ]
    },
    {
     "name": "stdout",
     "output_type": "stream",
     "text": [
      "Epoch [20/500], Train Loss (lr=0.0001): 0.3104\n",
      "Epoch [20/500], Valid Loss (lr=0.0001): 0.3455\n"
     ]
    },
    {
     "name": "stderr",
     "output_type": "stream",
     "text": [
      "Epoch 21/500 (lr=0.0001): 100%|██████████| 1608/1608 [00:02<00:00, 559.34it/s]\n"
     ]
    },
    {
     "name": "stdout",
     "output_type": "stream",
     "text": [
      "Epoch [21/500], Train Loss (lr=0.0001): 0.3050\n",
      "Epoch [21/500], Valid Loss (lr=0.0001): 0.3623\n"
     ]
    },
    {
     "name": "stderr",
     "output_type": "stream",
     "text": [
      "Epoch 22/500 (lr=0.0001): 100%|██████████| 1608/1608 [00:02<00:00, 569.80it/s]\n"
     ]
    },
    {
     "name": "stdout",
     "output_type": "stream",
     "text": [
      "Epoch [22/500], Train Loss (lr=0.0001): 0.3012\n",
      "Epoch [22/500], Valid Loss (lr=0.0001): 0.3706\n"
     ]
    },
    {
     "name": "stderr",
     "output_type": "stream",
     "text": [
      "Epoch 23/500 (lr=0.0001): 100%|██████████| 1608/1608 [00:02<00:00, 572.13it/s]\n"
     ]
    },
    {
     "name": "stdout",
     "output_type": "stream",
     "text": [
      "Epoch [23/500], Train Loss (lr=0.0001): 0.2947\n",
      "Epoch [23/500], Valid Loss (lr=0.0001): 0.3435\n"
     ]
    },
    {
     "name": "stderr",
     "output_type": "stream",
     "text": [
      "Epoch 24/500 (lr=0.0001): 100%|██████████| 1608/1608 [00:02<00:00, 559.82it/s]\n"
     ]
    },
    {
     "name": "stdout",
     "output_type": "stream",
     "text": [
      "Epoch [24/500], Train Loss (lr=0.0001): 0.2889\n",
      "Epoch [24/500], Valid Loss (lr=0.0001): 0.3431\n"
     ]
    },
    {
     "name": "stderr",
     "output_type": "stream",
     "text": [
      "Epoch 25/500 (lr=0.0001): 100%|██████████| 1608/1608 [00:03<00:00, 531.75it/s]\n"
     ]
    },
    {
     "name": "stdout",
     "output_type": "stream",
     "text": [
      "Epoch [25/500], Train Loss (lr=0.0001): 0.2835\n",
      "Epoch [25/500], Valid Loss (lr=0.0001): 0.3362\n"
     ]
    },
    {
     "name": "stderr",
     "output_type": "stream",
     "text": [
      "Epoch 26/500 (lr=0.0001): 100%|██████████| 1608/1608 [00:03<00:00, 533.87it/s]\n"
     ]
    },
    {
     "name": "stdout",
     "output_type": "stream",
     "text": [
      "Epoch [26/500], Train Loss (lr=0.0001): 0.2775\n",
      "Epoch [26/500], Valid Loss (lr=0.0001): 0.3325\n"
     ]
    },
    {
     "name": "stderr",
     "output_type": "stream",
     "text": [
      "Epoch 27/500 (lr=0.0001): 100%|██████████| 1608/1608 [00:02<00:00, 548.06it/s]\n"
     ]
    },
    {
     "name": "stdout",
     "output_type": "stream",
     "text": [
      "Epoch [27/500], Train Loss (lr=0.0001): 0.2718\n",
      "Epoch [27/500], Valid Loss (lr=0.0001): 0.3284\n"
     ]
    },
    {
     "name": "stderr",
     "output_type": "stream",
     "text": [
      "Epoch 28/500 (lr=0.0001): 100%|██████████| 1608/1608 [00:02<00:00, 545.83it/s]\n"
     ]
    },
    {
     "name": "stdout",
     "output_type": "stream",
     "text": [
      "Epoch [28/500], Train Loss (lr=0.0001): 0.2654\n",
      "Epoch [28/500], Valid Loss (lr=0.0001): 0.3452\n"
     ]
    },
    {
     "name": "stderr",
     "output_type": "stream",
     "text": [
      "Epoch 29/500 (lr=0.0001): 100%|██████████| 1608/1608 [00:02<00:00, 569.40it/s]\n"
     ]
    },
    {
     "name": "stdout",
     "output_type": "stream",
     "text": [
      "Epoch [29/500], Train Loss (lr=0.0001): 0.2635\n",
      "Epoch [29/500], Valid Loss (lr=0.0001): 0.3563\n"
     ]
    },
    {
     "name": "stderr",
     "output_type": "stream",
     "text": [
      "Epoch 30/500 (lr=0.0001): 100%|██████████| 1608/1608 [00:02<00:00, 568.00it/s]\n"
     ]
    },
    {
     "name": "stdout",
     "output_type": "stream",
     "text": [
      "Epoch [30/500], Train Loss (lr=0.0001): 0.2571\n",
      "Epoch [30/500], Valid Loss (lr=0.0001): 0.3451\n"
     ]
    },
    {
     "name": "stderr",
     "output_type": "stream",
     "text": [
      "Epoch 31/500 (lr=0.0001): 100%|██████████| 1608/1608 [00:02<00:00, 576.34it/s]\n"
     ]
    },
    {
     "name": "stdout",
     "output_type": "stream",
     "text": [
      "Epoch [31/500], Train Loss (lr=0.0001): 0.2505\n",
      "Epoch [31/500], Valid Loss (lr=0.0001): 0.3361\n"
     ]
    },
    {
     "name": "stderr",
     "output_type": "stream",
     "text": [
      "Epoch 32/500 (lr=0.0001): 100%|██████████| 1608/1608 [00:02<00:00, 573.97it/s]\n"
     ]
    },
    {
     "name": "stdout",
     "output_type": "stream",
     "text": [
      "Epoch [32/500], Train Loss (lr=0.0001): 0.2448\n",
      "Epoch [32/500], Valid Loss (lr=0.0001): 0.3233\n"
     ]
    },
    {
     "name": "stderr",
     "output_type": "stream",
     "text": [
      "Epoch 33/500 (lr=0.0001): 100%|██████████| 1608/1608 [00:02<00:00, 575.51it/s]\n"
     ]
    },
    {
     "name": "stdout",
     "output_type": "stream",
     "text": [
      "Epoch [33/500], Train Loss (lr=0.0001): 0.2400\n",
      "Epoch [33/500], Valid Loss (lr=0.0001): 0.3210\n"
     ]
    },
    {
     "name": "stderr",
     "output_type": "stream",
     "text": [
      "Epoch 34/500 (lr=0.0001): 100%|██████████| 1608/1608 [00:02<00:00, 540.79it/s]\n"
     ]
    },
    {
     "name": "stdout",
     "output_type": "stream",
     "text": [
      "Epoch [34/500], Train Loss (lr=0.0001): 0.2334\n",
      "Epoch [34/500], Valid Loss (lr=0.0001): 0.3310\n"
     ]
    },
    {
     "name": "stderr",
     "output_type": "stream",
     "text": [
      "Epoch 35/500 (lr=0.0001): 100%|██████████| 1608/1608 [00:02<00:00, 566.20it/s]\n"
     ]
    },
    {
     "name": "stdout",
     "output_type": "stream",
     "text": [
      "Epoch [35/500], Train Loss (lr=0.0001): 0.2329\n",
      "Epoch [35/500], Valid Loss (lr=0.0001): 0.3304\n"
     ]
    },
    {
     "name": "stderr",
     "output_type": "stream",
     "text": [
      "Epoch 36/500 (lr=0.0001): 100%|██████████| 1608/1608 [00:02<00:00, 578.21it/s]\n"
     ]
    },
    {
     "name": "stdout",
     "output_type": "stream",
     "text": [
      "Epoch [36/500], Train Loss (lr=0.0001): 0.2255\n",
      "Epoch [36/500], Valid Loss (lr=0.0001): 0.3217\n"
     ]
    },
    {
     "name": "stderr",
     "output_type": "stream",
     "text": [
      "Epoch 37/500 (lr=0.0001): 100%|██████████| 1608/1608 [00:02<00:00, 566.60it/s]\n"
     ]
    },
    {
     "name": "stdout",
     "output_type": "stream",
     "text": [
      "Epoch [37/500], Train Loss (lr=0.0001): 0.2203\n",
      "Epoch [37/500], Valid Loss (lr=0.0001): 0.3745\n"
     ]
    },
    {
     "name": "stderr",
     "output_type": "stream",
     "text": [
      "Epoch 38/500 (lr=0.0001): 100%|██████████| 1608/1608 [00:02<00:00, 582.61it/s]\n"
     ]
    },
    {
     "name": "stdout",
     "output_type": "stream",
     "text": [
      "Epoch [38/500], Train Loss (lr=0.0001): 0.2155\n",
      "Epoch [38/500], Valid Loss (lr=0.0001): 0.3788\n"
     ]
    },
    {
     "name": "stderr",
     "output_type": "stream",
     "text": [
      "Epoch 39/500 (lr=0.0001): 100%|██████████| 1608/1608 [00:03<00:00, 524.98it/s]\n"
     ]
    },
    {
     "name": "stdout",
     "output_type": "stream",
     "text": [
      "Epoch [39/500], Train Loss (lr=0.0001): 0.2120\n",
      "Epoch [39/500], Valid Loss (lr=0.0001): 0.3306\n"
     ]
    },
    {
     "name": "stderr",
     "output_type": "stream",
     "text": [
      "Epoch 40/500 (lr=0.0001): 100%|██████████| 1608/1608 [00:02<00:00, 542.83it/s]\n"
     ]
    },
    {
     "name": "stdout",
     "output_type": "stream",
     "text": [
      "Epoch [40/500], Train Loss (lr=0.0001): 0.1746\n",
      "Epoch [40/500], Valid Loss (lr=0.0001): 0.3229\n"
     ]
    },
    {
     "name": "stderr",
     "output_type": "stream",
     "text": [
      "Epoch 41/500 (lr=0.0001): 100%|██████████| 1608/1608 [00:02<00:00, 560.83it/s]\n"
     ]
    },
    {
     "name": "stdout",
     "output_type": "stream",
     "text": [
      "Epoch [41/500], Train Loss (lr=0.0001): 0.1662\n",
      "Epoch [41/500], Valid Loss (lr=0.0001): 0.3237\n"
     ]
    },
    {
     "name": "stderr",
     "output_type": "stream",
     "text": [
      "Epoch 42/500 (lr=0.0001): 100%|██████████| 1608/1608 [00:02<00:00, 564.80it/s]\n"
     ]
    },
    {
     "name": "stdout",
     "output_type": "stream",
     "text": [
      "Epoch [42/500], Train Loss (lr=0.0001): 0.1635\n",
      "Epoch [42/500], Valid Loss (lr=0.0001): 0.3222\n"
     ]
    },
    {
     "name": "stderr",
     "output_type": "stream",
     "text": [
      "Epoch 43/500 (lr=0.0001): 100%|██████████| 1608/1608 [00:02<00:00, 568.51it/s]\n"
     ]
    },
    {
     "name": "stdout",
     "output_type": "stream",
     "text": [
      "Epoch [43/500], Train Loss (lr=0.0001): 0.1614\n",
      "Epoch [43/500], Valid Loss (lr=0.0001): 0.3216\n"
     ]
    },
    {
     "name": "stderr",
     "output_type": "stream",
     "text": [
      "Epoch 44/500 (lr=0.0001): 100%|██████████| 1608/1608 [00:02<00:00, 585.36it/s]\n"
     ]
    },
    {
     "name": "stdout",
     "output_type": "stream",
     "text": [
      "Epoch [44/500], Train Loss (lr=0.0001): 0.1597\n",
      "Epoch [44/500], Valid Loss (lr=0.0001): 0.3288\n"
     ]
    },
    {
     "name": "stderr",
     "output_type": "stream",
     "text": [
      "Epoch 45/500 (lr=0.0001): 100%|██████████| 1608/1608 [00:02<00:00, 576.34it/s]\n"
     ]
    },
    {
     "name": "stdout",
     "output_type": "stream",
     "text": [
      "Epoch [45/500], Train Loss (lr=0.0001): 0.1572\n",
      "Epoch [45/500], Valid Loss (lr=0.0001): 0.3329\n"
     ]
    },
    {
     "name": "stderr",
     "output_type": "stream",
     "text": [
      "Epoch 46/500 (lr=0.0001): 100%|██████████| 1608/1608 [00:02<00:00, 584.94it/s]\n"
     ]
    },
    {
     "name": "stdout",
     "output_type": "stream",
     "text": [
      "Epoch [46/500], Train Loss (lr=0.0001): 0.1525\n",
      "Epoch [46/500], Valid Loss (lr=0.0001): 0.3294\n"
     ]
    },
    {
     "name": "stderr",
     "output_type": "stream",
     "text": [
      "Epoch 47/500 (lr=0.0001): 100%|██████████| 1608/1608 [00:02<00:00, 581.76it/s]\n"
     ]
    },
    {
     "name": "stdout",
     "output_type": "stream",
     "text": [
      "Epoch [47/500], Train Loss (lr=0.0001): 0.1524\n",
      "Epoch [47/500], Valid Loss (lr=0.0001): 0.3296\n"
     ]
    },
    {
     "name": "stderr",
     "output_type": "stream",
     "text": [
      "Epoch 48/500 (lr=0.0001): 100%|██████████| 1608/1608 [00:02<00:00, 579.66it/s]\n"
     ]
    },
    {
     "name": "stdout",
     "output_type": "stream",
     "text": [
      "Epoch [48/500], Train Loss (lr=0.0001): 0.1525\n",
      "Epoch [48/500], Valid Loss (lr=0.0001): 0.3307\n"
     ]
    },
    {
     "name": "stderr",
     "output_type": "stream",
     "text": [
      "Epoch 49/500 (lr=0.0001): 100%|██████████| 1608/1608 [00:02<00:00, 573.67it/s]\n"
     ]
    },
    {
     "name": "stdout",
     "output_type": "stream",
     "text": [
      "Epoch [49/500], Train Loss (lr=0.0001): 0.1509\n",
      "Epoch [49/500], Valid Loss (lr=0.0001): 0.3296\n"
     ]
    },
    {
     "name": "stderr",
     "output_type": "stream",
     "text": [
      "Epoch 50/500 (lr=0.0001): 100%|██████████| 1608/1608 [00:02<00:00, 576.55it/s]\n"
     ]
    },
    {
     "name": "stdout",
     "output_type": "stream",
     "text": [
      "Epoch [50/500], Train Loss (lr=0.0001): 0.1518\n",
      "Epoch [50/500], Valid Loss (lr=0.0001): 0.3297\n"
     ]
    },
    {
     "name": "stderr",
     "output_type": "stream",
     "text": [
      "Epoch 51/500 (lr=0.0001): 100%|██████████| 1608/1608 [00:02<00:00, 580.50it/s]\n"
     ]
    },
    {
     "name": "stdout",
     "output_type": "stream",
     "text": [
      "Epoch [51/500], Train Loss (lr=0.0001): 0.1515\n",
      "Epoch [51/500], Valid Loss (lr=0.0001): 0.3319\n"
     ]
    },
    {
     "name": "stderr",
     "output_type": "stream",
     "text": [
      "Epoch 52/500 (lr=0.0001): 100%|██████████| 1608/1608 [00:02<00:00, 568.39it/s]\n"
     ]
    },
    {
     "name": "stdout",
     "output_type": "stream",
     "text": [
      "Epoch [52/500], Train Loss (lr=0.0001): 0.1519\n",
      "Epoch [52/500], Valid Loss (lr=0.0001): 0.3317\n"
     ]
    },
    {
     "name": "stderr",
     "output_type": "stream",
     "text": [
      "Epoch 53/500 (lr=0.0001): 100%|██████████| 1608/1608 [00:02<00:00, 550.87it/s]\n"
     ]
    },
    {
     "name": "stdout",
     "output_type": "stream",
     "text": [
      "Epoch [53/500], Train Loss (lr=0.0001): 0.1508\n",
      "Epoch [53/500], Valid Loss (lr=0.0001): 0.3317\n",
      "Early stopping\n"
     ]
    }
   ],
   "source": [
    "# 두 가지 학습률로 CNN 학습 진행\n",
    "for cnn_model_name, learning_rate in cnn_model_configs:\n",
    "    # 모델 생성\n",
    "    model = create_cnn_model_for_dataset(train_mediapipe_dataset)\n",
    "    model.to(device)\n",
    "\n",
    "    # 손실 함수와 옵티마이저 정의\n",
    "    criterion = nn.CrossEntropyLoss(weight=class_weights)\n",
    "    optimizer = torch.optim.Adam(model.parameters(), lr=learning_rate, weight_decay=1e-5)\n",
    "    scheduler = torch.optim.lr_scheduler.ReduceLROnPlateau(optimizer, mode='min', factor=0.1, patience=5)\n",
    "\n",
    "    # 각 학습 설정별 초기화\n",
    "    best_loss = float('inf')\n",
    "    no_improve = 0\n",
    "\n",
    "    print(f\"{cnn_model_name} 학습 시작 (lr={learning_rate})\", flush=True)\n",
    "\n",
    "    for epoch in range(num_epochs):\n",
    "        model.train() # Training\n",
    "        total_loss_train = 0\n",
    "\n",
    "        for sequences, labels in tqdm(train_loader_mediapipe, desc=f\"Epoch {epoch + 1}/{num_epochs} (lr={learning_rate})\"):\n",
    "            sequences, labels = sequences.to(device), labels.to(device)\n",
    "\n",
    "            optimizer.zero_grad()\n",
    "            outputs = model(sequences)\n",
    "            loss_train = criterion(outputs, labels.view(-1))\n",
    "            loss_train.backward()\n",
    "            optimizer.step()\n",
    "\n",
    "            total_loss_train += loss_train.item()\n",
    "\n",
    "        avg_loss_train = total_loss_train / len(train_loader_mediapipe)\n",
    "        print(f'Epoch [{epoch + 1}/{num_epochs}], Train Loss (lr={learning_rate}): {avg_loss_train:.4f}')\n",
    "\n",
    "        model.eval() # Validation\n",
    "        total_loss_valid = 0\n",
    "        with torch.no_grad():\n",
    "            for sequences, labels in valid_loader_mediapipe:\n",
    "                sequences, labels = sequences.to(device), labels.to(device)\n",
    "                outputs = model(sequences)\n",
    "                loss_valid = criterion(outputs, labels.view(-1))\n",
    "                total_loss_valid += loss_valid.item()\n",
    "\n",
    "        avg_loss_valid = total_loss_valid / len(valid_loader_mediapipe)\n",
    "        print(f'Epoch [{epoch + 1}/{num_epochs}], Valid Loss (lr={learning_rate}): {avg_loss_valid:.4f}')\n",
    "\n",
    "        # 학습률 조정 스케줄러 업데이트\n",
    "        scheduler.step(avg_loss_valid)\n",
    "\n",
    "        # 최상의 모델 저장\n",
    "        if avg_loss_valid < best_loss:\n",
    "            best_loss = avg_loss_valid\n",
    "            no_improve = 0\n",
    "            torch.save(model.state_dict(), f'{pt_path}\\\\{cnn_model_name}')\n",
    "        else:\n",
    "            no_improve += 1\n",
    "\n",
    "        if no_improve >= patience:\n",
    "            print(\"Early stopping\")\n",
    "            break"
   ]
  },
  {
   "cell_type": "code",
   "execution_count": 47,
   "id": "2ee68a5f",
   "metadata": {},
   "outputs": [
    {
     "name": "stdout",
     "output_type": "stream",
     "text": [
      "best_fall_detection_cnn_mediapipe_001.pt (Train): F1 Score: 0.9180\n",
      "Confusion Matrix (Train):\n",
      "[[26830  1759  1336]\n",
      " [  257  3220   243]\n",
      " [  243   612 16927]]\n",
      "best_fall_detection_cnn_mediapipe_001.pt (Validation): F1 Score: 0.9057\n",
      "Confusion Matrix (Validation):\n",
      "[[3323  239  170]\n",
      " [  44  377   56]\n",
      " [  39   93 2087]]\n",
      "best_fall_detection_cnn_mediapipe_001.pt (Test): F1 Score: 0.9055\n",
      "Confusion Matrix (Test):\n",
      "[[3349  257  176]\n",
      " [  46  366   60]\n",
      " [  32   70 2073]]\n",
      "best_fall_detection_cnn_mediapipe_0001.pt (Train): F1 Score: 0.9362\n",
      "Confusion Matrix (Train):\n",
      "[[27768  1514   643]\n",
      " [  245  3331   144]\n",
      " [  323   610 16849]]\n",
      "best_fall_detection_cnn_mediapipe_0001.pt (Validation): F1 Score: 0.9148\n",
      "Confusion Matrix (Validation):\n",
      "[[3396  235  101]\n",
      " [  40  388   49]\n",
      " [  60   98 2061]]\n",
      "best_fall_detection_cnn_mediapipe_0001.pt (Test): F1 Score: 0.9167\n",
      "Confusion Matrix (Test):\n",
      "[[3438  250   94]\n",
      " [  42  374   56]\n",
      " [  48   81 2046]]\n"
     ]
    }
   ],
   "source": [
    "# 학습, 검증, 테스트 데이터셋 평가\n",
    "results_2 = []\n",
    "for cnn_model_name, _ in cnn_model_configs:\n",
    "    # 모델 생성 (각 모델의 input에 맞게 dataset 전달)\n",
    "    model = create_cnn_model_for_dataset(train_mediapipe_dataset)\n",
    "    model.load_state_dict(torch.load(f'{pt_path}\\\\{cnn_model_name}', weights_only=True))\n",
    "    model.to(device)\n",
    "\n",
    "    # 데이터셋별 평가\n",
    "    scores = {'Model': cnn_model_name}\n",
    "    for loader_name, data_loader in [('Train', train_loader_mediapipe), ('Validation', valid_loader_mediapipe), ('Test', test_loader_mediapipe)]:\n",
    "        f1, cm = calculate_metrics(model, data_loader)\n",
    "        print(f\"{cnn_model_name} ({loader_name}): F1 Score: {f1:.4f}\")\n",
    "        print(f\"Confusion Matrix ({loader_name}):\\n{cm}\")\n",
    "        scores[loader_name] = f1\n",
    "    results_2.append(scores)"
   ]
  },
  {
   "cell_type": "code",
   "execution_count": 48,
   "id": "c53a8a9c",
   "metadata": {},
   "outputs": [
    {
     "data": {
      "image/png": "[encoded data removed]",
      "text/plain": [
       "<Figure size 1200x800 with 1 Axes>"
      ]
     },
     "metadata": {},
     "output_type": "display_data"
    }
   ],
   "source": [
    "# 그래프용 데이터 변환\n",
    "model_names = [result['Model'] for result in results_2]\n",
    "train_scores = [result['Train'] for result in results_2]\n",
    "val_scores = [result['Validation'] for result in results_2]\n",
    "test_scores = [result['Test'] for result in results_2]\n",
    "\n",
    "# 그래프 생성\n",
    "plt.figure(figsize=(12, 8))\n",
    "bar_width = 0.25\n",
    "indices = range(len(model_names))\n",
    "\n",
    "# 막대 그래프\n",
    "plt.bar(indices, train_scores, bar_width, label=\"Train F1 Score\")\n",
    "plt.bar([i + bar_width for i in indices], val_scores, bar_width, label=\"Validation F1 Score\")\n",
    "plt.bar([i + 2 * bar_width for i in indices], test_scores, bar_width, label=\"Test F1 Score\")\n",
    "\n",
    "# 그래프 꾸미기\n",
    "plt.xlabel(\"Model\", fontsize=12)\n",
    "plt.ylabel(\"F1 Score\", fontsize=12)\n",
    "plt.title(\"F1 Scores by Model and Dataset\", fontsize=14)\n",
    "plt.xticks([i + bar_width for i in indices], model_names, rotation=45, fontsize=10)\n",
    "plt.ylim(0.7, 1.0)\n",
    "plt.legend()\n",
    "\n",
    "# 그래프 출력\n",
    "plt.tight_layout()\n",
    "plt.show()"
   ]
  },
  {
   "cell_type": "code",
   "execution_count": 49,
   "id": "87297aaf",
   "metadata": {},
   "outputs": [
    {
     "data": {
      "image/png": "[encoded data removed]",
      "text/plain": [
       "<Figure size 1000x600 with 1 Axes>"
      ]
     },
     "metadata": {},
     "output_type": "display_data"
    }
   ],
   "source": [
    "model_f1_scores = [\n",
    "    ('best_fall_detection_gru_001_full.pt', 0.9059),\n",
    "    ('best_fall_detection_gru_0001_simplified.pt', 0.8020),\n",
    "    ('best_fall_detection_gru_001_mediapipe.pt', 0.9061),\n",
    "    ('best_fall_detection_cnn_mediapipe_0001.pt', 0.9167)\n",
    "]\n",
    "\n",
    "# 모델명과 Test F1 Scores를 분리하여 리스트로 저장\n",
    "model_names = [name.split('best_fall_detection_')[1] for name, _ in model_f1_scores]\n",
    "train_f1_scores = [x[1] for x in model_f1_scores]\n",
    "\n",
    "# 그래프 생성\n",
    "plt.figure(figsize=(10, 6))\n",
    "plt.bar(model_names, train_f1_scores, color=['blue', 'orange', 'green', 'purple'])\n",
    "\n",
    "# 그래프 꾸미기\n",
    "plt.xlabel(\"Model\", fontsize=12)\n",
    "plt.ylabel(\"F1 Score\", fontsize=12)\n",
    "plt.title(\"Test dataset F1 Scores\", fontsize=14)\n",
    "plt.ylim(0.6, 1.0)\n",
    "\n",
    "# x축 라벨의 가독성을 위해 회전 추가\n",
    "plt.xticks(rotation=45, fontsize=10)\n",
    "\n",
    "# 그래프 출력\n",
    "plt.tight_layout()\n",
    "plt.show()"
   ]
  },
  {
   "cell_type": "code",
   "execution_count": null,
   "id": "0eb5fe18",
   "metadata": {},
   "outputs": [],
   "source": []
  }
 ],
 "metadata": {
  "jupytext": {
   "cell_metadata_filter": "-all",
   "main_language": "python",
   "notebook_metadata_filter": "-all"
  },
  "kernelspec": {
   "display_name": "Python 3",
   "language": "python",
   "name": "python3"
  },
  "language_info": {
   "codemirror_mode": {
    "name": "ipython",
    "version": 3
   },
   "file_extension": ".py",
   "mimetype": "text/x-python",
   "name": "python",
   "nbconvert_exporter": "python",
   "pygments_lexer": "ipython3",
   "version": "3.11.9"
  }
 },
 "nbformat": 4,
 "nbformat_minor": 5
}
